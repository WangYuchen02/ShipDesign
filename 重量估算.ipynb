{
 "cells": [
  {
   "cell_type": "markdown",
   "id": "50361e5f",
   "metadata": {},
   "source": [
    "# 当前问题\n",
    "1. 载重量中的炉水量由于没有锅炉额定蒸发量的信息，目前取0\n",
    "2. 固定压载和排水量裕度问题暂时没有考虑，参考课本p66\n",
    "3. 重量校核结果显示重量大于排水量，我们现在是从增加吃水的角度来解决的，因此主尺度是不变的，无需再次校核，仅仅是载重量多了船多了些吃水"
   ]
  },
  {
   "cell_type": "markdown",
   "id": "f8f709cb",
   "metadata": {},
   "source": [
    "# 排水量估计"
   ]
  },
  {
   "cell_type": "markdown",
   "id": "0c7a3339",
   "metadata": {},
   "source": [
    "对于载重型船舶初步的排水量可用型船的载重量系数来估算：  \n",
    "$$\\triangle = \\frac{DW}{\\eta_{DW}}$$"
   ]
  },
  {
   "cell_type": "markdown",
   "id": "00b9cb21",
   "metadata": {},
   "source": [
    "## 母船资料"
   ]
  },
  {
   "cell_type": "code",
   "execution_count": 1,
   "id": "d6aa882d",
   "metadata": {
    "ExecuteTime": {
     "end_time": "2024-03-17T05:38:51.364612Z",
     "start_time": "2024-03-17T05:38:51.356804Z"
    }
   },
   "outputs": [
    {
     "name": "stdout",
     "output_type": "stream",
     "text": [
      "\n",
      "母船载重量        75088 t\n",
      "母船排水量        87809.16 t\n",
      "母船载重量系数    0.855\n",
      "\n"
     ]
    }
   ],
   "source": [
    "DW_parent = 75088 # 母船载重量，t\n",
    "nabla_parent = 85488.56 # 母船结构吃水排水体积\n",
    "delta_parent = 87809.16 # 母船结构吃水排水量\n",
    "rho = 1.025\n",
    "eta_DW_parent = round(DW_parent/delta_parent,3)\n",
    "print(f'''\n",
    "母船载重量        {DW_parent} t\n",
    "母船排水量        {delta_parent} t\n",
    "母船载重量系数    {eta_DW_parent}\n",
    "''')"
   ]
  },
  {
   "cell_type": "code",
   "execution_count": 2,
   "id": "9a05532f",
   "metadata": {
    "ExecuteTime": {
     "end_time": "2024-03-17T05:38:56.161646Z",
     "start_time": "2024-03-17T05:38:56.156765Z"
    }
   },
   "outputs": [
    {
     "name": "stdout",
     "output_type": "stream",
     "text": [
      "母船主尺度数据:\n",
      "长                   218m\n",
      "型宽                  32.26m\n",
      "结构吃水                14.3m\n",
      "型深                  19.6m\n"
     ]
    }
   ],
   "source": [
    "# 母船主尺度\n",
    "Lpp_parent = 218\n",
    "B_parent = 32.26\n",
    "d_structure_parent = 14.3\n",
    "D_parent = 19.6\n",
    "names = [\"长\",\"型宽\",\"结构吃水\",\"型深\"]\n",
    "values = [Lpp_parent,B_parent,d_structure_parent,D_parent]\n",
    "print(\"母船主尺度数据:\")\n",
    "for n,v in zip(names,values):\n",
    "    print(n.ljust(20)+f'{v}m')"
   ]
  },
  {
   "cell_type": "markdown",
   "id": "cbe0125f",
   "metadata": {},
   "source": [
    "## 设计船排水量"
   ]
  },
  {
   "cell_type": "code",
   "execution_count": 3,
   "id": "ba7cba4b",
   "metadata": {
    "ExecuteTime": {
     "end_time": "2024-03-17T05:38:59.108186Z",
     "start_time": "2024-03-17T05:38:59.102330Z"
    }
   },
   "outputs": [
    {
     "name": "stdout",
     "output_type": "stream",
     "text": [
      "\n",
      "设计船主尺度数据：\n",
      "设计船载重量为72100t\n",
      "设计船排水量为84327.49t\n",
      "长215.17m\n",
      "型宽31.84m\n",
      "吃水14.11m\n",
      "型深19.34m\n",
      "\n"
     ]
    }
   ],
   "source": [
    "DW = 72100\n",
    "delta = round(DW/eta_DW_parent,2)\n",
    "Lpp = 215.17\n",
    "B = 31.84\n",
    "d = 14.11\n",
    "D = 19.34\n",
    "Vs = 14.5 # 根据设计任务书p3，服务航速为14.5kn\n",
    "R = 24000 # 根据设计任务书p3，续航力取24000 n miles\n",
    "print(f'''\n",
    "设计船主尺度数据：\n",
    "设计船载重量为{DW}t\n",
    "设计船排水量为{delta}t\n",
    "长{Lpp}m\n",
    "型宽{B}m\n",
    "吃水{d}m\n",
    "型深{D}m\n",
    "''')"
   ]
  },
  {
   "cell_type": "markdown",
   "id": "25f497ca",
   "metadata": {},
   "source": [
    "# 重量估算"
   ]
  },
  {
   "cell_type": "code",
   "execution_count": 4,
   "id": "eab2bf6a",
   "metadata": {
    "ExecuteTime": {
     "end_time": "2024-03-17T05:39:14.585576Z",
     "start_time": "2024-03-17T05:38:59.759176Z"
    }
   },
   "outputs": [],
   "source": [
    "import numpy as np\n",
    "import pandas as pd"
   ]
  },
  {
   "cell_type": "markdown",
   "id": "51a78268",
   "metadata": {},
   "source": [
    "**母船重量资料**"
   ]
  },
  {
   "cell_type": "code",
   "execution_count": 5,
   "id": "75418edc",
   "metadata": {
    "ExecuteTime": {
     "end_time": "2024-03-17T05:39:21.059371Z",
     "start_time": "2024-03-17T05:39:14.587524Z"
    }
   },
   "outputs": [
    {
     "data": {
      "text/html": [
       "<div>\n",
       "<style scoped>\n",
       "    .dataframe tbody tr th:only-of-type {\n",
       "        vertical-align: middle;\n",
       "    }\n",
       "\n",
       "    .dataframe tbody tr th {\n",
       "        vertical-align: top;\n",
       "    }\n",
       "\n",
       "    .dataframe thead th {\n",
       "        text-align: right;\n",
       "    }\n",
       "</style>\n",
       "<table border=\"1\" class=\"dataframe\">\n",
       "  <thead>\n",
       "    <tr style=\"text-align: right;\">\n",
       "      <th></th>\n",
       "      <th>ITEM</th>\n",
       "      <th>W</th>\n",
       "      <th>LCG</th>\n",
       "      <th>AFTEXT</th>\n",
       "      <th>FWD EXT</th>\n",
       "    </tr>\n",
       "  </thead>\n",
       "  <tbody>\n",
       "    <tr>\n",
       "      <th>0</th>\n",
       "      <td>STF-6~F11+.3</td>\n",
       "      <td>260.21</td>\n",
       "      <td>3.59</td>\n",
       "      <td>-4</td>\n",
       "      <td>8.55</td>\n",
       "    </tr>\n",
       "    <tr>\n",
       "      <th>1</th>\n",
       "      <td>STF11+.3~24+.35</td>\n",
       "      <td>323.26</td>\n",
       "      <td>14.28</td>\n",
       "      <td>8.55</td>\n",
       "      <td>19.00</td>\n",
       "    </tr>\n",
       "    <tr>\n",
       "      <th>2</th>\n",
       "      <td>ST.F24+.35~F36+.3</td>\n",
       "      <td>507.47</td>\n",
       "      <td>24. 60</td>\n",
       "      <td>1900</td>\n",
       "      <td>28.55</td>\n",
       "    </tr>\n",
       "    <tr>\n",
       "      <th>3</th>\n",
       "      <td>STF36+.3~F64</td>\n",
       "      <td>820.69</td>\n",
       "      <td>40.78</td>\n",
       "      <td>28.55</td>\n",
       "      <td>52.61</td>\n",
       "    </tr>\n",
       "    <tr>\n",
       "      <th>4</th>\n",
       "      <td>ST. F64~F214</td>\n",
       "      <td>4889.31</td>\n",
       "      <td>119.23</td>\n",
       "      <td>52.61</td>\n",
       "      <td>183.11</td>\n",
       "    </tr>\n",
       "  </tbody>\n",
       "</table>\n",
       "</div>"
      ],
      "text/plain": [
       "                ITEM        W     LCG AFTEXT  FWD EXT\n",
       "0       STF-6~F11+.3   260.21    3.59     -4     8.55\n",
       "1    STF11+.3~24+.35   323.26   14.28   8.55    19.00\n",
       "2  ST.F24+.35~F36+.3   507.47  24. 60   1900    28.55\n",
       "3       STF36+.3~F64   820.69   40.78  28.55    52.61\n",
       "4       ST. F64~F214  4889.31  119.23  52.61   183.11"
      ]
     },
     "execution_count": 5,
     "metadata": {},
     "output_type": "execute_result"
    }
   ],
   "source": [
    "# 钢料重量\n",
    "data_steel_parent = pd.read_excel('./data/母船钢料.xlsx')\n",
    "data_steel_parent.head()"
   ]
  },
  {
   "cell_type": "code",
   "execution_count": 6,
   "id": "605676c5",
   "metadata": {
    "ExecuteTime": {
     "end_time": "2024-03-17T05:39:21.115003Z",
     "start_time": "2024-03-17T05:39:21.060347Z"
    }
   },
   "outputs": [
    {
     "data": {
      "text/html": [
       "<div>\n",
       "<style scoped>\n",
       "    .dataframe tbody tr th:only-of-type {\n",
       "        vertical-align: middle;\n",
       "    }\n",
       "\n",
       "    .dataframe tbody tr th {\n",
       "        vertical-align: top;\n",
       "    }\n",
       "\n",
       "    .dataframe thead th {\n",
       "        text-align: right;\n",
       "    }\n",
       "</style>\n",
       "<table border=\"1\" class=\"dataframe\">\n",
       "  <thead>\n",
       "    <tr style=\"text-align: right;\">\n",
       "      <th></th>\n",
       "      <th>ITEM</th>\n",
       "      <th>W</th>\n",
       "      <th>LCG</th>\n",
       "      <th>AFT EXT</th>\n",
       "      <th>FWD EXT</th>\n",
       "      <th>类别</th>\n",
       "      <th>系数</th>\n",
       "    </tr>\n",
       "  </thead>\n",
       "  <tbody>\n",
       "    <tr>\n",
       "      <th>0</th>\n",
       "      <td>F'CLE</td>\n",
       "      <td>109.50</td>\n",
       "      <td>214.18</td>\n",
       "      <td>205.73</td>\n",
       "      <td>221.00</td>\n",
       "      <td>1</td>\n",
       "      <td>0.009686</td>\n",
       "    </tr>\n",
       "    <tr>\n",
       "      <th>1</th>\n",
       "      <td>ENGCASING &amp; FUNNEL</td>\n",
       "      <td>98.00</td>\n",
       "      <td>12.00</td>\n",
       "      <td>6.75</td>\n",
       "      <td>17.05</td>\n",
       "      <td>2</td>\n",
       "      <td>0.008668</td>\n",
       "    </tr>\n",
       "    <tr>\n",
       "      <th>2</th>\n",
       "      <td>ACCOM.ST.+EQUIP</td>\n",
       "      <td>630.63</td>\n",
       "      <td>23.00</td>\n",
       "      <td>17.05</td>\n",
       "      <td>28.25</td>\n",
       "      <td>2</td>\n",
       "      <td>0.000000</td>\n",
       "    </tr>\n",
       "    <tr>\n",
       "      <th>3</th>\n",
       "      <td>NO.1 HATCH COAMING &amp; COVER</td>\n",
       "      <td>82.86</td>\n",
       "      <td>194.86</td>\n",
       "      <td>186.59</td>\n",
       "      <td>203.12</td>\n",
       "      <td>2</td>\n",
       "      <td>0.000000</td>\n",
       "    </tr>\n",
       "    <tr>\n",
       "      <th>4</th>\n",
       "      <td>NO.2 HATCH COAMING &amp; COVER</td>\n",
       "      <td>89.91</td>\n",
       "      <td>170.50</td>\n",
       "      <td>162.23</td>\n",
       "      <td>178.76</td>\n",
       "      <td>2</td>\n",
       "      <td>0.000000</td>\n",
       "    </tr>\n",
       "  </tbody>\n",
       "</table>\n",
       "</div>"
      ],
      "text/plain": [
       "                     ITEM           W     LCG  AFT EXT  FWD EXT  类别        系数\n",
       "0                       F'CLE  109.50  214.18   205.73   221.00   1  0.009686\n",
       "1          ENGCASING & FUNNEL   98.00   12.00     6.75    17.05   2  0.008668\n",
       "2             ACCOM.ST.+EQUIP  630.63   23.00    17.05    28.25   2  0.000000\n",
       "3  NO.1 HATCH COAMING & COVER   82.86  194.86   186.59   203.12   2  0.000000\n",
       "4  NO.2 HATCH COAMING & COVER   89.91  170.50   162.23   178.76   2  0.000000"
      ]
     },
     "execution_count": 6,
     "metadata": {},
     "output_type": "execute_result"
    }
   ],
   "source": [
    "data_outfitting_parent = pd.read_excel('./data/母船舾装与机电设备.xlsx')\n",
    "data_outfitting_parent.head()"
   ]
  },
  {
   "cell_type": "markdown",
   "id": "2e637de9",
   "metadata": {},
   "source": [
    "## 钢料估算"
   ]
  },
  {
   "cell_type": "code",
   "execution_count": 7,
   "id": "6a2ed190",
   "metadata": {
    "ExecuteTime": {
     "end_time": "2024-03-17T05:39:21.148188Z",
     "start_time": "2024-03-17T05:39:21.116955Z"
    }
   },
   "outputs": [
    {
     "data": {
      "text/html": [
       "<div>\n",
       "<style scoped>\n",
       "    .dataframe tbody tr th:only-of-type {\n",
       "        vertical-align: middle;\n",
       "    }\n",
       "\n",
       "    .dataframe tbody tr th {\n",
       "        vertical-align: top;\n",
       "    }\n",
       "\n",
       "    .dataframe thead th {\n",
       "        text-align: right;\n",
       "    }\n",
       "</style>\n",
       "<table border=\"1\" class=\"dataframe\">\n",
       "  <thead>\n",
       "    <tr style=\"text-align: right;\">\n",
       "      <th></th>\n",
       "      <th>ITEM</th>\n",
       "      <th>W</th>\n",
       "      <th>LCG</th>\n",
       "      <th>AFTEXT</th>\n",
       "      <th>FWD EXT</th>\n",
       "    </tr>\n",
       "  </thead>\n",
       "  <tbody>\n",
       "    <tr>\n",
       "      <th>0</th>\n",
       "      <td>STF-6~F11+.3</td>\n",
       "      <td>260.21</td>\n",
       "      <td>3.59</td>\n",
       "      <td>-4</td>\n",
       "      <td>8.55</td>\n",
       "    </tr>\n",
       "    <tr>\n",
       "      <th>1</th>\n",
       "      <td>STF11+.3~24+.35</td>\n",
       "      <td>323.26</td>\n",
       "      <td>14.28</td>\n",
       "      <td>8.55</td>\n",
       "      <td>19.00</td>\n",
       "    </tr>\n",
       "    <tr>\n",
       "      <th>2</th>\n",
       "      <td>ST.F24+.35~F36+.3</td>\n",
       "      <td>507.47</td>\n",
       "      <td>24. 60</td>\n",
       "      <td>1900</td>\n",
       "      <td>28.55</td>\n",
       "    </tr>\n",
       "    <tr>\n",
       "      <th>3</th>\n",
       "      <td>STF36+.3~F64</td>\n",
       "      <td>820.69</td>\n",
       "      <td>40.78</td>\n",
       "      <td>28.55</td>\n",
       "      <td>52.61</td>\n",
       "    </tr>\n",
       "    <tr>\n",
       "      <th>4</th>\n",
       "      <td>ST. F64~F214</td>\n",
       "      <td>4889.31</td>\n",
       "      <td>119.23</td>\n",
       "      <td>52.61</td>\n",
       "      <td>183.11</td>\n",
       "    </tr>\n",
       "  </tbody>\n",
       "</table>\n",
       "</div>"
      ],
      "text/plain": [
       "                ITEM        W     LCG AFTEXT  FWD EXT\n",
       "0       STF-6~F11+.3   260.21    3.59     -4     8.55\n",
       "1    STF11+.3~24+.35   323.26   14.28   8.55    19.00\n",
       "2  ST.F24+.35~F36+.3   507.47  24. 60   1900    28.55\n",
       "3       STF36+.3~F64   820.69   40.78  28.55    52.61\n",
       "4       ST. F64~F214  4889.31  119.23  52.61   183.11"
      ]
     },
     "execution_count": 7,
     "metadata": {},
     "output_type": "execute_result"
    }
   ],
   "source": [
    "# 钢料数据 \n",
    "# 注意要深度拷贝，设置deep=True\n",
    "data_steel = data_steel_parent.copy(deep=True)\n",
    "data_steel.head()"
   ]
  },
  {
   "cell_type": "markdown",
   "id": "2ed0ac1f",
   "metadata": {},
   "source": [
    "利用平方模数法进行设计船钢料重量估计  \n",
    "$$W_H = C_{H1}L(B+D)$$"
   ]
  },
  {
   "cell_type": "code",
   "execution_count": 8,
   "id": "fa84029d",
   "metadata": {
    "ExecuteTime": {
     "end_time": "2024-03-17T05:39:21.156971Z",
     "start_time": "2024-03-17T05:39:21.151115Z"
    }
   },
   "outputs": [
    {
     "data": {
      "text/plain": [
       "0     0.023016\n",
       "1     0.028593\n",
       "2     0.044887\n",
       "3     0.072592\n",
       "4     0.432473\n",
       "5     0.074499\n",
       "6     0.046730\n",
       "7     0.001021\n",
       "8     0.002944\n",
       "9     0.003541\n",
       "10    0.003419\n",
       "11    0.003644\n",
       "12    0.003412\n",
       "13    0.002469\n",
       "14    0.000815\n",
       "15    0.014084\n",
       "16    0.013267\n",
       "17    0.014022\n",
       "18    0.013889\n",
       "19    0.014098\n",
       "20    0.015431\n",
       "21    0.002919\n",
       "Name: W, dtype: float64"
      ]
     },
     "execution_count": 8,
     "metadata": {},
     "output_type": "execute_result"
    }
   ],
   "source": [
    "# 根据母船资料计算系数CH1\n",
    "CH1 = data_steel_parent.iloc[:,1]/(Lpp_parent*(B_parent+D_parent))\n",
    "CH1"
   ]
  },
  {
   "cell_type": "code",
   "execution_count": 9,
   "id": "f88492fc",
   "metadata": {
    "ExecuteTime": {
     "end_time": "2024-03-17T05:39:21.172587Z",
     "start_time": "2024-03-17T05:39:21.158923Z"
    }
   },
   "outputs": [
    {
     "data": {
      "text/html": [
       "<div>\n",
       "<style scoped>\n",
       "    .dataframe tbody tr th:only-of-type {\n",
       "        vertical-align: middle;\n",
       "    }\n",
       "\n",
       "    .dataframe tbody tr th {\n",
       "        vertical-align: top;\n",
       "    }\n",
       "\n",
       "    .dataframe thead th {\n",
       "        text-align: right;\n",
       "    }\n",
       "</style>\n",
       "<table border=\"1\" class=\"dataframe\">\n",
       "  <thead>\n",
       "    <tr style=\"text-align: right;\">\n",
       "      <th></th>\n",
       "      <th>ITEM</th>\n",
       "      <th>W</th>\n",
       "      <th>LCG</th>\n",
       "      <th>AFTEXT</th>\n",
       "      <th>FWD EXT</th>\n",
       "    </tr>\n",
       "  </thead>\n",
       "  <tbody>\n",
       "    <tr>\n",
       "      <th>0</th>\n",
       "      <td>STF-6~F11+.3</td>\n",
       "      <td>253.46</td>\n",
       "      <td>3.59</td>\n",
       "      <td>-4</td>\n",
       "      <td>8.55</td>\n",
       "    </tr>\n",
       "    <tr>\n",
       "      <th>1</th>\n",
       "      <td>STF11+.3~24+.35</td>\n",
       "      <td>314.88</td>\n",
       "      <td>14.28</td>\n",
       "      <td>8.55</td>\n",
       "      <td>19.00</td>\n",
       "    </tr>\n",
       "    <tr>\n",
       "      <th>2</th>\n",
       "      <td>ST.F24+.35~F36+.3</td>\n",
       "      <td>494.31</td>\n",
       "      <td>24. 60</td>\n",
       "      <td>1900</td>\n",
       "      <td>28.55</td>\n",
       "    </tr>\n",
       "    <tr>\n",
       "      <th>3</th>\n",
       "      <td>STF36+.3~F64</td>\n",
       "      <td>799.41</td>\n",
       "      <td>40.78</td>\n",
       "      <td>28.55</td>\n",
       "      <td>52.61</td>\n",
       "    </tr>\n",
       "    <tr>\n",
       "      <th>4</th>\n",
       "      <td>ST. F64~F214</td>\n",
       "      <td>4762.56</td>\n",
       "      <td>119.23</td>\n",
       "      <td>52.61</td>\n",
       "      <td>183.11</td>\n",
       "    </tr>\n",
       "    <tr>\n",
       "      <th>5</th>\n",
       "      <td>STF214~F240-.3</td>\n",
       "      <td>820.42</td>\n",
       "      <td>194.17</td>\n",
       "      <td>183.11</td>\n",
       "      <td>205.43</td>\n",
       "    </tr>\n",
       "    <tr>\n",
       "      <th>6</th>\n",
       "      <td>ST.240-.3~FWD</td>\n",
       "      <td>514.60</td>\n",
       "      <td>211.49</td>\n",
       "      <td>205.43</td>\n",
       "      <td>221.00</td>\n",
       "    </tr>\n",
       "    <tr>\n",
       "      <th>7</th>\n",
       "      <td>DK F36~F41</td>\n",
       "      <td>11.24</td>\n",
       "      <td>30.43</td>\n",
       "      <td>28. 25</td>\n",
       "      <td>32.60</td>\n",
       "    </tr>\n",
       "    <tr>\n",
       "      <th>8</th>\n",
       "      <td>DK .F60~F70</td>\n",
       "      <td>32.42</td>\n",
       "      <td>53.48</td>\n",
       "      <td>49.13</td>\n",
       "      <td>57.83</td>\n",
       "    </tr>\n",
       "    <tr>\n",
       "      <th>9</th>\n",
       "      <td>DK. F89~F100</td>\n",
       "      <td>38.99</td>\n",
       "      <td>79.15</td>\n",
       "      <td>74.36</td>\n",
       "      <td>83.93</td>\n",
       "    </tr>\n",
       "    <tr>\n",
       "      <th>10</th>\n",
       "      <td>DK F119~F130</td>\n",
       "      <td>37.65</td>\n",
       "      <td>105.25</td>\n",
       "      <td>100.46</td>\n",
       "      <td>110.03</td>\n",
       "    </tr>\n",
       "    <tr>\n",
       "      <th>11</th>\n",
       "      <td>DK .F149~F160</td>\n",
       "      <td>40.13</td>\n",
       "      <td>131.35</td>\n",
       "      <td>126.56</td>\n",
       "      <td>136.13</td>\n",
       "    </tr>\n",
       "    <tr>\n",
       "      <th>12</th>\n",
       "      <td>DK F179~F190</td>\n",
       "      <td>37.57</td>\n",
       "      <td>157.45</td>\n",
       "      <td>152.66</td>\n",
       "      <td>162.23</td>\n",
       "    </tr>\n",
       "    <tr>\n",
       "      <th>13</th>\n",
       "      <td>DK .F209~F218</td>\n",
       "      <td>27.19</td>\n",
       "      <td>182.68</td>\n",
       "      <td>178.76</td>\n",
       "      <td>186.59</td>\n",
       "    </tr>\n",
       "    <tr>\n",
       "      <th>14</th>\n",
       "      <td>DK .F237~F242</td>\n",
       "      <td>8.97</td>\n",
       "      <td>205.3</td>\n",
       "      <td>203.12</td>\n",
       "      <td>207.47</td>\n",
       "    </tr>\n",
       "    <tr>\n",
       "      <th>15</th>\n",
       "      <td>BKHD 7/6</td>\n",
       "      <td>155.10</td>\n",
       "      <td>53.48</td>\n",
       "      <td>52.61</td>\n",
       "      <td>55.22</td>\n",
       "    </tr>\n",
       "    <tr>\n",
       "      <th>16</th>\n",
       "      <td>BKHD 6/5</td>\n",
       "      <td>146.10</td>\n",
       "      <td>79.58</td>\n",
       "      <td>78.71</td>\n",
       "      <td>81.32</td>\n",
       "    </tr>\n",
       "    <tr>\n",
       "      <th>17</th>\n",
       "      <td>BKHD 5/4</td>\n",
       "      <td>154.42</td>\n",
       "      <td>105.68</td>\n",
       "      <td>104. 81</td>\n",
       "      <td>107.42</td>\n",
       "    </tr>\n",
       "    <tr>\n",
       "      <th>18</th>\n",
       "      <td>BKHD 4/3</td>\n",
       "      <td>152.95</td>\n",
       "      <td>131.78</td>\n",
       "      <td>130.91</td>\n",
       "      <td>133.52</td>\n",
       "    </tr>\n",
       "    <tr>\n",
       "      <th>19</th>\n",
       "      <td>BKHD 3/2</td>\n",
       "      <td>155.25</td>\n",
       "      <td>157.88</td>\n",
       "      <td>157.01</td>\n",
       "      <td>159.62</td>\n",
       "    </tr>\n",
       "    <tr>\n",
       "      <th>20</th>\n",
       "      <td>BKHD 2/1</td>\n",
       "      <td>169.94</td>\n",
       "      <td>183.98</td>\n",
       "      <td>183.11</td>\n",
       "      <td>185.72</td>\n",
       "    </tr>\n",
       "    <tr>\n",
       "      <th>21</th>\n",
       "      <td>RUDDER HORN</td>\n",
       "      <td>32.14</td>\n",
       "      <td>1.5</td>\n",
       "      <td>-1</td>\n",
       "      <td>3.00</td>\n",
       "    </tr>\n",
       "  </tbody>\n",
       "</table>\n",
       "</div>"
      ],
      "text/plain": [
       "                 ITEM        W     LCG   AFTEXT  FWD EXT\n",
       "0        STF-6~F11+.3   253.46    3.59       -4     8.55\n",
       "1     STF11+.3~24+.35   314.88   14.28     8.55    19.00\n",
       "2   ST.F24+.35~F36+.3   494.31  24. 60     1900    28.55\n",
       "3        STF36+.3~F64   799.41   40.78    28.55    52.61\n",
       "4        ST. F64~F214  4762.56  119.23    52.61   183.11\n",
       "5      STF214~F240-.3   820.42  194.17   183.11   205.43\n",
       "6       ST.240-.3~FWD   514.60  211.49   205.43   221.00\n",
       "7          DK F36~F41    11.24   30.43   28. 25    32.60\n",
       "8         DK .F60~F70    32.42   53.48    49.13    57.83\n",
       "9        DK. F89~F100    38.99   79.15    74.36    83.93\n",
       "10       DK F119~F130    37.65  105.25   100.46   110.03\n",
       "11      DK .F149~F160    40.13  131.35   126.56   136.13\n",
       "12       DK F179~F190    37.57  157.45   152.66   162.23\n",
       "13      DK .F209~F218    27.19  182.68   178.76   186.59\n",
       "14      DK .F237~F242     8.97   205.3   203.12   207.47\n",
       "15           BKHD 7/6   155.10   53.48    52.61    55.22\n",
       "16           BKHD 6/5   146.10   79.58    78.71    81.32\n",
       "17           BKHD 5/4   154.42  105.68  104. 81   107.42\n",
       "18           BKHD 4/3   152.95  131.78   130.91   133.52\n",
       "19           BKHD 3/2   155.25  157.88   157.01   159.62\n",
       "20           BKHD 2/1   169.94  183.98   183.11   185.72\n",
       "21        RUDDER HORN    32.14     1.5       -1     3.00"
      ]
     },
     "execution_count": 9,
     "metadata": {},
     "output_type": "execute_result"
    }
   ],
   "source": [
    "# 计算设计船钢料重量\n",
    "data_steel.iloc[:,1] = CH1*Lpp*(B+D)\n",
    "data_steel.iloc[:,1] = data_steel.iloc[:,1].round(2)\n",
    "data_steel"
   ]
  },
  {
   "cell_type": "code",
   "execution_count": 10,
   "id": "4f017040",
   "metadata": {
    "ExecuteTime": {
     "end_time": "2024-03-17T05:39:21.179419Z",
     "start_time": "2024-03-17T05:39:21.174539Z"
    }
   },
   "outputs": [
    {
     "name": "stdout",
     "output_type": "stream",
     "text": [
      "设计船的钢料重量为: 9159.7 t\n"
     ]
    }
   ],
   "source": [
    "WH = data_steel.iloc[:,1].sum()\n",
    "print(\"设计船的钢料重量为:\",WH,'t')"
   ]
  },
  {
   "cell_type": "markdown",
   "id": "13a81127",
   "metadata": {},
   "source": [
    "## 舾装与机电设备重量估算"
   ]
  },
  {
   "cell_type": "code",
   "execution_count": 11,
   "id": "6bbdebd8",
   "metadata": {
    "ExecuteTime": {
     "end_time": "2024-03-17T05:39:21.193083Z",
     "start_time": "2024-03-17T05:39:21.181375Z"
    },
    "scrolled": true
   },
   "outputs": [
    {
     "data": {
      "text/html": [
       "<div>\n",
       "<style scoped>\n",
       "    .dataframe tbody tr th:only-of-type {\n",
       "        vertical-align: middle;\n",
       "    }\n",
       "\n",
       "    .dataframe tbody tr th {\n",
       "        vertical-align: top;\n",
       "    }\n",
       "\n",
       "    .dataframe thead th {\n",
       "        text-align: right;\n",
       "    }\n",
       "</style>\n",
       "<table border=\"1\" class=\"dataframe\">\n",
       "  <thead>\n",
       "    <tr style=\"text-align: right;\">\n",
       "      <th></th>\n",
       "      <th>ITEM</th>\n",
       "      <th>W</th>\n",
       "      <th>LCG</th>\n",
       "      <th>AFT EXT</th>\n",
       "      <th>FWD EXT</th>\n",
       "      <th>类别</th>\n",
       "      <th>系数</th>\n",
       "    </tr>\n",
       "  </thead>\n",
       "  <tbody>\n",
       "    <tr>\n",
       "      <th>0</th>\n",
       "      <td>F'CLE</td>\n",
       "      <td>109.50</td>\n",
       "      <td>214.18</td>\n",
       "      <td>205.73</td>\n",
       "      <td>221.00</td>\n",
       "      <td>1</td>\n",
       "      <td>0.009686</td>\n",
       "    </tr>\n",
       "    <tr>\n",
       "      <th>1</th>\n",
       "      <td>ENGCASING &amp; FUNNEL</td>\n",
       "      <td>98.00</td>\n",
       "      <td>12.00</td>\n",
       "      <td>6.75</td>\n",
       "      <td>17.05</td>\n",
       "      <td>2</td>\n",
       "      <td>0.008668</td>\n",
       "    </tr>\n",
       "    <tr>\n",
       "      <th>2</th>\n",
       "      <td>ACCOM.ST.+EQUIP</td>\n",
       "      <td>630.63</td>\n",
       "      <td>23.00</td>\n",
       "      <td>17.05</td>\n",
       "      <td>28.25</td>\n",
       "      <td>2</td>\n",
       "      <td>0.000000</td>\n",
       "    </tr>\n",
       "    <tr>\n",
       "      <th>3</th>\n",
       "      <td>NO.1 HATCH COAMING &amp; COVER</td>\n",
       "      <td>82.86</td>\n",
       "      <td>194.86</td>\n",
       "      <td>186.59</td>\n",
       "      <td>203.12</td>\n",
       "      <td>2</td>\n",
       "      <td>0.000000</td>\n",
       "    </tr>\n",
       "    <tr>\n",
       "      <th>4</th>\n",
       "      <td>NO.2 HATCH COAMING &amp; COVER</td>\n",
       "      <td>89.91</td>\n",
       "      <td>170.50</td>\n",
       "      <td>162.23</td>\n",
       "      <td>178.76</td>\n",
       "      <td>2</td>\n",
       "      <td>0.000000</td>\n",
       "    </tr>\n",
       "  </tbody>\n",
       "</table>\n",
       "</div>"
      ],
      "text/plain": [
       "                     ITEM           W     LCG  AFT EXT  FWD EXT  类别        系数\n",
       "0                       F'CLE  109.50  214.18   205.73   221.00   1  0.009686\n",
       "1          ENGCASING & FUNNEL   98.00   12.00     6.75    17.05   2  0.008668\n",
       "2             ACCOM.ST.+EQUIP  630.63   23.00    17.05    28.25   2  0.000000\n",
       "3  NO.1 HATCH COAMING & COVER   82.86  194.86   186.59   203.12   2  0.000000\n",
       "4  NO.2 HATCH COAMING & COVER   89.91  170.50   162.23   178.76   2  0.000000"
      ]
     },
     "execution_count": 11,
     "metadata": {},
     "output_type": "execute_result"
    }
   ],
   "source": [
    "data_outfitting = data_outfitting_parent.copy(deep=True)\n",
    "data_outfitting.head()"
   ]
  },
  {
   "cell_type": "code",
   "execution_count": 12,
   "id": "f7b5a359",
   "metadata": {
    "ExecuteTime": {
     "end_time": "2024-03-17T05:39:21.212603Z",
     "start_time": "2024-03-17T05:39:21.194058Z"
    },
    "scrolled": true
   },
   "outputs": [
    {
     "data": {
      "text/html": [
       "<div>\n",
       "<style scoped>\n",
       "    .dataframe tbody tr th:only-of-type {\n",
       "        vertical-align: middle;\n",
       "    }\n",
       "\n",
       "    .dataframe tbody tr th {\n",
       "        vertical-align: top;\n",
       "    }\n",
       "\n",
       "    .dataframe thead th {\n",
       "        text-align: right;\n",
       "    }\n",
       "</style>\n",
       "<table border=\"1\" class=\"dataframe\">\n",
       "  <thead>\n",
       "    <tr style=\"text-align: right;\">\n",
       "      <th></th>\n",
       "      <th>ITEM</th>\n",
       "      <th>W</th>\n",
       "      <th>LCG</th>\n",
       "      <th>AFT EXT</th>\n",
       "      <th>FWD EXT</th>\n",
       "      <th>类别</th>\n",
       "      <th>系数</th>\n",
       "    </tr>\n",
       "  </thead>\n",
       "  <tbody>\n",
       "    <tr>\n",
       "      <th>0</th>\n",
       "      <td>F'CLE</td>\n",
       "      <td>106.66</td>\n",
       "      <td>214.18</td>\n",
       "      <td>205.73</td>\n",
       "      <td>221.00</td>\n",
       "      <td>1</td>\n",
       "      <td>0.009686</td>\n",
       "    </tr>\n",
       "    <tr>\n",
       "      <th>1</th>\n",
       "      <td>ENGCASING &amp; FUNNEL</td>\n",
       "      <td>95.46</td>\n",
       "      <td>12.00</td>\n",
       "      <td>6.75</td>\n",
       "      <td>17.05</td>\n",
       "      <td>2</td>\n",
       "      <td>0.008668</td>\n",
       "    </tr>\n",
       "    <tr>\n",
       "      <th>2</th>\n",
       "      <td>ACCOM.ST.+EQUIP</td>\n",
       "      <td>630.63</td>\n",
       "      <td>23.00</td>\n",
       "      <td>17.05</td>\n",
       "      <td>28.25</td>\n",
       "      <td>2</td>\n",
       "      <td>0.000000</td>\n",
       "    </tr>\n",
       "    <tr>\n",
       "      <th>3</th>\n",
       "      <td>NO.1 HATCH COAMING &amp; COVER</td>\n",
       "      <td>82.86</td>\n",
       "      <td>194.86</td>\n",
       "      <td>186.59</td>\n",
       "      <td>203.12</td>\n",
       "      <td>2</td>\n",
       "      <td>0.000000</td>\n",
       "    </tr>\n",
       "    <tr>\n",
       "      <th>4</th>\n",
       "      <td>NO.2 HATCH COAMING &amp; COVER</td>\n",
       "      <td>89.91</td>\n",
       "      <td>170.50</td>\n",
       "      <td>162.23</td>\n",
       "      <td>178.76</td>\n",
       "      <td>2</td>\n",
       "      <td>0.000000</td>\n",
       "    </tr>\n",
       "    <tr>\n",
       "      <th>5</th>\n",
       "      <td>NO.3 HATCH COAMING &amp; COVER</td>\n",
       "      <td>91.12</td>\n",
       "      <td>144.40</td>\n",
       "      <td>136.13</td>\n",
       "      <td>152.66</td>\n",
       "      <td>2</td>\n",
       "      <td>0.000000</td>\n",
       "    </tr>\n",
       "    <tr>\n",
       "      <th>6</th>\n",
       "      <td>NO.4 HATCH COAMING &amp; COVER</td>\n",
       "      <td>106.92</td>\n",
       "      <td>118.30</td>\n",
       "      <td>110.03</td>\n",
       "      <td>126.56</td>\n",
       "      <td>2</td>\n",
       "      <td>0.000000</td>\n",
       "    </tr>\n",
       "    <tr>\n",
       "      <th>7</th>\n",
       "      <td>NO.5 HATCH COAMING &amp; COVER</td>\n",
       "      <td>91.12</td>\n",
       "      <td>92.20</td>\n",
       "      <td>83.93</td>\n",
       "      <td>100.46</td>\n",
       "      <td>2</td>\n",
       "      <td>0.000000</td>\n",
       "    </tr>\n",
       "    <tr>\n",
       "      <th>8</th>\n",
       "      <td>NO.6HATCH COAMING &amp; COVER</td>\n",
       "      <td>91.12</td>\n",
       "      <td>66.10</td>\n",
       "      <td>57.83</td>\n",
       "      <td>74.36</td>\n",
       "      <td>2</td>\n",
       "      <td>0.000000</td>\n",
       "    </tr>\n",
       "    <tr>\n",
       "      <th>9</th>\n",
       "      <td>NO.7 HATCH COAMING &amp; COVER</td>\n",
       "      <td>91.12</td>\n",
       "      <td>40.87</td>\n",
       "      <td>32.60</td>\n",
       "      <td>49.13</td>\n",
       "      <td>2</td>\n",
       "      <td>0.000000</td>\n",
       "    </tr>\n",
       "    <tr>\n",
       "      <th>10</th>\n",
       "      <td>NO.1 DECK STORE</td>\n",
       "      <td>3.01</td>\n",
       "      <td>130.91</td>\n",
       "      <td>129.17</td>\n",
       "      <td>132.65</td>\n",
       "      <td>1</td>\n",
       "      <td>0.000000</td>\n",
       "    </tr>\n",
       "    <tr>\n",
       "      <th>11</th>\n",
       "      <td>NO.2 DECK STORE</td>\n",
       "      <td>3.24</td>\n",
       "      <td>78.71</td>\n",
       "      <td>76.97</td>\n",
       "      <td>80.45</td>\n",
       "      <td>1</td>\n",
       "      <td>0.000000</td>\n",
       "    </tr>\n",
       "    <tr>\n",
       "      <th>12</th>\n",
       "      <td>MAIN ENGINE</td>\n",
       "      <td>233.68</td>\n",
       "      <td>20.25</td>\n",
       "      <td>16.25</td>\n",
       "      <td>24.25</td>\n",
       "      <td>3</td>\n",
       "      <td>0.000000</td>\n",
       "    </tr>\n",
       "    <tr>\n",
       "      <th>13</th>\n",
       "      <td>GEN.</td>\n",
       "      <td>72.20</td>\n",
       "      <td>11.45</td>\n",
       "      <td>9.05</td>\n",
       "      <td>13.85</td>\n",
       "      <td>3</td>\n",
       "      <td>0.000000</td>\n",
       "    </tr>\n",
       "    <tr>\n",
       "      <th>14</th>\n",
       "      <td>STEERING GEAR</td>\n",
       "      <td>8.77</td>\n",
       "      <td>0.00</td>\n",
       "      <td>-1.30</td>\n",
       "      <td>1.30</td>\n",
       "      <td>2</td>\n",
       "      <td>0.000796</td>\n",
       "    </tr>\n",
       "    <tr>\n",
       "      <th>15</th>\n",
       "      <td>EQUIP.</td>\n",
       "      <td>624.20</td>\n",
       "      <td>21.85</td>\n",
       "      <td>8.25</td>\n",
       "      <td>28.25</td>\n",
       "      <td>3</td>\n",
       "      <td>0.000000</td>\n",
       "    </tr>\n",
       "    <tr>\n",
       "      <th>16</th>\n",
       "      <td>RUDDER</td>\n",
       "      <td>37.50</td>\n",
       "      <td>0.75</td>\n",
       "      <td>-0.75</td>\n",
       "      <td>2.25</td>\n",
       "      <td>2</td>\n",
       "      <td>0.003405</td>\n",
       "    </tr>\n",
       "    <tr>\n",
       "      <th>17</th>\n",
       "      <td>MOORING (FORE)</td>\n",
       "      <td>187.75</td>\n",
       "      <td>212.37</td>\n",
       "      <td>208.62</td>\n",
       "      <td>216.12</td>\n",
       "      <td>2</td>\n",
       "      <td>0.017049</td>\n",
       "    </tr>\n",
       "    <tr>\n",
       "      <th>18</th>\n",
       "      <td>MOORING (AFT)</td>\n",
       "      <td>38.96</td>\n",
       "      <td>3.00</td>\n",
       "      <td>-4.00</td>\n",
       "      <td>7.50</td>\n",
       "      <td>2</td>\n",
       "      <td>0.003538</td>\n",
       "    </tr>\n",
       "    <tr>\n",
       "      <th>19</th>\n",
       "      <td>PROPELLER</td>\n",
       "      <td>20.00</td>\n",
       "      <td>4.90</td>\n",
       "      <td>3.80</td>\n",
       "      <td>6.00</td>\n",
       "      <td>3</td>\n",
       "      <td>0.000000</td>\n",
       "    </tr>\n",
       "    <tr>\n",
       "      <th>20</th>\n",
       "      <td>LIFE BOAT</td>\n",
       "      <td>20.00</td>\n",
       "      <td>23.45</td>\n",
       "      <td>18.65</td>\n",
       "      <td>28.25</td>\n",
       "      <td>2</td>\n",
       "      <td>0.000000</td>\n",
       "    </tr>\n",
       "    <tr>\n",
       "      <th>21</th>\n",
       "      <td>PILOT LADDER</td>\n",
       "      <td>3.90</td>\n",
       "      <td>81.32</td>\n",
       "      <td>71.75</td>\n",
       "      <td>90.89</td>\n",
       "      <td>2</td>\n",
       "      <td>0.000354</td>\n",
       "    </tr>\n",
       "    <tr>\n",
       "      <th>22</th>\n",
       "      <td>ELSE WEIGHT</td>\n",
       "      <td>363.48</td>\n",
       "      <td>97.88</td>\n",
       "      <td>-4.00</td>\n",
       "      <td>221.00</td>\n",
       "      <td>2</td>\n",
       "      <td>0.000000</td>\n",
       "    </tr>\n",
       "    <tr>\n",
       "      <th>23</th>\n",
       "      <td>BALANCE</td>\n",
       "      <td>182.79</td>\n",
       "      <td>101.10</td>\n",
       "      <td>-4.00</td>\n",
       "      <td>221.00</td>\n",
       "      <td>2</td>\n",
       "      <td>0.016598</td>\n",
       "    </tr>\n",
       "  </tbody>\n",
       "</table>\n",
       "</div>"
      ],
      "text/plain": [
       "                      ITEM           W     LCG  AFT EXT  FWD EXT  类别        系数\n",
       "0                        F'CLE  106.66  214.18   205.73   221.00   1  0.009686\n",
       "1           ENGCASING & FUNNEL   95.46   12.00     6.75    17.05   2  0.008668\n",
       "2              ACCOM.ST.+EQUIP  630.63   23.00    17.05    28.25   2  0.000000\n",
       "3   NO.1 HATCH COAMING & COVER   82.86  194.86   186.59   203.12   2  0.000000\n",
       "4   NO.2 HATCH COAMING & COVER   89.91  170.50   162.23   178.76   2  0.000000\n",
       "5   NO.3 HATCH COAMING & COVER   91.12  144.40   136.13   152.66   2  0.000000\n",
       "6   NO.4 HATCH COAMING & COVER  106.92  118.30   110.03   126.56   2  0.000000\n",
       "7   NO.5 HATCH COAMING & COVER   91.12   92.20    83.93   100.46   2  0.000000\n",
       "8    NO.6HATCH COAMING & COVER   91.12   66.10    57.83    74.36   2  0.000000\n",
       "9   NO.7 HATCH COAMING & COVER   91.12   40.87    32.60    49.13   2  0.000000\n",
       "10             NO.1 DECK STORE    3.01  130.91   129.17   132.65   1  0.000000\n",
       "11             NO.2 DECK STORE    3.24   78.71    76.97    80.45   1  0.000000\n",
       "12                 MAIN ENGINE  233.68   20.25    16.25    24.25   3  0.000000\n",
       "13                        GEN.   72.20   11.45     9.05    13.85   3  0.000000\n",
       "14               STEERING GEAR    8.77    0.00    -1.30     1.30   2  0.000796\n",
       "15                      EQUIP.  624.20   21.85     8.25    28.25   3  0.000000\n",
       "16                      RUDDER   37.50    0.75    -0.75     2.25   2  0.003405\n",
       "17              MOORING (FORE)  187.75  212.37   208.62   216.12   2  0.017049\n",
       "18               MOORING (AFT)   38.96    3.00    -4.00     7.50   2  0.003538\n",
       "19                   PROPELLER   20.00    4.90     3.80     6.00   3  0.000000\n",
       "20                   LIFE BOAT   20.00   23.45    18.65    28.25   2  0.000000\n",
       "21                PILOT LADDER    3.90   81.32    71.75    90.89   2  0.000354\n",
       "22                 ELSE WEIGHT  363.48   97.88    -4.00   221.00   2  0.000000\n",
       "23                     BALANCE  182.79  101.10    -4.00   221.00   2  0.016598"
      ]
     },
     "execution_count": 12,
     "metadata": {},
     "output_type": "execute_result"
    }
   ],
   "source": [
    "# 根据子船与母船的换算方法换算系数\n",
    "# 与尺寸相关的利用平方模数法换算\n",
    "# 其余的与母船一致,系数为0\n",
    "for i in range(data_outfitting.shape[0]):\n",
    "    if data_outfitting.iloc[i,6] != 0:\n",
    "        data_outfitting.iloc[i,1] = data_outfitting.iloc[i,6]*Lpp*(B+D)\n",
    "data_outfitting.iloc[:,1] = data_outfitting.iloc[:,1].round(2)\n",
    "data_outfitting"
   ]
  },
  {
   "cell_type": "code",
   "execution_count": 14,
   "id": "6c7cdc7d",
   "metadata": {
    "ExecuteTime": {
     "end_time": "2024-03-17T05:39:36.457702Z",
     "start_time": "2024-03-17T05:39:36.453798Z"
    }
   },
   "outputs": [
    {
     "name": "stdout",
     "output_type": "stream",
     "text": [
      "机电设备的重量为: 3276.4 t\n"
     ]
    }
   ],
   "source": [
    "# 机电设备与舾装重量\n",
    "WM_and_WO = data_outfitting.iloc[:,1].sum()\n",
    "print(\"机电设备的重量为:\",WM_and_WO,'t')"
   ]
  },
  {
   "cell_type": "markdown",
   "id": "4d0466a3",
   "metadata": {},
   "source": [
    "## 空船重量"
   ]
  },
  {
   "cell_type": "code",
   "execution_count": 15,
   "id": "7b6711e4",
   "metadata": {
    "ExecuteTime": {
     "end_time": "2024-03-17T05:40:21.542007Z",
     "start_time": "2024-03-17T05:40:21.537127Z"
    }
   },
   "outputs": [
    {
     "name": "stdout",
     "output_type": "stream",
     "text": [
      "设计船的空船重量为12498.28 t\n"
     ]
    }
   ],
   "source": [
    "# 空船重量 考虑5%LW的排水量裕度，参考课本p67\n",
    "LW = (1+0.005)*(WH + WM_and_WO)\n",
    "LW = round(LW,2)\n",
    "print(\"设计船的空船重量为%s t\"%LW)"
   ]
  },
  {
   "cell_type": "markdown",
   "id": "fc4bfadb",
   "metadata": {},
   "source": [
    "## 载重量成分计算\n",
    "设计船的载重量为72100t，各组成成分量为"
   ]
  },
  {
   "cell_type": "markdown",
   "id": "74aadee2",
   "metadata": {},
   "source": [
    "### 人员及行李"
   ]
  },
  {
   "cell_type": "code",
   "execution_count": 16,
   "id": "2c4fba76",
   "metadata": {
    "ExecuteTime": {
     "end_time": "2024-03-17T05:40:22.141270Z",
     "start_time": "2024-03-17T05:40:22.137367Z"
    }
   },
   "outputs": [],
   "source": [
    "# 人员数据\n",
    "# 参考课本p68,船员行李为35-55kg，此处取45kg/人\n",
    "luggage_weight_per = 45\n",
    "# 船员人数取为28人\n",
    "crew_number = 28"
   ]
  },
  {
   "cell_type": "code",
   "execution_count": 17,
   "id": "31d58d60",
   "metadata": {
    "ExecuteTime": {
     "end_time": "2024-03-17T05:40:22.331590Z",
     "start_time": "2024-03-17T05:40:22.326710Z"
    }
   },
   "outputs": [
    {
     "name": "stdout",
     "output_type": "stream",
     "text": [
      "\n",
      "人员总重量为       1.82t\n",
      "行李总重量         1.26t\n",
      "人员与行李总重量   3.08t\n",
      "\n"
     ]
    }
   ],
   "source": [
    "# 行李总重量: t\n",
    "luggage_weight_sum = luggage_weight_per * crew_number / 1000 # kg -> t\n",
    "# 人员重量，取每人65kg，参考课本p68\n",
    "person_weight_per = 65\n",
    "person_weight = person_weight_per * crew_number/1000\n",
    "# 人员与行李总重量\n",
    "person_luggage_weight = person_weight + luggage_weight_sum\n",
    "print(f'''\n",
    "人员总重量为       {person_weight}t\n",
    "行李总重量         {luggage_weight_sum}t\n",
    "人员与行李总重量   {person_luggage_weight}t\n",
    "''')"
   ]
  },
  {
   "cell_type": "markdown",
   "id": "4880ad47",
   "metadata": {},
   "source": [
    "### 食品及淡水"
   ]
  },
  {
   "cell_type": "code",
   "execution_count": 18,
   "id": "60acf159",
   "metadata": {
    "ExecuteTime": {
     "end_time": "2024-03-17T05:40:22.713206Z",
     "start_time": "2024-03-17T05:40:22.708326Z"
    }
   },
   "outputs": [
    {
     "name": "stdout",
     "output_type": "stream",
     "text": [
      "\n",
      "食物重量为            6.76t\n",
      "淡水重量为            386.21t\n",
      "食物与淡水总重量为    392.97t\n",
      "\n"
     ]
    }
   ],
   "source": [
    "# 参考设计书中巴拿马型散货船续航力，此处取24000kn\n",
    "self_sustaining_ability = R/Vs/24\n",
    "# 食物定量取3.5kg/人/天，课本p68\n",
    "food_weight_per = 3.5\n",
    "# 淡水定量为200kg/人/天，课本p68\n",
    "water_weight_per = 200\n",
    "# 总重量\n",
    "water_weight = round(water_weight_per*self_sustaining_ability*crew_number/1000,2)\n",
    "food_weight = round(food_weight_per*self_sustaining_ability*crew_number/1000,2)\n",
    "water_food_weight = round(water_weight + food_weight,2)\n",
    "print(f\"\"\"\n",
    "食物重量为            {food_weight}t\n",
    "淡水重量为            {water_weight}t\n",
    "食物与淡水总重量为    {water_food_weight}t\n",
    "\"\"\")"
   ]
  },
  {
   "cell_type": "markdown",
   "id": "af554c32",
   "metadata": {},
   "source": [
    "### 油水"
   ]
  },
  {
   "cell_type": "markdown",
   "id": "dce97368",
   "metadata": {},
   "source": [
    "公式参考课本p69\n",
    "$$W_F = g_0P_1t\\cdot k\\cdot 10^{-3}\\\\\n",
    "W_L=\\epsilon_1 W_F\\\\\n",
    "W_{BW}=G\\cdot \\epsilon_2 \\cdot t\n",
    "$$\n",
    "$\\epsilon_1$取0.04,$\\epsilon_2$取0.05，参考课本p69"
   ]
  },
  {
   "cell_type": "code",
   "execution_count": 19,
   "id": "5f904caf",
   "metadata": {
    "ExecuteTime": {
     "end_time": "2024-03-17T05:40:23.460821Z",
     "start_time": "2024-03-17T05:40:23.455941Z"
    }
   },
   "outputs": [
    {
     "name": "stdout",
     "output_type": "stream",
     "text": [
      "\n",
      "燃油储备量为     3068.67t\n",
      "润滑油储备量为   122.75t\n",
      "炉水储备量为     81t\n",
      "\n"
     ]
    }
   ],
   "source": [
    "## 燃油储备量\n",
    "# 主机采用MAN-B&W 6S50ME-C主机，燃油消耗率为0.171 kg/(kW.h)，主机常用额定功率参考母型船总设计船中的8058kW\n",
    "# g0取主机耗油率的1.17，k取1.15，参考课本p69\n",
    "g0 = 0.171*1.17\n",
    "t = R/Vs # h\n",
    "P1 = 8058\n",
    "k = 1.15\n",
    "WF = round(g0*P1*t*k/1000,2) # kg->t\n",
    "## 润滑油储备量\n",
    "epsilon1 = 0.04\n",
    "WL = round(epsilon1*WF,2)\n",
    "#炉水储备量,参考任务书母船p89，取Other Tank的重量81t\n",
    "epsilon2 = 0.05\n",
    "WBW = 81\n",
    "print(f'''\n",
    "燃油储备量为     {WF}t\n",
    "润滑油储备量为   {WL}t\n",
    "炉水储备量为     {WBW}t\n",
    "''')"
   ]
  },
  {
   "cell_type": "markdown",
   "id": "dff12a06",
   "metadata": {},
   "source": [
    "### 备品、供应品重量"
   ]
  },
  {
   "cell_type": "code",
   "execution_count": 20,
   "id": "0b47be67",
   "metadata": {
    "ExecuteTime": {
     "end_time": "2024-03-17T05:40:24.247475Z",
     "start_time": "2024-03-17T05:40:24.243571Z"
    }
   },
   "outputs": [
    {
     "name": "stdout",
     "output_type": "stream",
     "text": [
      "备品与供应品储存量为:93.74 t\n"
     ]
    }
   ],
   "source": [
    "# 参考课本p69，备品与供应品的重量为0.5%-1%LW，此处取0.75%\n",
    "spares_weight = 0.75/100*LW\n",
    "spares_weight = round(spares_weight,2)\n",
    "print(\"备品与供应品储存量为:%s t\"%spares_weight)"
   ]
  },
  {
   "cell_type": "markdown",
   "id": "42b4af45",
   "metadata": {},
   "source": [
    "### 载货量"
   ]
  },
  {
   "cell_type": "code",
   "execution_count": 21,
   "id": "4acaf142",
   "metadata": {
    "ExecuteTime": {
     "end_time": "2024-03-17T05:40:24.887730Z",
     "start_time": "2024-03-17T05:40:24.882851Z"
    }
   },
   "outputs": [
    {
     "name": "stdout",
     "output_type": "stream",
     "text": [
      "载货量为68337.79 t\n"
     ]
    }
   ],
   "source": [
    "# 载货量为载重量DW-人员及行李重量-食品及淡水重量-燃油重量-润滑油重量-炉水重量-备品与供应品重量\n",
    "goods_weight = DW - person_luggage_weight - water_food_weight -WF - WL - WBW - spares_weight\n",
    "print(\"载货量为%s t\"%goods_weight)"
   ]
  },
  {
   "cell_type": "markdown",
   "id": "a0fc628b",
   "metadata": {},
   "source": [
    "## 重量校核"
   ]
  },
  {
   "cell_type": "code",
   "execution_count": 22,
   "id": "801492dd",
   "metadata": {
    "ExecuteTime": {
     "end_time": "2024-03-17T05:40:25.917409Z",
     "start_time": "2024-03-17T05:40:25.913505Z"
    }
   },
   "outputs": [
    {
     "name": "stdout",
     "output_type": "stream",
     "text": [
      "\n",
      "设计船重量为     84598.28t\n",
      "满足重力小于浮力 False\n",
      "\n"
     ]
    }
   ],
   "source": [
    "# 此处由于与excel中CH1的保留小数位数差异问题，钢料重量\n",
    "# 比excel中小一点，因此最终空船重量也小了一些,约7t\n",
    "W = round(LW + DW,2)\n",
    "print(f'''\n",
    "设计船重量为     {W}t\n",
    "满足重力小于浮力 {W<delta}\n",
    "''')"
   ]
  },
  {
   "cell_type": "code",
   "execution_count": 23,
   "id": "b01f3e66",
   "metadata": {
    "ExecuteTime": {
     "end_time": "2024-03-17T05:40:26.210209Z",
     "start_time": "2024-03-17T05:40:26.206305Z"
    }
   },
   "outputs": [
    {
     "name": "stdout",
     "output_type": "stream",
     "text": [
      "\n",
      "需增加的排水量为270.79t\n",
      "\n"
     ]
    }
   ],
   "source": [
    "delta_DW = round(W - delta,2)\n",
    "print(f'''\n",
    "需增加的排水量为{delta_DW}t\n",
    "''')"
   ]
  },
  {
   "cell_type": "markdown",
   "id": "da64d368",
   "metadata": {
    "ExecuteTime": {
     "end_time": "2023-12-12T02:47:52.015230Z",
     "start_time": "2023-12-12T02:47:52.010348Z"
    }
   },
   "source": [
    "## 第一次迭代"
   ]
  },
  {
   "cell_type": "markdown",
   "id": "0f6dad91",
   "metadata": {},
   "source": [
    "总重量比排水量大，因此设计船的载重量比预期载重量小，利用诺曼系数法进行主尺度修正，这里修正吃水  \n",
    "$$N = \\frac{1}{1-[\\alpha \\frac{W_H}{\\triangle}+\n",
    "\\beta\\frac{W_O}{\\triangle}+\\gamma\\frac{W_M}{\\triangle}]}\\\\\n",
    "\\delta \\triangle = N\\cdot \\delta DW\n",
    "$$"
   ]
  },
  {
   "cell_type": "code",
   "execution_count": 46,
   "id": "c615ad45",
   "metadata": {
    "ExecuteTime": {
     "end_time": "2024-02-19T09:11:59.654475Z",
     "start_time": "2024-02-19T09:11:59.650572Z"
    }
   },
   "outputs": [],
   "source": [
    "# 参考课本p73\n",
    "alpha = 0.4\n",
    "beta = gamma = 0"
   ]
  },
  {
   "cell_type": "code",
   "execution_count": 48,
   "id": "29b39612",
   "metadata": {
    "ExecuteTime": {
     "end_time": "2024-02-19T09:12:15.257510Z",
     "start_time": "2024-02-19T09:12:15.253606Z"
    }
   },
   "outputs": [
    {
     "name": "stdout",
     "output_type": "stream",
     "text": [
      "排水量变化值为283.09 t\n"
     ]
    }
   ],
   "source": [
    "N = 1/(1-alpha*WH/delta)\n",
    "ddelta = round(N*delta_DW,2)\n",
    "print(\"排水量变化值为%s t\"%ddelta)"
   ]
  },
  {
   "cell_type": "code",
   "execution_count": 49,
   "id": "9b03d87e",
   "metadata": {
    "ExecuteTime": {
     "end_time": "2024-02-19T09:13:31.001427Z",
     "start_time": "2024-02-19T09:13:30.997523Z"
    }
   },
   "outputs": [
    {
     "name": "stdout",
     "output_type": "stream",
     "text": [
      "结构吃水变化值为:0.04m\n"
     ]
    }
   ],
   "source": [
    "# 结构吃水处的水线面系数参考母船数据0.929，指导书p83\n",
    "C_W = 0.929\n",
    "# 水线面处的面积为\n",
    "A_W = Lpp*B*C_W\n",
    "# 排水量变化后的结构吃水变化为\n",
    "dd_structure = round(ddelta/rho/A_W,2)\n",
    "print(\"结构吃水变化值为:%sm\"%dd_structure)"
   ]
  },
  {
   "cell_type": "code",
   "execution_count": 51,
   "id": "9e8541d3",
   "metadata": {
    "ExecuteTime": {
     "end_time": "2024-02-19T09:14:19.597154Z",
     "start_time": "2024-02-19T09:14:19.559958Z"
    },
    "scrolled": false
   },
   "outputs": [
    {
     "name": "stdout",
     "output_type": "stream",
     "text": [
      "\n",
      "第一次迭代后的尺寸为:\n",
      "结构吃水:     14.15m\n",
      "船长:         215.17m\n",
      "型宽:         31.84m\n",
      "型深:         19.34m\n",
      "\n"
     ]
    }
   ],
   "source": [
    "# 第一次迭代后的尺寸为\n",
    "d_structure = round(d+dd_structure,2)\n",
    "print(f'''\n",
    "第一次迭代后的尺寸为:\n",
    "结构吃水:     {d_structure}m\n",
    "船长:         {Lpp}m\n",
    "型宽:         {B}m\n",
    "型深:         {D}m\n",
    "''')"
   ]
  },
  {
   "cell_type": "code",
   "execution_count": 53,
   "id": "30c9ecef",
   "metadata": {
    "ExecuteTime": {
     "end_time": "2024-02-19T09:15:26.591901Z",
     "start_time": "2024-02-19T09:15:26.587996Z"
    }
   },
   "outputs": [
    {
     "name": "stdout",
     "output_type": "stream",
     "text": [
      "迭代后的排水量为: 84610.58 t\n",
      "满足重力与浮力平衡： True\n"
     ]
    }
   ],
   "source": [
    "# 最终的排水量为\n",
    "delta_final = delta + ddelta\n",
    "print(\"迭代后的排水量为:\",delta_final,'t')\n",
    "print(\"满足重力与浮力平衡：\",delta_final>=W)"
   ]
  }
 ],
 "metadata": {
  "kernelspec": {
   "display_name": "Python 3 (ipykernel)",
   "language": "python",
   "name": "python3"
  },
  "language_info": {
   "codemirror_mode": {
    "name": "ipython",
    "version": 3
   },
   "file_extension": ".py",
   "mimetype": "text/x-python",
   "name": "python",
   "nbconvert_exporter": "python",
   "pygments_lexer": "ipython3",
   "version": "3.9.18"
  },
  "toc": {
   "base_numbering": 1,
   "nav_menu": {},
   "number_sections": true,
   "sideBar": true,
   "skip_h1_title": false,
   "title_cell": "Table of Contents",
   "title_sidebar": "Contents",
   "toc_cell": false,
   "toc_position": {},
   "toc_section_display": true,
   "toc_window_display": false
  }
 },
 "nbformat": 4,
 "nbformat_minor": 5
}
