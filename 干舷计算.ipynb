{
 "cells": [
  {
   "cell_type": "markdown",
   "id": "1432da8f",
   "metadata": {},
   "source": [
    "# 基本资料"
   ]
  },
  {
   "cell_type": "code",
   "execution_count": 2,
   "id": "74803bab",
   "metadata": {
    "ExecuteTime": {
     "end_time": "2023-12-26T12:34:07.747344Z",
     "start_time": "2023-12-26T12:34:07.743438Z"
    }
   },
   "outputs": [],
   "source": [
    "Cb = 0.85\n",
    "Lpp = 215.6\n",
    "Lpp_parent = 218\n",
    "D = 19.31"
   ]
  },
  {
   "cell_type": "markdown",
   "id": "392e0526",
   "metadata": {},
   "source": [
    "# 最小干舷计算"
   ]
  },
  {
   "cell_type": "markdown",
   "id": "bd0682ac",
   "metadata": {},
   "source": [
    "## 夏季最小干舷"
   ]
  },
  {
   "cell_type": "code",
   "execution_count": 3,
   "id": "2c1567c8",
   "metadata": {
    "ExecuteTime": {
     "end_time": "2023-12-26T12:34:08.448472Z",
     "start_time": "2023-12-26T12:34:08.441636Z"
    }
   },
   "outputs": [
    {
     "name": "stdout",
     "output_type": "stream",
     "text": [
      "\n",
      "基本干舷f0为3058 mm\n",
      "\n"
     ]
    }
   ],
   "source": [
    "# 基本干舷\n",
    "f0A = 2749+(2758-2749)*(215.6-215) # 参考规范p182，插值获得\n",
    "f0B = 3505 + (3520-3505)*(215.6-215) # 参考规范p185，插值获得\n",
    "f0 = f0B - (f0B-f0A)*0.6\n",
    "f0 = int(f0)\n",
    "print(f'''\n",
    "基本干舷f0为{f0} mm\n",
    "''')"
   ]
  },
  {
   "cell_type": "code",
   "execution_count": 4,
   "id": "ac175faf",
   "metadata": {
    "ExecuteTime": {
     "end_time": "2023-12-26T12:34:08.641819Z",
     "start_time": "2023-12-26T12:34:08.637913Z"
    }
   },
   "outputs": [],
   "source": [
    "# 船长大于100m，f1为0\n",
    "f1 = 0"
   ]
  },
  {
   "cell_type": "code",
   "execution_count": 5,
   "id": "2448bb97",
   "metadata": {
    "ExecuteTime": {
     "end_time": "2023-12-26T12:34:08.994336Z",
     "start_time": "2023-12-26T12:34:08.990429Z"
    }
   },
   "outputs": [
    {
     "name": "stdout",
     "output_type": "stream",
     "text": [
      "方形系数修正值f2为382 mm\n"
     ]
    }
   ],
   "source": [
    "# 方形系数修正\n",
    "f2 = (f0+f1)*((Cb+0.68)/1.36-1)\n",
    "f2 = int(f2)\n",
    "print(f'方形系数修正值f2为{f2} mm')"
   ]
  },
  {
   "cell_type": "code",
   "execution_count": 6,
   "id": "9526f209",
   "metadata": {
    "ExecuteTime": {
     "end_time": "2023-12-26T12:34:09.272637Z",
     "start_time": "2023-12-26T12:34:09.267758Z"
    }
   },
   "outputs": [
    {
     "name": "stdout",
     "output_type": "stream",
     "text": [
      "型深修正值f3为1234 mm\n"
     ]
    }
   ],
   "source": [
    "# 型深修正\n",
    "f3 = (D-Lpp/15)*250\n",
    "f3 = int(f3)\n",
    "print(f'型深修正值f3为{f3} mm')"
   ]
  },
  {
   "cell_type": "code",
   "execution_count": 7,
   "id": "10e192fb",
   "metadata": {
    "ExecuteTime": {
     "end_time": "2023-12-26T12:34:10.504980Z",
     "start_time": "2023-12-26T12:34:10.495217Z"
    }
   },
   "outputs": [
    {
     "data": {
      "text/plain": [
       "0.16549907375282255"
      ]
     },
     "execution_count": 7,
     "metadata": {},
     "output_type": "execute_result"
    }
   ],
   "source": [
    "# 上层建筑\n",
    "S1 = 27357*Lpp/Lpp_parent # 首楼\n",
    "B1 = 30658/32260\n",
    "S2 = 15240*Lpp/Lpp_parent # 桥楼\n",
    "B2 = 21338/32260\n",
    "# 上层建筑高于标准值，因此没有造成长度缩放\n",
    "E1 = S1*B1\n",
    "E2 = S2*B2\n",
    "E = (E1+E2)/1000\n",
    "E_L = E/Lpp\n",
    "E_L"
   ]
  },
  {
   "cell_type": "code",
   "execution_count": 8,
   "id": "12607b5c",
   "metadata": {
    "ExecuteTime": {
     "end_time": "2023-12-26T12:34:10.743245Z",
     "start_time": "2023-12-26T12:34:10.738365Z"
    }
   },
   "outputs": [
    {
     "data": {
      "text/plain": [
       "(25712.256399210546, 9969.343901897995)"
      ]
     },
     "execution_count": 8,
     "metadata": {},
     "output_type": "execute_result"
    }
   ],
   "source": [
    "E1,E2"
   ]
  },
  {
   "cell_type": "code",
   "execution_count": 9,
   "id": "3e469795",
   "metadata": {
    "ExecuteTime": {
     "end_time": "2023-12-26T12:34:17.158852Z",
     "start_time": "2023-12-26T12:34:17.153969Z"
    }
   },
   "outputs": [
    {
     "data": {
      "text/plain": [
       "11.584935162697578"
      ]
     },
     "execution_count": 9,
     "metadata": {},
     "output_type": "execute_result"
    }
   ],
   "source": [
    "# 插值\n",
    "d = 7 + (14-7)/0.1*(E_L-0.1)\n",
    "d"
   ]
  },
  {
   "cell_type": "code",
   "execution_count": 10,
   "id": "47d1e2d0",
   "metadata": {
    "ExecuteTime": {
     "end_time": "2023-12-26T12:34:17.382470Z",
     "start_time": "2023-12-26T12:34:17.377588Z"
    }
   },
   "outputs": [
    {
     "name": "stdout",
     "output_type": "stream",
     "text": [
      "f4为-123 mm\n"
     ]
    }
   ],
   "source": [
    "f4 = -1070*d/100\n",
    "f4 = int(f4)\n",
    "print(f'f4为{f4} mm')"
   ]
  },
  {
   "cell_type": "code",
   "execution_count": 11,
   "id": "de2886ef",
   "metadata": {
    "ExecuteTime": {
     "end_time": "2023-12-26T12:34:17.722292Z",
     "start_time": "2023-12-26T12:34:17.715457Z"
    }
   },
   "outputs": [
    {
     "data": {
      "text/plain": [
       "(2163.5081632653055, 607.8709183673468, 0)"
      ]
     },
     "execution_count": 11,
     "metadata": {},
     "output_type": "execute_result"
    }
   ],
   "source": [
    "# 舷弧修正\n",
    "# SA\n",
    "D_parent = 19.6\n",
    "# 尾垂线\n",
    "Lbp_real = 415*D/D_parent\n",
    "Lbp16_real = 0\n",
    "Lbp13_real = 0\n",
    "Lmid_real = 0\n",
    "# 首垂线\n",
    "Lfp_real = 2196*D/D_parent\n",
    "Lfp16_real = 617*D/D_parent\n",
    "Lfp13_real = 0\n",
    "Lfp_real,Lfp16_real,Lbp16_real"
   ]
  },
  {
   "cell_type": "code",
   "execution_count": 12,
   "id": "22c55e05",
   "metadata": {
    "ExecuteTime": {
     "end_time": "2023-12-26T12:34:17.893181Z",
     "start_time": "2023-12-26T12:34:17.889273Z"
    }
   },
   "outputs": [],
   "source": [
    "Lbp_std = 2046.67\n",
    "Lbp16_std = 908.72\n",
    "Lbp13_std = 229.23\n",
    "Lmid_std = 0\n",
    "Lfp_std = 4093.33\n",
    "Lfp16_std = 2*Lbp16_std\n",
    "Lfp13_std = 2*Lbp13_std"
   ]
  },
  {
   "cell_type": "code",
   "execution_count": 13,
   "id": "295ca048",
   "metadata": {
    "ExecuteTime": {
     "end_time": "2023-12-26T12:34:18.332604Z",
     "start_time": "2023-12-26T12:34:18.325769Z"
    }
   },
   "outputs": [
    {
     "data": {
      "text/plain": [
       "(-631.46, -866.74)"
      ]
     },
     "execution_count": 13,
     "metadata": {},
     "output_type": "execute_result"
    }
   ],
   "source": [
    "SA = 1*(Lbp_real - Lbp_std) + 3*(Lbp16_real-Lbp16_std) + 3*(Lbp13_real-Lbp13_std) + 1*(Lmid_real-Lmid_std)\n",
    "SA /= 8\n",
    "SA = round(SA,2)\n",
    "SF = 1*(Lfp_real - Lfp_std) + 3*(Lfp16_real-Lfp16_std) + 3*(Lfp13_real-Lfp13_std) + 1*(Lmid_real-Lmid_std)\n",
    "SF /= 8\n",
    "SF = round(SF,2)\n",
    "SA,SF"
   ]
  },
  {
   "cell_type": "code",
   "execution_count": 14,
   "id": "48e7dad4",
   "metadata": {
    "ExecuteTime": {
     "end_time": "2023-12-26T12:34:18.785701Z",
     "start_time": "2023-12-26T12:34:18.780818Z"
    }
   },
   "outputs": [
    {
     "data": {
      "text/plain": [
       "25712.256399210546"
      ]
     },
     "execution_count": 14,
     "metadata": {},
     "output_type": "execute_result"
    }
   ],
   "source": [
    "E1"
   ]
  },
  {
   "cell_type": "code",
   "execution_count": 15,
   "id": "68af6d8d",
   "metadata": {
    "ExecuteTime": {
     "end_time": "2023-12-26T12:34:19.213406Z",
     "start_time": "2023-12-26T12:34:19.208525Z"
    }
   },
   "outputs": [
    {
     "data": {
      "text/plain": [
       "(38.44, 0)"
      ]
     },
     "execution_count": 15,
     "metadata": {},
     "output_type": "execute_result"
    }
   ],
   "source": [
    "# 首垂线处上层建筑高度\n",
    "Hfp = 3316*D/D_parent\n",
    "y = Hfp - 2300\n",
    "L_ = E1/1000 # mm -> m\n",
    "Sf = y*L_/3/Lpp\n",
    "Sf = round(Sf,2)\n",
    "Sp = 0\n",
    "Sf,Sp"
   ]
  },
  {
   "cell_type": "code",
   "execution_count": 16,
   "id": "144dfed6",
   "metadata": {
    "ExecuteTime": {
     "end_time": "2023-12-26T12:34:20.496528Z",
     "start_time": "2023-12-26T12:34:20.492622Z"
    }
   },
   "outputs": [
    {
     "data": {
      "text/plain": [
       "38.44"
      ]
     },
     "execution_count": 16,
     "metadata": {},
     "output_type": "execute_result"
    }
   ],
   "source": [
    "S =Sf+Sp\n",
    "S"
   ]
  },
  {
   "cell_type": "code",
   "execution_count": 17,
   "id": "7acafcf6",
   "metadata": {
    "ExecuteTime": {
     "end_time": "2023-12-26T12:34:20.763111Z",
     "start_time": "2023-12-26T12:34:20.758231Z"
    }
   },
   "outputs": [
    {
     "data": {
      "text/plain": [
       "35.68160030110854"
      ]
     },
     "execution_count": 17,
     "metadata": {},
     "output_type": "execute_result"
    }
   ],
   "source": [
    "l = (E1+E2)/1000\n",
    "l"
   ]
  },
  {
   "cell_type": "code",
   "execution_count": 19,
   "id": "1df1ed31",
   "metadata": {
    "ExecuteTime": {
     "end_time": "2023-12-26T12:38:06.456675Z",
     "start_time": "2023-12-26T12:38:06.451794Z"
    }
   },
   "outputs": [
    {
     "data": {
      "text/plain": [
       "474.19"
      ]
     },
     "execution_count": 19,
     "metadata": {},
     "output_type": "execute_result"
    }
   ],
   "source": [
    "f5 = -((SF+SA)/2+S)*(0.75-l/2/Lpp)\n",
    "f5 = round(f5,2)\n",
    "f5"
   ]
  },
  {
   "cell_type": "code",
   "execution_count": 20,
   "id": "e2324a25",
   "metadata": {
    "ExecuteTime": {
     "end_time": "2023-12-26T12:38:07.324785Z",
     "start_time": "2023-12-26T12:38:07.319901Z"
    }
   },
   "outputs": [
    {
     "data": {
      "text/plain": [
       "(3058, 0, 382, 1234, -123, 474.19)"
      ]
     },
     "execution_count": 20,
     "metadata": {},
     "output_type": "execute_result"
    }
   ],
   "source": [
    "f0,f1,f2,f3,f4,f5"
   ]
  },
  {
   "cell_type": "code",
   "execution_count": 25,
   "id": "5ba144a8",
   "metadata": {
    "ExecuteTime": {
     "end_time": "2023-12-26T12:53:42.012030Z",
     "start_time": "2023-12-26T12:53:42.007150Z"
    }
   },
   "outputs": [
    {
     "data": {
      "text/plain": [
       "5025.19"
      ]
     },
     "execution_count": 25,
     "metadata": {},
     "output_type": "execute_result"
    }
   ],
   "source": [
    "# 夏季最小干舷\n",
    "Fmin = f0 + f1 + f2 + f3 + f4 + f5\n",
    "Fmin"
   ]
  },
  {
   "cell_type": "code",
   "execution_count": 26,
   "id": "595f6f82",
   "metadata": {
    "ExecuteTime": {
     "end_time": "2023-12-26T12:53:42.302052Z",
     "start_time": "2023-12-26T12:53:42.297173Z"
    }
   },
   "outputs": [
    {
     "data": {
      "text/plain": [
       "(5069.999999999998, True)"
      ]
     },
     "execution_count": 26,
     "metadata": {},
     "output_type": "execute_result"
    }
   ],
   "source": [
    "# 实际干舷\n",
    "D = 19.31\n",
    "d = 14.24\n",
    "(D - d)*1000,(D-d)*1000 > Fmin"
   ]
  },
  {
   "cell_type": "markdown",
   "id": "7d5f9f41",
   "metadata": {},
   "source": [
    "## 最小船首高度"
   ]
  },
  {
   "cell_type": "code",
   "execution_count": 27,
   "id": "0362af10",
   "metadata": {
    "ExecuteTime": {
     "end_time": "2023-12-26T12:53:42.934824Z",
     "start_time": "2023-12-26T12:53:42.926036Z"
    }
   },
   "outputs": [
    {
     "data": {
      "text/plain": [
       "0.948"
      ]
     },
     "execution_count": 27,
     "metadata": {},
     "output_type": "execute_result"
    }
   ],
   "source": [
    "from scipy.integrate import simpson\n",
    "# 前体水线面面积系数，参考母船\n",
    "Lpp_parent = 218\n",
    "B_parent = 32.26\n",
    "# 辛普森法，以下单位均为mm\n",
    "last_height = 4249 # 最后一块儿的高度，这是由于最后一块儿和前一块儿的间隔不是定的delta,这里通过梯形法额外补上\n",
    "last_delta = 224 \n",
    "delta = 1392\n",
    "H_list = [16054,15983,15878,15742,15568,15352,15051,14735,14389,13951,13459,12901,12283,11603,10849,9991,8889,7883,6505,4707]\n",
    "A1 = simpson(H_list,dx=delta)\n",
    "A2 = (H_list[-1] + last_height)*last_delta/2 # 最后一块儿的面积\n",
    "A3 = 82433*16130 # 前半平行中体半面积\n",
    "A = (A1 + A2+A3)*2/1e6\n",
    "Cwf = A/(Lpp_parent/2*B_parent)\n",
    "Cwf = round(Cwf,3)\n",
    "Cwf"
   ]
  },
  {
   "cell_type": "code",
   "execution_count": 28,
   "id": "6e3b6308",
   "metadata": {
    "ExecuteTime": {
     "end_time": "2023-12-26T12:53:43.303944Z",
     "start_time": "2023-12-26T12:53:43.299058Z"
    }
   },
   "outputs": [
    {
     "name": "stdout",
     "output_type": "stream",
     "text": [
      "最小船首高度为5803 mm\n"
     ]
    }
   ],
   "source": [
    "Fb = (6075*(Lpp/100) - 1875*(Lpp/100)**2 + 200*(Lpp/100)**3) * (2.08 + 0.609*Cb - 1.603*Cwf - 0.0129*(Lpp/(0.85*D)))\n",
    "Fb = int(Fb) + 1\n",
    "print(f'最小船首高度为{Fb} mm')"
   ]
  },
  {
   "cell_type": "code",
   "execution_count": 29,
   "id": "fd15b7eb",
   "metadata": {
    "ExecuteTime": {
     "end_time": "2023-12-26T12:53:43.788285Z",
     "start_time": "2023-12-26T12:53:43.783404Z"
    }
   },
   "outputs": [
    {
     "data": {
      "text/plain": [
       "True"
      ]
     },
     "execution_count": 29,
     "metadata": {},
     "output_type": "execute_result"
    }
   ],
   "source": [
    "# 自首垂线夏季最小干舷水线至露天甲板上边垂直距离\n",
    "H1 = 2169 * D/D_parent # 首垂线处，水线至舷弧距离\n",
    "L = Fmin + H1\n",
    "L > Fb"
   ]
  },
  {
   "cell_type": "code",
   "execution_count": 30,
   "id": "788351e3",
   "metadata": {
    "ExecuteTime": {
     "end_time": "2023-12-26T12:53:45.833077Z",
     "start_time": "2023-12-26T12:53:45.828191Z"
    }
   },
   "outputs": [
    {
     "data": {
      "text/plain": [
       "2136.907653061224"
      ]
     },
     "execution_count": 30,
     "metadata": {},
     "output_type": "execute_result"
    }
   ],
   "source": [
    "H1"
   ]
  },
  {
   "cell_type": "markdown",
   "id": "8011b130",
   "metadata": {},
   "source": [
    "## 储备浮力"
   ]
  },
  {
   "cell_type": "markdown",
   "id": "ccdf095a",
   "metadata": {},
   "source": [
    "测投影面积应不小于  \n",
    "$$\n",
    "\\frac{L}{1000}\\{0.15[f_0(\\frac{C_B+0.68}{1.36}-1)+f_3]\\}+4(\\frac{L}{3}+10)\n",
    "$$"
   ]
  },
  {
   "cell_type": "code",
   "execution_count": 42,
   "id": "24b40360",
   "metadata": {
    "ExecuteTime": {
     "end_time": "2023-12-26T03:44:36.745166Z",
     "start_time": "2023-12-26T03:44:36.741258Z"
    }
   },
   "outputs": [
    {
     "data": {
      "text/plain": [
       "(3058, 382, 1234)"
      ]
     },
     "execution_count": 42,
     "metadata": {},
     "output_type": "execute_result"
    }
   ],
   "source": [
    "f0,f2,f3"
   ]
  },
  {
   "cell_type": "code",
   "execution_count": 43,
   "id": "2b685aaa",
   "metadata": {
    "ExecuteTime": {
     "end_time": "2023-12-26T03:46:30.548501Z",
     "start_time": "2023-12-26T03:46:30.543619Z"
    }
   },
   "outputs": [
    {
     "data": {
      "text/plain": [
       "379.74"
      ]
     },
     "execution_count": 43,
     "metadata": {},
     "output_type": "execute_result"
    }
   ],
   "source": [
    "Amin = Lpp/1000*0.15*(f0*((Cb+0.68)/1.36-1)+f3)+4*(Lpp/3+10)\n",
    "Amin = round(Amin,2)\n",
    "Amin"
   ]
  },
  {
   "cell_type": "code",
   "execution_count": 44,
   "id": "dc43f8f2",
   "metadata": {
    "ExecuteTime": {
     "end_time": "2023-12-26T03:46:34.489276Z",
     "start_time": "2023-12-26T03:46:34.483417Z"
    }
   },
   "outputs": [
    {
     "data": {
      "text/plain": [
       "(1304.2329019333333, True)"
      ]
     },
     "execution_count": 44,
     "metadata": {},
     "output_type": "execute_result"
    }
   ],
   "source": [
    "A1 = 0.15*Lpp*Fmin/1000\n",
    "H2_list = [712,769,828,890,957,1030,1110,1198,1297,1406,1525,1656,1790,1954,2100,2200]\n",
    "dx = 2180\n",
    "A2 = simpson(H2_list,dx=dx)/1e6\n",
    "H3_list = [2170,2169,2166,2163,2160,2156,2199,2213,2213,2214,2252,2238,2245,2231,2276,2269]\n",
    "dx = 818\n",
    "A3 = simpson(H3_list,dx=dx)/1e6\n",
    "A = A1+A2+A3\n",
    "A,A>Amin"
   ]
  },
  {
   "cell_type": "code",
   "execution_count": null,
   "id": "ffe7c1e8",
   "metadata": {},
   "outputs": [],
   "source": []
  }
 ],
 "metadata": {
  "kernelspec": {
   "display_name": "Python 3 (ipykernel)",
   "language": "python",
   "name": "python3"
  },
  "language_info": {
   "codemirror_mode": {
    "name": "ipython",
    "version": 3
   },
   "file_extension": ".py",
   "mimetype": "text/x-python",
   "name": "python",
   "nbconvert_exporter": "python",
   "pygments_lexer": "ipython3",
   "version": "3.9.12"
  },
  "toc": {
   "base_numbering": 1,
   "nav_menu": {},
   "number_sections": true,
   "sideBar": true,
   "skip_h1_title": false,
   "title_cell": "Table of Contents",
   "title_sidebar": "Contents",
   "toc_cell": false,
   "toc_position": {},
   "toc_section_display": true,
   "toc_window_display": false
  }
 },
 "nbformat": 4,
 "nbformat_minor": 5
}
