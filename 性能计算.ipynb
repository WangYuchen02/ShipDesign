{
 "cells": [
  {
   "cell_type": "code",
   "execution_count": 1,
   "id": "4c322c88",
   "metadata": {
    "ExecuteTime": {
     "end_time": "2024-03-18T09:13:35.232759Z",
     "start_time": "2024-03-18T09:13:34.905658Z"
    }
   },
   "outputs": [],
   "source": [
    "from scipy import integrate"
   ]
  },
  {
   "cell_type": "markdown",
   "id": "6ec932cf",
   "metadata": {},
   "source": [
    "# 围蔽处所总体积"
   ]
  },
  {
   "cell_type": "code",
   "execution_count": 2,
   "id": "f17ae4d6",
   "metadata": {
    "ExecuteTime": {
     "end_time": "2024-03-18T09:13:35.243998Z",
     "start_time": "2024-03-18T09:13:35.238611Z"
    }
   },
   "outputs": [],
   "source": [
    "# 横剖面面积计算\n",
    "AS_tail = 52.82 * 2 # 艉封板\n",
    "AS_0 =  (72.45 + 0.82) * 2 # 0站,0.82是螺旋桨位置剖面面积\n",
    "AS_0_5 = 103.59 * 2 # 0.5站\n",
    "AS_0_75 = 129.23 * 2 # 0.75站\n",
    "AS_1 = 1512.21 * 2 # 1站\n",
    "AS_1_5 = 191.21 * 2 # 1.5站\n",
    "AS_2 = 225.26 * 2 # 2站\n",
    "AS_2_5 =  246.50 * 2 # 2.5站\n",
    "AS_3 = 266.03 * 2 # 3站\n",
    "AS_3_5 = 282.17 * 2 # 3.5站\n",
    "AS_4 = 294.87 * 2 # 4站\n",
    "AS_4_5 = 303.41 * 2 # 4.5站\n",
    "AS_5 = 308.59 * 2 # 5站\n",
    "AS_5_5 = 311.41 * 2 # 5.5站\n",
    "AS_6 = 313.26 * 2 # 6站\n",
    "AS_6_5 = 314.19 # 6.5站\n",
    "AS_7 = 314.48 * 2 # 7站\n",
    "AS_8 = AS_9 = AS_10 = AS_11 = AS_12 = AS_13 = AS_14 = 314.56 * 2\n",
    "AS_15 = 311.30 * 2 # 15站\n",
    "AS_16 =  314.38 * 2 # 16站\n",
    "AS_17 = 312.91 * 2 # 17站截面的面积\n",
    "AS_17_5 = 302.41 * 2 # 17.5站\n",
    "AS_18 =  287.67 * 2 # 18站\n",
    "AS_18_5 = 251.29 * 2 # 18.5站\n",
    "AS_19 = 199 * 2 # 19站\n",
    "AS_19_5  = 128.83 * 2 # 19.5站\n",
    "AS_20 = (12 + 19.46) * 2 # 20站\n",
    "AS_A = 5.012 * 2 # A站"
   ]
  },
  {
   "cell_type": "code",
   "execution_count": 3,
   "id": "73ee0a18",
   "metadata": {
    "ExecuteTime": {
     "end_time": "2024-03-18T09:13:35.249861Z",
     "start_time": "2024-03-18T09:13:35.245951Z"
    }
   },
   "outputs": [],
   "source": [
    "dx_1 = 215.17 / 20\n",
    "dx_0_5 = dx_1 / 2\n",
    "dx_0_25 = dx_0_5 / 2\n",
    "dx_t_0 = 3.841\n",
    "dx_20_A = 2"
   ]
  },
  {
   "cell_type": "code",
   "execution_count": 4,
   "id": "d7204ac4",
   "metadata": {
    "ExecuteTime": {
     "end_time": "2024-03-18T09:13:35.301582Z",
     "start_time": "2024-03-18T09:13:35.293775Z"
    }
   },
   "outputs": [
    {
     "name": "stdout",
     "output_type": "stream",
     "text": [
      "船体体积为125480.87 m3\n"
     ]
    }
   ],
   "source": [
    "# tail - 0\n",
    "V_t_0 = integrate.simpson([AS_tail,AS_0],dx=dx_t_0)\n",
    "# 0 - 0.5\n",
    "V_0_05 = integrate.simpson([AS_0,AS_0_5],dx=dx_0_5)\n",
    "# 0.5 - 1\n",
    "V_05_1 = integrate.simpson([AS_0_5,AS_0_75,AS_1],dx=dx_0_25)\n",
    "# 1 - 7\n",
    "V_1_7 = integrate.simpson([AS_1,AS_1_5,AS_2,AS_2_5,AS_3,AS_3_5,AS_4,AS_4_5,AS_5,AS_5_5,AS_6,AS_6_5,AS_7],dx=dx_0_5)\n",
    "# 7 - 17\n",
    "V_7_17 = integrate.simpson([AS_7,AS_8,AS_9,AS_10,AS_11,AS_12,AS_13,AS_14,AS_15,AS_16,AS_17],dx=dx_1)\n",
    "# 17 - 20\n",
    "V_17_20 = integrate.simpson([AS_17,AS_17_5,AS_18,AS_18_5,AS_19,AS_19_5,AS_20],dx=dx_0_5)\n",
    "# 20 - A\n",
    "V_20_A = integrate.simpson([AS_20,AS_A])\n",
    "# 船体体积\n",
    "V1 = V_t_0 + V_0_05 + V_05_1 + V_1_7 + V_7_17 + V_17_20 + V_20_A\n",
    "print(\"船体体积为%.2f m3\"%V1)"
   ]
  },
  {
   "cell_type": "code",
   "execution_count": 5,
   "id": "00e3da16",
   "metadata": {
    "ExecuteTime": {
     "end_time": "2024-03-18T09:13:37.425605Z",
     "start_time": "2024-03-18T09:13:37.418774Z"
    }
   },
   "outputs": [
    {
     "data": {
      "text/plain": [
       "484.31169000000006"
      ]
     },
     "execution_count": 5,
     "metadata": {},
     "output_type": "execute_result"
    }
   ],
   "source": [
    "V_t_0"
   ]
  },
  {
   "cell_type": "code",
   "execution_count": 6,
   "id": "0b50da09",
   "metadata": {
    "ExecuteTime": {
     "end_time": "2024-03-18T09:13:37.927136Z",
     "start_time": "2024-03-18T09:13:37.922257Z"
    }
   },
   "outputs": [
    {
     "name": "stdout",
     "output_type": "stream",
     "text": [
      "尾楼体积为:6217.56 m3\n"
     ]
    }
   ],
   "source": [
    "# 尾楼计算\n",
    "A_deckA =  569.73\n",
    "A_deckB = 112.7 + 275.76\n",
    "A_deckC = 433.9\n",
    "A_deckD = 269.17\n",
    "A_nav = 252.6\n",
    "A_com = 135.77\n",
    "H_deck = 3.06\n",
    "H_nav_com = 2.66\n",
    "# 尾楼体积\n",
    "V2 = (A_deckA + A_deckB + A_deckC + A_deckD + A_nav) * H_deck + A_com * H_nav_com\n",
    "print(\"尾楼体积为:%.2f m3\"%V2)"
   ]
  },
  {
   "cell_type": "code",
   "execution_count": 7,
   "id": "e312f9b7",
   "metadata": {
    "ExecuteTime": {
     "end_time": "2024-03-18T09:13:39.118556Z",
     "start_time": "2024-03-18T09:13:39.114653Z"
    }
   },
   "outputs": [
    {
     "name": "stdout",
     "output_type": "stream",
     "text": [
      "首楼体积为:617.64 m3\n"
     ]
    }
   ],
   "source": [
    "# 首楼计算计算\n",
    "A_top = 282.77\n",
    "A_bottom = 308.84\n",
    "H = 2.088\n",
    "# 首楼体积\n",
    "V3 =  (A_top + A_bottom) * H / 2\n",
    "print(\"首楼体积为:%.2f m3\"%V3)"
   ]
  },
  {
   "cell_type": "code",
   "execution_count": 8,
   "id": "a921e137",
   "metadata": {
    "ExecuteTime": {
     "end_time": "2024-03-18T09:13:39.394764Z",
     "start_time": "2024-03-18T09:13:39.390861Z"
    }
   },
   "outputs": [
    {
     "name": "stdout",
     "output_type": "stream",
     "text": [
      "舱口围板区域体积为: 3484.69 m3\n"
     ]
    }
   ],
   "source": [
    "# 舱口盖容量\n",
    "V4 = 3484.69 # 参考舱容校核部分\n",
    "print(\"舱口围板区域体积为: %.2f m3\"%V4)"
   ]
  },
  {
   "cell_type": "code",
   "execution_count": 9,
   "id": "9146ec82",
   "metadata": {
    "ExecuteTime": {
     "end_time": "2024-03-18T09:13:39.771028Z",
     "start_time": "2024-03-18T09:13:39.766149Z"
    }
   },
   "outputs": [
    {
     "name": "stdout",
     "output_type": "stream",
     "text": [
      "全船围蔽处所总体积为: 135800.76 m3\n"
     ]
    }
   ],
   "source": [
    "# 总体积\n",
    "V = V1 + V2 + V3 +V4\n",
    "print(\"全船围蔽处所总体积为: %.2f m3\"%V)"
   ]
  },
  {
   "cell_type": "markdown",
   "id": "bd4d7799",
   "metadata": {},
   "source": [
    "# 总吨位"
   ]
  },
  {
   "cell_type": "markdown",
   "id": "d5ca2f28",
   "metadata": {},
   "source": [
    "$$\n",
    "GT = K_1V\n",
    "$$\n",
    "式中V为船舶所有围蔽处所的容积,$K_1=0.2+0.02\\lg{V}$"
   ]
  },
  {
   "cell_type": "code",
   "execution_count": 10,
   "id": "cf5ec7cb",
   "metadata": {
    "ExecuteTime": {
     "end_time": "2024-03-18T09:13:42.454276Z",
     "start_time": "2024-03-18T09:13:42.449396Z"
    }
   },
   "outputs": [
    {
     "name": "stdout",
     "output_type": "stream",
     "text": [
      "船舶的总吨位为41101.19\n"
     ]
    }
   ],
   "source": [
    "import math\n",
    "K1 = 0.2 + 0.02 * math.log10(V)\n",
    "GT = K1 * V\n",
    "print(\"船舶的总吨位为%.2f\"%GT)"
   ]
  },
  {
   "cell_type": "markdown",
   "id": "65d7f877",
   "metadata": {},
   "source": [
    "# 净吨位"
   ]
  },
  {
   "cell_type": "markdown",
   "id": "0a4f12d2",
   "metadata": {},
   "source": [
    "$$\n",
    "NT=K_2V_c(\\frac{4d}{3D})^2 + K_3(N_1+\\frac{N_2}{10})\n",
    "$$\n",
    "其中，$K_2=0.2+0.02\\lg{V_c}$,$K_3=1.25\\frac{GT+10000}{10000}$,$D$是船长中点的型深,$d$为船长中点的型吃水,$N_1$为不超过8个铺位的客舱的乘客总人数，$N_2$为其他乘客数，当$N_1+N_2$小于13时，$N_1$及$N_2$取零。  \n",
    "此外，应有：  \n",
    "1）$(\\frac{4d}{3D})^2\\le 1$  \n",
    "2)$K_2V_c(\\frac{4d}{3D})^2\\ge 0.25GT$  \n",
    "3)$NT\\ge 0.3GT$"
   ]
  },
  {
   "cell_type": "code",
   "execution_count": 12,
   "id": "51128cd6",
   "metadata": {
    "ExecuteTime": {
     "end_time": "2024-03-18T09:14:10.387746Z",
     "start_time": "2024-03-18T09:14:10.382866Z"
    }
   },
   "outputs": [],
   "source": [
    "Vc = 10024.38 + 13085.42 + 12955.22 + 12959.84 + 13045.78 + 13041.17 + 11647.96\n",
    "K2 = 0.2 + 0.02 * math.log10(Vc)\n",
    "K3 = 1.25*(GT/10000+1)\n",
    "D = 19.34\n",
    "d = 14.15\n",
    "N1 = 0\n",
    "N2 = 28\n",
    "if N1 + N2 < 13:\n",
    "    N1 = N2 = 0\n",
    "NT = K2*Vc*((4*d)/(3*D))**2+K3*(N1+N2/10)"
   ]
  },
  {
   "cell_type": "code",
   "execution_count": 13,
   "id": "a75eeeee",
   "metadata": {
    "ExecuteTime": {
     "end_time": "2024-03-18T09:14:12.539341Z",
     "start_time": "2024-03-18T09:14:12.535438Z"
    }
   },
   "outputs": [
    {
     "name": "stdout",
     "output_type": "stream",
     "text": [
      "船舶的净吨位为: 24685.52\n"
     ]
    }
   ],
   "source": [
    "print(\"船舶的净吨位为: %.2f\"%NT)"
   ]
  },
  {
   "cell_type": "code",
   "execution_count": 15,
   "id": "50c88c91",
   "metadata": {
    "ExecuteTime": {
     "end_time": "2024-03-18T09:14:44.676770Z",
     "start_time": "2024-03-18T09:14:44.671890Z"
    }
   },
   "outputs": [
    {
     "name": "stdout",
     "output_type": "stream",
     "text": [
      "True\n",
      "True\n",
      "True\n"
     ]
    }
   ],
   "source": [
    "print(((4*d)/(3*D))**2 <= 1)\n",
    "print(K2*Vc*((4*d)/(3*D))**2 >= 0.25*GT)\n",
    "print(NT >= 0.3 * GT)"
   ]
  }
 ],
 "metadata": {
  "kernelspec": {
   "display_name": "Python [conda env:root] *",
   "language": "python",
   "name": "conda-root-py"
  },
  "language_info": {
   "codemirror_mode": {
    "name": "ipython",
    "version": 3
   },
   "file_extension": ".py",
   "mimetype": "text/x-python",
   "name": "python",
   "nbconvert_exporter": "python",
   "pygments_lexer": "ipython3",
   "version": "3.9.18"
  },
  "toc": {
   "base_numbering": 1,
   "nav_menu": {},
   "number_sections": true,
   "sideBar": true,
   "skip_h1_title": false,
   "title_cell": "Table of Contents",
   "title_sidebar": "Contents",
   "toc_cell": false,
   "toc_position": {},
   "toc_section_display": true,
   "toc_window_display": false
  }
 },
 "nbformat": 4,
 "nbformat_minor": 5
}
