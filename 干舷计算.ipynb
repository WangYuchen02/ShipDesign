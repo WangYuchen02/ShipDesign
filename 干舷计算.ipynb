{
 "cells": [
  {
   "cell_type": "markdown",
   "id": "1432da8f",
   "metadata": {},
   "source": [
    "# 基本资料"
   ]
  },
  {
   "cell_type": "code",
   "execution_count": 36,
   "id": "56972ce1",
   "metadata": {
    "ExecuteTime": {
     "end_time": "2024-02-20T08:58:10.271380Z",
     "start_time": "2024-02-20T08:58:10.266501Z"
    }
   },
   "outputs": [],
   "source": [
    "L_total_parent = 225 # 母船总长度\n",
    "Lpp_parent = 218 # 母船垂线间长\n",
    "B_parent = 32.26 # 母船型宽\n",
    "D_parent = 19.6 # 母船型深\n",
    "d_design_parent = 12.5 # 母船设计吃水\n",
    "d_structure_parent = 14.3 # 母船结构吃水\\\n",
    "DW_parent = 75088 # 母船载重量 :t\n",
    "Lw_parent = Lpp_parent+5*0.75 # 水线间长:m ,首垂线与尾垂线距离+ 尾垂线后5个肋位，每个肋位距离为0.75m，参考母船总布置图\n",
    "L_ball_parent = 4*0.75 # 首垂线至球首前端距，#256 - # 260，肋距为0.75m，参考母船总布置图\n",
    "nabla_parent = 85488.56 # 母船结构吃水14.3m处的排水体积，参考静水力计算书\n",
    "delta_parent = 87809.16 # 母船结构吃水处的排水量,参考静水力计算书吃水14.3m时的displt"
   ]
  },
  {
   "cell_type": "code",
   "execution_count": 37,
   "id": "74803bab",
   "metadata": {
    "ExecuteTime": {
     "end_time": "2024-02-20T08:58:10.276260Z",
     "start_time": "2024-02-20T08:58:10.272356Z"
    }
   },
   "outputs": [],
   "source": [
    "Cb = 0.85\n",
    "Lpp = 215.17    # m\n",
    "B = 31.84       # m \n",
    "D = 19.34       # m\n",
    "d = 14.11       # m\n",
    "delta = 84292   # t"
   ]
  },
  {
   "cell_type": "markdown",
   "id": "392e0526",
   "metadata": {},
   "source": [
    "# 最小干舷计算"
   ]
  },
  {
   "cell_type": "markdown",
   "id": "bd0682ac",
   "metadata": {},
   "source": [
    "## 夏季最小干舷"
   ]
  },
  {
   "cell_type": "markdown",
   "id": "c04e23a9",
   "metadata": {},
   "source": [
    "### $f_0$"
   ]
  },
  {
   "cell_type": "code",
   "execution_count": 38,
   "id": "2c1567c8",
   "metadata": {
    "ExecuteTime": {
     "end_time": "2024-02-20T08:58:10.283092Z",
     "start_time": "2024-02-20T08:58:10.277237Z"
    }
   },
   "outputs": [
    {
     "name": "stdout",
     "output_type": "stream",
     "text": [
      "\n",
      "基本干舷f0为3053 mm\n",
      "\n"
     ]
    }
   ],
   "source": [
    "# 基本干舷\n",
    "f0A = 2749+(2758-2749)*(Lpp-215) # 参考规范p182，插值获得\n",
    "f0B = 3505 + (3520-3505)*(Lpp-215) # 参考规范p185，插值获得\n",
    "f0 = f0B - (f0B-f0A)*0.6 # B-60船\n",
    "f0 = int(f0)\n",
    "print(f'''\n",
    "基本干舷f0为{f0} mm\n",
    "''')"
   ]
  },
  {
   "cell_type": "markdown",
   "id": "fa24595f",
   "metadata": {},
   "source": [
    "### $f_1$\n",
    "非$L<100m$的B型船,$f_1=0$"
   ]
  },
  {
   "cell_type": "code",
   "execution_count": 39,
   "id": "ac175faf",
   "metadata": {
    "ExecuteTime": {
     "end_time": "2024-02-20T08:58:10.288948Z",
     "start_time": "2024-02-20T08:58:10.284069Z"
    }
   },
   "outputs": [],
   "source": [
    "# 船长大于100m，f1为0\n",
    "f1 = 0"
   ]
  },
  {
   "cell_type": "markdown",
   "id": "69e01e12",
   "metadata": {},
   "source": [
    "### $f_2$\n",
    "$$f_2=(f_0+f_1)(\\frac{C_B+0.68}{1.36}-1)$$\n",
    "当$C_B<=0.68$时，取$f_2=0$"
   ]
  },
  {
   "cell_type": "code",
   "execution_count": 40,
   "id": "2448bb97",
   "metadata": {
    "ExecuteTime": {
     "end_time": "2024-02-20T08:58:10.293828Z",
     "start_time": "2024-02-20T08:58:10.289924Z"
    }
   },
   "outputs": [
    {
     "name": "stdout",
     "output_type": "stream",
     "text": [
      "方形系数修正值f2为381 mm\n"
     ]
    }
   ],
   "source": [
    "# 方形系数修正\n",
    "f2 = (f0+f1)*((Cb+0.68)/1.36-1)\n",
    "f2 = int(f2)\n",
    "print(f'方形系数修正值f2为{f2} mm')"
   ]
  },
  {
   "cell_type": "markdown",
   "id": "3748fa16",
   "metadata": {},
   "source": [
    "### $f_3$\n",
    "$$f_3=(D_1-L/15)R$$\n",
    "$$R = \\left\\{\n",
    "\\begin{aligned}\n",
    "L/0.48,L<120m \\\\\n",
    "250,L>=120m \\\\\n",
    "\\end{aligned}\n",
    "\\right.$$"
   ]
  },
  {
   "cell_type": "code",
   "execution_count": 41,
   "id": "9526f209",
   "metadata": {
    "ExecuteTime": {
     "end_time": "2024-02-20T08:58:10.301636Z",
     "start_time": "2024-02-20T08:58:10.294805Z"
    }
   },
   "outputs": [
    {
     "name": "stdout",
     "output_type": "stream",
     "text": [
      "型深修正值f3为1248 mm\n"
     ]
    }
   ],
   "source": [
    "# 型深修正\n",
    "f3 = (D-Lpp/15)*250\n",
    "f3 = int(f3)\n",
    "print(f'型深修正值f3为{f3} mm')"
   ]
  },
  {
   "cell_type": "markdown",
   "id": "6bb6e56c",
   "metadata": {},
   "source": [
    "### $f_4$\n",
    "本船有一个首楼和一个桥楼，而上层建筑的长度S是位于船长L范围内的上层建筑的长度  \n",
    "$$f_4=Kf_4'$$"
   ]
  },
  {
   "cell_type": "markdown",
   "id": "cb7db710",
   "metadata": {},
   "source": [
    "首楼图像如下 \n",
    "![首楼](img/首楼.png)\n",
    "桥楼图像如下  \n",
    "![桥楼](img/桥楼.png)"
   ]
  },
  {
   "cell_type": "code",
   "execution_count": 42,
   "id": "10e192fb",
   "metadata": {
    "ExecuteTime": {
     "end_time": "2024-02-20T08:58:10.307022Z",
     "start_time": "2024-02-20T08:58:10.302149Z"
    }
   },
   "outputs": [
    {
     "name": "stdout",
     "output_type": "stream",
     "text": [
      "有效上层建筑占船长的比例为: 0.130\n"
     ]
    }
   ],
   "source": [
    "# 首楼\n",
    "S1 = 12270 * Lpp/Lpp_parent # 按照长度比例缩放 \n",
    "B1 = 1 # 由于首楼在宽度方向无收缩，因而宽度缩放因子为1\n",
    "# 桥楼\n",
    "S2 = 21500 *Lpp/Lpp_parent # 按照长度比例缩放\n",
    "B2 = 22984 / 30645 # 上层建筑长度中点出的宽度比\n",
    "# 上层建筑高于标准值，因此没有造成长度缩放\n",
    "E1 = S1*B1\n",
    "E2 = S2*B2\n",
    "E = (E1+E2)/1000 # 有效上层建筑总长度，mm -> m\n",
    "# 有效上层建筑占船长的比例\n",
    "E_L = E/Lpp\n",
    "print(\"有效上层建筑占船长的比例为: %.3f\"%E_L)"
   ]
  },
  {
   "cell_type": "code",
   "execution_count": 43,
   "id": "3e469795",
   "metadata": {
    "ExecuteTime": {
     "end_time": "2024-02-20T08:58:10.314830Z",
     "start_time": "2024-02-20T08:58:10.307999Z"
    }
   },
   "outputs": [
    {
     "name": "stdout",
     "output_type": "stream",
     "text": [
      "系数K为:8.236 %\n"
     ]
    }
   ],
   "source": [
    "# B-60 有首楼并有分立桥楼，参考课本p19表2.2.5\n",
    "K = 6.3 + (12.7 - 6.3)*(E_L - 0.1)/0.1\n",
    "print(\"系数K为:%.3f\"%K,\"%\")"
   ]
  },
  {
   "cell_type": "code",
   "execution_count": 44,
   "id": "47d1e2d0",
   "metadata": {
    "ExecuteTime": {
     "end_time": "2024-02-20T08:58:10.319710Z",
     "start_time": "2024-02-20T08:58:10.315806Z"
    }
   },
   "outputs": [
    {
     "name": "stdout",
     "output_type": "stream",
     "text": [
      "f4为-88 mm\n"
     ]
    }
   ],
   "source": [
    "# 船长L>=122m时，f4'=-1070mm\n",
    "f4p = -1070\n",
    "f4 = K/100 * f4p\n",
    "f4 = int(f4)\n",
    "print(f'f4为{f4} mm')"
   ]
  },
  {
   "cell_type": "markdown",
   "id": "a245ef84",
   "metadata": {},
   "source": [
    "### $f_5$"
   ]
  },
  {
   "cell_type": "markdown",
   "id": "0a81dee7",
   "metadata": {},
   "source": [
    "$$f_5=-(\\frac{S_F+S_A}{2}+S)(0.75-\\frac{l}{2L})$$\n",
    "$l$是位于船长L范围内的封闭上层建筑的总长度(m)  \n",
    "$S_F$是前半部舷弧的不足或多余数,$S_A$是后半段舷弧的不足或多余数  \n",
    "$S=S_p+S_f$,$S_p$或$S_f=\\frac{yL'}{3L}$，其中,$y$是尾垂线或首垂线处上层建筑的实际高度与标准高度之差(mm),$L'$是首楼或尾楼的平均封闭长度，取不大于$0.5L(m)$"
   ]
  },
  {
   "cell_type": "markdown",
   "id": "cb1788c5",
   "metadata": {},
   "source": [
    "首垂线舷弧数值如下  \n",
    "![首垂线舷弧](img/首垂线舷弧.png)\n",
    "尾垂线舷弧数值如下  \n",
    "![尾垂线舷弧](img/尾垂线舷弧.png)\n",
    "距离船尾L/3范围内的数值如下\n",
    "![距离船尾](img/距离船尾.png)\n",
    "距离船首L/3范围内的数值如下\n",
    "![距离船首](img/距离船首.png)"
   ]
  },
  {
   "cell_type": "code",
   "execution_count": 45,
   "id": "de2886ef",
   "metadata": {
    "ExecuteTime": {
     "end_time": "2024-02-20T08:58:10.326542Z",
     "start_time": "2024-02-20T08:58:10.321662Z"
    }
   },
   "outputs": [
    {
     "name": "stdout",
     "output_type": "stream",
     "text": [
      "\n",
      "尾垂线舷弧大小为               409mm\n",
      "距离尾垂线L/6处的舷弧大小为    0mm\n",
      "距离尾垂线L/3处的舷弧大小为    0mm\n",
      "距离尾垂线L/2处的舷弧大小为    0mm\n",
      "首垂线舷弧大小为               2171mm\n",
      "距离首垂线L/6处的舷弧大小为    609mm\n",
      "距离首垂线L/3处的舷弧大小为    0mm\n",
      "\n"
     ]
    }
   ],
   "source": [
    "# 舷弧修正\n",
    "# 尾垂线\n",
    "Lbp_real = 415 * D/D_parent # 尾垂线处的舷弧\n",
    "Lbp16_real = 0 # 距尾垂线L/6处的舷弧\n",
    "Lbp13_real = 0 # 距尾垂线L/3处的舷弧\n",
    "Lmid_real = 0 # 距尾垂线L/2处的舷弧\n",
    "# 首垂线\n",
    "Lfp_real = 2200 * D/D_parent # 首垂线处的舷弧\n",
    "Lfp16_real = 617 * D/D_parent # 距首垂线L/6处的舷弧\n",
    "Lfp13_real = 0 # 距首垂线L/3处的舷弧\n",
    "print(f\"\"\"\n",
    "尾垂线舷弧大小为               {int(Lbp_real+0.5)}mm\n",
    "距离尾垂线L/6处的舷弧大小为    {Lbp16_real}mm\n",
    "距离尾垂线L/3处的舷弧大小为    {Lbp13_real}mm\n",
    "距离尾垂线L/2处的舷弧大小为    {Lmid_real}mm\n",
    "首垂线舷弧大小为               {int(Lfp_real+0.5)}mm\n",
    "距离首垂线L/6处的舷弧大小为    {int(Lfp16_real+0.5)}mm\n",
    "距离首垂线L/3处的舷弧大小为    {Lfp13_real}mm\n",
    "\"\"\")"
   ]
  },
  {
   "cell_type": "code",
   "execution_count": 46,
   "id": "22c55e05",
   "metadata": {
    "ExecuteTime": {
     "end_time": "2024-02-20T08:58:10.332398Z",
     "start_time": "2024-02-20T08:58:10.327518Z"
    }
   },
   "outputs": [],
   "source": [
    "# 参考课本p20\n",
    "Lbp_std = 25*(Lpp/3 + 10)\n",
    "Lbp16_std  = 11.1*(Lpp/3+10)\n",
    "Lbp13_std = 2.8*(Lpp/3+10)\n",
    "Lmid_std = 0\n",
    "Lfp_std = 2*Lbp_std    \n",
    "Lfp16_std = 2*Lbp16_std\n",
    "Lfp13_std = 2*Lbp13_std"
   ]
  },
  {
   "cell_type": "code",
   "execution_count": 47,
   "id": "295ca048",
   "metadata": {
    "ExecuteTime": {
     "end_time": "2024-02-20T08:58:10.340206Z",
     "start_time": "2024-02-20T08:58:10.333375Z"
    },
    "scrolled": true
   },
   "outputs": [
    {
     "name": "stdout",
     "output_type": "stream",
     "text": [
      "\n",
      "SA大小为:   -630.18mm\n",
      "SF大小为:   -863.08mm\n",
      "\n"
     ]
    }
   ],
   "source": [
    "SA = 1*(Lbp_real - Lbp_std) + 3*(Lbp16_real-Lbp16_std) + 3*(Lbp13_real-Lbp13_std) + 1*(Lmid_real-Lmid_std)\n",
    "SA /= 8\n",
    "SA = round(SA,2)\n",
    "SF = 1*(Lfp_real - Lfp_std) + 3*(Lfp16_real-Lfp16_std) + 3*(Lfp13_real-Lfp13_std) + 1*(Lmid_real-Lmid_std)\n",
    "SF /= 8\n",
    "SF = round(SF,2)\n",
    "print(f\"\"\"\n",
    "SA大小为:   {SA}mm\n",
    "SF大小为:   {SF}mm\n",
    "\"\"\")"
   ]
  },
  {
   "cell_type": "markdown",
   "id": "a3439962",
   "metadata": {},
   "source": [
    "首垂线上层建筑高度如下\n",
    "![首垂线上层建筑](img/首垂线上层建筑.png)"
   ]
  },
  {
   "cell_type": "code",
   "execution_count": 48,
   "id": "68af6d8d",
   "metadata": {
    "ExecuteTime": {
     "end_time": "2024-02-20T08:58:10.348014Z",
     "start_time": "2024-02-20T08:58:10.341182Z"
    }
   },
   "outputs": [
    {
     "name": "stdout",
     "output_type": "stream",
     "text": [
      "\n",
      "Sp大小为   0mm\n",
      "Sf大小为   18.27mm\n",
      "S大小为    18.27mm\n",
      "\n"
     ]
    }
   ],
   "source": [
    "# 首垂线处上层建筑高度\n",
    "Hfp = 3318 * D/D_parent # 根据型深比缩放\n",
    "Hfp_std = 2300 # 课本p16,L>=125m,其他上层建筑类\n",
    "y = Hfp - Hfp_std\n",
    "L_ = E1/1000 # E1为首楼上层建筑有效长度;mm -> m\n",
    "Sf = y*L_/(3*Lpp)\n",
    "Sf = round(Sf,2)\n",
    "# 尾垂线无上层建筑，因而y为0，Sp为0\n",
    "Sp = 0\n",
    "S = round(Sp + Sf,2)\n",
    "print(f\"\"\"\n",
    "Sp大小为   {Sp}mm\n",
    "Sf大小为   {Sf}mm\n",
    "S大小为    {S}mm\n",
    "\"\"\")"
   ]
  },
  {
   "cell_type": "code",
   "execution_count": 49,
   "id": "7acafcf6",
   "metadata": {
    "ExecuteTime": {
     "end_time": "2024-02-20T08:58:10.353870Z",
     "start_time": "2024-02-20T08:58:10.348990Z"
    }
   },
   "outputs": [
    {
     "name": "stdout",
     "output_type": "stream",
     "text": [
      "船长范围内上层建筑总有效长度为28.03m\n"
     ]
    }
   ],
   "source": [
    "# 船长范围内上层建筑总有效长度\n",
    "l = (E1+E2)/1000 # mm->m\n",
    "print(\"船长范围内上层建筑总有效长度为%.2fm\"%l)"
   ]
  },
  {
   "cell_type": "code",
   "execution_count": 50,
   "id": "1df1ed31",
   "metadata": {
    "ExecuteTime": {
     "end_time": "2024-02-20T08:58:10.360702Z",
     "start_time": "2024-02-20T08:58:10.354846Z"
    }
   },
   "outputs": [
    {
     "name": "stdout",
     "output_type": "stream",
     "text": [
      "f5值为:498.83 mm\n"
     ]
    }
   ],
   "source": [
    "f5 = -((SF+SA)/2 + S)*(0.75 - l/2/Lpp)\n",
    "f5 = round(f5,2)\n",
    "print(\"f5值为:%.2f mm\"%f5)"
   ]
  },
  {
   "cell_type": "markdown",
   "id": "a13871e2",
   "metadata": {},
   "source": [
    "### 汇总"
   ]
  },
  {
   "cell_type": "code",
   "execution_count": 51,
   "id": "e2324a25",
   "metadata": {
    "ExecuteTime": {
     "end_time": "2024-02-20T08:58:10.367534Z",
     "start_time": "2024-02-20T08:58:10.361679Z"
    }
   },
   "outputs": [
    {
     "name": "stdout",
     "output_type": "stream",
     "text": [
      "\n",
      "f0值为:    3053mm\n",
      "f1值为:    0mm\n",
      "f2值为:    381mm\n",
      "f3值为:    1248mm\n",
      "f4值为:    -88mm\n",
      "f5值为:    498.83mm\n",
      "\n"
     ]
    }
   ],
   "source": [
    "print(f\"\"\"\n",
    "f0值为:    {f0}mm\n",
    "f1值为:    {f1}mm\n",
    "f2值为:    {f2}mm\n",
    "f3值为:    {f3}mm\n",
    "f4值为:    {f4}mm\n",
    "f5值为:    {f5}mm\n",
    "\"\"\")"
   ]
  },
  {
   "cell_type": "code",
   "execution_count": 52,
   "id": "5ba144a8",
   "metadata": {
    "ExecuteTime": {
     "end_time": "2024-02-20T08:58:10.373390Z",
     "start_time": "2024-02-20T08:58:10.368510Z"
    }
   },
   "outputs": [
    {
     "name": "stdout",
     "output_type": "stream",
     "text": [
      "夏季最小干舷为:5092.83 mm\n"
     ]
    }
   ],
   "source": [
    "# 夏季最小干舷\n",
    "Fmin = f0 + f1 + f2 + f3 + f4 + f5\n",
    "print(\"夏季最小干舷为:%.2f mm\"%Fmin)"
   ]
  },
  {
   "cell_type": "code",
   "execution_count": 53,
   "id": "595f6f82",
   "metadata": {
    "ExecuteTime": {
     "end_time": "2024-02-20T08:58:10.380222Z",
     "start_time": "2024-02-20T08:58:10.374366Z"
    }
   },
   "outputs": [
    {
     "name": "stdout",
     "output_type": "stream",
     "text": [
      "\n",
      "实际干舷大小为:          5230.0mm\n",
      "满足夏季最小干舷要求:    True\n",
      "\n"
     ]
    }
   ],
   "source": [
    "# 实际干舷\n",
    "Freal = round((D-d)*1000,2)\n",
    "print(f\"\"\"\n",
    "实际干舷大小为:          {Freal}mm\n",
    "满足夏季最小干舷要求:    {Freal>=Fmin}\n",
    "\"\"\")"
   ]
  },
  {
   "cell_type": "markdown",
   "id": "7d5f9f41",
   "metadata": {},
   "source": [
    "## 最小船首高度\n",
    "$h_b=(6075L_{100}-1875L_{100}^2+200L_{100}^3)\\times[2.08+0.609C_B-1.603C_{WF}-0.0129(L/d_1)]$  \n",
    "$C_{WF}$是0.85$D$水线的前半体($L/2$)水线面面积系数,$d_1=0.85D$"
   ]
  },
  {
   "cell_type": "markdown",
   "id": "8eee5c98",
   "metadata": {},
   "source": [
    "16m水线面图如下\n",
    "![16m水线](img/16水线.png)\n",
    "17m水线面图如下\n",
    "![17m水线](img/17水线.png)"
   ]
  },
  {
   "cell_type": "code",
   "execution_count": 54,
   "id": "0362af10",
   "metadata": {
    "ExecuteTime": {
     "end_time": "2024-02-20T08:58:10.389006Z",
     "start_time": "2024-02-20T08:58:10.381199Z"
    }
   },
   "outputs": [
    {
     "name": "stdout",
     "output_type": "stream",
     "text": [
      "0.85D处的前半水线面系数为:0.914\n"
     ]
    }
   ],
   "source": [
    "from scipy.integrate import simpson\n",
    "# 前体水线面面积系数，参考母船\n",
    "# 辛普森法，以下单位均为mm\n",
    "# 16m水线处\n",
    "delta = 5450\n",
    "tmpB = 16130 # 16m水线处的半宽值:mm\n",
    "H_list = [15962,15458,14469,12749,10158,6337,152] # #17-#20,间隔0.5站\n",
    "A1 = simpson(H_list,dx=delta)\n",
    "A2 = delta*2*7*tmpB # #10-#17，近似为矩形\n",
    "A = (A1 + A2)*2/1e6\n",
    "tmpB /= 1000\n",
    "Cwf1 = A/(Lpp_parent/2*tmpB*2)\n",
    "Cwf1 = round(Cwf1,3)\n",
    "# 17m水线处\n",
    "tmpB = 16130 # mm\n",
    "H_list = [16030,15613,14716,13114,10623,6762,562]# #17-#20,间隔0.5站\n",
    "A1 = simpson(H_list,dx=delta)\n",
    "A2 = delta*2*7*tmpB # #10-#17，近似为矩形\n",
    "A = (A1 + A2)*2/1e6\n",
    "tmpB /= 1000\n",
    "Cwf2 = A/(Lpp_parent/2*tmpB*2)\n",
    "Cwf2 = round(Cwf2,3)\n",
    "# 母船0.85D即16.66m水线处的前半水线面系数为\n",
    "Cwf = Cwf1 + (Cwf2-Cwf1)*(16.66-16)/1\n",
    "Cwf = round(Cwf,3)\n",
    "print(\"0.85D处的前半水线面系数为:%.3f\"%Cwf)"
   ]
  },
  {
   "cell_type": "code",
   "execution_count": 55,
   "id": "6e3b6308",
   "metadata": {
    "ExecuteTime": {
     "end_time": "2024-02-20T08:58:10.410990Z",
     "start_time": "2024-02-20T08:58:10.389982Z"
    }
   },
   "outputs": [
    {
     "name": "stdout",
     "output_type": "stream",
     "text": [
      "最小船首高度为6151 mm\n"
     ]
    }
   ],
   "source": [
    "L100 = Lpp/100\n",
    "d1 = 0.85*D\n",
    "Fb = (6075 * L100 - 1875 * L100**2 + 200 * L100**3) * (2.08 + 0.609*Cb - 1.603*Cwf - 0.0129*(Lpp/d1))\n",
    "Fb = int(Fb+0.5)\n",
    "print(f'最小船首高度为{Fb} mm')"
   ]
  },
  {
   "cell_type": "markdown",
   "id": "ccb87b55",
   "metadata": {},
   "source": [
    "法规规定，如果要求的船首高度是用舷弧达到的，则舷弧自首垂线起至少延伸到船长的15%处，如果是设置上层建筑达到的，则上层建筑至少延伸到首垂线后0.07L处"
   ]
  },
  {
   "cell_type": "markdown",
   "id": "8c65a8c4",
   "metadata": {},
   "source": [
    "![首楼2](img/首楼.png)"
   ]
  },
  {
   "cell_type": "code",
   "execution_count": 56,
   "id": "f592f803",
   "metadata": {
    "ExecuteTime": {
     "end_time": "2024-02-20T08:58:10.416844Z",
     "start_time": "2024-02-20T08:58:10.411962Z"
    }
   },
   "outputs": [
    {
     "name": "stdout",
     "output_type": "stream",
     "text": [
      "满足要求:  False\n"
     ]
    }
   ],
   "source": [
    "# 如果以上层建筑来达到\n",
    "Lsl = 12270 # 首楼长度:mm\n",
    "print(\"满足要求: \",Lsl/1000>=0.07*Lpp)"
   ]
  },
  {
   "cell_type": "markdown",
   "id": "ab8f1629",
   "metadata": {},
   "source": [
    "![舷弧](img/舷弧.png)"
   ]
  },
  {
   "cell_type": "code",
   "execution_count": 57,
   "id": "973c8ba5",
   "metadata": {
    "ExecuteTime": {
     "end_time": "2024-02-20T08:58:10.423673Z",
     "start_time": "2024-02-20T08:58:10.417817Z"
    }
   },
   "outputs": [
    {
     "name": "stdout",
     "output_type": "stream",
     "text": [
      "满足要求: True\n"
     ]
    }
   ],
   "source": [
    "# 如果以舷弧来达到\n",
    "Lxh = 60139 # mm\n",
    "print(\"满足要求:\",Lxh/1000>=0.15*Lpp)"
   ]
  },
  {
   "cell_type": "code",
   "execution_count": 58,
   "id": "fd15b7eb",
   "metadata": {
    "ExecuteTime": {
     "end_time": "2024-02-20T08:58:10.428553Z",
     "start_time": "2024-02-20T08:58:10.424650Z"
    }
   },
   "outputs": [
    {
     "name": "stdout",
     "output_type": "stream",
     "text": [
      "满足船首最小高度要求: True\n"
     ]
    }
   ],
   "source": [
    "# 自首垂线夏季最小干舷水线至露天甲板上边垂直距离\n",
    "H1 = 2200 * D / D_parent # 根据母船首垂线舷弧缩放\n",
    "H = H1 + Fmin # 船首高度\n",
    "print(\"满足船首最小高度要求:\",H>Fb)"
   ]
  },
  {
   "cell_type": "markdown",
   "id": "8011b130",
   "metadata": {},
   "source": [
    "## 储备浮力"
   ]
  },
  {
   "cell_type": "markdown",
   "id": "ccdf095a",
   "metadata": {},
   "source": [
    "测投影面积应不小于  \n",
    "$$\n",
    "F_A = \\frac{L}{1000}\\{0.15[f_0(\\frac{C_B+0.68}{1.36}-1)+f_3]+4(\\frac{L}{3}+10)\\}\n",
    "$$"
   ]
  },
  {
   "cell_type": "code",
   "execution_count": 59,
   "id": "2b685aaa",
   "metadata": {
    "ExecuteTime": {
     "end_time": "2024-02-20T08:58:10.437342Z",
     "start_time": "2024-02-20T08:58:10.429529Z"
    }
   },
   "outputs": [
    {
     "name": "stdout",
     "output_type": "stream",
     "text": [
      "测投影面积最小为:122.93 m2\n"
     ]
    }
   ],
   "source": [
    "FA = Lpp/1000 * (0.15 * (f0*((Cb+0.68)/1.36-1)+f3) + 4*(Lpp/3+10))\n",
    "FA = round(FA,2)\n",
    "print(\"测投影面积最小为:%.2f m2\"%FA)"
   ]
  },
  {
   "cell_type": "markdown",
   "id": "1d4896ff",
   "metadata": {},
   "source": [
    "![A2](img/A2.png)"
   ]
  },
  {
   "cell_type": "markdown",
   "id": "34f7a377",
   "metadata": {},
   "source": [
    "![A3](img/A3.png)"
   ]
  },
  {
   "cell_type": "code",
   "execution_count": 60,
   "id": "dc43f8f2",
   "metadata": {
    "ExecuteTime": {
     "end_time": "2024-02-20T08:58:10.445145Z",
     "start_time": "2024-02-20T08:58:10.438314Z"
    }
   },
   "outputs": [
    {
     "name": "stdout",
     "output_type": "stream",
     "text": [
      "\n",
      "测投影面积为            234.48 m2\n",
      "满足首部储备浮力要求    True\n",
      "\n"
     ]
    }
   ],
   "source": [
    "# 参考课本p21\n",
    "A1 = 0.15*Lpp * Fmin/1000 # m2\n",
    "# 将A2分割为15份，每份间隔0.01L=2180mm\n",
    "H2_list = [712,769,828,948,1051,1150,1230,1318,1453,1564,1671,1764,1866,1975,2081,2200]\n",
    "dx = 2180 # mm\n",
    "A2 = simpson(H2_list,dx=dx)/1e6\n",
    "A2 = A2 * D * Lpp / D_parent / Lpp_parent # 母船数据缩放到子船\n",
    "# 将A3分割为5份，每份间隔2454mm\n",
    "H3_list = [2015,2030,2100,2143,2176,2244]\n",
    "dx = 2454 # mm\n",
    "A3 = simpson(H3_list,dx=dx)/1e6\n",
    "A3 = A3 * D * Lpp / D_parent / Lpp_parent\n",
    "\n",
    "A = round(A1+A2+A3,2)\n",
    "print(f\"\"\"\n",
    "测投影面积为            {A} m2\n",
    "满足首部储备浮力要求    {A>FA}\n",
    "\"\"\")"
   ]
  }
 ],
 "metadata": {
  "kernelspec": {
   "display_name": "Python 3 (ipykernel)",
   "language": "python",
   "name": "python3"
  },
  "language_info": {
   "codemirror_mode": {
    "name": "ipython",
    "version": 3
   },
   "file_extension": ".py",
   "mimetype": "text/x-python",
   "name": "python",
   "nbconvert_exporter": "python",
   "pygments_lexer": "ipython3",
   "version": "3.9.12"
  },
  "toc": {
   "base_numbering": 1,
   "nav_menu": {},
   "number_sections": true,
   "sideBar": true,
   "skip_h1_title": false,
   "title_cell": "Table of Contents",
   "title_sidebar": "Contents",
   "toc_cell": false,
   "toc_position": {},
   "toc_section_display": true,
   "toc_window_display": false
  }
 },
 "nbformat": 4,
 "nbformat_minor": 5
}
