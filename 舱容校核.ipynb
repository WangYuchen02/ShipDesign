{
 "cells": [
  {
   "cell_type": "markdown",
   "id": "ea0c9b83",
   "metadata": {},
   "source": [
    "# 舱容估算"
   ]
  },
  {
   "cell_type": "markdown",
   "id": "265c8482",
   "metadata": {},
   "source": [
    "## 母型船资料"
   ]
  },
  {
   "cell_type": "code",
   "execution_count": 14,
   "id": "99996604",
   "metadata": {
    "ExecuteTime": {
     "end_time": "2024-02-19T10:59:02.722699Z",
     "start_time": "2024-02-19T10:59:02.718794Z"
    }
   },
   "outputs": [],
   "source": [
    "d_parent = 14.3    # 结构吃水:m\n",
    "Lpp_parent = 218   # 垂线间长:m\n",
    "B_parent = 32.26   # 型宽:m\n",
    "D_parent = 19.60   # 型深:m\n",
    "CB_parent = 0.85   # 方形系数\n",
    "CW_parent = 0.929  # 结构吃水处的水线面系数\n",
    "CM_parent = 0.997  # 中横剖面系数\n",
    "VB_parent = 18787.3# 母型船压载水仓容积:m^3\n",
    "DW_parent = 75000  # 母型船载重量"
   ]
  },
  {
   "cell_type": "markdown",
   "id": "34403162",
   "metadata": {},
   "source": [
    "## 设计船资料"
   ]
  },
  {
   "cell_type": "code",
   "execution_count": 15,
   "id": "5d4d95ea",
   "metadata": {
    "ExecuteTime": {
     "end_time": "2024-02-19T10:59:16.168188Z",
     "start_time": "2024-02-19T10:59:16.164282Z"
    }
   },
   "outputs": [],
   "source": [
    "d = 14.15   # 结构吃水:m\n",
    "Lpp = 215.17 # 垂线间长:m\n",
    "B = 31.84   # 型宽:m\n",
    "D = 19.34   # 型深:m\n",
    "CB = 0.85   # 方形系数\n",
    "DW = 72100 # 载重量:t\n",
    "LW = 12498.28 # 考虑了排水量裕度的空船重量:t\n",
    "delta = 84610.58 # 排水量:t\n",
    "Wc = 68338.26 # 货物重量:t\n",
    "resWeight = DW - Wc # 除货物重量外的载重量"
   ]
  },
  {
   "cell_type": "markdown",
   "id": "1d3243a5",
   "metadata": {},
   "source": [
    "## 货舱容积"
   ]
  },
  {
   "cell_type": "markdown",
   "id": "328a4890",
   "metadata": {},
   "source": [
    "根据设计指导书p33，货舱容积计算公式为  \n",
    "$V_C=W_C\\cdot \\mu_C/K_C$"
   ]
  },
  {
   "cell_type": "code",
   "execution_count": 16,
   "id": "4e1d475e",
   "metadata": {
    "ExecuteTime": {
     "end_time": "2024-02-19T10:59:17.862794Z",
     "start_time": "2024-02-19T10:59:17.858891Z"
    }
   },
   "outputs": [
    {
     "name": "stdout",
     "output_type": "stream",
     "text": [
      "需要货舱容积86538.9 m3\n"
     ]
    }
   ],
   "source": [
    "# 载货量 根据重量计算.ipynb\n",
    "uc = 1.26 # 积载因数，参考指导书p33，单位m^3/t\n",
    "Kc = 0.995 # 容积折扣系数\n",
    "Vc = Wc*uc/Kc\n",
    "Vc = round(Vc,2)\n",
    "print(\"需要货舱容积%s m3\"%Vc)"
   ]
  },
  {
   "cell_type": "markdown",
   "id": "3a9579ad",
   "metadata": {},
   "source": [
    "## 压载水舱容"
   ]
  },
  {
   "cell_type": "markdown",
   "id": "90f75cb1",
   "metadata": {},
   "source": [
    "参考母型船，参考课本p82 $V_B=W_B=k_B\\cdot DW$公式"
   ]
  },
  {
   "cell_type": "code",
   "execution_count": 17,
   "id": "ccc30155",
   "metadata": {
    "ExecuteTime": {
     "end_time": "2024-02-19T10:59:19.937573Z",
     "start_time": "2024-02-19T10:59:19.933669Z"
    }
   },
   "outputs": [
    {
     "name": "stdout",
     "output_type": "stream",
     "text": [
      "压载水舱容积为:18060.86m3\n"
     ]
    }
   ],
   "source": [
    "kb_parent = VB_parent/DW_parent\n",
    "VB = round(kb_parent*DW,2)\n",
    "print(f\"压载水舱容积为:{VB}m3\")"
   ]
  },
  {
   "cell_type": "markdown",
   "id": "4568a57b",
   "metadata": {},
   "source": [
    "## 机舱容积"
   ]
  },
  {
   "cell_type": "markdown",
   "id": "c8b27dbf",
   "metadata": {
    "ExecuteTime": {
     "end_time": "2023-12-14T08:38:27.164465Z",
     "start_time": "2023-12-14T08:38:27.160561Z"
    }
   },
   "source": [
    "课本p82\n",
    "$$\n",
    "V_M = K_ML_MB(D-h_{DM})\n",
    "$$"
   ]
  },
  {
   "cell_type": "code",
   "execution_count": 18,
   "id": "5603bf16",
   "metadata": {
    "ExecuteTime": {
     "end_time": "2024-02-19T10:59:21.936909Z",
     "start_time": "2024-02-19T10:59:21.933980Z"
    }
   },
   "outputs": [],
   "source": [
    "# 机舱布局参考母船，"
   ]
  },
  {
   "cell_type": "markdown",
   "id": "431f01fc",
   "metadata": {},
   "source": [
    "## 油水舱舱容"
   ]
  },
  {
   "cell_type": "markdown",
   "id": "1c446ada",
   "metadata": {},
   "source": [
    "### 淡水舱"
   ]
  },
  {
   "cell_type": "code",
   "execution_count": 19,
   "id": "f3ce2f73",
   "metadata": {
    "ExecuteTime": {
     "end_time": "2024-02-19T10:59:30.041742Z",
     "start_time": "2024-02-19T10:59:30.037838Z"
    }
   },
   "outputs": [
    {
     "name": "stdout",
     "output_type": "stream",
     "text": [
      "淡水舱容积为400.22 m3\n"
     ]
    }
   ],
   "source": [
    "W_water = 386.21 # t\n",
    "rho_water = 1 # t/m3\n",
    "kc_water = 0.965 # 淡水舱位于尾尖舱 0.96-0.97\n",
    "V_water = round(W_water/rho_water/kc_water,2)\n",
    "print('淡水舱容积为%s m3'%V_water)"
   ]
  },
  {
   "cell_type": "markdown",
   "id": "060e89cb",
   "metadata": {},
   "source": [
    "### 燃油类"
   ]
  },
  {
   "cell_type": "code",
   "execution_count": 20,
   "id": "feb6f32b",
   "metadata": {
    "ExecuteTime": {
     "end_time": "2024-02-19T10:59:33.943955Z",
     "start_time": "2024-02-19T10:59:33.937594Z"
    }
   },
   "outputs": [
    {
     "name": "stdout",
     "output_type": "stream",
     "text": [
      "\n",
      "重油舱容为   3617.72 m3\n",
      "重油重量为   2968.97 t\n",
      "轻油舱容为   123.39 m3\n",
      "轻油重量为   99.7 t\n",
      "\n"
     ]
    }
   ],
   "source": [
    "# 重油舱容母型船为2894.22，轻油（柴油）舱容为101.76\n",
    "# 燃油总量为3068.67t\n",
    "oil_weight = 3068.67\n",
    "# 重油密度取0.89,轻油取0.85\n",
    "# 换算得二者的重量比为\n",
    "ph = 2894.22*0.89/(2894.22*0.89+101.76*0.85)\n",
    "pl = 101.76*0.85/(2894.22*0.89+101.76*0.85)\n",
    "# 重油\n",
    "W_heavy_oil = round(ph*oil_weight,2)\n",
    "rho_heavy_oil = 0.89\n",
    "kc_heavy_oil = 0.975*0.975*0.97 # 油舱布置在顶边舱，取折扣系数为0.975,膨胀系数取0.975，管系占据3%容积\n",
    "V_heavy_oil = round(W_heavy_oil/rho_heavy_oil/kc_heavy_oil,2)\n",
    "# 轻油\n",
    "W_light_oil = round(pl*oil_weight,2)\n",
    "rho_light_oil = 0.85\n",
    "kc_light_oil = 0.975*0.975 # 双层底折扣系数取0.975,膨胀系数取0.975\n",
    "V_light_oil = round(W_light_oil/rho_light_oil/kc_light_oil,2)\n",
    "print(f'''\n",
    "重油舱容为   {V_heavy_oil} m3\n",
    "重油重量为   {W_heavy_oil} t\n",
    "轻油舱容为   {V_light_oil} m3\n",
    "轻油重量为   {W_light_oil} t\n",
    "''')"
   ]
  },
  {
   "cell_type": "markdown",
   "id": "6388cbe7",
   "metadata": {},
   "source": [
    "### 滑油类"
   ]
  },
  {
   "cell_type": "code",
   "execution_count": 21,
   "id": "70082aa9",
   "metadata": {
    "ExecuteTime": {
     "end_time": "2024-02-19T10:59:35.754835Z",
     "start_time": "2024-02-19T10:59:35.750930Z"
    }
   },
   "outputs": [
    {
     "name": "stdout",
     "output_type": "stream",
     "text": [
      "\n",
      "滑油舱容为144.96 m3\n",
      "\n"
     ]
    }
   ],
   "source": [
    "# 润滑油重量122.75t\n",
    "# 长城润滑油0.9t/m3\n",
    "W_lube = 122.75 # t\n",
    "rho_lube = 0.9\n",
    "kc_lube = 0.97 # 布置在双层底\n",
    "kc2_lube = 0.97 # 膨胀系数\n",
    "V_lube = W_lube/rho_lube/kc_lube/kc2_lube\n",
    "V_lube = round(V_lube,2)\n",
    "print(f'''\n",
    "滑油舱容为{V_lube} m3\n",
    "''')"
   ]
  },
  {
   "cell_type": "code",
   "execution_count": 22,
   "id": "76067c58",
   "metadata": {
    "ExecuteTime": {
     "end_time": "2024-02-19T10:59:39.686156Z",
     "start_time": "2024-02-19T10:59:39.682265Z"
    }
   },
   "outputs": [
    {
     "name": "stdout",
     "output_type": "stream",
     "text": [
      "燃油与滑油舱的总容积为3886.07 m3\n"
     ]
    }
   ],
   "source": [
    "VOW = V_heavy_oil+V_light_oil+V_lube\n",
    "print(\"燃油与滑油舱的总容积为%.2f m3\"%VOW)"
   ]
  },
  {
   "cell_type": "markdown",
   "id": "97da42cf",
   "metadata": {},
   "source": [
    "### 其他油水类"
   ]
  },
  {
   "cell_type": "code",
   "execution_count": 23,
   "id": "9ec39081",
   "metadata": {
    "ExecuteTime": {
     "end_time": "2024-02-19T10:59:40.770175Z",
     "start_time": "2024-02-19T10:59:40.767248Z"
    }
   },
   "outputs": [],
   "source": [
    "# 暂不校核"
   ]
  },
  {
   "cell_type": "markdown",
   "id": "25e99d84",
   "metadata": {},
   "source": [
    "### 货舱段所需总容积"
   ]
  },
  {
   "cell_type": "code",
   "execution_count": 24,
   "id": "90947604",
   "metadata": {
    "ExecuteTime": {
     "end_time": "2024-02-19T10:59:45.469512Z",
     "start_time": "2024-02-19T10:59:45.465609Z"
    }
   },
   "outputs": [
    {
     "name": "stdout",
     "output_type": "stream",
     "text": [
      "\n",
      "货舱段所需总容积为108485.83 m3\n",
      "\n"
     ]
    }
   ],
   "source": [
    "V_sum = Vc+VB+V_heavy_oil+V_light_oil+V_lube\n",
    "V_need_sum = round(V_sum,2)\n",
    "print(f'''\n",
    "货舱段所需总容积为{V_need_sum} m3\n",
    "''')"
   ]
  },
  {
   "cell_type": "markdown",
   "id": "e4349211",
   "metadata": {},
   "source": [
    "# 全船舱容校核"
   ]
  },
  {
   "cell_type": "markdown",
   "id": "0827dda5",
   "metadata": {},
   "source": [
    "## 主船体总容积估算"
   ]
  },
  {
   "cell_type": "markdown",
   "id": "7d14101d",
   "metadata": {},
   "source": [
    "$$\n",
    "V_H = C_{BD}L_{PP}BD_1\\\\\n",
    "C_{BD}=C_B+(1-C_B)(D-d)/(C_1d)\\\\\n",
    "D_1=D+S_M+0.7C\n",
    "$$\n",
    "其中，$C_1$为3，$S_M$为相当舷弧高，可近似取为首尾舷弧之和的1/6,C为梁拱值，可取C=(0.01-0.02)B"
   ]
  },
  {
   "cell_type": "code",
   "execution_count": 25,
   "id": "acd861bb",
   "metadata": {
    "ExecuteTime": {
     "end_time": "2024-02-19T11:01:32.292828Z",
     "start_time": "2024-02-19T11:01:32.287949Z"
    }
   },
   "outputs": [],
   "source": [
    "# 母船首尾舷弧\n",
    "hu_f = 2300*D/D_parent # 根据母船型线图进行换算，艏舷弧:mm\n",
    "hu_a = 454*D/D_parent  # 艉舷弧:mm\n",
    "C1 = 3\n",
    "SM = (hu_f+hu_a)/6/1000 # mm -> m\n",
    "C = 0.01*B\n",
    "D1 = D + SM + 0.7*C\n",
    "C_BD = CB+(1-CB)*(D-d)/(C1*d)"
   ]
  },
  {
   "cell_type": "code",
   "execution_count": 41,
   "id": "fd62b7c0",
   "metadata": {
    "ExecuteTime": {
     "end_time": "2024-02-19T12:10:09.082383Z",
     "start_time": "2024-02-19T12:10:09.079456Z"
    }
   },
   "outputs": [
    {
     "name": "stdout",
     "output_type": "stream",
     "text": [
      "主船体总容积为119074.00 m3\n"
     ]
    }
   ],
   "source": [
    "VH = C_BD*Lpp*B*D1\n",
    "print(\"主船体总容积为%.2f m3\"%VH)"
   ]
  },
  {
   "cell_type": "markdown",
   "id": "f7e76b3c",
   "metadata": {},
   "source": [
    "## 货舱容积估算\n",
    "$$\n",
    "V_{TC}=CL_{PP}BD\n",
    "$$"
   ]
  },
  {
   "cell_type": "code",
   "execution_count": 29,
   "id": "f717f8fe",
   "metadata": {
    "ExecuteTime": {
     "end_time": "2024-02-19T11:04:40.791665Z",
     "start_time": "2024-02-19T11:04:40.786785Z"
    }
   },
   "outputs": [
    {
     "data": {
      "text/plain": [
       "86759.76009583168"
      ]
     },
     "execution_count": 29,
     "metadata": {},
     "output_type": "execute_result"
    }
   ],
   "source": [
    "VTC_parent =  90257.65 # 母船货舱容积\n",
    "C = VTC_parent/Lpp_parent/B_parent/D_parent\n",
    "# 设计船的货仓舱容\n",
    "VTC = C*Lpp*B*D\n",
    "VTC"
   ]
  },
  {
   "cell_type": "markdown",
   "id": "62c76863",
   "metadata": {},
   "source": [
    "## 双层底舱容估算"
   ]
  },
  {
   "cell_type": "markdown",
   "id": "d5d8b1af",
   "metadata": {},
   "source": [
    "$$\n",
    "V_D=L_{PP}Bh_D[C_B-0.4(\\frac{d-h_D}{d})^2\\sqrt{1-C_B}]\n",
    "$$"
   ]
  },
  {
   "cell_type": "markdown",
   "id": "e4c95544",
   "metadata": {
    "ExecuteTime": {
     "end_time": "2024-02-19T11:13:42.802818Z",
     "start_time": "2024-02-19T11:13:42.797939Z"
    }
   },
   "source": [
    "下图为母船的双层底高度数据  \n",
    "![双层底](img/双层底高度.png)"
   ]
  },
  {
   "cell_type": "code",
   "execution_count": 31,
   "id": "0b41a088",
   "metadata": {
    "ExecuteTime": {
     "end_time": "2024-02-19T11:21:06.412164Z",
     "start_time": "2024-02-19T11:21:06.407284Z"
    }
   },
   "outputs": [
    {
     "name": "stdout",
     "output_type": "stream",
     "text": [
      "双层底舱容为8731.11\n"
     ]
    }
   ],
   "source": [
    "# 机舱双层底高度设计船与母船取相同值\n",
    "h1 = 2265 # mm\n",
    "L1 = 24 * 0.8 # 24个肋位，肋距为800mm\n",
    "# 货舱区域设计船双层底高度根据母船与设计船型深比值进行折减\n",
    "h2 = int(1710 * D / D_parent)\n",
    "L2 = 208 * 0.85 # 208个肋位，肋距为850mm\n",
    "\n",
    "hD = (h1*L1+h2*L2)/(L1+L2)/1000 # 货舱与机舱下双层底加权取平均计算平均双层底高度\n",
    "VD = Lpp*B*hD*(CB-0.4*(1-hD/d)**2*(1-CB)**0.5)\n",
    "print(\"双层底舱容为%.2f\"%VD)"
   ]
  },
  {
   "cell_type": "markdown",
   "id": "1f215a94",
   "metadata": {},
   "source": [
    "## 舱口围板区域容积估算"
   ]
  },
  {
   "cell_type": "markdown",
   "id": "81d3f847",
   "metadata": {},
   "source": [
    "舱口围板尺寸如下：  \n",
    "![围板俯视图](img/舱口围板俯视图.png)\n",
    "![围板侧视图](img/舱口围板侧视图.png)"
   ]
  },
  {
   "cell_type": "code",
   "execution_count": 33,
   "id": "ac97b830",
   "metadata": {
    "ExecuteTime": {
     "end_time": "2024-02-19T11:32:06.642941Z",
     "start_time": "2024-02-19T11:32:06.638531Z"
    }
   },
   "outputs": [
    {
     "name": "stdout",
     "output_type": "stream",
     "text": [
      "\n",
      "舱口围板1型尺寸为:    16315*15594*2000\n",
      "舱口围板2型尺寸为:    16315*13225*2000\n",
      "舱口围板区域容积为:    3484.69\n",
      "\n"
     ]
    }
   ],
   "source": [
    "# 参考母型船数据，进行缩放,舱口的长宽高数据为\n",
    "l = 16.53*Lpp/Lpp_parent # 围板长度:m\n",
    "b1 = 15.8*B/B_parent # 围板宽度,6个舱口为该尺寸:m\n",
    "b2 = 13.4*B/B_parent # 围板宽度,1个舱口为该尺寸:m\n",
    "h = 2 # 围板高度，不进行缩放:m\n",
    "\n",
    "VU = 6*l*b1*h + l*b2*h\n",
    "VU = round(VU,2)\n",
    "VU,l,b1,b2,h\n",
    "print(f\"\"\"\n",
    "舱口围板1型尺寸为:    {int(l*1000)}*{int(b1*1000)}*2000\n",
    "舱口围板2型尺寸为:    {int(l*1000)}*{int(b2*1000)}*2000\n",
    "舱口围板区域容积为:    {VU}\n",
    "\"\"\")"
   ]
  },
  {
   "cell_type": "markdown",
   "id": "6bd1af87",
   "metadata": {},
   "source": [
    "## 边舱容积估算"
   ]
  },
  {
   "cell_type": "markdown",
   "id": "c63f7ab7",
   "metadata": {},
   "source": [
    "![边舱](img/货舱剖面.png)"
   ]
  },
  {
   "cell_type": "code",
   "execution_count": 64,
   "id": "bf33e9b5",
   "metadata": {
    "ExecuteTime": {
     "end_time": "2024-02-19T13:27:22.956136Z",
     "start_time": "2024-02-19T13:27:22.949305Z"
    }
   },
   "outputs": [
    {
     "name": "stdout",
     "output_type": "stream",
     "text": [
      "\n",
      "S1区域面积为:      20.31m2\n",
      "S2区域面积为:      14.17m2\n",
      "S3区域面积为:      8.78m2\n",
      "边舱区域容积为:    14703.92m3\n",
      "\n"
     ]
    }
   ],
   "source": [
    "import math\n",
    "# 母船边舱面积\n",
    "# 顶边舱\n",
    "S11 = (1300 + 3689*math.sqrt(3) + 1300) * 3689 /2 / 1e6\n",
    "S12 = (760 + 3900 - 3689) * (1300 + 3689*math.sqrt(3)) /2 / 1e6\n",
    "S1 = S11 + S12\n",
    "S1 = round(S1,2)\n",
    "# 双壳边舱\n",
    "S2 = 10900 * 1300 / 1e6\n",
    "S2 = round(S2,2)\n",
    "# 底边舱\n",
    "S31 = (1300 + B_parent/2*1000 - 11745) * (4800 - 1710) /2 /1e6\n",
    "S32 = 0#math.pi * 1.71**2 / 4 # 双层底计算中似乎有S32部分\n",
    "S33 = 0#(B_parent/2*1000-11745-1710) * 1710 / 1e6 # 双层底计算中似乎有S33部分\n",
    "S3 = S31 + S32 + S33\n",
    "S3 = round(S3,2)\n",
    "\n",
    "S = round(2*(S1+S2+S3),2) # 两边均计算\n",
    "Lg = 208*0.85 # 货舱区域长度\n",
    "VO_parent = round(S*Lg,2)\n",
    "# 尺度缩放\n",
    "VO = VO_parent*B*D*Lpp/B_parent/D_parent/Lpp_parent\n",
    "VO = round(VO,2)\n",
    "print(f\"\"\"\n",
    "S1区域面积为:      {S1}m2\n",
    "S2区域面积为:      {S2}m2\n",
    "S3区域面积为:      {S3}m2\n",
    "边舱区域容积为:    {VO}m3\n",
    "\"\"\")"
   ]
  },
  {
   "cell_type": "markdown",
   "id": "44c66a26",
   "metadata": {},
   "source": [
    "## 全船容积校核"
   ]
  },
  {
   "cell_type": "code",
   "execution_count": 65,
   "id": "54203430",
   "metadata": {
    "ExecuteTime": {
     "end_time": "2024-02-19T13:27:24.626069Z",
     "start_time": "2024-02-19T13:27:24.622165Z"
    }
   },
   "outputs": [
    {
     "name": "stdout",
     "output_type": "stream",
     "text": [
      "\n",
      "需要的船体容积为     105001.14m3\n",
      "船体容积大于所需容积 True\n",
      "\n"
     ]
    }
   ],
   "source": [
    "V_need = Vc + VB + VOW - VU\n",
    "V_need = round(V_need,2)\n",
    "print(f\"\"\"\n",
    "需要的船体容积为     {V_need}m3\n",
    "船体容积大于所需容积 {VH>V_need}\n",
    "\"\"\")"
   ]
  },
  {
   "cell_type": "markdown",
   "id": "3128f997",
   "metadata": {},
   "source": [
    "# 局部舱容校核"
   ]
  },
  {
   "cell_type": "markdown",
   "id": "7ce72752",
   "metadata": {},
   "source": [
    "## 货舱舱容校核"
   ]
  },
  {
   "cell_type": "markdown",
   "id": "64394a82",
   "metadata": {},
   "source": [
    "![货舱容积计算](img/货舱容积计算.png)"
   ]
  },
  {
   "cell_type": "code",
   "execution_count": 57,
   "id": "8e17f249",
   "metadata": {
    "ExecuteTime": {
     "end_time": "2024-02-19T12:40:56.533672Z",
     "start_time": "2024-02-19T12:40:56.529769Z"
    }
   },
   "outputs": [],
   "source": [
    "# 下方梯形\n",
    "S1 = (11745+B_parent*1000-1300)*(4800-1710)/2/1e6\n",
    "S2 = 14830*10900/1e6\n",
    "S3 = (B_parent*1000 - 1300 + 8400)*3689/2/1e6\n",
    "S4 = 760*8440/1e6"
   ]
  },
  {
   "cell_type": "code",
   "execution_count": 58,
   "id": "cdbad7c4",
   "metadata": {
    "ExecuteTime": {
     "end_time": "2024-02-19T12:40:56.955303Z",
     "start_time": "2024-02-19T12:40:56.951399Z"
    },
    "scrolled": true
   },
   "outputs": [
    {
     "name": "stdout",
     "output_type": "stream",
     "text": [
      "\n",
      "船中剖面货仓面积为613.28 m2\n",
      "\n"
     ]
    }
   ],
   "source": [
    "S = 2*(S1+S2+S3+S4)\n",
    "Ac_parent = round(S,2)\n",
    "print(f'''\n",
    "船中剖面货仓面积为{Ac_parent} m2\n",
    "''')"
   ]
  },
  {
   "cell_type": "markdown",
   "id": "afc24d04",
   "metadata": {},
   "source": [
    "$$\n",
    "    V_{TC} = (L_{PP}-L_A-L_F-L_M)A_CK_C\n",
    "$$"
   ]
  },
  {
   "cell_type": "code",
   "execution_count": 59,
   "id": "9a013cc8",
   "metadata": {
    "ExecuteTime": {
     "end_time": "2024-02-19T12:41:02.915723Z",
     "start_time": "2024-02-19T12:41:02.912795Z"
    }
   },
   "outputs": [],
   "source": [
    "Lpp_parent = 218\n",
    "LA_parent = 8.25      # 母船尾垂线前尾尖舱长度\n",
    "LF_parent = 10.53     # 母船首垂线后艏尖舱长度\n",
    "LM_parent = 20        # 机舱长度\n",
    "VTC_parent = 90257.9  # 参考指导书p86,母船货舱容积:m3"
   ]
  },
  {
   "cell_type": "code",
   "execution_count": 60,
   "id": "34035f4c",
   "metadata": {
    "ExecuteTime": {
     "end_time": "2024-02-19T12:41:04.999477Z",
     "start_time": "2024-02-19T12:41:04.995573Z"
    }
   },
   "outputs": [
    {
     "name": "stdout",
     "output_type": "stream",
     "text": [
      "系数Kc为: 0.8211829994794674\n"
     ]
    }
   ],
   "source": [
    "Kc = VTC_parent/(Lpp_parent-LA_parent-LF_parent-LM_parent)/Ac_parent\n",
    "print(\"系数Kc为:\",Kc)"
   ]
  },
  {
   "cell_type": "code",
   "execution_count": 61,
   "id": "a5c4654e",
   "metadata": {
    "ExecuteTime": {
     "end_time": "2024-02-19T12:41:11.076039Z",
     "start_time": "2024-02-19T12:41:11.071159Z"
    },
    "scrolled": true
   },
   "outputs": [
    {
     "name": "stdout",
     "output_type": "stream",
     "text": [
      "\n",
      "设计船货舱实际容积为86714.18 m3\n",
      "\n"
     ]
    }
   ],
   "source": [
    "LF = 10.92 # m\n",
    "LA = 8.25  # m\n",
    "LM = 24*0.8  # 24个肋位，肋距为0.8m\n",
    "Ac = Ac_parent*B*D/B_parent/D_parent\n",
    "VTC = (Lpp-LF-LA-LM)*Ac*Kc\n",
    "VTC = round(VTC,2)\n",
    "print(f'''\n",
    "设计船货舱实际容积为{VTC} m3\n",
    "''')"
   ]
  },
  {
   "cell_type": "code",
   "execution_count": 63,
   "id": "e6b749be",
   "metadata": {
    "ExecuteTime": {
     "end_time": "2024-02-19T12:41:50.615720Z",
     "start_time": "2024-02-19T12:41:50.611816Z"
    }
   },
   "outputs": [
    {
     "data": {
      "text/plain": [
       "True"
      ]
     },
     "execution_count": 63,
     "metadata": {},
     "output_type": "execute_result"
    }
   ],
   "source": [
    "# 货舱容积+舱口围板容积\n",
    "VTC + VU > Vc"
   ]
  },
  {
   "cell_type": "markdown",
   "id": "ff204ac9",
   "metadata": {},
   "source": [
    "## 燃油舱舱容校核"
   ]
  },
  {
   "cell_type": "markdown",
   "id": "1c62035e",
   "metadata": {
    "ExecuteTime": {
     "end_time": "2023-12-20T08:14:10.776767Z",
     "start_time": "2023-12-20T08:14:10.740633Z"
    }
   },
   "source": [
    "使用顶边舱与机舱部分区域作为燃油舱，滑油舱位于双层底"
   ]
  },
  {
   "cell_type": "markdown",
   "id": "cf4a40c3",
   "metadata": {},
   "source": [
    "#### 顶边舱"
   ]
  },
  {
   "cell_type": "code",
   "execution_count": 66,
   "id": "c4967f2f",
   "metadata": {
    "ExecuteTime": {
     "end_time": "2024-02-19T13:29:42.309518Z",
     "start_time": "2024-02-19T13:29:42.304638Z"
    }
   },
   "outputs": [
    {
     "data": {
      "text/plain": [
       "6290.4132"
      ]
     },
     "execution_count": 66,
     "metadata": {},
     "output_type": "execute_result"
    }
   ],
   "source": [
    "# 参考上方总容积校核部分数值\n",
    "S = 20.31 # m2\n",
    "L = 154860/1e3 # 货仓2前缘到机舱前缘\n",
    "V = S*L*2\n",
    "V"
   ]
  },
  {
   "cell_type": "code",
   "execution_count": 67,
   "id": "d389a219",
   "metadata": {
    "ExecuteTime": {
     "end_time": "2024-02-19T13:31:47.960012Z",
     "start_time": "2024-02-19T13:31:47.956108Z"
    }
   },
   "outputs": [
    {
     "name": "stdout",
     "output_type": "stream",
     "text": [
      "\n",
      "设计船的顶边舱容积为5985.33 m3\n",
      "\n"
     ]
    }
   ],
   "source": [
    "# 设计船\n",
    "tmpL =(29*5+28+5)*0.85 # 设计船2-7货仓跨度\n",
    "V = V * tmpL * B * D / L / B_parent/ D_parent\n",
    "Vt = round(V,2)\n",
    "print(f'''\n",
    "设计船的顶边舱容积为{Vt} m3\n",
    "''')"
   ]
  },
  {
   "cell_type": "code",
   "execution_count": 68,
   "id": "9622ec97",
   "metadata": {
    "ExecuteTime": {
     "end_time": "2024-02-19T13:32:54.480888Z",
     "start_time": "2024-02-19T13:32:54.476983Z"
    }
   },
   "outputs": [
    {
     "name": "stdout",
     "output_type": "stream",
     "text": [
      "油舱容积满足需求:  True\n"
     ]
    }
   ],
   "source": [
    "print(\"油舱容积满足需求: \",Vt > V_heavy_oil+V_light_oil+V_lube)"
   ]
  },
  {
   "cell_type": "markdown",
   "id": "b5ebe68f",
   "metadata": {},
   "source": [
    "### 压载舱"
   ]
  },
  {
   "cell_type": "markdown",
   "id": "7ab92c9a",
   "metadata": {
    "ExecuteTime": {
     "end_time": "2023-12-20T03:23:26.455007Z",
     "start_time": "2023-12-20T03:23:26.450128Z"
    }
   },
   "source": [
    "使用双层底、底边舱、边舱、首尾尖舱作为压载水舱"
   ]
  },
  {
   "cell_type": "markdown",
   "id": "67f060be",
   "metadata": {
    "ExecuteTime": {
     "end_time": "2023-12-20T03:25:12.797810Z",
     "start_time": "2023-12-20T03:25:12.793904Z"
    }
   },
   "source": [
    "#### 双层底"
   ]
  },
  {
   "cell_type": "markdown",
   "id": "c60019fa",
   "metadata": {},
   "source": [
    "![机舱底部双层底](img/机舱底部双层底.png)"
   ]
  },
  {
   "cell_type": "code",
   "execution_count": 86,
   "id": "63768863",
   "metadata": {
    "ExecuteTime": {
     "end_time": "2024-02-19T14:07:59.533630Z",
     "start_time": "2024-02-19T14:07:59.529726Z"
    }
   },
   "outputs": [
    {
     "name": "stdout",
     "output_type": "stream",
     "text": [
      "双层底区域压载舱容积为:8586.15 m3\n"
     ]
    }
   ],
   "source": [
    "# 参考上方总容积校核，双层底总容积为\n",
    "Vg = 8731.11 # m3\n",
    "# 去除部分用于滑油循环舱的容积，其余区域均可用做压载舱\n",
    "Vg = Vg - V_lube\n",
    "print(\"双层底区域压载舱容积为:%.2f m3\"%Vg)"
   ]
  },
  {
   "cell_type": "markdown",
   "id": "0674ecc8",
   "metadata": {},
   "source": [
    "#### 底边舱与边舱"
   ]
  },
  {
   "cell_type": "code",
   "execution_count": 87,
   "id": "d69697c9",
   "metadata": {
    "ExecuteTime": {
     "end_time": "2024-02-19T14:11:31.825909Z",
     "start_time": "2024-02-19T14:11:31.821029Z"
    }
   },
   "outputs": [
    {
     "name": "stdout",
     "output_type": "stream",
     "text": [
      "\n",
      "底边舱与边舱的容积和为6763.34 m3\n",
      "\n"
     ]
    }
   ],
   "source": [
    "# 参考上方总容积校核中数据，对于母船，S2+S3 = 8.78 + 14.17\n",
    "S = 8.78 + 14.17 #m3\n",
    "# 设计船，平方模数法\n",
    "S = S*B*D/B_parent/D_parent\n",
    "L = (29*5+28+5)*0.85 # 设计船的货舱段长度\n",
    "V = S*L\n",
    "Vbs = round(V,2)*2\n",
    "print(f'''\n",
    "底边舱与边舱的容积和为{Vbs} m3\n",
    "''')"
   ]
  },
  {
   "cell_type": "markdown",
   "id": "7eb1acf3",
   "metadata": {},
   "source": [
    "#### 防撞舱壁与首垂线之间"
   ]
  },
  {
   "cell_type": "markdown",
   "id": "dc9b9c1b",
   "metadata": {},
   "source": [
    "![第一压载舱](img/第一压载舱.png)"
   ]
  },
  {
   "cell_type": "code",
   "execution_count": 88,
   "id": "6fbe9f16",
   "metadata": {
    "ExecuteTime": {
     "end_time": "2024-02-19T14:11:36.130059Z",
     "start_time": "2024-02-19T14:11:36.126155Z"
    }
   },
   "outputs": [
    {
     "name": "stdout",
     "output_type": "stream",
     "text": [
      "\n",
      "设计船第一压载舱大小为1365.56 m3\n",
      "\n"
     ]
    }
   ],
   "source": [
    "# 母船第一顶压载,参考指导书P86，T.B.W.TK,第一双层底压载舱归于上方的双层底容积区域\n",
    "V = 710.27+710.35\n",
    "# 设计船第一压载\n",
    "V = V*Lpp*B*D/Lpp_parent/B_parent/D_parent\n",
    "V1 = round(V,2)\n",
    "print(f'''\n",
    "设计船第一压载舱大小为{V1} m3\n",
    "''')"
   ]
  },
  {
   "cell_type": "markdown",
   "id": "57d30d95",
   "metadata": {},
   "source": [
    "#### 首尾尖舱"
   ]
  },
  {
   "cell_type": "code",
   "execution_count": 89,
   "id": "1cb22cd8",
   "metadata": {
    "ExecuteTime": {
     "end_time": "2024-02-19T14:11:37.692632Z",
     "start_time": "2024-02-19T14:11:37.688728Z"
    }
   },
   "outputs": [
    {
     "name": "stdout",
     "output_type": "stream",
     "text": [
      "\n",
      "首尾尖舱大小为1479.06 m3\n",
      "\n"
     ]
    }
   ],
   "source": [
    "# 母船,参考指导书p86\n",
    "V = 460.83 + 1077.86 # 尾尖舱+艏尖舱\n",
    "# 设计船\n",
    "V = V*Lpp*B*D/Lpp_parent/B_parent/D_parent\n",
    "Vaf = round(V,2)\n",
    "print(f'''\n",
    "首尾尖舱大小为{Vaf} m3\n",
    "''')"
   ]
  },
  {
   "cell_type": "markdown",
   "id": "ee2ac5fd",
   "metadata": {},
   "source": [
    "#### 压载水舱总容积校核"
   ]
  },
  {
   "cell_type": "code",
   "execution_count": 90,
   "id": "be5e7325",
   "metadata": {
    "ExecuteTime": {
     "end_time": "2024-02-19T14:13:06.005478Z",
     "start_time": "2024-02-19T14:13:06.001575Z"
    }
   },
   "outputs": [
    {
     "name": "stdout",
     "output_type": "stream",
     "text": [
      "\n",
      "压载水舱总容积为  18194.11m3\n",
      "满足所需容积    True\n",
      "\n"
     ]
    }
   ],
   "source": [
    "# 压载水舱总容积\n",
    "V_water_supply = Vg+Vbs+V1+Vaf\n",
    "V_water_supply = round(V_water_supply,2)\n",
    "print(f\"\"\"\n",
    "压载水舱总容积为  {V_water_supply}m3\n",
    "满足所需容积    {V_water_supply > V_water}\n",
    "\"\"\")"
   ]
  }
 ],
 "metadata": {
  "kernelspec": {
   "display_name": "Python 3 (ipykernel)",
   "language": "python",
   "name": "python3"
  },
  "language_info": {
   "codemirror_mode": {
    "name": "ipython",
    "version": 3
   },
   "file_extension": ".py",
   "mimetype": "text/x-python",
   "name": "python",
   "nbconvert_exporter": "python",
   "pygments_lexer": "ipython3",
   "version": "3.9.12"
  },
  "toc": {
   "base_numbering": 1,
   "nav_menu": {},
   "number_sections": true,
   "sideBar": true,
   "skip_h1_title": false,
   "title_cell": "Table of Contents",
   "title_sidebar": "Contents",
   "toc_cell": false,
   "toc_position": {},
   "toc_section_display": true,
   "toc_window_display": false
  }
 },
 "nbformat": 4,
 "nbformat_minor": 5
}
