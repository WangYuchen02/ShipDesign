{
 "cells": [
  {
   "cell_type": "code",
   "execution_count": 1,
   "id": "3d846833",
   "metadata": {
    "ExecuteTime": {
     "end_time": "2024-02-19T12:26:33.323414Z",
     "start_time": "2024-02-19T12:26:22.605004Z"
    }
   },
   "outputs": [],
   "source": [
    "import pandas as pd"
   ]
  },
  {
   "cell_type": "markdown",
   "id": "cd0c461c",
   "metadata": {},
   "source": [
    "# 母型船资料"
   ]
  },
  {
   "cell_type": "code",
   "execution_count": 2,
   "id": "eb72f664",
   "metadata": {
    "ExecuteTime": {
     "end_time": "2024-02-19T12:26:33.330246Z",
     "start_time": "2024-02-19T12:26:33.324390Z"
    }
   },
   "outputs": [],
   "source": [
    "# 海水密度\n",
    "rho = 1.025 # 单位: t/m^3\n",
    "# 母船主尺度信息\n",
    "L_total_parent = 225 # 母船总长度\n",
    "Lpp_parent = 218 # 母船垂线间长\n",
    "B_parent = 32.26 # 母船型宽\n",
    "D_parent = 19.6 # 母船型深\n",
    "d_design_parent = 12.5 # 母船设计吃水\n",
    "d_structure_parent = 14.3 # 母船结构吃水\\\n",
    "DW_parent = 75088 # 母船载重量 :t\n",
    "Lw_parent = Lpp_parent+5*0.75 # 水线间长:m ,首垂线与尾垂线距离+ 尾垂线后5个肋位，每个肋位距离为0.75m，参考母船总布置图\n",
    "L_ball_parent = 4*0.75 # 首垂线至球首前端距，#256 - # 260，肋距为0.75m，参考母船总布置图\n",
    "nabla_parent = 85488.56 # 母船结构吃水14.3m处的排水体积，参考静水力计算书\n",
    "delta_parent = 87809.16 # 母船结构吃水处的排水量,参考静水力计算书吃水14.3m时的displt\n",
    "# 母船肋位信息\n",
    "costal1_range_parent = [-5,11] # 肋位：[开始肋位,结束肋位]\n",
    "costal1_span_parent = 750 # 肋距，单位 mm\n",
    "costal2_range_parent = [11,36]\n",
    "costal2_span_parent = 800 # mm\n",
    "costal3_range_parent = [36,242]\n",
    "costal3_span_parent = 870 # mm\n",
    "costal4_range_parent = [242,260]\n",
    "costal4_span_parent = 750 # mm\n",
    "# 设计船信息\n",
    "DW = 72100 # 设计船载重量,t"
   ]
  },
  {
   "cell_type": "code",
   "execution_count": 3,
   "id": "e265dbed",
   "metadata": {
    "ExecuteTime": {
     "end_time": "2024-02-19T12:26:33.345863Z",
     "start_time": "2024-02-19T12:26:33.331222Z"
    }
   },
   "outputs": [
    {
     "name": "stdout",
     "output_type": "stream",
     "text": [
      "母船数据表:\n"
     ]
    },
    {
     "data": {
      "text/plain": [
       "L                225.00\n",
       "Lpp              218.00\n",
       "B                 32.26\n",
       "D                 19.60\n",
       "design d          12.50\n",
       "structure d       14.30\n",
       "DW             75088.00\n",
       "水线长              221.75\n",
       "首垂线到球首的距离          3.00\n",
       "结构吃水处的排水量      87809.16\n",
       "dtype: float64"
      ]
     },
     "execution_count": 3,
     "metadata": {},
     "output_type": "execute_result"
    }
   ],
   "source": [
    "pship_info = pd.Series({\n",
    "    'L':L_total_parent,\n",
    "    'Lpp': Lpp_parent,\n",
    "    'B': B_parent,\n",
    "    'D': D_parent,\n",
    "    'design d': d_design_parent,\n",
    "    'structure d': d_structure_parent,\n",
    "    'DW': DW_parent,\n",
    "    '水线长': Lw_parent,\n",
    "    '首垂线到球首的距离': L_ball_parent,\n",
    "    '结构吃水处的排水量': delta_parent\n",
    "})\n",
    "print(\"母船数据表:\")\n",
    "pship_info"
   ]
  },
  {
   "cell_type": "markdown",
   "id": "17449a6f",
   "metadata": {},
   "source": [
    "# 设计船资料\n",
    "**设计一艘载重量72100t的散货船**，参考母型船，设计船的肋位数据如下"
   ]
  },
  {
   "cell_type": "code",
   "execution_count": 4,
   "id": "90de975b",
   "metadata": {
    "ExecuteTime": {
     "end_time": "2024-02-19T12:26:38.754392Z",
     "start_time": "2024-02-19T12:26:38.751464Z"
    }
   },
   "outputs": [],
   "source": [
    "costal1_span = 750 # 肋距，毫米\n",
    "costal2_span = 800\n",
    "costal3_span = 850\n",
    "costal4_span = 750"
   ]
  },
  {
   "cell_type": "markdown",
   "id": "4cdfe20f",
   "metadata": {},
   "source": [
    "## 附体系数计算"
   ]
  },
  {
   "cell_type": "code",
   "execution_count": 5,
   "id": "87c7c11d",
   "metadata": {
    "ExecuteTime": {
     "end_time": "2024-02-19T12:26:40.455261Z",
     "start_time": "2024-02-19T12:26:40.451358Z"
    }
   },
   "outputs": [
    {
     "name": "stdout",
     "output_type": "stream",
     "text": [
      "附体系数为: 1.0021\n"
     ]
    }
   ],
   "source": [
    "kf = delta_parent / nabla_parent / rho\n",
    "kf = round(kf,4)\n",
    "print(\"附体系数为:\",kf)"
   ]
  },
  {
   "cell_type": "markdown",
   "id": "4e3cfe12",
   "metadata": {},
   "source": [
    "## 设计船排水量粗估"
   ]
  },
  {
   "cell_type": "code",
   "execution_count": 6,
   "id": "3aa77d8f",
   "metadata": {
    "ExecuteTime": {
     "end_time": "2024-02-19T12:26:41.228757Z",
     "start_time": "2024-02-19T12:26:41.224853Z"
    }
   },
   "outputs": [
    {
     "name": "stdout",
     "output_type": "stream",
     "text": [
      "母船载重量系数:  0.8551271871863937\n"
     ]
    }
   ],
   "source": [
    "# 母船载重量系数计算\n",
    "eta_DW_parent = DW_parent / delta_parent\n",
    "print(\"母船载重量系数: \",eta_DW_parent)"
   ]
  },
  {
   "cell_type": "markdown",
   "id": "ab51afd0",
   "metadata": {},
   "source": [
    "根据公式$\\triangle = \\frac{DW}{\\eta_{DW}}$，设计船的排水量为"
   ]
  },
  {
   "cell_type": "code",
   "execution_count": 7,
   "id": "eb5d48ac",
   "metadata": {
    "ExecuteTime": {
     "end_time": "2024-02-19T12:26:42.831453Z",
     "start_time": "2024-02-19T12:26:42.827549Z"
    }
   },
   "outputs": [
    {
     "name": "stdout",
     "output_type": "stream",
     "text": [
      "设计船的排水量: 84314 t\n"
     ]
    }
   ],
   "source": [
    "# 设计船的排水量\n",
    "delta = int(DW/eta_DW_parent)\n",
    "print(\"设计船的排水量:\",delta,'t')"
   ]
  },
  {
   "cell_type": "markdown",
   "id": "04a1820d",
   "metadata": {},
   "source": [
    "根据母船换算设计船的主尺度，有公式:  \n",
    "$L=L_o(\\triangle / \\triangle_0)^{1/3}$  \n",
    "$B=B_o(\\triangle / \\triangle_0)^{1/3}$  \n",
    "$d=d_o(\\triangle / \\triangle_0)^{1/3}$  \n",
    "$D=D_o\\frac{d}{d_o}$  \n",
    "为方便描述与计算，设系数$(\\triangle / \\triangle_0)^{1/3}$为$k$"
   ]
  },
  {
   "cell_type": "code",
   "execution_count": 8,
   "id": "8744650c",
   "metadata": {
    "ExecuteTime": {
     "end_time": "2024-02-19T12:26:43.344439Z",
     "start_time": "2024-02-19T12:26:43.341511Z"
    }
   },
   "outputs": [
    {
     "name": "stdout",
     "output_type": "stream",
     "text": [
      "k:  0.987\n"
     ]
    }
   ],
   "source": [
    "k = (delta/delta_parent)**(1/3)\n",
    "k = round(k,3)\n",
    "print(\"k: \",k)"
   ]
  },
  {
   "cell_type": "markdown",
   "id": "223ead45",
   "metadata": {},
   "source": [
    "利用母船换算公式换算设计船的主尺度，参考课本p122"
   ]
  },
  {
   "cell_type": "code",
   "execution_count": 9,
   "id": "479aea05",
   "metadata": {
    "ExecuteTime": {
     "end_time": "2024-02-19T12:26:43.875045Z",
     "start_time": "2024-02-19T12:26:43.869190Z"
    }
   },
   "outputs": [
    {
     "name": "stdout",
     "output_type": "stream",
     "text": [
      "设计船垂线间长为: 215.17 m\n",
      "设计船型宽为: 31.84 m\n",
      "设计船结构吃水和设计吃水分别为: 14.11 m  12.34 m\n",
      "设计船型深为: 19.34 m\n"
     ]
    }
   ],
   "source": [
    "Lpp = round(Lpp_parent*k,2)\n",
    "B = round(B_parent*k,2)\n",
    "d_design = round(d_design_parent*k,2)\n",
    "d_structure = round(d_structure_parent*k,2)\n",
    "D = round(D_parent*d_structure/d_structure_parent,2)\n",
    "print(\"设计船垂线间长为:\",Lpp,'m')\n",
    "print(\"设计船型宽为:\",B,'m')\n",
    "print(\"设计船结构吃水和设计吃水分别为:\",d_structure,'m ',d_design,'m')\n",
    "print(\"设计船型深为:\" , D , 'm')"
   ]
  },
  {
   "cell_type": "markdown",
   "id": "f6e45dc5",
   "metadata": {},
   "source": [
    "## 方形系数计算"
   ]
  },
  {
   "cell_type": "code",
   "execution_count": 10,
   "id": "b9b50664",
   "metadata": {
    "ExecuteTime": {
     "end_time": "2024-02-19T12:26:45.444518Z",
     "start_time": "2024-02-19T12:26:45.440615Z"
    }
   },
   "outputs": [
    {
     "data": {
      "text/plain": [
       "0.850056907936876"
      ]
     },
     "execution_count": 10,
     "metadata": {},
     "output_type": "execute_result"
    }
   ],
   "source": [
    "# 母船方形系数\n",
    "CB_parent = delta_parent/kf/rho/Lpp_parent/B_parent/d_structure_parent\n",
    "CB_parent"
   ]
  },
  {
   "cell_type": "markdown",
   "id": "f33a58cc",
   "metadata": {},
   "source": [
    "**WAY 1:**  \n",
    "$C_B=\\frac{\\triangle}{\\rho k L_{pp}Bd}$"
   ]
  },
  {
   "cell_type": "code",
   "execution_count": 11,
   "id": "dbaac882",
   "metadata": {
    "ExecuteTime": {
     "end_time": "2024-02-19T12:26:45.864197Z",
     "start_time": "2024-02-19T12:26:45.861269Z"
    },
    "scrolled": true
   },
   "outputs": [
    {
     "name": "stdout",
     "output_type": "stream",
     "text": [
      "0.8491471831199672\n"
     ]
    }
   ],
   "source": [
    "# 设计船方形系数\n",
    "# way 1:\n",
    "CB = delta/kf/rho/Lpp/B/d_structure\n",
    "print(CB)"
   ]
  },
  {
   "cell_type": "markdown",
   "id": "e18fe590",
   "metadata": {},
   "source": [
    "**WAY 2:**  \n",
    "压力山大公式：  \n",
    "Fn<0.3时,$C_B=C-1.68F_n$，其中，$C$可以由母型船计算"
   ]
  },
  {
   "cell_type": "code",
   "execution_count": 12,
   "id": "a69e541d",
   "metadata": {
    "ExecuteTime": {
     "end_time": "2024-02-19T12:26:46.498744Z",
     "start_time": "2024-02-19T12:26:46.493879Z"
    }
   },
   "outputs": [
    {
     "name": "stdout",
     "output_type": "stream",
     "text": [
      "满足压力山大公式条件: True\n",
      "0.8464120666059874\n"
     ]
    }
   ],
   "source": [
    "# way 2:\n",
    "import math\n",
    "Vs = 14.5 # kn\n",
    "Vs_parent = 14.4\n",
    "g = 9.81 # m/s^2\n",
    "Fn = Vs*0.5144/math.sqrt(g*Lpp)\n",
    "Fn0 = Vs_parent*0.5144/math.sqrt(g*Lpp_parent)\n",
    "print(\"满足压力山大公式条件:\",Fn<0.3 and Fn0 < 0.3)\n",
    "C = CB_parent + 1.68 * Fn0\n",
    "CB = C - 1.68 * Fn\n",
    "print(CB)"
   ]
  },
  {
   "cell_type": "markdown",
   "id": "2e9a33ca",
   "metadata": {},
   "source": [
    "**综上，设计船的方形系数为0.85**"
   ]
  },
  {
   "cell_type": "markdown",
   "id": "6962cb3f",
   "metadata": {},
   "source": [
    "## 防撞舱壁设计"
   ]
  },
  {
   "cell_type": "markdown",
   "id": "92d520c8",
   "metadata": {},
   "source": [
    "有球首的船，防撞舱壁起点取下面的最小值:  \n",
    "+ 首垂线至球首前端长度的中点\n",
    "+ 首垂线之前 0.015$L_L$处($L_L$是水线长)\n",
    "+ 首垂线之前 3m 处"
   ]
  },
  {
   "cell_type": "code",
   "execution_count": 13,
   "id": "e9ad56d4",
   "metadata": {
    "ExecuteTime": {
     "end_time": "2024-02-19T12:26:47.873603Z",
     "start_time": "2024-02-19T12:26:47.869699Z"
    }
   },
   "outputs": [
    {
     "name": "stdout",
     "output_type": "stream",
     "text": [
      "防撞舱壁起点距离首垂线距离: 1.5 m\n"
     ]
    }
   ],
   "source": [
    "AntiCollisionBulkheadStart = min(L_ball_parent*0.5,\n",
    "                                0.015*Lw_parent,\n",
    "                                3)\n",
    "print(\"防撞舱壁起点距离首垂线距离:\",AntiCollisionBulkheadStart,'m')"
   ]
  },
  {
   "cell_type": "markdown",
   "id": "584521db",
   "metadata": {},
   "source": [
    "规范规定防撞舱壁至首垂线的距离应不小于 0.05$L_L$或 10m（取较小者），且不大于 0.08$L_L$。"
   ]
  },
  {
   "cell_type": "code",
   "execution_count": 14,
   "id": "a63cdf8f",
   "metadata": {
    "ExecuteTime": {
     "end_time": "2024-02-19T12:26:48.953192Z",
     "start_time": "2024-02-19T12:26:48.949289Z"
    }
   },
   "outputs": [
    {
     "name": "stdout",
     "output_type": "stream",
     "text": [
      "防撞舱壁长度范围10 m - 17.74 m\n"
     ]
    }
   ],
   "source": [
    "minAntiLength = min(0.05*Lw_parent,10)\n",
    "maxAntiLength =round(0.08*Lw_parent,2)\n",
    "print(\"防撞舱壁长度范围%s m - %s m\"%(minAntiLength,maxAntiLength))"
   ]
  },
  {
   "cell_type": "markdown",
   "id": "9397c772",
   "metadata": {},
   "source": [
    "而母船防撞舱壁取首垂线前14个肋位，在此设计船取14个肋位+0.42m(为了后续货仓端为整肋位）"
   ]
  },
  {
   "cell_type": "code",
   "execution_count": 15,
   "id": "75a75442",
   "metadata": {
    "ExecuteTime": {
     "end_time": "2024-02-19T12:26:52.468709Z",
     "start_time": "2024-02-19T12:26:52.464805Z"
    }
   },
   "outputs": [
    {
     "name": "stdout",
     "output_type": "stream",
     "text": [
      "防撞舱壁长度范围为12.42\n",
      "是否满足规范要求 True\n"
     ]
    }
   ],
   "source": [
    "lengthAfterFp = 14*costal4_span/1000 + 0.42\n",
    "lengthBeforeFp = AntiCollisionBulkheadStart\n",
    "length = lengthAfterFp + lengthBeforeFp\n",
    "print(\"防撞舱壁长度范围为%s\"%length)\n",
    "print(\"是否满足规范要求\",minAntiLength<length<maxAntiLength)"
   ]
  },
  {
   "cell_type": "code",
   "execution_count": 19,
   "id": "6b9f2ef4",
   "metadata": {
    "ExecuteTime": {
     "end_time": "2024-02-19T12:27:54.255655Z",
     "start_time": "2024-02-19T12:27:54.252727Z"
    }
   },
   "outputs": [
    {
     "name": "stdout",
     "output_type": "stream",
     "text": [
      "LF为:   10.92m\n"
     ]
    }
   ],
   "source": [
    "LF = lengthAfterFp\n",
    "print(\"LF为:   %.2fm\"%LF)"
   ]
  },
  {
   "cell_type": "markdown",
   "id": "d4fdd5ab",
   "metadata": {},
   "source": [
    "**艏尖舱端位于#243前12.42m范围内**"
   ]
  },
  {
   "cell_type": "markdown",
   "id": "567f5c3f",
   "metadata": {},
   "source": [
    "## 尾尖舱设计"
   ]
  },
  {
   "cell_type": "markdown",
   "id": "e6b60fd7",
   "metadata": {},
   "source": [
    "散货船尾尖舱长度一般约为（0.038～0.045）$L_{PP}$，对于总长有限制且吨位又较大的船，从尽可能提高舱容利用率可考虑取较短的尾尖舱。"
   ]
  },
  {
   "cell_type": "code",
   "execution_count": 20,
   "id": "862d8d33",
   "metadata": {
    "ExecuteTime": {
     "end_time": "2024-02-19T12:27:59.194421Z",
     "start_time": "2024-02-19T12:27:59.190517Z"
    }
   },
   "outputs": [
    {
     "name": "stdout",
     "output_type": "stream",
     "text": [
      "尾尖舱长度范围为8.176 m-9.683 m\n"
     ]
    }
   ],
   "source": [
    "minLength = round(0.038*Lpp,3)\n",
    "maxLength = round(0.045*Lpp,3)\n",
    "print(\"尾尖舱长度范围为%s m-%s m\"%(minLength,maxLength))"
   ]
  },
  {
   "cell_type": "markdown",
   "id": "825ce30e",
   "metadata": {},
   "source": [
    "此处取整数肋位长度"
   ]
  },
  {
   "cell_type": "code",
   "execution_count": 21,
   "id": "dcd0b05a",
   "metadata": {
    "ExecuteTime": {
     "end_time": "2024-02-19T12:27:59.669732Z",
     "start_time": "2024-02-19T12:27:59.665829Z"
    }
   },
   "outputs": [
    {
     "name": "stdout",
     "output_type": "stream",
     "text": [
      "肋距个数在10.9 - 12.9\n"
     ]
    }
   ],
   "source": [
    "minCostalNum = round(minLength/costal1_span*1000,1)\n",
    "maxCostalNum = round(maxLength/costal1_span*1000,1)\n",
    "print(\"肋距个数在%s - %s\"%(minCostalNum,maxCostalNum))"
   ]
  },
  {
   "cell_type": "code",
   "execution_count": 22,
   "id": "a91fdec5",
   "metadata": {
    "ExecuteTime": {
     "end_time": "2024-02-19T12:28:00.871769Z",
     "start_time": "2024-02-19T12:28:00.867865Z"
    }
   },
   "outputs": [
    {
     "name": "stdout",
     "output_type": "stream",
     "text": [
      "尾尖舱长度为:8.25\n"
     ]
    }
   ],
   "source": [
    "# 取11个肋位\n",
    "tailPeakCabinLength = 11*costal1_span/1000\n",
    "print(\"尾尖舱长度为:%s\"%tailPeakCabinLength)"
   ]
  },
  {
   "cell_type": "code",
   "execution_count": 24,
   "id": "e44b9180",
   "metadata": {
    "ExecuteTime": {
     "end_time": "2024-02-19T12:28:43.767803Z",
     "start_time": "2024-02-19T12:28:43.764875Z"
    }
   },
   "outputs": [
    {
     "name": "stdout",
     "output_type": "stream",
     "text": [
      "LA为:  8.25m\n"
     ]
    }
   ],
   "source": [
    "LA = tailPeakCabinLength\n",
    "print(\"LA为:  %.2fm\"%LA)"
   ]
  },
  {
   "cell_type": "markdown",
   "id": "9087d070",
   "metadata": {},
   "source": [
    "**因此，尾尖舱位于#-5 - #11肋位**"
   ]
  },
  {
   "cell_type": "markdown",
   "id": "49911b82",
   "metadata": {},
   "source": [
    "## 机舱设计"
   ]
  },
  {
   "cell_type": "markdown",
   "id": "c1883e94",
   "metadata": {},
   "source": [
    "机舱长度设计比较可靠的方法还是参照母型船用比较法来选取，取24个肋位"
   ]
  },
  {
   "cell_type": "code",
   "execution_count": 54,
   "id": "7e418ce8",
   "metadata": {
    "ExecuteTime": {
     "end_time": "2024-02-19T02:28:15.362377Z",
     "start_time": "2024-02-19T02:28:15.359448Z"
    }
   },
   "outputs": [
    {
     "name": "stdout",
     "output_type": "stream",
     "text": [
      "机舱长度为:19.2\n"
     ]
    }
   ],
   "source": [
    "# 取机舱长度为肋距的24倍\n",
    "engineRoomLength = 24*costal2_span/1000\n",
    "print(\"机舱长度为:%s\"%engineRoomLength)"
   ]
  },
  {
   "cell_type": "markdown",
   "id": "b1931e47",
   "metadata": {},
   "source": [
    "**机舱位于#11-#35肋位**"
   ]
  },
  {
   "cell_type": "markdown",
   "id": "748318f1",
   "metadata": {},
   "source": [
    "## 货仓设计"
   ]
  },
  {
   "cell_type": "code",
   "execution_count": 55,
   "id": "1eb632b7",
   "metadata": {
    "ExecuteTime": {
     "end_time": "2024-02-19T02:28:16.909298Z",
     "start_time": "2024-02-19T02:28:16.905341Z"
    }
   },
   "outputs": [
    {
     "name": "stdout",
     "output_type": "stream",
     "text": [
      "剩余长度为176.8 m\n"
     ]
    }
   ],
   "source": [
    "# 剩余长度为\n",
    "remainingLength = Lpp-tailPeakCabinLength\\\n",
    "            -engineRoomLength-lengthAfterFp\n",
    "print(\"剩余长度为%s m\"%remainingLength)"
   ]
  },
  {
   "cell_type": "markdown",
   "id": "0bc54e47",
   "metadata": {},
   "source": [
    "货仓间1槽型舱壁占据一个肋位，7个舱室，6个舱壁，总占据长度为:"
   ]
  },
  {
   "cell_type": "code",
   "execution_count": 56,
   "id": "af2fc78c",
   "metadata": {
    "ExecuteTime": {
     "end_time": "2024-02-19T02:28:20.460475Z",
     "start_time": "2024-02-19T02:28:20.456571Z"
    }
   },
   "outputs": [
    {
     "data": {
      "text/plain": [
       "5.1"
      ]
     },
     "execution_count": 56,
     "metadata": {},
     "output_type": "execute_result"
    }
   ],
   "source": [
    "L_bulk = 6*costal3_span/1000\n",
    "L_bulk"
   ]
  },
  {
   "cell_type": "markdown",
   "id": "b8b0bc3d",
   "metadata": {},
   "source": [
    "**舱壁占据了6个肋位**"
   ]
  },
  {
   "cell_type": "code",
   "execution_count": 57,
   "id": "4f919408",
   "metadata": {
    "ExecuteTime": {
     "end_time": "2024-02-19T02:28:20.959168Z",
     "start_time": "2024-02-19T02:28:20.955264Z"
    }
   },
   "outputs": [
    {
     "data": {
      "text/plain": [
       "171.70000000000002"
      ]
     },
     "execution_count": 57,
     "metadata": {},
     "output_type": "execute_result"
    }
   ],
   "source": [
    "# 货仓实际长度\n",
    "warehouseLength = remainingLength - L_bulk\n",
    "warehouseLength"
   ]
  },
  {
   "cell_type": "code",
   "execution_count": 58,
   "id": "61e54c0a",
   "metadata": {
    "ExecuteTime": {
     "end_time": "2024-02-19T02:28:22.620241Z",
     "start_time": "2024-02-19T02:28:22.615364Z"
    }
   },
   "outputs": [
    {
     "data": {
      "text/plain": [
       "202.0"
      ]
     },
     "execution_count": 58,
     "metadata": {},
     "output_type": "execute_result"
    }
   ],
   "source": [
    "# 是否为整肋位长度:否\n",
    "warehouseLength/costal3_span*1000"
   ]
  },
  {
   "cell_type": "markdown",
   "id": "0dce2161",
   "metadata": {},
   "source": [
    "**货舱占据了202个肋位**"
   ]
  },
  {
   "cell_type": "code",
   "execution_count": 59,
   "id": "137763fa",
   "metadata": {
    "ExecuteTime": {
     "end_time": "2024-02-19T02:28:36.630800Z",
     "start_time": "2024-02-19T02:28:36.627871Z"
    }
   },
   "outputs": [],
   "source": [
    "# 为便于肋骨布置与肋位安排，此处取货仓长度为整数个肋距，取\n",
    "# 货仓长度为202个肋距\n",
    "warehouseLength = 202*costal3_span/1000\n",
    "# 每个货舱的肋位数为\n",
    "# 28 29 29 29 29 29 29"
   ]
  },
  {
   "cell_type": "markdown",
   "id": "ba4626e6",
   "metadata": {},
   "source": [
    "**货舱段总共占据了208个肋位，位于#35-#243肋位**"
   ]
  },
  {
   "cell_type": "markdown",
   "id": "c0be3b02",
   "metadata": {
    "ExecuteTime": {
     "end_time": "2024-02-19T02:16:26.723127Z",
     "start_time": "2024-02-19T02:16:26.719223Z"
    }
   },
   "source": [
    "# 总结"
   ]
  },
  {
   "cell_type": "code",
   "execution_count": 73,
   "id": "13f6c745",
   "metadata": {
    "ExecuteTime": {
     "end_time": "2024-02-19T02:46:41.921802Z",
     "start_time": "2024-02-19T02:46:41.916923Z"
    }
   },
   "outputs": [
    {
     "name": "stdout",
     "output_type": "stream",
     "text": [
      "设计船尺度数据为:\n",
      "Lpp:           215.17 m\n",
      "B:             31.84 m\n",
      "D:             19.34 m\n",
      "d design:      12.34 m\n",
      "d structure:   14.11 m\n",
      "排水量为:         84292 t\n"
     ]
    }
   ],
   "source": [
    "print(\"设计船尺度数据为:\")\n",
    "print(\"Lpp:\".ljust(14),Lpp,'m')\n",
    "print(\"B:\".ljust(14),B,'m')\n",
    "print(\"D:\".ljust(14),D,'m')\n",
    "print(\"d design:\".ljust(14),d_design,'m')\n",
    "print(\"d structure:\".ljust(14),d_structure,'m')\n",
    "print(\"排水量为:\".ljust(14),end='')\n",
    "print(delta,'t')"
   ]
  },
  {
   "cell_type": "code",
   "execution_count": 1,
   "id": "8912553b",
   "metadata": {
    "ExecuteTime": {
     "end_time": "2024-02-21T14:41:00.331833Z",
     "start_time": "2024-02-21T14:41:00.322073Z"
    }
   },
   "outputs": [
    {
     "name": "stdout",
     "output_type": "stream",
     "text": [
      "总布置分布为:\n",
      "尾尖舱位于:              #-5-#11        \n",
      "机舱位于:                #11-#35        \n",
      "货舱位于:                #35-#243       \n",
      "艏尖舱位于:              #243-#257+0.42m\n"
     ]
    }
   ],
   "source": [
    "print(\"总布置分布为:\")\n",
    "print(\"尾尖舱位于:\".ljust(20),end='')\n",
    "print(\"#-5-#11\".ljust(15))\n",
    "print(\"机舱位于:\".ljust(20),'#11-#35'.ljust(15))\n",
    "print(\"货舱位于:\".ljust(20),'#35-#243'.ljust(15))\n",
    "print(\"艏尖舱位于:\".ljust(20),end='')\n",
    "print('#243-#257+0.42m'.ljust(15))"
   ]
  }
 ],
 "metadata": {
  "kernelspec": {
   "display_name": "Python 3 (ipykernel)",
   "language": "python",
   "name": "python3"
  },
  "language_info": {
   "codemirror_mode": {
    "name": "ipython",
    "version": 3
   },
   "file_extension": ".py",
   "mimetype": "text/x-python",
   "name": "python",
   "nbconvert_exporter": "python",
   "pygments_lexer": "ipython3",
   "version": "3.9.12"
  },
  "toc": {
   "base_numbering": 1,
   "nav_menu": {},
   "number_sections": true,
   "sideBar": true,
   "skip_h1_title": false,
   "title_cell": "Table of Contents",
   "title_sidebar": "Contents",
   "toc_cell": false,
   "toc_position": {},
   "toc_section_display": true,
   "toc_window_display": false
  }
 },
 "nbformat": 4,
 "nbformat_minor": 5
}
