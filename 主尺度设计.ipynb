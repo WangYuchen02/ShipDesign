{
 "cells": [
  {
   "cell_type": "code",
   "execution_count": 4,
   "id": "3d846833",
   "metadata": {
    "ExecuteTime": {
     "end_time": "2024-02-19T00:47:08.050579Z",
     "start_time": "2024-02-19T00:47:07.691952Z"
    }
   },
   "outputs": [],
   "source": [
    "import pandas as pd"
   ]
  },
  {
   "cell_type": "markdown",
   "id": "cd0c461c",
   "metadata": {},
   "source": [
    "# 母型船资料"
   ]
  },
  {
   "cell_type": "code",
   "execution_count": 11,
   "id": "eb72f664",
   "metadata": {
    "ExecuteTime": {
     "end_time": "2024-02-19T01:03:51.655276Z",
     "start_time": "2024-02-19T01:03:51.649421Z"
    }
   },
   "outputs": [],
   "source": [
    "# 海水密度\n",
    "rho = 1.025 # 单位: t/m^3\n",
    "# 母船主尺度信息\n",
    "L_total_parent = 225 # 母船总长度\n",
    "Lpp_parent = 218 # 母船垂线间长\n",
    "B_parent = 32.26 # 母船型宽\n",
    "D_parent = 19.6 # 母船型深\n",
    "d_design_parent = 12.5 # 母船设计吃水\n",
    "d_structure_parent = 14.3 # 母船结构吃水\\\n",
    "DW_parent = 75088 # 母船载重量 :t\n",
    "Lw_parent = Lpp_parent+5*0.75 # 水线间长:m ,首垂线与尾垂线距离+ 尾垂线后5个肋位，每个肋位距离为0.75m，参考母船总布置图\n",
    "L_ball_parent = 4*0.75 # 首垂线至球首前端距，#256 - # 260，肋距为0.75m，参考母船总布置图\n",
    "nabla_parent = 85488.56 # 母船结构吃水14.3m处的排水体积，参考静水力计算书\n",
    "delta_parent = 87786.17 # 母船结构吃水处的排水量,参考任务书第八章母船数据\n",
    "# 母船肋位信息\n",
    "costal1_range_parent = [-5,11] # 肋位：[开始肋位,结束肋位]\n",
    "costal1_span_parent = 750 # 肋距，单位 mm\n",
    "costal2_range_parent = [11,36]\n",
    "costal2_span_parent = 800 # mm\n",
    "costal3_range_parent = [36,242]\n",
    "costal3_span_parent = 870 # mm\n",
    "costal4_range_parent = [242,260]\n",
    "costal4_span_parent = 750 # mm\n",
    "# 设计船信息\n",
    "DW = 72100 # 设计船载重量,t"
   ]
  },
  {
   "cell_type": "code",
   "execution_count": 12,
   "id": "769060c6",
   "metadata": {
    "ExecuteTime": {
     "end_time": "2024-02-19T01:03:55.936546Z",
     "start_time": "2024-02-19T01:03:55.930690Z"
    }
   },
   "outputs": [
    {
     "name": "stdout",
     "output_type": "stream",
     "text": [
      "母船数据表:\n"
     ]
    },
    {
     "data": {
      "text/plain": [
       "L                225.00\n",
       "Lpp              218.00\n",
       "B                 32.26\n",
       "D                 19.60\n",
       "design d          12.50\n",
       "structure d       14.30\n",
       "DW             75088.00\n",
       "水线长              221.75\n",
       "首垂线到球首的距离          3.00\n",
       "结构吃水处的排水量      87786.17\n",
       "dtype: float64"
      ]
     },
     "execution_count": 12,
     "metadata": {},
     "output_type": "execute_result"
    }
   ],
   "source": [
    "pship_info = pd.Series({\n",
    "    'L':L_total_parent,\n",
    "    'Lpp': Lpp_parent,\n",
    "    'B': B_parent,\n",
    "    'D': D_parent,\n",
    "    'design d': d_design_parent,\n",
    "    'structure d': d_structure_parent,\n",
    "    'DW': DW_parent,\n",
    "    '水线长': Lw_parent,\n",
    "    '首垂线到球首的距离': L_ball_parent,\n",
    "    '结构吃水处的排水量': delta_parent\n",
    "})\n",
    "print(\"母船数据表:\")\n",
    "pship_info"
   ]
  },
  {
   "cell_type": "markdown",
   "id": "17449a6f",
   "metadata": {},
   "source": [
    "# 设计船资料\n",
    "**设计一艘载重量72100t的散货船**，参考母型船，设计船的肋位数据如下"
   ]
  },
  {
   "cell_type": "code",
   "execution_count": 33,
   "id": "90de975b",
   "metadata": {
    "ExecuteTime": {
     "end_time": "2024-02-19T01:24:26.768803Z",
     "start_time": "2024-02-19T01:24:26.764900Z"
    }
   },
   "outputs": [],
   "source": [
    "costal1_range = [-5,11] \n",
    "costal1_span = 750 # 肋距，毫米\n",
    "costal2_range = [11,36]\n",
    "costal2_span = 800\n",
    "costal3_range = [36,242]\n",
    "costal3_span = 850\n",
    "costal4_range = [242,260]\n",
    "costal4_span = 750"
   ]
  },
  {
   "cell_type": "markdown",
   "id": "e450060e",
   "metadata": {},
   "source": [
    "## 设计船排水量粗估"
   ]
  },
  {
   "cell_type": "code",
   "execution_count": 14,
   "id": "7c6f874e",
   "metadata": {
    "ExecuteTime": {
     "end_time": "2024-02-19T01:04:50.383220Z",
     "start_time": "2024-02-19T01:04:50.379317Z"
    }
   },
   "outputs": [
    {
     "name": "stdout",
     "output_type": "stream",
     "text": [
      "母船载重量系数:  0.8553511333277213\n"
     ]
    }
   ],
   "source": [
    "# 母船载重量系数计算\n",
    "eta_DW_parent = DW_parent / delta_parent\n",
    "print(\"母船载重量系数: \",eta_DW_parent)"
   ]
  },
  {
   "cell_type": "markdown",
   "id": "c5f1285e",
   "metadata": {},
   "source": [
    "根据公式$\\triangle = \\frac{DW}{\\eta_{DW}}$，设计船的排水量为"
   ]
  },
  {
   "cell_type": "code",
   "execution_count": 16,
   "id": "817b1efc",
   "metadata": {
    "ExecuteTime": {
     "end_time": "2024-02-19T01:10:57.185877Z",
     "start_time": "2024-02-19T01:10:57.181975Z"
    }
   },
   "outputs": [
    {
     "name": "stdout",
     "output_type": "stream",
     "text": [
      "设计船的排水量: 84292 t\n"
     ]
    }
   ],
   "source": [
    "# 设计船的排水量\n",
    "delta = int(DW/eta_DW_parent)\n",
    "print(\"设计船的排水量:\",delta,'t')"
   ]
  },
  {
   "cell_type": "markdown",
   "id": "a374b837",
   "metadata": {},
   "source": [
    "根据母船换算设计船的主尺度，有公式:  \n",
    "$L=L_o(\\triangle / \\triangle_0)^{1/3}$  \n",
    "$B=B_o(\\triangle / \\triangle_0)^{1/3}$  \n",
    "$d=d_o(\\triangle / \\triangle_0)^{1/3}$  \n",
    "$D=D_o\\frac{d}{d_o}$  \n",
    "为方便描述与计算，设系数$(\\triangle / \\triangle_0)^{1/3}$为$k$"
   ]
  },
  {
   "cell_type": "code",
   "execution_count": 25,
   "id": "8744650c",
   "metadata": {
    "ExecuteTime": {
     "end_time": "2024-02-19T01:18:34.638476Z",
     "start_time": "2024-02-19T01:18:34.633596Z"
    }
   },
   "outputs": [
    {
     "name": "stdout",
     "output_type": "stream",
     "text": [
      "k:  0.987\n"
     ]
    }
   ],
   "source": [
    "k = (delta/delta_parent)**(1/3)\n",
    "k = round(k,3)\n",
    "print(\"k: \",k)"
   ]
  },
  {
   "cell_type": "markdown",
   "id": "223ead45",
   "metadata": {},
   "source": [
    "利用母船换算公式换算设计船的主尺度，参考课本p122"
   ]
  },
  {
   "cell_type": "code",
   "execution_count": 28,
   "id": "479aea05",
   "metadata": {
    "ExecuteTime": {
     "end_time": "2024-02-19T01:19:29.099997Z",
     "start_time": "2024-02-19T01:19:29.095124Z"
    }
   },
   "outputs": [
    {
     "name": "stdout",
     "output_type": "stream",
     "text": [
      "设计船垂线间长为: 215.17 m\n",
      "设计船型宽为: 31.84 m\n",
      "设计船结构吃水和设计吃水分别为: 14.11 m  12.34 m\n",
      "设计船型深为: 19.34 m\n"
     ]
    }
   ],
   "source": [
    "Lpp = round(Lpp_parent*k,2)\n",
    "B = round(B_parent*k,2)\n",
    "d_design = round(d_design_parent*k,2)\n",
    "d_structure = round(d_structure_parent*k,2)\n",
    "D = round(D_parent*d_structure/d_structure_parent,2)\n",
    "print(\"设计船垂线间长为:\",Lpp,'m')\n",
    "print(\"设计船型宽为:\",B,'m')\n",
    "print(\"设计船结构吃水和设计吃水分别为:\",d_structure,'m ',d_design,'m')\n",
    "print(\"设计船型深为:\" , D , 'm')"
   ]
  },
  {
   "cell_type": "markdown",
   "id": "6962cb3f",
   "metadata": {},
   "source": [
    "## 防撞舱壁设计"
   ]
  },
  {
   "cell_type": "markdown",
   "id": "92d520c8",
   "metadata": {},
   "source": [
    "由球首的船，防撞舱壁起点取下面的最小值:  \n",
    "+ 首垂线至球首前端长度的中点\n",
    "+ 首垂线之前 0.015$L_L$处($L_L$是水线长)\n",
    "+ 首垂线之前 3m 处"
   ]
  },
  {
   "cell_type": "code",
   "execution_count": 30,
   "id": "e9ad56d4",
   "metadata": {
    "ExecuteTime": {
     "end_time": "2024-02-19T01:20:36.525078Z",
     "start_time": "2024-02-19T01:20:36.521173Z"
    }
   },
   "outputs": [
    {
     "name": "stdout",
     "output_type": "stream",
     "text": [
      "防撞舱壁起点距离首垂线距离: 1.5 m\n"
     ]
    }
   ],
   "source": [
    "AntiCollisionBulkheadStart = min(L_ball_parent*0.5,\n",
    "                                0.015*Lw_parent,\n",
    "                                3)\n",
    "print(\"防撞舱壁起点距离首垂线距离:\",AntiCollisionBulkheadStart,'m')"
   ]
  },
  {
   "cell_type": "markdown",
   "id": "584521db",
   "metadata": {},
   "source": [
    "规范规定防撞舱壁至首垂线的距离应不小于 0.05$L_L$或 10m（取较小者），且不大于 0.08$L_L$。"
   ]
  },
  {
   "cell_type": "code",
   "execution_count": 31,
   "id": "a63cdf8f",
   "metadata": {
    "ExecuteTime": {
     "end_time": "2024-02-19T01:22:31.961027Z",
     "start_time": "2024-02-19T01:22:31.957118Z"
    }
   },
   "outputs": [
    {
     "name": "stdout",
     "output_type": "stream",
     "text": [
      "防撞舱壁长度范围10 m - 17.74 m\n"
     ]
    }
   ],
   "source": [
    "minAntiLength = min(0.05*Lw_parent,10)\n",
    "maxAntiLength =round(0.08*Lw_parent,2)\n",
    "print(\"防撞舱壁长度范围%s m - %s m\"%(minAntiLength,maxAntiLength))"
   ]
  },
  {
   "cell_type": "markdown",
   "id": "9397c772",
   "metadata": {},
   "source": [
    "而母船防撞舱壁取首垂线前14个肋位，在此设计船也取14个肋位"
   ]
  },
  {
   "cell_type": "code",
   "execution_count": 34,
   "id": "75a75442",
   "metadata": {
    "ExecuteTime": {
     "end_time": "2024-02-19T01:24:31.818989Z",
     "start_time": "2024-02-19T01:24:31.815086Z"
    }
   },
   "outputs": [
    {
     "name": "stdout",
     "output_type": "stream",
     "text": [
      "防撞舱壁长度范围为12.0\n",
      "是否满足规范要求 True\n"
     ]
    }
   ],
   "source": [
    "lengthAfterFp = 14*costal4_span/1000\n",
    "lengthBeforeFp = AntiCollisionBulkheadStart\n",
    "length = lengthAfterFp + lengthBeforeFp\n",
    "print(\"防撞舱壁长度范围为%s\"%length)\n",
    "print(\"是否满足规范要求\",minAntiLength<length<maxAntiLength)"
   ]
  },
  {
   "cell_type": "markdown",
   "id": "567f5c3f",
   "metadata": {},
   "source": [
    "## 尾尖舱设计"
   ]
  },
  {
   "cell_type": "markdown",
   "id": "e6b60fd7",
   "metadata": {},
   "source": [
    "散货船尾尖舱长度一般约为（0.038～0.045）$L_{PP}$，对于总长有限制且吨位又较大的船，从尽可能提高舱容利用率可考虑取较短的尾尖舱。"
   ]
  },
  {
   "cell_type": "code",
   "execution_count": 36,
   "id": "862d8d33",
   "metadata": {
    "ExecuteTime": {
     "end_time": "2024-02-19T01:26:06.716829Z",
     "start_time": "2024-02-19T01:26:06.712926Z"
    }
   },
   "outputs": [
    {
     "name": "stdout",
     "output_type": "stream",
     "text": [
      "尾尖舱长度范围为8.176 m-9.683 m\n"
     ]
    }
   ],
   "source": [
    "minLength = round(0.038*Lpp,3)\n",
    "maxLength = round(0.045*Lpp,3)\n",
    "print(\"尾尖舱长度范围为%s m-%s m\"%(minLength,maxLength))"
   ]
  },
  {
   "cell_type": "markdown",
   "id": "825ce30e",
   "metadata": {},
   "source": [
    "此处取整数肋位长度"
   ]
  },
  {
   "cell_type": "code",
   "execution_count": 37,
   "id": "dcd0b05a",
   "metadata": {
    "ExecuteTime": {
     "end_time": "2024-02-19T01:26:42.076628Z",
     "start_time": "2024-02-19T01:26:42.072725Z"
    }
   },
   "outputs": [
    {
     "name": "stdout",
     "output_type": "stream",
     "text": [
      "肋距个数在10.9 - 12.9\n"
     ]
    }
   ],
   "source": [
    "minCostalNum = round(minLength/costal1_span*1000,1)\n",
    "maxCostalNum = round(maxLength/costal1_span*1000,1)\n",
    "print(\"肋距个数在%s - %s\"%(minCostalNum,maxCostalNum))"
   ]
  },
  {
   "cell_type": "code",
   "execution_count": 38,
   "id": "a91fdec5",
   "metadata": {
    "ExecuteTime": {
     "end_time": "2024-02-19T01:26:51.151559Z",
     "start_time": "2024-02-19T01:26:51.147657Z"
    }
   },
   "outputs": [
    {
     "name": "stdout",
     "output_type": "stream",
     "text": [
      "尾尖舱长度为:8.25\n"
     ]
    }
   ],
   "source": [
    "# 取11个肋位\n",
    "tailPeakCabinLength = 11*costal1_span/1000\n",
    "print(\"尾尖舱长度为:%s\"%tailPeakCabinLength)"
   ]
  },
  {
   "cell_type": "markdown",
   "id": "49911b82",
   "metadata": {},
   "source": [
    "## 机舱设计"
   ]
  },
  {
   "cell_type": "markdown",
   "id": "c1883e94",
   "metadata": {},
   "source": [
    "机舱长度设计比较可靠的方法还是参照母型船用比较法来选取，取24个肋位"
   ]
  },
  {
   "cell_type": "code",
   "execution_count": 40,
   "id": "7e418ce8",
   "metadata": {
    "ExecuteTime": {
     "end_time": "2024-02-19T01:37:37.008035Z",
     "start_time": "2024-02-19T01:37:37.004073Z"
    }
   },
   "outputs": [
    {
     "name": "stdout",
     "output_type": "stream",
     "text": [
      "机舱长度为:19.2\n"
     ]
    }
   ],
   "source": [
    "# 取机舱长度为肋距的24倍\n",
    "engineRoomLength = 24*costal2_span/1000\n",
    "print(\"机舱长度为:%s\"%engineRoomLength)"
   ]
  },
  {
   "cell_type": "markdown",
   "id": "748318f1",
   "metadata": {},
   "source": [
    "## 货仓设计"
   ]
  },
  {
   "cell_type": "code",
   "execution_count": 42,
   "id": "1eb632b7",
   "metadata": {
    "ExecuteTime": {
     "end_time": "2024-02-19T01:37:58.445838Z",
     "start_time": "2024-02-19T01:37:58.441935Z"
    }
   },
   "outputs": [
    {
     "name": "stdout",
     "output_type": "stream",
     "text": [
      "剩余长度为177.22 m\n"
     ]
    }
   ],
   "source": [
    "# 剩余长度为\n",
    "remainingLength = Lpp-tailPeakCabinLength\\\n",
    "            -engineRoomLength-lengthAfterFp\n",
    "print(\"剩余长度为%s m\"%remainingLength)"
   ]
  },
  {
   "cell_type": "markdown",
   "id": "0bc54e47",
   "metadata": {},
   "source": [
    "货仓间1槽型舱壁占据一个肋位，7个舱室，6个舱壁，总占据长度为:"
   ]
  },
  {
   "cell_type": "code",
   "execution_count": 14,
   "id": "af2fc78c",
   "metadata": {
    "ExecuteTime": {
     "end_time": "2023-12-26T07:15:59.666596Z",
     "start_time": "2023-12-26T07:15:59.659734Z"
    }
   },
   "outputs": [
    {
     "data": {
      "text/plain": [
       "5.1"
      ]
     },
     "execution_count": 14,
     "metadata": {},
     "output_type": "execute_result"
    }
   ],
   "source": [
    "L_bulk = 6*costal3_span/1000\n",
    "L_bulk"
   ]
  },
  {
   "cell_type": "code",
   "execution_count": 15,
   "id": "4f919408",
   "metadata": {
    "ExecuteTime": {
     "end_time": "2023-12-26T07:15:59.824174Z",
     "start_time": "2023-12-26T07:15:59.820270Z"
    }
   },
   "outputs": [
    {
     "data": {
      "text/plain": [
       "172.10000000000002"
      ]
     },
     "execution_count": 15,
     "metadata": {},
     "output_type": "execute_result"
    }
   ],
   "source": [
    "# 货仓实际长度\n",
    "warehouseLength = remainingLength - L_bulk\n",
    "warehouseLength"
   ]
  },
  {
   "cell_type": "code",
   "execution_count": 16,
   "id": "61e54c0a",
   "metadata": {
    "ExecuteTime": {
     "end_time": "2023-12-26T07:16:00.006025Z",
     "start_time": "2023-12-26T07:16:00.001142Z"
    }
   },
   "outputs": [
    {
     "data": {
      "text/plain": [
       "202.47058823529414"
      ]
     },
     "execution_count": 16,
     "metadata": {},
     "output_type": "execute_result"
    }
   ],
   "source": [
    "# 是否为整肋位长度:否\n",
    "warehouseLength/costal3_span*1000"
   ]
  },
  {
   "cell_type": "code",
   "execution_count": 17,
   "id": "137763fa",
   "metadata": {
    "ExecuteTime": {
     "end_time": "2023-12-26T07:16:00.153476Z",
     "start_time": "2023-12-26T07:16:00.149569Z"
    }
   },
   "outputs": [],
   "source": [
    "# 为便于肋骨布置与肋位安排，此处取货仓长度为整数个肋距，取\n",
    "# 货仓长度为202个肋距\n",
    "warehouseLength = 202*costal3_span/1000\n",
    "# 每个货舱的肋位数为\n",
    "# 28 29 29 29 29 29 29"
   ]
  },
  {
   "cell_type": "code",
   "execution_count": 20,
   "id": "37e9cb2c",
   "metadata": {
    "ExecuteTime": {
     "end_time": "2023-12-26T07:34:05.627709Z",
     "start_time": "2023-12-26T07:34:05.623804Z"
    }
   },
   "outputs": [
    {
     "data": {
      "text/plain": [
       "171.7"
      ]
     },
     "execution_count": 20,
     "metadata": {},
     "output_type": "execute_result"
    }
   ],
   "source": [
    "warehouseLength"
   ]
  },
  {
   "cell_type": "markdown",
   "id": "3ce5b47c",
   "metadata": {},
   "source": [
    "由于货仓段缩短，设计船的垂线间长减小，其他主尺度也相应减小"
   ]
  },
  {
   "cell_type": "code",
   "execution_count": 18,
   "id": "55d19057",
   "metadata": {
    "ExecuteTime": {
     "end_time": "2023-12-26T07:16:00.528115Z",
     "start_time": "2023-12-26T07:16:00.522251Z"
    }
   },
   "outputs": [
    {
     "data": {
      "text/plain": [
       "10.5"
      ]
     },
     "execution_count": 18,
     "metadata": {},
     "output_type": "execute_result"
    }
   ],
   "source": [
    "lengthAfterFp"
   ]
  },
  {
   "cell_type": "code",
   "execution_count": 19,
   "id": "9bf3af52",
   "metadata": {
    "ExecuteTime": {
     "end_time": "2023-12-26T07:16:00.729696Z",
     "start_time": "2023-12-26T07:16:00.722858Z"
    }
   },
   "outputs": [
    {
     "name": "stdout",
     "output_type": "stream",
     "text": [
      "\n",
      "初步设计的尺寸为:\n",
      " 垂线间长: 214.75 m\n",
      " 型宽: 31.78 m\n",
      " 设计吃水: 12.31 m\n",
      " 结构吃水: 14.09 m\n",
      " 型深: 19.31 m\n",
      "\n"
     ]
    }
   ],
   "source": [
    "Lpp_final = round(tailPeakCabinLength + engineRoomLength +\\\n",
    "        lengthAfterFp + L_bulk+202*costal3_span/1000,2)\n",
    "B_final = round(Lpp_final/Lpp_parent*B_parent,2)\n",
    "d_design_final = round(Lpp_final/Lpp_parent*d_design_parent,2)\n",
    "d_structure_final = round(Lpp_final/Lpp_parent*d_structure_parent,2)\n",
    "D_final = round(Lpp_final/Lpp_parent*D_parent,2)\n",
    "print('''\n",
    "初步设计的尺寸为:\n",
    " 垂线间长: %s m\n",
    " 型宽: %s m\n",
    " 设计吃水: %s m\n",
    " 结构吃水: %s m\n",
    " 型深: %s m\n",
    "'''%(Lpp_final,B_final,d_design_final,d_structure_final,D_final))"
   ]
  }
 ],
 "metadata": {
  "kernelspec": {
   "display_name": "Python 3 (ipykernel)",
   "language": "python",
   "name": "python3"
  },
  "language_info": {
   "codemirror_mode": {
    "name": "ipython",
    "version": 3
   },
   "file_extension": ".py",
   "mimetype": "text/x-python",
   "name": "python",
   "nbconvert_exporter": "python",
   "pygments_lexer": "ipython3",
   "version": "3.9.12"
  },
  "toc": {
   "base_numbering": 1,
   "nav_menu": {},
   "number_sections": true,
   "sideBar": true,
   "skip_h1_title": false,
   "title_cell": "Table of Contents",
   "title_sidebar": "Contents",
   "toc_cell": false,
   "toc_position": {},
   "toc_section_display": true,
   "toc_window_display": false
  }
 },
 "nbformat": 4,
 "nbformat_minor": 5
}
