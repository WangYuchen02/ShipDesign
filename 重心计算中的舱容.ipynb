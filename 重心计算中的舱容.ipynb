{
 "cells": [
  {
   "cell_type": "code",
   "execution_count": 2,
   "id": "c49d3d16",
   "metadata": {
    "ExecuteTime": {
     "end_time": "2024-03-18T05:40:01.786691Z",
     "start_time": "2024-03-18T05:39:56.860722Z"
    }
   },
   "outputs": [],
   "source": [
    "from scipy.interpolate import interp1d\n",
    "from scipy.integrate import simpson\n",
    "import numpy as np"
   ]
  },
  {
   "cell_type": "markdown",
   "id": "e0888b0c",
   "metadata": {},
   "source": [
    "# 设计船与母船尺度数据"
   ]
  },
  {
   "cell_type": "code",
   "execution_count": 3,
   "id": "858e09be",
   "metadata": {
    "ExecuteTime": {
     "end_time": "2024-03-18T05:40:01.793438Z",
     "start_time": "2024-03-18T05:40:01.788557Z"
    }
   },
   "outputs": [],
   "source": [
    "L_total_parent = 225 # 母船总长度\n",
    "Lpp_parent = 218 # 母船垂线间长\n",
    "B_parent = 32.26 # 母船型宽\n",
    "D_parent = 19.6 # 母船型深\n",
    "d_design_parent = 12.5 # 母船设计吃水\n",
    "d_structure_parent = 14.3 # 母船结构吃水\\\n",
    "DW_parent = 75088 # 母船载重量 :t\n",
    "Lw_parent = Lpp_parent+5*0.75 # 水线间长:m ,首垂线与尾垂线距离+ 尾垂线后5个肋位，每个肋位距离为0.75m，参考母船总布置图\n",
    "L_ball_parent = 4*0.75 # 首垂线至球首前端距，#256 - # 260，肋距为0.75m，参考母船总布置图\n",
    "nabla_parent = 85488.56 # 母船结构吃水14.3m处的排水体积，参考静水力计算书\n",
    "delta_parent = 87809.16 # 母船结构吃水处的排水量,参考静水力计算书吃水14.3m时的displt"
   ]
  },
  {
   "cell_type": "code",
   "execution_count": 4,
   "id": "59233712",
   "metadata": {
    "ExecuteTime": {
     "end_time": "2024-03-18T05:40:01.815793Z",
     "start_time": "2024-03-18T05:40:01.794415Z"
    }
   },
   "outputs": [],
   "source": [
    "# 设计船信息\n",
    "DW = 72100 # 设计船载重量,t\n",
    "Cb = 0.85\n",
    "Lpp = 215.17    # m\n",
    "B = 31.84       # m \n",
    "D = 19.34       # m\n",
    "d = 14.11       # m\n",
    "delta = 84292   # t"
   ]
  },
  {
   "cell_type": "markdown",
   "id": "9570bef5",
   "metadata": {},
   "source": [
    "# 截面面积"
   ]
  },
  {
   "cell_type": "code",
   "execution_count": 5,
   "id": "d33bfb78",
   "metadata": {
    "ExecuteTime": {
     "end_time": "2024-03-18T05:40:01.825114Z",
     "start_time": "2024-03-18T05:40:01.817300Z"
    }
   },
   "outputs": [],
   "source": [
    "# 横剖面面积计算\n",
    "AS_tail = 52.82 * 2 # 艉封板\n",
    "AS_0 =  (72.45 + 0.82) * 2 # 0站,0.82是螺旋桨位置剖面面积\n",
    "AS_0_5 = 103.59 * 2 # 0.5站\n",
    "AS_0_75 = 129.23 * 2 # 0.75站\n",
    "AS_1 = 1512.21 * 2 # 1站\n",
    "AS_1_5 = 191.21 * 2 # 1.5站\n",
    "AS_2 = 225.26 * 2 # 2站\n",
    "AS_2_5 =  246.50 * 2 # 2.5站\n",
    "AS_3 = 266.03 * 2 # 3站\n",
    "AS_3_5 = 282.17 * 2 # 3.5站\n",
    "AS_4 = 294.87 * 2 # 4站\n",
    "AS_4_5 = 303.41 * 2 # 4.5站\n",
    "AS_5 = 308.59 * 2 # 5站\n",
    "AS_5_5 = 311.41 * 2 # 5.5站\n",
    "AS_6 = 313.26 * 2 # 6站\n",
    "AS_6_5 = 314.19 # 6.5站\n",
    "AS_7 = 314.48 * 2 # 7站\n",
    "AS_8 = AS_9 = AS_10 = AS_11 = AS_12 = AS_13 = AS_14 = 314.56 * 2\n",
    "AS_15 = 311.30 * 2 # 15站\n",
    "AS_16 =  314.38 * 2 # 16站\n",
    "AS_17 = 312.91 * 2 # 17站截面的面积\n",
    "AS_17_5 = 302.41 * 2 # 17.5站\n",
    "AS_18 =  276.11 * 2 # 18站\n",
    "AS_18_5 = 242.77 * 2 # 18.5站\n",
    "AS_19 = 199 * 2 # 19站\n",
    "AS_19_5  = 153.46 * 2 # 19.5站\n",
    "AS_20 = (19.37 + 31.66) * 2 # 20站"
   ]
  },
  {
   "cell_type": "markdown",
   "id": "2544d4b6",
   "metadata": {},
   "source": [
    "# 货舱"
   ]
  },
  {
   "cell_type": "markdown",
   "id": "3386a2b7",
   "metadata": {},
   "source": [
    "## 母船货舱数据"
   ]
  },
  {
   "cell_type": "code",
   "execution_count": 6,
   "id": "99269264",
   "metadata": {
    "ExecuteTime": {
     "end_time": "2024-03-18T05:40:01.833889Z",
     "start_time": "2024-03-18T05:40:01.828031Z"
    }
   },
   "outputs": [],
   "source": [
    "# 容积\n",
    "V_cargo1_parent = 10428.53 # m3\n",
    "V_cargo2_parent = 13612.98\n",
    "V_cargo3_parent = 13477.53\n",
    "V_cargo4_parent = 13482.34\n",
    "V_cargo5_parent = 13571.75\n",
    "V_cargo6_parent = 13566.95\n",
    "V_cargo7_parent = 12117.57\n",
    "# 重心在货舱中的齐次坐标: (重心坐标 - 货舱起始坐标)/货舱长度 (重心坐标 - 货舱起始高度)/货舱高度 横向坐标统一为0\n",
    "LCG_ratio_cargo1_parent = (194.613 - 183.98)/23.49\n",
    "LCG_ratio_cargo2_parent = (170.559 - 157.88)/25.23\n",
    "LCG_ratio_cargo3_parent = (144.513 - 131.78)/25.23\n",
    "LCG_ratio_cargo4_parent = (118.418 - 105.68)/25.23\n",
    "LCG_ratio_cargo5_parent = (92.236 - 79.58)/25.23\n",
    "LCG_ratio_cargo6_parent = (66.130 - 53.48)/25.23\n",
    "LCG_ratio_cargo7_parent = (40.993 - 28.25)/25.36\n",
    "\n",
    "VCG_ratio_cargo1_parent = (11.481 - 1.71)/17.89\n",
    "VCG_ratio_cargo2_parent = (11.084 - 1.71)/17.89\n",
    "VCG_ratio_cargo3_parent = (11.046 - 1.71)/17.89\n",
    "VCG_ratio_cargo4_parent = (11.047 - 1.71)/17.89\n",
    "VCG_ratio_cargo5_parent = (11.052 - 1.71)/17.89\n",
    "VCG_ratio_cargo6_parent = (11.051 - 1.71)/17.89\n",
    "VCG_ratio_cargo7_parent = (11.489 - 1.71)/17.89"
   ]
  },
  {
   "cell_type": "markdown",
   "id": "178a7ce5",
   "metadata": {},
   "source": [
    "## 舱容估算"
   ]
  },
  {
   "cell_type": "code",
   "execution_count": 7,
   "id": "d176b596",
   "metadata": {
    "ExecuteTime": {
     "end_time": "2024-03-18T05:40:01.843205Z",
     "start_time": "2024-03-18T05:40:01.834864Z"
    }
   },
   "outputs": [
    {
     "name": "stdout",
     "output_type": "stream",
     "text": [
      "\n",
      "第一货舱的容积为  10024.38 m3\n",
      "第二货舱的容积为  13085.42 m3\n",
      "第三货舱的容积为  12955.22 m3\n",
      "第四货舱的容积为  12959.84 m3\n",
      "第五货舱的容积为  13045.78 m3\n",
      "第六货舱的容积为  13041.17 m3\n",
      "第七货舱的容积为  11647.96 m3\n",
      "\n"
     ]
    }
   ],
   "source": [
    "# 母船缩放\n",
    "k = D * B * Lpp / (D_parent*B_parent*Lpp_parent)\n",
    "V_cargo1 = V_cargo1_parent * k\n",
    "V_cargo2 = V_cargo2_parent * k\n",
    "V_cargo3 = V_cargo3_parent * k\n",
    "V_cargo4 = V_cargo4_parent * k\n",
    "V_cargo5 = V_cargo5_parent * k\n",
    "V_cargo6 = V_cargo6_parent * k\n",
    "V_cargo7 = V_cargo7_parent * k\n",
    "print(\"\"\"\n",
    "第一货舱的容积为  %.2f m3\n",
    "第二货舱的容积为  %.2f m3\n",
    "第三货舱的容积为  %.2f m3\n",
    "第四货舱的容积为  %.2f m3\n",
    "第五货舱的容积为  %.2f m3\n",
    "第六货舱的容积为  %.2f m3\n",
    "第七货舱的容积为  %.2f m3\n",
    "\"\"\"%(V_cargo1, V_cargo2, V_cargo3, V_cargo4, V_cargo5, V_cargo6, V_cargo7))"
   ]
  },
  {
   "cell_type": "markdown",
   "id": "57c275c4",
   "metadata": {},
   "source": [
    "## 重心估算"
   ]
  },
  {
   "cell_type": "code",
   "execution_count": 8,
   "id": "4706edb9",
   "metadata": {
    "ExecuteTime": {
     "end_time": "2024-03-18T05:40:01.852968Z",
     "start_time": "2024-03-18T05:40:01.845157Z"
    }
   },
   "outputs": [
    {
     "name": "stdout",
     "output_type": "stream",
     "text": [
      "\n",
      "第一货舱的形心纵向垂向坐标为  (190.76, 11.33) m3\n",
      "第二货舱的形心纵向垂向坐标为  (166.49, 10.94) m3\n",
      "第三货舱的形心纵向垂向坐标为  (141.04, 10.90) m3\n",
      "第四货舱的形心纵向垂向坐标为  (115.55, 10.90) m3\n",
      "第五货舱的形心纵向垂向坐标为  (89.97, 10.90) m3\n",
      "第六货舱的形心纵向垂向坐标为  (64.46, 10.90) m3\n",
      "第七货舱的形心纵向垂向坐标为  (39.41, 11.34) m3\n",
      "\n"
     ]
    }
   ],
   "source": [
    "L_cargo1 = L_cargo2 = L_cargo3 = L_cargo4 = L_cargo5 = L_cargo6 = 24.65\n",
    "L_cargo7 = 23.8\n",
    "start_cargo1 = 179.6\n",
    "start_cargo2 = 154.1\n",
    "start_cargo3 = 128.6\n",
    "start_cargo4 = 103.1\n",
    "start_cargo5 = 77.6\n",
    "start_cargo6 = 52.1\n",
    "start_cargo7 = 27.45\n",
    "start_v_cargo = 1.684 # 双层底高度\n",
    "Height_cargo = 17.657\n",
    "LCG_cargo1 = start_cargo1 + L_cargo1 * LCG_ratio_cargo1_parent\n",
    "LCG_cargo2 = start_cargo2 + L_cargo2 * LCG_ratio_cargo2_parent\n",
    "LCG_cargo3 = start_cargo3 + L_cargo3 * LCG_ratio_cargo3_parent\n",
    "LCG_cargo4 = start_cargo4 + L_cargo4 * LCG_ratio_cargo4_parent\n",
    "LCG_cargo5 = start_cargo5 + L_cargo5 * LCG_ratio_cargo5_parent\n",
    "LCG_cargo6 = start_cargo6 + L_cargo6 * LCG_ratio_cargo6_parent\n",
    "LCG_cargo7 = start_cargo7 + L_cargo7 * LCG_ratio_cargo7_parent\n",
    "\n",
    "VCG_cargo1 = start_v_cargo + Height_cargo * VCG_ratio_cargo1_parent\n",
    "VCG_cargo2 = start_v_cargo + Height_cargo * VCG_ratio_cargo2_parent\n",
    "VCG_cargo3 = start_v_cargo + Height_cargo * VCG_ratio_cargo3_parent\n",
    "VCG_cargo4 = start_v_cargo + Height_cargo * VCG_ratio_cargo4_parent\n",
    "VCG_cargo5 = start_v_cargo + Height_cargo * VCG_ratio_cargo5_parent\n",
    "VCG_cargo6 = start_v_cargo + Height_cargo * VCG_ratio_cargo6_parent\n",
    "VCG_cargo7 = start_v_cargo + Height_cargo * VCG_ratio_cargo7_parent\n",
    "print(\"\"\"\n",
    "第一货舱的形心纵向垂向坐标为  (%.2f, %.2f) m3\n",
    "第二货舱的形心纵向垂向坐标为  (%.2f, %.2f) m3\n",
    "第三货舱的形心纵向垂向坐标为  (%.2f, %.2f) m3\n",
    "第四货舱的形心纵向垂向坐标为  (%.2f, %.2f) m3\n",
    "第五货舱的形心纵向垂向坐标为  (%.2f, %.2f) m3\n",
    "第六货舱的形心纵向垂向坐标为  (%.2f, %.2f) m3\n",
    "第七货舱的形心纵向垂向坐标为  (%.2f, %.2f) m3\n",
    "\"\"\"%(LCG_cargo1,VCG_cargo1,LCG_cargo2,VCG_cargo2,\n",
    "    LCG_cargo3,VCG_cargo3,LCG_cargo4,VCG_cargo4,\n",
    "    LCG_cargo5,VCG_cargo5,LCG_cargo6,VCG_cargo6,\n",
    "    LCG_cargo7,VCG_cargo7))"
   ]
  },
  {
   "cell_type": "code",
   "execution_count": 9,
   "id": "fed3072e",
   "metadata": {
    "ExecuteTime": {
     "end_time": "2024-03-18T05:40:01.860776Z",
     "start_time": "2024-03-18T05:40:01.853944Z"
    }
   },
   "outputs": [
    {
     "name": "stdout",
     "output_type": "stream",
     "text": [
      "货物密度为0.794 t/m^3\n"
     ]
    }
   ],
   "source": [
    "# 货物重量\n",
    "rho = 1/1.26 # 参考书p33也货物的积载系数，V=W * u，u是积载因数，因此rho=W/V=1/u\n",
    "print(\"货物密度为%.3f t/m^3\"%rho)"
   ]
  },
  {
   "cell_type": "markdown",
   "id": "7b0aa7dd",
   "metadata": {},
   "source": [
    "# 压载水舱"
   ]
  },
  {
   "cell_type": "markdown",
   "id": "c62b6845",
   "metadata": {},
   "source": [
    "## 侧压载舱"
   ]
  },
  {
   "cell_type": "markdown",
   "id": "a69c8ea6",
   "metadata": {},
   "source": [
    "### 舱容计算"
   ]
  },
  {
   "cell_type": "code",
   "execution_count": 10,
   "id": "70109369",
   "metadata": {
    "ExecuteTime": {
     "end_time": "2024-03-18T05:40:01.868400Z",
     "start_time": "2024-03-18T05:40:01.862730Z"
    },
    "scrolled": true
   },
   "outputs": [
    {
     "name": "stdout",
     "output_type": "stream",
     "text": [
      "\n",
      "第一侧压载舱S,P的容积为  330.03 m3\n",
      "第二侧压载舱S,P的容积为  351.96 m3\n",
      "第三侧压载舱S,P的容积为  351.96 m3\n",
      "第四侧压载舱S,P的容积为  351.96 m3\n",
      "第五侧压载舱S,P的容积为  351.96 m3\n",
      "第六侧压载舱S,P的容积为  351.96 m3\n",
      "第七侧压载舱S,P的容积为  232.55 m3\n",
      "\n"
     ]
    }
   ],
   "source": [
    "W,H,L = 1.283,10.758,25.5 # 平行中体部分侧压载舱S的尺寸\n",
    "A1 = 30.678 # 第一压载舱S俯视图面积，从CAD双层底图看\n",
    "H1 = 10.758 # 第一压载舱S高度\n",
    "A2 = 29.826 # 第七压载舱S俯视图面积\n",
    "H2 = 5.764 # 第七压载舱S的上半部分高度\n",
    "ratio = 48.386 / 137.185 # 第七压载舱S下半与上半侧面积之比，这里认为下半与上半压载舱体积之比等于其侧面积之比\n",
    "# 体积计算\n",
    "V_SBWT2 = V_SBWT3 = V_SBWT4 = V_SBWT5 = V_SBWT6 = W * H * L # 单侧压载舱的体积\n",
    "V_SBWT1 = A1 * H1 # 单侧\n",
    "V_SBWT7 = A2 * H2 * (1 + ratio)\n",
    "print(\"\"\"\n",
    "第一侧压载舱S,P的容积为  %.2f m3\n",
    "第二侧压载舱S,P的容积为  %.2f m3\n",
    "第三侧压载舱S,P的容积为  %.2f m3\n",
    "第四侧压载舱S,P的容积为  %.2f m3\n",
    "第五侧压载舱S,P的容积为  %.2f m3\n",
    "第六侧压载舱S,P的容积为  %.2f m3\n",
    "第七侧压载舱S,P的容积为  %.2f m3\n",
    "\"\"\"%(V_SBWT1,V_SBWT2,V_SBWT3,V_SBWT4,\n",
    "    V_SBWT5,V_SBWT6,V_SBWT7))"
   ]
  },
  {
   "cell_type": "markdown",
   "id": "ae0b3792",
   "metadata": {},
   "source": [
    "### 重心计算"
   ]
  },
  {
   "cell_type": "code",
   "execution_count": 11,
   "id": "a77eba9b",
   "metadata": {
    "ExecuteTime": {
     "end_time": "2024-03-18T05:40:01.909419Z",
     "start_time": "2024-03-18T05:40:01.904733Z"
    }
   },
   "outputs": [
    {
     "name": "stdout",
     "output_type": "stream",
     "text": [
      "\n",
      "第一侧压载舱S的纵向、垂向坐标为  (40.64, 11.46) m3\n",
      "第二侧压载舱S的纵向、垂向坐标为  (64.00, 10.12) m3\n",
      "第三侧压载舱S的纵向、垂向坐标为  (89.50, 10.12) m3\n",
      "第四侧压载舱S的纵向、垂向坐标为  (115.00, 10.12) m3\n",
      "第五侧压载舱S的纵向、垂向坐标为  (140.50, 10.12) m3\n",
      "第六侧压载舱S的纵向、垂向坐标为  (166.00, 10.12) m3\n",
      "第七侧压载舱S的纵向、垂向坐标为  (191.50, 10.12) m3\n",
      "\n"
     ]
    }
   ],
   "source": [
    "# 平行中体部分侧压载舱重心为\n",
    "VCG_SBWT2 = VCG_SBWT3 = VCG_SBWT4 = VCG_SBWT5 = VCG_SBWT6 = VCG_SBWT7 = 10.12 # CAD量取\n",
    "VCG_SBWT1 = 11.46\n",
    "# 以下数据从CAD中量取\n",
    "LCG_SBWT1 = 40.64\n",
    "LCG_SBWT2 = 64\n",
    "LCG_SBWT3 = 89.5\n",
    "LCG_SBWT4 = 115\n",
    "LCG_SBWT5 = 140.5\n",
    "LCG_SBWT6 = 166\n",
    "LCG_SBWT7 = 191.5\n",
    "\n",
    "print(\"\"\"\n",
    "第一侧压载舱S的纵向、垂向坐标为  (%.2f, %.2f) m3\n",
    "第二侧压载舱S的纵向、垂向坐标为  (%.2f, %.2f) m3\n",
    "第三侧压载舱S的纵向、垂向坐标为  (%.2f, %.2f) m3\n",
    "第四侧压载舱S的纵向、垂向坐标为  (%.2f, %.2f) m3\n",
    "第五侧压载舱S的纵向、垂向坐标为  (%.2f, %.2f) m3\n",
    "第六侧压载舱S的纵向、垂向坐标为  (%.2f, %.2f) m3\n",
    "第七侧压载舱S的纵向、垂向坐标为  (%.2f, %.2f) m3\n",
    "\"\"\"%(LCG_SBWT1,VCG_SBWT1,\n",
    "    LCG_SBWT2,VCG_SBWT2,\n",
    "    LCG_SBWT3,VCG_SBWT3,\n",
    "    LCG_SBWT4,VCG_SBWT4,\n",
    "    LCG_SBWT5,VCG_SBWT5,\n",
    "    LCG_SBWT6,VCG_SBWT6,\n",
    "    LCG_SBWT7,VCG_SBWT7))"
   ]
  },
  {
   "cell_type": "markdown",
   "id": "4dee66a8",
   "metadata": {},
   "source": [
    "## 顶压载舱"
   ]
  },
  {
   "cell_type": "code",
   "execution_count": 12,
   "id": "2463865a",
   "metadata": {
    "ExecuteTime": {
     "end_time": "2024-03-18T05:40:03.485554Z",
     "start_time": "2024-03-18T05:40:03.387620Z"
    }
   },
   "outputs": [
    {
     "name": "stdout",
     "output_type": "stream",
     "text": [
      "\n",
      "第一顶压载舱P,S的舱容为                  629.11   m3\n",
      "第一顶压载舱P,S重心的纵向、垂向坐标为    (191.89, 18.71) m3\n",
      "\n"
     ]
    }
   ],
   "source": [
    "# 容积计算\n",
    "# 假设顶边舱各截面处的面积比例等于各截面处高度的比例\n",
    "# 重心相对于顶边舱底部的高度比例等于各截面处高度的比例\n",
    "BASE_H = 3849 # 中横剖面处的顶边舱高度\n",
    "BASE_A = 19.88 # 中横剖面处的顶边舱面积\n",
    "BASE_zg = 18.05 # 中横剖面处的重心高度\n",
    "BASE_L_Z = 15.496 # 顶边舱底部的高度\n",
    "\n",
    "# 在第一顶边舱中纵剖面均匀取11个位置测量高度\n",
    "_x = [178.75,181.3,183.85,186.4,188.95,191.5,194.05,196.6,199.15,201.7,204.25]\n",
    "_h = [4441,4508,4574,4642,4713,4791,4876,4972,5080,5202,5339]\n",
    "# 各剖面面积\n",
    "A = [BASE_A * (i/BASE_H) for i in _h]\n",
    "zg = [BASE_L_Z + (BASE_zg - BASE_L_Z) * (i / BASE_H) for i in _h]\n",
    "# 插值\n",
    "A_inter = interp1d(_x,A)\n",
    "zg_inter = interp1d(_x,zg)\n",
    "x_list = np.linspace(178.75,204.25,100)\n",
    "# 求取体积\n",
    "A_list = A_inter(x_list)\n",
    "V_TBWT_1 = simpson(A_list,dx=(204.25-178.75)/100)\n",
    "# 求取重心垂向坐标\n",
    "zg_list = zg_inter(x_list)\n",
    "xg_list = x_list\n",
    "zg_TBWT_1 = np.sum(zg_list*A_list)/np.sum(A_list)\n",
    "xg_TBWT_1 = np.sum(xg_list*A_list)/np.sum(A_list)\n",
    "print(\"\"\"\n",
    "第一顶压载舱P,S的舱容为                  %.2f   m3\n",
    "第一顶压载舱P,S重心的纵向、垂向坐标为    (%.2f, %.2f) m3\n",
    "\"\"\"%(V_TBWT_1,xg_TBWT_1,zg_TBWT_1))"
   ]
  },
  {
   "cell_type": "code",
   "execution_count": 13,
   "id": "9b04bb9c",
   "metadata": {
    "ExecuteTime": {
     "end_time": "2024-03-18T05:40:04.220106Z",
     "start_time": "2024-03-18T05:40:04.215227Z"
    }
   },
   "outputs": [
    {
     "name": "stdout",
     "output_type": "stream",
     "text": [
      "\n",
      "第二顶压载舱P,S的舱容为                      1013.88 m3\n",
      "第二顶压载舱P,S的重心纵向、垂向坐标为       (153.88, 17.50) m3\n",
      "第三顶压载舱P,S的舱容为                      1013.88 m3\n",
      "第三顶压载舱P,S的重心纵向、垂向坐标为       (102.25, 17.42) m3\n",
      "\n"
     ]
    }
   ],
   "source": [
    "# 第二第三顶压载舱剖面形状在纵向基本一致,与中纵剖面一致\n",
    "V_TBWT_2 = V_TBWT_3 = BASE_A * 51 # 25.5是舱室的跨度\n",
    "LCG_TBWT_2 = 153.88\n",
    "VCG_TBWT_2 = 17.50\n",
    "LCG_TBWT_3 = 102.25\n",
    "VCG_TBWT_3 = 17.42\n",
    "print(\"\"\"\n",
    "第二顶压载舱P,S的舱容为                      %.2f m3\n",
    "第二顶压载舱P,S的重心纵向、垂向坐标为       (%.2f, %.2f) m3\n",
    "第三顶压载舱P,S的舱容为                      %.2f m3\n",
    "第三顶压载舱P,S的重心纵向、垂向坐标为       (%.2f, %.2f) m3\n",
    "\"\"\"%(V_TBWT_2,LCG_TBWT_2,VCG_TBWT_2,\n",
    "     V_TBWT_3,LCG_TBWT_3,VCG_TBWT_3))"
   ]
  },
  {
   "cell_type": "markdown",
   "id": "2c217f1b",
   "metadata": {},
   "source": [
    "## 双层底压载舱"
   ]
  },
  {
   "cell_type": "code",
   "execution_count": 14,
   "id": "ec8232f0",
   "metadata": {
    "ExecuteTime": {
     "end_time": "2024-03-18T05:40:04.595600Z",
     "start_time": "2024-03-18T05:40:04.588768Z"
    }
   },
   "outputs": [
    {
     "name": "stdout",
     "output_type": "stream",
     "text": [
      "\n",
      "第一压载水舱（左、右）的容积为                290.72 m3\n",
      "第一压载水舱（左、右）形心的纵向、垂坐标为   (173.59, 190.28) m3\n",
      "\n"
     ]
    }
   ],
   "source": [
    "from scipy.interpolate import interp1d\n",
    "from scipy.integrate import simpson\n",
    "import numpy as np\n",
    "# 第一双层底压载舱\n",
    "x = [0,0.5,1,2]\n",
    "A = [107.142,164.021,188.534,222.39]\n",
    "xg = [42.29,41.53,41.31,41.03]\n",
    "\n",
    "A_inter = interp1d(x,A)\n",
    "xg_inter = interp1d(x,xg)\n",
    "x_list = np.linspace(0,1.688,100)\n",
    "# 体积计算\n",
    "A_list = A_inter(x_list)\n",
    "V_DBWT_1 = simpson(A_list,dx=1.688/100)\n",
    "# 形心计算\n",
    "xg_list = xg_inter(x_list)\n",
    "zg_list = x_list\n",
    "LCG_DBWT_1 = np.sum(A_list * xg_list) / xg_list.sum()\n",
    "VCG_DBWT_1 = np.sum(A_list * zg_list) / zg_list.sum()\n",
    "print(\"\"\"\n",
    "第一压载水舱（左、右）的容积为                %.2f m3\n",
    "第一压载水舱（左、右）形心的纵向、垂坐标为   (%.2f, %.2f) m3\n",
    "\"\"\"%(V_DBWT_1,LCG_DBWT_1,VCG_DBWT_1))"
   ]
  },
  {
   "cell_type": "markdown",
   "id": "36efb240",
   "metadata": {},
   "source": [
    "# 淡水"
   ]
  },
  {
   "cell_type": "markdown",
   "id": "91bfc3ee",
   "metadata": {},
   "source": [
    "## 淡水舱"
   ]
  },
  {
   "cell_type": "code",
   "execution_count": 15,
   "id": "e00b63de",
   "metadata": {
    "ExecuteTime": {
     "end_time": "2024-03-18T05:40:05.343813Z",
     "start_time": "2024-03-18T05:40:05.337962Z"
    }
   },
   "outputs": [
    {
     "name": "stdout",
     "output_type": "stream",
     "text": [
      "\n",
      "淡水舱的容积为             239.60 m3\n",
      "重心的纵向、垂向坐标为    (3.92,16.67) m3\n",
      "\n"
     ]
    }
   ],
   "source": [
    "x = [13,14,15,16,17,18,19,19.34]\n",
    "A = [27.11,32.55,37.04,41.05,44.40,46.90,48.82,49.39]\n",
    "xg = [4.118,4.020,3.952,3.929,3.894,3.881,3.865,3.861]\n",
    "\n",
    "A_inter = interp1d(x,A)\n",
    "xg_inter = interp1d(x,xg)\n",
    "x_list = np.linspace(13.552,19.34,200)\n",
    "# 体积计算\n",
    "A_list = A_inter(x_list)\n",
    "V = simpson(A_list,dx=(19.34-13.552)/200)\n",
    "# 重心坐标计算\n",
    "zg_list = x_list\n",
    "xg_list = xg_inter(x_list)\n",
    "zg = np.sum(A_list * zg_list) / np.sum(A_list)\n",
    "xg = np.sum(A_list * xg_list) / np.sum(A_list)\n",
    "print(\"\"\"\n",
    "淡水舱的容积为             %.2f m3\n",
    "重心的纵向、垂向坐标为    (%.2f,%.2f) m3\n",
    "\"\"\"%(V,xg,zg))"
   ]
  },
  {
   "cell_type": "code",
   "execution_count": 16,
   "id": "3177b571",
   "metadata": {
    "ExecuteTime": {
     "end_time": "2024-03-18T05:40:05.633117Z",
     "start_time": "2024-03-18T05:40:05.623356Z"
    }
   },
   "outputs": [
    {
     "data": {
      "text/plain": [
       "23.88351754143688"
      ]
     },
     "execution_count": 16,
     "metadata": {},
     "output_type": "execute_result"
    }
   ],
   "source": [
    "# 到港时\n",
    "# 高度   容积 \n",
    "# 14.8   41.31\n",
    "# 14.2   20.53\n",
    "# 14.3   23.88  # 基本可认为是到港时的液面高度\n",
    "x_list=  np.linspace(13.552,14.3,200)\n",
    "A_list = A_inter(x_list)\n",
    "V = simpson(A_list, dx=(14.3-13.552)/200)\n",
    "V"
   ]
  },
  {
   "cell_type": "code",
   "execution_count": 17,
   "id": "4d073c0c",
   "metadata": {
    "ExecuteTime": {
     "end_time": "2024-03-18T05:40:05.877721Z",
     "start_time": "2024-03-18T05:40:05.872842Z"
    }
   },
   "outputs": [
    {
     "name": "stdout",
     "output_type": "stream",
     "text": [
      "\n",
      "到港时，淡水舱\n",
      "重心的纵向、垂向坐标为   (4.03, 13.93) m3\n",
      "此时的液面最高点高度为     14.8 m\n",
      "自由液面惯性矩为          1738.55 t*m\n",
      "\n"
     ]
    }
   ],
   "source": [
    "# 惯性矩计算\n",
    "# 高度  惯性矩\n",
    "# 14    1435.21\n",
    "# 15    1814.39\n",
    "# 重心坐标计算\n",
    "zg_list = x_list\n",
    "xg_list = xg_inter(x_list)\n",
    "zg = np.sum(A_list * zg_list) / np.sum(A_list)\n",
    "xg = np.sum(A_list * xg_list) / np.sum(A_list)\n",
    "I = 1435.21 + (1814.39 - 1435.21) * (14.8 - 14)\n",
    "print(\"\"\"\n",
    "到港时，淡水舱\n",
    "重心的纵向、垂向坐标为   (%.2f, %.2f) m3\n",
    "此时的液面最高点高度为     14.8 m\n",
    "自由液面惯性矩为          %.2f t*m\n",
    "\"\"\"%(xg,zg,I))"
   ]
  },
  {
   "cell_type": "markdown",
   "id": "d22666ac",
   "metadata": {},
   "source": [
    "## 蒸馏水舱"
   ]
  },
  {
   "cell_type": "code",
   "execution_count": 18,
   "id": "7bcf85bc",
   "metadata": {
    "ExecuteTime": {
     "end_time": "2024-03-18T05:40:06.549472Z",
     "start_time": "2024-03-18T05:40:06.544593Z"
    }
   },
   "outputs": [
    {
     "name": "stdout",
     "output_type": "stream",
     "text": [
      "\n",
      "蒸馏水舱的容积为        23.27 m3\n",
      "重心纵向、垂向坐标为   (7.51, 14.51) m3\n",
      "自由液面惯性矩为        61.25 t*m\n",
      "\n"
     ]
    }
   ],
   "source": [
    "V_DIS_WTK = 1.493 * 7.896 * 1.974 # x方向跨度为1.493m，y方向跨度为7.896m，z方向跨度为1.974m,对称于x轴\n",
    "I_DIS_WTK = 1.493 * 7.896**3 / 12 * 1 # 1是密度,1t/m3\n",
    "LCG_DIS_WTK = 7.51 # m\n",
    "VCG_DIS_WTK = 14.51 # m\n",
    "print(\"\"\"\n",
    "蒸馏水舱的容积为        %.2f m3\n",
    "重心纵向、垂向坐标为   (%.2f, %.2f) m3\n",
    "自由液面惯性矩为        %.2f t*m\n",
    "\"\"\"%(V_DIS_WTK,LCG_DIS_WTK,VCG_DIS_WTK,I_DIS_WTK))"
   ]
  },
  {
   "cell_type": "code",
   "execution_count": 19,
   "id": "fc2d4e68",
   "metadata": {
    "ExecuteTime": {
     "end_time": "2024-03-18T05:40:06.833943Z",
     "start_time": "2024-03-18T05:40:06.830038Z"
    }
   },
   "outputs": [
    {
     "name": "stdout",
     "output_type": "stream",
     "text": [
      "\n",
      "到港时，蒸馏水舱\n",
      "重心纵向、垂向坐标为    (7.51, 13.62) m3\n",
      "自由液面惯性矩为         61.25   t*m\n",
      "\n"
     ]
    }
   ],
   "source": [
    "# 到港时\n",
    "VCG_DIS_WTK_1_10 = 13.522 + 0.05 * 1.974 # 13.522是蒸馏水舱最底部的高度，1.974是蒸馏水舱的高度，重心在5%处\n",
    "print(\"\"\"\n",
    "到港时，蒸馏水舱\n",
    "重心纵向、垂向坐标为    (%.2f, %.2f) m3\n",
    "自由液面惯性矩为         %.2f   t*m\n",
    "\"\"\"%(LCG_DIS_WTK,VCG_DIS_WTK_1_10,I_DIS_WTK))"
   ]
  },
  {
   "cell_type": "markdown",
   "id": "b3d6b84a",
   "metadata": {},
   "source": [
    "# 燃油"
   ]
  },
  {
   "cell_type": "markdown",
   "id": "599c05cd",
   "metadata": {},
   "source": [
    "## 柴油舱"
   ]
  },
  {
   "cell_type": "code",
   "execution_count": 20,
   "id": "5e8eac77",
   "metadata": {
    "ExecuteTime": {
     "end_time": "2024-03-18T05:40:07.853217Z",
     "start_time": "2024-03-18T05:40:07.849313Z"
    }
   },
   "outputs": [
    {
     "name": "stdout",
     "output_type": "stream",
     "text": [
      "\n",
      "柴油舱的容积为             130 m3\n",
      "质心的纵向、垂向坐标为     (25.37,3.86) m3\n",
      "\n"
     ]
    }
   ],
   "source": [
    "# 柴油舱设计容量取130m3，大于计算所需的123.39m3\n",
    "V_doil = 130\n",
    "# 总布置图中柴油舱分为左右两舱，每舱容积65m3\n",
    "# 有CAD测量或测质心数据为\n",
    "x_doil = 25.37\n",
    "z_doil = 3.86\n",
    "print(f\"\"\"\n",
    "柴油舱的容积为             {V_doil} m3\n",
    "质心的纵向、垂向坐标为     ({x_doil},{z_doil}) m3\n",
    "\"\"\")"
   ]
  },
  {
   "cell_type": "code",
   "execution_count": 21,
   "id": "9cc270ee",
   "metadata": {
    "ExecuteTime": {
     "end_time": "2024-03-18T05:40:08.241857Z",
     "start_time": "2024-03-18T05:40:08.237122Z"
    }
   },
   "outputs": [
    {
     "name": "stdout",
     "output_type": "stream",
     "text": [
      "\n",
      "柴油舱长度为    1.60 m\n",
      "柴油舱宽度为    20.59 m\n",
      "\n"
     ]
    }
   ],
   "source": [
    "# 柴油舱的尺度数据\n",
    "A_chai = 6.315 # 纵剖面面积:m2\n",
    "B_chai = V_doil / A_chai # m\n",
    "L_chai = 1.6 # m\n",
    "print(\"\"\"\n",
    "柴油舱长度为    %.2f m\n",
    "柴油舱宽度为    %.2f m\n",
    "\"\"\"%(L_chai, B_chai))"
   ]
  },
  {
   "cell_type": "code",
   "execution_count": 22,
   "id": "77d82341",
   "metadata": {
    "ExecuteTime": {
     "end_time": "2024-03-18T05:40:08.721289Z",
     "start_time": "2024-03-18T05:40:08.717391Z"
    }
   },
   "outputs": [
    {
     "name": "stdout",
     "output_type": "stream",
     "text": [
      "柴油舱的自由液面惯性矩为 988.71 t*m\n"
     ]
    }
   ],
   "source": [
    "# 柴油舱自由液面惯性矩为\n",
    "rho_chai = 0.85\n",
    "I_chai = L_chai * B_chai ** 3 /12 * rho_chai \n",
    "print(\"柴油舱的自由液面惯性矩为 %.2f t*m\"%I_chai)"
   ]
  },
  {
   "cell_type": "code",
   "execution_count": 23,
   "id": "da60d6c9",
   "metadata": {
    "ExecuteTime": {
     "end_time": "2024-03-18T05:40:09.772667Z",
     "start_time": "2024-03-18T05:40:09.768762Z"
    }
   },
   "outputs": [
    {
     "name": "stdout",
     "output_type": "stream",
     "text": [
      "\n",
      "到港时，柴油舱\n",
      "质心的纵向、垂向坐标为     (26.02, 2.06) m3\n",
      "自由液面惯性矩为            988.71  t*m\n",
      "\n"
     ]
    }
   ],
   "source": [
    "# 到港时\n",
    "# 液面最高点高度   体积\n",
    "# 2.695            26.56\n",
    "# 2.295            13.38 可近似认为是到港时的液面高度\n",
    "zg = 2.06\n",
    "xg = 26.02\n",
    "print(\"\"\"\n",
    "到港时，柴油舱\n",
    "质心的纵向、垂向坐标为     (%.2f, %.2f) m3\n",
    "自由液面惯性矩为            %.2f  t*m\n",
    "\"\"\"%(xg,zg,I_chai))"
   ]
  },
  {
   "cell_type": "markdown",
   "id": "70e557c6",
   "metadata": {},
   "source": [
    "## 燃油沉积舱"
   ]
  },
  {
   "cell_type": "code",
   "execution_count": 24,
   "id": "83ad91f2",
   "metadata": {
    "ExecuteTime": {
     "end_time": "2024-03-18T05:40:11.062820Z",
     "start_time": "2024-03-18T05:40:11.057940Z"
    }
   },
   "outputs": [
    {
     "name": "stdout",
     "output_type": "stream",
     "text": [
      "\n",
      "燃油沉积的容积为                    60.00 m3\n",
      "第一燃油沉积舱的纵向、垂向位置为    (14.76,11.15) m3\n",
      "第二燃油沉积舱的纵向、垂向位置为    (22.73,11.18) m3\n",
      "\n"
     ]
    }
   ],
   "source": [
    "V_depo_oil1 = V_depo_oil2 = 30 # 设计燃油沉降容积为30m3\n",
    "A_depo_oil1 = 10.55\n",
    "A_depo_oil2 = 10.34\n",
    "# 横向布置方面从总布置测量获得\n",
    "x_depo_oil1 = 14.76 # 第一燃油沉积舱\n",
    "x_depo_oil2 = 22.73 # 第二燃油沉积舱\n",
    "z_depo_oil1 = 9.732 + (V_depo_oil1/A_depo_oil1) * 0.5\n",
    "z_depo_oil2 = 9.732 + (V_depo_oil2/A_depo_oil2) * 0.5\n",
    "print(\"\"\"\n",
    "燃油沉积的容积为                    %.2f m3\n",
    "第一燃油沉积舱的纵向、垂向位置为    (%.2f,%.2f) m3\n",
    "第二燃油沉积舱的纵向、垂向位置为    (%.2f,%.2f) m3\n",
    "\"\"\"%(V_depo_oil1+V_depo_oil2,\n",
    "    x_depo_oil1,z_depo_oil1,\n",
    "    x_depo_oil2,z_depo_oil2))"
   ]
  },
  {
   "cell_type": "code",
   "execution_count": 25,
   "id": "2105a2eb",
   "metadata": {
    "ExecuteTime": {
     "end_time": "2024-03-18T05:40:11.238966Z",
     "start_time": "2024-03-18T05:40:11.234533Z"
    }
   },
   "outputs": [
    {
     "name": "stdout",
     "output_type": "stream",
     "text": [
      "\n",
      "到港时，燃油沉积舱\n",
      "舱一重心的纵向、垂向位置为    (14.76, 9.87) m\n",
      "舱一重心的纵向、垂向位置为    (22.73, 9.88) m\n",
      "舱一的自由液面惯性矩为         1225.53  t*m\n",
      "舱二的自由液面惯性矩为         1194.38  t*m\n",
      "\n"
     ]
    }
   ],
   "source": [
    "# 到港时\n",
    "zg_depo_oil1 = 9.732 + (V_depo_oil1*0.1 / A_depo_oil1) * 0.5\n",
    "zg_depo_oil2 = 9.732 + (V_depo_oil2*0.1 / A_depo_oil2) * 0.5\n",
    "I1 = 1377 * 0.89 # CAD测量的惯性矩*燃油密度\n",
    "I2 = 1342 * 0.89\n",
    "print(\"\"\"\n",
    "到港时，燃油沉积舱\n",
    "舱一重心的纵向、垂向位置为    (%.2f, %.2f) m\n",
    "舱二重心的纵向、垂向位置为    (%.2f, %.2f) m\n",
    "舱一的自由液面惯性矩为         %.2f  t*m\n",
    "舱二的自由液面惯性矩为         %.2f  t*m\n",
    "\"\"\"%(x_depo_oil1,zg_depo_oil1,\n",
    "    x_depo_oil2,zg_depo_oil2,\n",
    "     I1,I2))"
   ]
  },
  {
   "cell_type": "markdown",
   "id": "25a1d581",
   "metadata": {},
   "source": [
    "## 燃油舱"
   ]
  },
  {
   "cell_type": "markdown",
   "id": "fa776f34",
   "metadata": {},
   "source": [
    "### 第一燃油舱"
   ]
  },
  {
   "cell_type": "code",
   "execution_count": 28,
   "id": "688c025f",
   "metadata": {
    "ExecuteTime": {
     "end_time": "2024-03-18T05:57:53.442672Z",
     "start_time": "2024-03-18T05:57:53.435335Z"
    }
   },
   "outputs": [
    {
     "name": "stdout",
     "output_type": "stream",
     "text": [
      "\n",
      "第四燃油舱（左、右）的容积为                   588.96 m3\n",
      "第四燃油舱（左、右）的纵向、垂向坐标为         (19.94, 15.00) m3\n",
      "\n"
     ]
    }
   ],
   "source": [
    "# 第一燃油舱，高度9.732-18.9范围内\n",
    "x = list(range(9,20))\n",
    "A = [20.88, 31.40, 41.89, 51.77, 60.14, 67.17, 73.05, 77.85, 81.49,83.84,84.93]\n",
    "xg = [22.966,22.045,21.24,20.60,20.21,19.94,19.73,19.56,19.43,19.34,19.30]\n",
    "\n",
    "A_inter = interp1d(x,A)\n",
    "xg_inter = interp1d(x,xg)\n",
    "x_list = np.linspace(9.732,18.9,100)\n",
    "# 体积计算\n",
    "A_list = A_inter(x_list)\n",
    "V_oil1 = simpson(A_list,dx=(18.9-9.732)/100)\n",
    "# 重心计算\n",
    "xg_list = xg_inter(x_list)\n",
    "zg_list = x_list\n",
    "LCG_oil1 = np.sum(A_list * xg_list) / A_list.sum()\n",
    "VCG_oil1 = np.sum(A_list * zg_list) / A_list.sum()\n",
    "print(\"\"\"\n",
    "第四燃油舱（左、右）的容积为                   %.2f m3\n",
    "第四燃油舱（左、右）的纵向、垂向坐标为         (%.2f, %.2f) m3\n",
    "\"\"\"%(V_oil1,LCG_oil1,VCG_oil1))"
   ]
  },
  {
   "cell_type": "code",
   "execution_count": 29,
   "id": "edd4c64d",
   "metadata": {
    "ExecuteTime": {
     "end_time": "2024-03-18T05:57:54.077140Z",
     "start_time": "2024-03-18T05:57:54.071284Z"
    }
   },
   "outputs": [
    {
     "data": {
      "text/plain": [
       "58.90111702157576"
      ]
     },
     "execution_count": 29,
     "metadata": {},
     "output_type": "execute_result"
    }
   ],
   "source": [
    "# 到港时\n",
    "# h        V\n",
    "# 11.2    52.73\n",
    "# 11.3    57.12\n",
    "# 11.34   58.9\n",
    "x_list = np.linspace(9.732,11.34,100)\n",
    "A_list = A_inter(x_list)\n",
    "V_oil1_1_10 = simpson(A_list,dx=(11.34-9.732)/100)\n",
    "V_oil1_1_10"
   ]
  },
  {
   "cell_type": "code",
   "execution_count": 30,
   "id": "1761bef8",
   "metadata": {
    "ExecuteTime": {
     "end_time": "2024-03-18T05:57:55.047283Z",
     "start_time": "2024-03-18T05:57:55.042403Z"
    }
   },
   "outputs": [
    {
     "name": "stdout",
     "output_type": "stream",
     "text": [
      "\n",
      "到港时，\n",
      "重心位置为（纵、垂）  (21.57, 10.60) m\n",
      "自由液面惯性矩为       5338.06 t*m\n",
      "\n"
     ]
    }
   ],
   "source": [
    "# h      惯性矩\n",
    "# 11     5480\n",
    "# 12     7003\n",
    "# 惯性矩计算\n",
    "I = 5480 + (7003 - 5480) * (11.34 - 11)\n",
    "I *= 0.89\n",
    "# 重心计算\n",
    "x_list =np.linspace(9.732,11.34,100)\n",
    "xg_list = xg_inter(x_list)\n",
    "zg_list = x_list\n",
    "LCG_oil1_1_10 = np.sum(A_list * xg_list) / A_list.sum()\n",
    "VCG_oil1_1_10 = np.sum(A_list * zg_list) / A_list.sum()\n",
    "print(\"\"\"\n",
    "到港时，\n",
    "重心位置为（纵、垂）  (%.2f, %.2f) m\n",
    "自由液面惯性矩为       %.2f t*m\n",
    "\"\"\"%(LCG_oil1_1_10,VCG_oil1_1_10,I))"
   ]
  },
  {
   "cell_type": "markdown",
   "id": "f9ca86ab",
   "metadata": {},
   "source": [
    "### 第二燃油舱"
   ]
  },
  {
   "cell_type": "code",
   "execution_count": 31,
   "id": "a34369e3",
   "metadata": {
    "ExecuteTime": {
     "end_time": "2024-03-18T05:57:56.041520Z",
     "start_time": "2024-03-18T05:57:56.034689Z"
    }
   },
   "outputs": [
    {
     "name": "stdout",
     "output_type": "stream",
     "text": [
      "\n",
      "第三燃油舱（左、右）的容积为               976.75 m3\n",
      "第三燃油舱（左、右）的纵向、垂向坐标为     (52.03, 18.01)m3\n",
      "\n"
     ]
    }
   ],
   "source": [
    "# 第二燃油舱 位于 2 - 8站之间\n",
    "x = [21.517,26.896,32.2755,43.034,53.7925,64.551,75.3095,86.068]\n",
    "A = [19.81,21.04,20.04,19.95,19.95,19.95,19.95,19.95]\n",
    "zg = [18,17.95,18.01,18.02,18.02,18.02,18.02,18.02]\n",
    "\n",
    "A_inter = interp1d(x,A)\n",
    "zg_inter = interp1d(x,zg)\n",
    "x_list = np.linspace(27.45,76.75,100)\n",
    "# 体积计算\n",
    "A_list = A_inter(x_list)\n",
    "V_oil2 = simpson(A_list,dx=(76.75-27.45)/100)\n",
    "# 重心计算\n",
    "xg_list = x_list\n",
    "zg_list = zg_inter(x_list)\n",
    "LCG_oil2 = np.sum(A_list * xg_list) / A_list.sum()\n",
    "VCG_oil2 = np.sum(A_list * zg_list) / A_list.sum()\n",
    "print(\"\"\"\n",
    "第三燃油舱（左、右）的容积为               %.2f m3\n",
    "第三燃油舱（左、右）的纵向、垂向坐标为     (%.2f, %.2f)m3\n",
    "\"\"\"%(V_oil2,LCG_oil2,VCG_oil2))"
   ]
  },
  {
   "cell_type": "code",
   "execution_count": 32,
   "id": "dbafa022",
   "metadata": {
    "ExecuteTime": {
     "end_time": "2024-03-18T05:57:56.464128Z",
     "start_time": "2024-03-18T05:57:56.460224Z"
    }
   },
   "outputs": [
    {
     "name": "stdout",
     "output_type": "stream",
     "text": [
      "\n",
      "到港时，第二燃油舱\n",
      "重心的纵向、垂向坐标为    (52.03, 16.03) m\n",
      "自由液面惯性矩为           13002.01  t*m\n",
      "\n"
     ]
    }
   ],
   "source": [
    "# 到港时\n",
    "# 近似认为纵向方向各个剖面的面积相同，则体积之比相当于液体剖面积之比\n",
    "# 满载时的面积19.82\n",
    "# 高度     面积\n",
    "# 16.41   1.936\n",
    "# 16.44   1.97\n",
    "zg = 16.03 # 液面16.44时的重心高度\n",
    "I = 14609 * 0.89 # CAD量取\n",
    "print(\"\"\"\n",
    "到港时，第二燃油舱\n",
    "重心的纵向、垂向坐标为    (%.2f, %.2f) m\n",
    "自由液面惯性矩为           %.2f  t*m\n",
    "\"\"\"%(LCG_oil2,zg,I))"
   ]
  },
  {
   "cell_type": "markdown",
   "id": "0290316b",
   "metadata": {},
   "source": [
    "### 第三燃油舱"
   ]
  },
  {
   "cell_type": "code",
   "execution_count": 33,
   "id": "59377000",
   "metadata": {
    "ExecuteTime": {
     "end_time": "2024-03-18T06:04:11.584662Z",
     "start_time": "2024-03-18T06:04:11.580758Z"
    }
   },
   "outputs": [
    {
     "name": "stdout",
     "output_type": "stream",
     "text": [
      "\n",
      "第三燃油舱的容积为        110.00 m3\n",
      "中心的纵向、垂向坐标为   (22.45, 12.52) m3\n",
      "\n"
     ]
    }
   ],
   "source": [
    "A = 20 # 俯视图面积\n",
    "H = 5.5 # 高度\n",
    "V_oil3 = A * H # 第三燃油舱容积\n",
    "LCG_oil3 = 22.45 # CAD量取\n",
    "VCG_oil3 = 9.774 + 0.5 * H\n",
    "print(\"\"\"\n",
    "第三燃油舱的容积为        %.2f m3\n",
    "中心的纵向、垂向坐标为   (%.2f, %.2f) m3\n",
    "\"\"\"%(V_oil3,LCG_oil3,VCG_oil3))"
   ]
  },
  {
   "cell_type": "code",
   "execution_count": 34,
   "id": "216dddf7",
   "metadata": {
    "ExecuteTime": {
     "end_time": "2024-03-18T06:13:58.719946Z",
     "start_time": "2024-03-18T06:13:58.715065Z"
    }
   },
   "outputs": [
    {
     "name": "stdout",
     "output_type": "stream",
     "text": [
      "\n",
      "到港时，第三燃油舱\n",
      "重心的纵向、垂向坐标为    (22.45, 9.80) m\n",
      "自由液面惯性矩为           1091.14 t*m\n",
      "\n"
     ]
    }
   ],
   "source": [
    "# 到港时\n",
    "H = 0.55\n",
    "VCG_oil3 = 9.774 + 0.05 * H\n",
    "I = 1226 * 0.89\n",
    "print(\"\"\"\n",
    "到港时，第三燃油舱\n",
    "重心的纵向、垂向坐标为    (%.2f, %.2f) m\n",
    "自由液面惯性矩为           %.2f t*m\n",
    "\"\"\"%(LCG_oil3,VCG_oil3,I))"
   ]
  },
  {
   "cell_type": "markdown",
   "id": "ce274cb5",
   "metadata": {},
   "source": [
    "# 滑油"
   ]
  },
  {
   "cell_type": "code",
   "execution_count": 65,
   "id": "e7511d59",
   "metadata": {
    "ExecuteTime": {
     "end_time": "2024-03-17T15:45:55.024104Z",
     "start_time": "2024-03-17T15:45:55.017272Z"
    }
   },
   "outputs": [
    {
     "name": "stdout",
     "output_type": "stream",
     "text": [
      "\n",
      "滑油循环舱的容积为   16.92 m3\n",
      "滑油循环舱的纵向、垂向坐标为  (20.27, 1.12) m3\n",
      "滑油污油舱的容积为   15.79 m3\n",
      "滑油污油舱的纵向、垂向坐标为  (24.83, 1.15) m3\n",
      "\n"
     ]
    }
   ],
   "source": [
    "# 滑油循环舱\n",
    "L,W,H = 8.686,1.974,0.987\n",
    "V_HC = L * W * H\n",
    "LCG_HC = 20.275\n",
    "VCG_HC = 1.125\n",
    "# 滑油污油舱\n",
    "x = [0,0.5,1,2] # 水线高度\n",
    "xg = [25.394,24.908,24.839,24.77] # 重心x坐标\n",
    "A = [5.56,12.678,15.66,20.338] # 面积\n",
    "xg_inter = interp1d(x,xg)\n",
    "A_inter = interp1d(x,A)\n",
    "zg_list = np.linspace(0.632,1.619,num=100)\n",
    "# 体积计算\n",
    "A_list = A_inter(zg_list)\n",
    "V_HW = simpson(A_list,dx=(1.619-0.632)/100)\n",
    "# 重心计算\n",
    "xg_list = xg_inter(zg_list)\n",
    "LCG_HW = np.sum(A_list * xg_list) / A_list.sum()\n",
    "VCG_HW = np.sum(A_list * zg_list) / A_list.sum()\n",
    "print(\"\"\"\n",
    "滑油循环舱的容积为   %.2f m3\n",
    "滑油循环舱的纵向、垂向坐标为  (%.2f, %.2f) m3\n",
    "滑油污油舱的容积为   %.2f m3\n",
    "滑油污油舱的纵向、垂向坐标为  (%.2f, %.2f) m3\n",
    "\"\"\"%(V_HC,LCG_HC,VCG_HC,\n",
    "     V_HW,LCG_HW,VCG_HW))"
   ]
  },
  {
   "cell_type": "code",
   "execution_count": 66,
   "id": "a69b8aac",
   "metadata": {
    "ExecuteTime": {
     "end_time": "2024-03-17T15:48:08.229771Z",
     "start_time": "2024-03-17T15:48:08.225867Z"
    }
   },
   "outputs": [
    {
     "name": "stdout",
     "output_type": "stream",
     "text": [
      "\n",
      "到港时，滑油循环舱\n",
      "重心纵向、垂向坐标为   (20.27, 0.68)m\n",
      "自由液面惯性矩为        5.01 t*m\n",
      "\n"
     ]
    }
   ],
   "source": [
    "# 到港时\n",
    "# 滑油循环舱\n",
    "zg = 0.632 + 0.987*0.05\n",
    "I = L * W**3 /12 * 0.9\n",
    "print(\"\"\"\n",
    "到港时，滑油循环舱\n",
    "重心纵向、垂向坐标为   (%.2f, %.2f)m\n",
    "自由液面惯性矩为        %.2f t*m\n",
    "\"\"\"%(LCG_HC,zg,I))"
   ]
  },
  {
   "cell_type": "code",
   "execution_count": 74,
   "id": "8cb2ec92",
   "metadata": {
    "ExecuteTime": {
     "end_time": "2024-03-17T15:51:19.176555Z",
     "start_time": "2024-03-17T15:51:19.171675Z"
    }
   },
   "outputs": [
    {
     "data": {
      "text/plain": [
       "1.61411642568"
      ]
     },
     "execution_count": 74,
     "metadata": {},
     "output_type": "execute_result"
    }
   ],
   "source": [
    "# 到港时，滑油污油舱\n",
    "# h   V\n",
    "# 0.8  2.323\n",
    "# 0.74  1.474 # 基本等于到港时的滑油污油容积\n",
    "# 0.72 1.196\n",
    "zg_list = np.linspace(0.632,0.75,num=100)\n",
    "A_list = A_inter(zg_list)\n",
    "simpson(A_list,dx=(0.75-0.632)/100)"
   ]
  },
  {
   "cell_type": "code",
   "execution_count": 75,
   "id": "0c8a2816",
   "metadata": {
    "ExecuteTime": {
     "end_time": "2024-03-17T15:54:15.840360Z",
     "start_time": "2024-03-17T15:54:15.835480Z"
    }
   },
   "outputs": [
    {
     "name": "stdout",
     "output_type": "stream",
     "text": [
      "\n",
      "到港时，滑油污油舱\n",
      "重心的纵向、横向坐标为      (24.88, 0.69) m\n",
      "自由液面惯性矩为             241.20  t*m\n",
      "\n"
     ]
    }
   ],
   "source": [
    "zg_list = np.linspace(0.632,0.75,num=100)\n",
    "# 体积计算\n",
    "A_list = A_inter(zg_list)\n",
    "V_HW = simpson(A_list,dx=(0.75-0.632)/100)\n",
    "# 重心计算\n",
    "xg_list = xg_inter(zg_list)\n",
    "LCG_HW = np.sum(A_list * xg_list) / A_list.sum()\n",
    "VCG_HW = np.sum(A_list * zg_list) / A_list.sum()\n",
    "I = 268 * 0.9\n",
    "print(\"\"\"\n",
    "到港时，滑油污油舱\n",
    "重心的纵向、横向坐标为      (%.2f, %.2f) m\n",
    "自由液面惯性矩为             %.2f  t*m\n",
    "\"\"\"%(LCG_HW,VCG_HW,I))"
   ]
  },
  {
   "cell_type": "markdown",
   "id": "e0438618",
   "metadata": {},
   "source": [
    "# 污水和其他"
   ]
  },
  {
   "cell_type": "markdown",
   "id": "fdb3a569",
   "metadata": {},
   "source": [
    "## 舱底水分离舱"
   ]
  },
  {
   "cell_type": "code",
   "execution_count": 24,
   "id": "5aad945e",
   "metadata": {
    "ExecuteTime": {
     "end_time": "2024-03-11T09:53:31.571919Z",
     "start_time": "2024-03-11T09:53:31.566063Z"
    }
   },
   "outputs": [
    {
     "name": "stdout",
     "output_type": "stream",
     "text": [
      "\n",
      "舱底水分离舱的容积为     26.90 m3\n",
      "舱底水分离舱重心的横向坐标为  (18.90, 0.91) m3\n",
      "\n"
     ]
    }
   ],
   "source": [
    "z_range = [0,1.619]\n",
    "zg_list = np.linspace(*z_range,num=100)\n",
    "\n",
    "x = [0,0.5,1,2]\n",
    "xg = [18.99,18.906,18.891,18.885]\n",
    "A = [8.088,15.664,18.935,23.461]\n",
    "xg_inter = interp1d(x,xg)\n",
    "A_inter = interp1d(x,A)\n",
    "# 体积计算\n",
    "A_list = A_inter(zg_list)\n",
    "V_BWF = simpson(A_list,dx=(z_range[1] - z_range[0])/100)\n",
    "# 重心计算\n",
    "xg_list = xg_inter(zg_list)\n",
    "LCG_BWF = np.sum(A_list * xg_list) / A_list.sum()\n",
    "VCG_BWF = np.sum(A_list * zg_list) / A_list.sum()\n",
    "print(\"\"\"\n",
    "舱底水分离舱的容积为     %.2f m3\n",
    "舱底水分离舱重心的横向坐标为  (%.2f, %.2f) m3\n",
    "\"\"\"%(V_BWF,LCG_BWF,VCG_BWF))"
   ]
  },
  {
   "cell_type": "markdown",
   "id": "449ea1c8",
   "metadata": {},
   "source": [
    "## 燃油污油舱"
   ]
  },
  {
   "cell_type": "code",
   "execution_count": 25,
   "id": "3fccd0f4",
   "metadata": {
    "ExecuteTime": {
     "end_time": "2024-03-11T09:53:31.925231Z",
     "start_time": "2024-03-11T09:53:31.921327Z"
    }
   },
   "outputs": [
    {
     "name": "stdout",
     "output_type": "stream",
     "text": [
      "\n",
      "燃油污油舱的容积为   15.79 m3\n",
      "燃油污油舱的纵向、垂向坐标为  (24.83, 1.15) m3\n",
      "\n"
     ]
    }
   ],
   "source": [
    "print(\"\"\"\n",
    "燃油污油舱的容积为   %.2f m3\n",
    "燃油污油舱的纵向、垂向坐标为  (%.2f, %.2f) m3\n",
    "\"\"\"%(V_HW,LCG_HW,VCG_HW))"
   ]
  },
  {
   "cell_type": "markdown",
   "id": "7aa296cc",
   "metadata": {},
   "source": [
    "# 生活用品"
   ]
  },
  {
   "cell_type": "code",
   "execution_count": 26,
   "id": "44f407f3",
   "metadata": {
    "ExecuteTime": {
     "end_time": "2024-03-11T09:53:32.269759Z",
     "start_time": "2024-03-11T09:53:32.265854Z"
    }
   },
   "outputs": [],
   "source": [
    "# 获取重量，估计坐标\n",
    "food_weight = 6.76\n",
    "spares_weight = 93.27\n",
    "luggage_weight = 1.26\n",
    "LCG_food, VCG_food = 13.05,23.14\n",
    "LCG_spares, VCG_spares = 18.194,23.14\n",
    "LCG_luggage, VCG_luggate = 16.25,26.2"
   ]
  },
  {
   "cell_type": "markdown",
   "id": "0a23c315",
   "metadata": {},
   "source": [
    "# 空船重量与重心"
   ]
  },
  {
   "cell_type": "code",
   "execution_count": 27,
   "id": "d379a53b",
   "metadata": {
    "ExecuteTime": {
     "end_time": "2024-03-12T13:57:30.782810Z",
     "start_time": "2024-03-12T13:57:30.777930Z"
    }
   },
   "outputs": [
    {
     "name": "stdout",
     "output_type": "stream",
     "text": [
      "\n",
      "空船重量为               12498.28 t\n",
      "空船的纵向、横向坐标为  (99.79, 11.51) m\n",
      "\n"
     ]
    }
   ],
   "source": [
    "# 空船重量为\n",
    "W_empty_ship = 12498.28\n",
    "# 重心数据利用母船进行缩放\n",
    "LCG_empty_ship = 101.10 * Lpp / Lpp_parent # 指导书p94\n",
    "VCG_empty_ship = 11.66 * D / D_parent\n",
    "print(\"\"\"\n",
    "空船重量为               %.2f t\n",
    "空船的纵向、横向坐标为  (%.2f, %.2f) m\n",
    "\"\"\"%(W_empty_ship, LCG_empty_ship, VCG_empty_ship))"
   ]
  }
 ],
 "metadata": {
  "kernelspec": {
   "display_name": "Python 3 (ipykernel)",
   "language": "python",
   "name": "python3"
  },
  "language_info": {
   "codemirror_mode": {
    "name": "ipython",
    "version": 3
   },
   "file_extension": ".py",
   "mimetype": "text/x-python",
   "name": "python",
   "nbconvert_exporter": "python",
   "pygments_lexer": "ipython3",
   "version": "3.9.18"
  },
  "toc": {
   "base_numbering": 1,
   "nav_menu": {},
   "number_sections": true,
   "sideBar": true,
   "skip_h1_title": false,
   "title_cell": "Table of Contents",
   "title_sidebar": "Contents",
   "toc_cell": false,
   "toc_position": {},
   "toc_section_display": true,
   "toc_window_display": false
  }
 },
 "nbformat": 4,
 "nbformat_minor": 5
}
