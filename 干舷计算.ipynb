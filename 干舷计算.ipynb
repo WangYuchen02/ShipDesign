{
 "cells": [
  {
   "cell_type": "markdown",
   "id": "1432da8f",
   "metadata": {},
   "source": [
    "# 基本资料"
   ]
  },
  {
   "cell_type": "code",
   "execution_count": 1,
   "id": "56972ce1",
   "metadata": {
    "ExecuteTime": {
     "end_time": "2024-02-20T02:46:31.574930Z",
     "start_time": "2024-02-20T02:46:31.570050Z"
    }
   },
   "outputs": [],
   "source": [
    "L_total_parent = 225 # 母船总长度\n",
    "Lpp_parent = 218 # 母船垂线间长\n",
    "B_parent = 32.26 # 母船型宽\n",
    "D_parent = 19.6 # 母船型深\n",
    "d_design_parent = 12.5 # 母船设计吃水\n",
    "d_structure_parent = 14.3 # 母船结构吃水\\\n",
    "DW_parent = 75088 # 母船载重量 :t\n",
    "Lw_parent = Lpp_parent+5*0.75 # 水线间长:m ,首垂线与尾垂线距离+ 尾垂线后5个肋位，每个肋位距离为0.75m，参考母船总布置图\n",
    "L_ball_parent = 4*0.75 # 首垂线至球首前端距，#256 - # 260，肋距为0.75m，参考母船总布置图\n",
    "nabla_parent = 85488.56 # 母船结构吃水14.3m处的排水体积，参考静水力计算书\n",
    "delta_parent = 87809.16 # 母船结构吃水处的排水量,参考静水力计算书吃水14.3m时的displt"
   ]
  },
  {
   "cell_type": "code",
   "execution_count": 2,
   "id": "74803bab",
   "metadata": {
    "ExecuteTime": {
     "end_time": "2024-02-20T02:48:11.993910Z",
     "start_time": "2024-02-20T02:48:11.990007Z"
    }
   },
   "outputs": [],
   "source": [
    "Cb = 0.85\n",
    "Lpp = 215.17    # m\n",
    "B = 31.84       # m \n",
    "D = 19.34       # m\n",
    "d = 14.11       # m\n",
    "delta = 84292   # t"
   ]
  },
  {
   "cell_type": "markdown",
   "id": "392e0526",
   "metadata": {},
   "source": [
    "# 最小干舷计算"
   ]
  },
  {
   "cell_type": "markdown",
   "id": "bd0682ac",
   "metadata": {},
   "source": [
    "## 夏季最小干舷"
   ]
  },
  {
   "cell_type": "markdown",
   "id": "c04e23a9",
   "metadata": {},
   "source": [
    "### $f_0$"
   ]
  },
  {
   "cell_type": "code",
   "execution_count": 3,
   "id": "2c1567c8",
   "metadata": {
    "ExecuteTime": {
     "end_time": "2024-02-20T02:48:35.314477Z",
     "start_time": "2024-02-20T02:48:35.227614Z"
    }
   },
   "outputs": [
    {
     "name": "stdout",
     "output_type": "stream",
     "text": [
      "\n",
      "基本干舷f0为3053 mm\n",
      "\n"
     ]
    }
   ],
   "source": [
    "# 基本干舷\n",
    "f0A = 2749+(2758-2749)*(Lpp-215) # 参考规范p182，插值获得\n",
    "f0B = 3505 + (3520-3505)*(Lpp-215) # 参考规范p185，插值获得\n",
    "f0 = f0B - (f0B-f0A)*0.6\n",
    "f0 = int(f0)\n",
    "print(f'''\n",
    "基本干舷f0为{f0} mm\n",
    "''')"
   ]
  },
  {
   "cell_type": "markdown",
   "id": "fa24595f",
   "metadata": {},
   "source": [
    "### $f_1$\n",
    "非$L<100m$的B型船,$f_1=0$"
   ]
  },
  {
   "cell_type": "code",
   "execution_count": 4,
   "id": "ac175faf",
   "metadata": {
    "ExecuteTime": {
     "end_time": "2024-02-20T02:48:39.680818Z",
     "start_time": "2024-02-20T02:48:39.677890Z"
    }
   },
   "outputs": [],
   "source": [
    "# 船长大于100m，f1为0\n",
    "f1 = 0"
   ]
  },
  {
   "cell_type": "markdown",
   "id": "69e01e12",
   "metadata": {},
   "source": [
    "### $f_2$\n",
    "$$f_2=(f_0+f_1)(\\frac{C_B+0.68}{1.36}-1)$$\n",
    "当$C_B<=0.68$时，取$f_2=0$"
   ]
  },
  {
   "cell_type": "code",
   "execution_count": 5,
   "id": "2448bb97",
   "metadata": {
    "ExecuteTime": {
     "end_time": "2024-02-20T02:48:42.379217Z",
     "start_time": "2024-02-20T02:48:42.375314Z"
    }
   },
   "outputs": [
    {
     "name": "stdout",
     "output_type": "stream",
     "text": [
      "方形系数修正值f2为381 mm\n"
     ]
    }
   ],
   "source": [
    "# 方形系数修正\n",
    "f2 = (f0+f1)*((Cb+0.68)/1.36-1)\n",
    "f2 = int(f2)\n",
    "print(f'方形系数修正值f2为{f2} mm')"
   ]
  },
  {
   "cell_type": "markdown",
   "id": "3748fa16",
   "metadata": {},
   "source": [
    "### $f_3$\n",
    "$$f_3=(D_1-L/15)R$$\n",
    "$$R = \\left\\{\n",
    "\\begin{aligned}\n",
    "L/0.48,L<120m \\\\\n",
    "250,L>=120m \\\\\n",
    "\\end{aligned}\n",
    "\\right.$$"
   ]
  },
  {
   "cell_type": "code",
   "execution_count": 6,
   "id": "9526f209",
   "metadata": {
    "ExecuteTime": {
     "end_time": "2024-02-20T02:48:50.468194Z",
     "start_time": "2024-02-20T02:48:50.464291Z"
    }
   },
   "outputs": [
    {
     "name": "stdout",
     "output_type": "stream",
     "text": [
      "型深修正值f3为1248 mm\n"
     ]
    }
   ],
   "source": [
    "# 型深修正\n",
    "f3 = (D-Lpp/15)*250\n",
    "f3 = int(f3)\n",
    "print(f'型深修正值f3为{f3} mm')"
   ]
  },
  {
   "cell_type": "markdown",
   "id": "6bb6e56c",
   "metadata": {},
   "source": [
    "### $f_4$\n",
    "本船有一个首楼和一个桥楼，而上层建筑的长度S是位于船长L范围内的上层建筑的长度  \n",
    "$$f_4=Kf_4'$$"
   ]
  },
  {
   "cell_type": "markdown",
   "id": "cb7db710",
   "metadata": {},
   "source": [
    "首楼图像如下 \n",
    "![首楼](img/首楼.png)\n",
    "桥楼图像如下  \n",
    "![桥楼](img/桥楼.png)"
   ]
  },
  {
   "cell_type": "code",
   "execution_count": 7,
   "id": "10e192fb",
   "metadata": {
    "ExecuteTime": {
     "end_time": "2024-02-20T03:25:56.507143Z",
     "start_time": "2024-02-20T03:25:56.502263Z"
    }
   },
   "outputs": [
    {
     "name": "stdout",
     "output_type": "stream",
     "text": [
      "有效上层建筑占船长的比例为: 0.130\n"
     ]
    }
   ],
   "source": [
    "# 首楼\n",
    "S1 = 12270 * Lpp/Lpp_parent # 按照长度比例缩放 \n",
    "B1 = 1 # 由于首楼在宽度方向无收缩，因而宽度缩放因子为1\n",
    "# 桥楼\n",
    "S2 = 21500 *Lpp/Lpp_parent # 按照长度比例缩放\n",
    "B2 = 22984 / 30645 # 上层建筑长度中点出的宽度比\n",
    "# 上层建筑高于标准值，因此没有造成长度缩放\n",
    "E1 = S1*B1\n",
    "E2 = S2*B2\n",
    "E = (E1+E2)/1000 # 有效上层建筑总长度，mm -> m\n",
    "# 有效上层建筑占船长的比例\n",
    "E_L = E/Lpp\n",
    "print(\"有效上层建筑占船长的比例为: %.3f\"%E_L)"
   ]
  },
  {
   "cell_type": "code",
   "execution_count": 11,
   "id": "3e469795",
   "metadata": {
    "ExecuteTime": {
     "end_time": "2024-02-20T03:30:05.869946Z",
     "start_time": "2024-02-20T03:30:05.866042Z"
    }
   },
   "outputs": [
    {
     "name": "stdout",
     "output_type": "stream",
     "text": [
      "系数K为:8.236 %\n"
     ]
    }
   ],
   "source": [
    "# B-60 有首楼并有分立桥楼，参考课本p19表2.2.5\n",
    "K = 6.3 + (12.7 - 6.3)*(E_L - 0.1)/0.1\n",
    "print(\"系数K为:%.3f\"%K,\"%\")"
   ]
  },
  {
   "cell_type": "code",
   "execution_count": 13,
   "id": "47d1e2d0",
   "metadata": {
    "ExecuteTime": {
     "end_time": "2024-02-20T03:30:41.375024Z",
     "start_time": "2024-02-20T03:30:41.371121Z"
    }
   },
   "outputs": [
    {
     "name": "stdout",
     "output_type": "stream",
     "text": [
      "f4为-88 mm\n"
     ]
    }
   ],
   "source": [
    "# 船长L>=122m时，f4'=-1070mm\n",
    "f4p = -1070\n",
    "f4 = K/100 * f4p\n",
    "f4 = int(f4)\n",
    "print(f'f4为{f4} mm')"
   ]
  },
  {
   "cell_type": "markdown",
   "id": "a245ef84",
   "metadata": {},
   "source": [
    "### $f_5$"
   ]
  },
  {
   "cell_type": "markdown",
   "id": "0a81dee7",
   "metadata": {},
   "source": [
    "$$f_5=-(\\frac{S_F+S_A}{2}+S)(0.75-\\frac{l}{2L})$$\n",
    "$l$是位于船长L范围内的封闭上层建筑的总长度(m)  \n",
    "$S_F$是前半部舷弧的不足或多余数,$S_A$是后半段舷弧的不足或多余数  \n",
    "$S=S_p+S_f$,$S_p$或$S_f=\\frac{yL'}{3L}$，其中,$y$是尾垂线或首垂线处上层建筑的实际高度与标准高度之差(mm),$L'$是首楼或尾楼的平均封闭长度，取不大于$0.5L(m)$"
   ]
  },
  {
   "cell_type": "markdown",
   "id": "cb1788c5",
   "metadata": {},
   "source": [
    "首垂线舷弧数值如下  \n",
    "![首垂线舷弧](img/首垂线舷弧.png)\n",
    "尾垂线舷弧数值如下  \n",
    "![尾垂线舷弧](img/尾垂线舷弧.png)\n",
    "距离船尾L/3范围内的数值如下\n",
    "![距离船尾](img/距离船尾.png)\n",
    "距离船首L/3范围内的数值如下\n",
    "![距离船首](img/距离船首.png)"
   ]
  },
  {
   "cell_type": "code",
   "execution_count": 16,
   "id": "de2886ef",
   "metadata": {
    "ExecuteTime": {
     "end_time": "2024-02-20T03:57:26.544205Z",
     "start_time": "2024-02-20T03:57:26.539325Z"
    }
   },
   "outputs": [
    {
     "name": "stdout",
     "output_type": "stream",
     "text": [
      "\n",
      "尾垂线舷弧大小为               409mm\n",
      "距离尾垂线L/6处的舷弧大小为    0mm\n",
      "距离尾垂线L/3处的舷弧大小为    0mm\n",
      "距离尾垂线L/2处的舷弧大小为    0mm\n",
      "首垂线舷弧大小为               2185mm\n",
      "距离首垂线L/6处的舷弧大小为    609mm\n",
      "距离首垂线L/3处的舷弧大小为    0mm\n",
      "\n"
     ]
    }
   ],
   "source": [
    "# 舷弧修正\n",
    "# 尾垂线\n",
    "Lbp_real = 415 * D/D_parent # 尾垂线处的舷弧\n",
    "Lbp16_real = 0 # 距尾垂线L/6处的舷弧\n",
    "Lbp13_real = 0 # 距尾垂线L/3处的舷弧\n",
    "Lmid_real = 0 # 距尾垂线L/2处的舷弧\n",
    "# 首垂线\n",
    "Lfp_real = 2214 * D/D_parent # 首垂线处的舷弧\n",
    "Lfp16_real = 617 * D/D_parent # 距首垂线L/6处的舷弧\n",
    "Lfp13_real = 0 # 距首垂线L/3处的舷弧\n",
    "print(f\"\"\"\n",
    "尾垂线舷弧大小为               {int(Lbp_real+0.5)}mm\n",
    "距离尾垂线L/6处的舷弧大小为    {Lbp16_real}mm\n",
    "距离尾垂线L/3处的舷弧大小为    {Lbp13_real}mm\n",
    "距离尾垂线L/2处的舷弧大小为    {Lmid_real}mm\n",
    "首垂线舷弧大小为               {int(Lfp_real+0.5)}mm\n",
    "距离首垂线L/6处的舷弧大小为    {int(Lfp16_real+0.5)}mm\n",
    "距离首垂线L/3处的舷弧大小为    {Lfp13_real}mm\n",
    "\"\"\")"
   ]
  },
  {
   "cell_type": "code",
   "execution_count": 17,
   "id": "22c55e05",
   "metadata": {
    "ExecuteTime": {
     "end_time": "2024-02-20T03:59:38.403359Z",
     "start_time": "2024-02-20T03:59:38.399455Z"
    }
   },
   "outputs": [],
   "source": [
    "# 参考课本p20\n",
    "Lbp_std = 25*(Lpp/3 + 10)\n",
    "Lbp16_std  = 11.1*(Lpp/3+10)\n",
    "Lbp13_std = 2.8*(Lpp/3+10)\n",
    "Lmid_std = 0\n",
    "Lfp_std = 2*Lbp_std    \n",
    "Lfp16_std = 2*Lbp16_std\n",
    "Lfp13_std = 2*Lbp13_std"
   ]
  },
  {
   "cell_type": "code",
   "execution_count": 19,
   "id": "295ca048",
   "metadata": {
    "ExecuteTime": {
     "end_time": "2024-02-20T04:01:06.898525Z",
     "start_time": "2024-02-20T04:01:06.892671Z"
    },
    "scrolled": true
   },
   "outputs": [
    {
     "name": "stdout",
     "output_type": "stream",
     "text": [
      "\n",
      "SA大小为:   -630.18mm\n",
      "SF大小为:   -861.35mm\n",
      "\n"
     ]
    }
   ],
   "source": [
    "SA = 1*(Lbp_real - Lbp_std) + 3*(Lbp16_real-Lbp16_std) + 3*(Lbp13_real-Lbp13_std) + 1*(Lmid_real-Lmid_std)\n",
    "SA /= 8\n",
    "SA = round(SA,2)\n",
    "SF = 1*(Lfp_real - Lfp_std) + 3*(Lfp16_real-Lfp16_std) + 3*(Lfp13_real-Lfp13_std) + 1*(Lmid_real-Lmid_std)\n",
    "SF /= 8\n",
    "SF = round(SF,2)\n",
    "print(f\"\"\"\n",
    "SA大小为:   {SA}mm\n",
    "SF大小为:   {SF}mm\n",
    "\"\"\")"
   ]
  },
  {
   "cell_type": "markdown",
   "id": "a3439962",
   "metadata": {},
   "source": [
    "首垂线上层建筑高度如下\n",
    "![首垂线上层建筑](img/首垂线上层建筑.png)"
   ]
  },
  {
   "cell_type": "code",
   "execution_count": 22,
   "id": "68af6d8d",
   "metadata": {
    "ExecuteTime": {
     "end_time": "2024-02-20T04:07:50.699883Z",
     "start_time": "2024-02-20T04:07:50.695002Z"
    }
   },
   "outputs": [
    {
     "name": "stdout",
     "output_type": "stream",
     "text": [
      "\n",
      "Sp大小为   0mm\n",
      "Sf大小为   18.27mm\n",
      "S大小为    18.27mm\n",
      "\n"
     ]
    }
   ],
   "source": [
    "# 首垂线处上层建筑高度\n",
    "Hfp = 3318 * D/D_parent # 根据型深比缩放\n",
    "Hfp_std = 2300 # 课本p16,L>=125m,其他上层建筑类\n",
    "y = Hfp - Hfp_std\n",
    "L_ = E1/1000 # E1为首楼上层建筑有效长度;mm -> m\n",
    "Sf = y*L_/(3*Lpp)\n",
    "Sf = round(Sf,2)\n",
    "# 尾垂线无上层建筑，因而y为0，Sp为0\n",
    "Sp = 0\n",
    "S = round(Sp + Sf,2)\n",
    "print(f\"\"\"\n",
    "Sp大小为   {Sp}mm\n",
    "Sf大小为   {Sf}mm\n",
    "S大小为    {S}mm\n",
    "\"\"\")"
   ]
  },
  {
   "cell_type": "code",
   "execution_count": 23,
   "id": "7acafcf6",
   "metadata": {
    "ExecuteTime": {
     "end_time": "2024-02-20T04:08:51.650002Z",
     "start_time": "2024-02-20T04:08:51.646099Z"
    }
   },
   "outputs": [
    {
     "name": "stdout",
     "output_type": "stream",
     "text": [
      "船长范围内上层建筑总有效长度为28.03m\n"
     ]
    }
   ],
   "source": [
    "# 船长范围内上层建筑总有效长度\n",
    "l = (E1+E2)/1000 # mm->m\n",
    "print(\"船长范围内上层建筑总有效长度为%.2fm\"%l)"
   ]
  },
  {
   "cell_type": "code",
   "execution_count": 25,
   "id": "1df1ed31",
   "metadata": {
    "ExecuteTime": {
     "end_time": "2024-02-20T04:09:45.555958Z",
     "start_time": "2024-02-20T04:09:45.552054Z"
    }
   },
   "outputs": [
    {
     "name": "stdout",
     "output_type": "stream",
     "text": [
      "f5值为:498.24 mm\n"
     ]
    }
   ],
   "source": [
    "f5 = -((SF+SA)/2 + S)*(0.75 - l/2/Lpp)\n",
    "f5 = round(f5,2)\n",
    "print(\"f5值为:%.2f mm\"%f5)"
   ]
  },
  {
   "cell_type": "markdown",
   "id": "a13871e2",
   "metadata": {},
   "source": [
    "### 汇总"
   ]
  },
  {
   "cell_type": "code",
   "execution_count": 26,
   "id": "e2324a25",
   "metadata": {
    "ExecuteTime": {
     "end_time": "2024-02-20T04:10:40.391628Z",
     "start_time": "2024-02-20T04:10:40.387725Z"
    }
   },
   "outputs": [
    {
     "name": "stdout",
     "output_type": "stream",
     "text": [
      "\n",
      "f0值为:    3053mm\n",
      "f1值为:    0mm\n",
      "f2值为:    381mm\n",
      "f3值为:    1248mm\n",
      "f4值为:    -88mm\n",
      "f5值为:    498.24mm\n",
      "\n"
     ]
    }
   ],
   "source": [
    "print(f\"\"\"\n",
    "f0值为:    {f0}mm\n",
    "f1值为:    {f1}mm\n",
    "f2值为:    {f2}mm\n",
    "f3值为:    {f3}mm\n",
    "f4值为:    {f4}mm\n",
    "f5值为:    {f5}mm\n",
    "\"\"\")"
   ]
  },
  {
   "cell_type": "code",
   "execution_count": 27,
   "id": "5ba144a8",
   "metadata": {
    "ExecuteTime": {
     "end_time": "2024-02-20T04:11:06.116149Z",
     "start_time": "2024-02-20T04:11:06.112246Z"
    }
   },
   "outputs": [
    {
     "name": "stdout",
     "output_type": "stream",
     "text": [
      "夏季最小干舷为:5092.24 mm\n"
     ]
    }
   ],
   "source": [
    "# 夏季最小干舷\n",
    "Fmin = f0 + f1 + f2 + f3 + f4 + f5\n",
    "print(\"夏季最小干舷为:%.2f mm\"%Fmin)"
   ]
  },
  {
   "cell_type": "code",
   "execution_count": 28,
   "id": "595f6f82",
   "metadata": {
    "ExecuteTime": {
     "end_time": "2024-02-20T04:12:18.440183Z",
     "start_time": "2024-02-20T04:12:18.436279Z"
    }
   },
   "outputs": [
    {
     "name": "stdout",
     "output_type": "stream",
     "text": [
      "\n",
      "实际干舷大小为:          5230.0mm\n",
      "满足夏季最小干舷要求:    True\n",
      "\n"
     ]
    }
   ],
   "source": [
    "# 实际干舷\n",
    "Freal = round((D-d)*1000,2)\n",
    "print(f\"\"\"\n",
    "实际干舷大小为:          {Freal}mm\n",
    "满足夏季最小干舷要求:    {Freal>=Fmin}\n",
    "\"\"\")"
   ]
  },
  {
   "cell_type": "markdown",
   "id": "7d5f9f41",
   "metadata": {},
   "source": [
    "## 最小船首高度\n",
    "$h_b=(6075L_{100}-1875L_{100}^2+200L_{100}^3)\\times[2.08+0.609C_B-1.603C_{WF}-0.0129(L/d_1)]$  \n",
    "$C_{WF}$是0.85$D$水线的前半体($L/2$)水线面面积系数"
   ]
  },
  {
   "cell_type": "code",
   "execution_count": 27,
   "id": "0362af10",
   "metadata": {
    "ExecuteTime": {
     "end_time": "2023-12-26T12:53:42.934824Z",
     "start_time": "2023-12-26T12:53:42.926036Z"
    }
   },
   "outputs": [
    {
     "data": {
      "text/plain": [
       "0.948"
      ]
     },
     "execution_count": 27,
     "metadata": {},
     "output_type": "execute_result"
    }
   ],
   "source": [
    "from scipy.integrate import simpson\n",
    "# 前体水线面面积系数，参考母船\n",
    "# 辛普森法，以下单位均为mm\n",
    "last_height = 4249 # 最后一块儿的高度，这是由于最后一块儿和前一块儿的间隔不是定的delta,这里通过梯形法额外补上\n",
    "last_delta = 224 \n",
    "delta = 1392\n",
    "H_list = [16054,15983,15878,15742,15568,15352,15051,14735,14389,13951,13459,12901,12283,11603,10849,9991,8889,7883,6505,4707]\n",
    "A1 = simpson(H_list,dx=delta)\n",
    "A2 = (H_list[-1] + last_height)*last_delta/2 # 最后一块儿的面积\n",
    "A3 = 82433*16130 # 前半平行中体半面积\n",
    "A = (A1 + A2+A3)*2/1e6\n",
    "Cwf = A/(Lpp_parent/2*B_parent)\n",
    "Cwf = round(Cwf,3)\n",
    "Cwf"
   ]
  },
  {
   "cell_type": "code",
   "execution_count": 28,
   "id": "6e3b6308",
   "metadata": {
    "ExecuteTime": {
     "end_time": "2023-12-26T12:53:43.303944Z",
     "start_time": "2023-12-26T12:53:43.299058Z"
    }
   },
   "outputs": [
    {
     "name": "stdout",
     "output_type": "stream",
     "text": [
      "最小船首高度为5803 mm\n"
     ]
    }
   ],
   "source": [
    "Fb = (6075*(Lpp/100) - 1875*(Lpp/100)**2 + 200*(Lpp/100)**3) * (2.08 + 0.609*Cb - 1.603*Cwf - 0.0129*(Lpp/(0.85*D)))\n",
    "Fb = int(Fb) + 1\n",
    "print(f'最小船首高度为{Fb} mm')"
   ]
  },
  {
   "cell_type": "code",
   "execution_count": 29,
   "id": "fd15b7eb",
   "metadata": {
    "ExecuteTime": {
     "end_time": "2023-12-26T12:53:43.788285Z",
     "start_time": "2023-12-26T12:53:43.783404Z"
    }
   },
   "outputs": [
    {
     "data": {
      "text/plain": [
       "True"
      ]
     },
     "execution_count": 29,
     "metadata": {},
     "output_type": "execute_result"
    }
   ],
   "source": [
    "# 自首垂线夏季最小干舷水线至露天甲板上边垂直距离\n",
    "H1 = 2169 * D/D_parent # 首垂线处，水线至舷弧距离\n",
    "L = Fmin + H1\n",
    "L > Fb"
   ]
  },
  {
   "cell_type": "code",
   "execution_count": 30,
   "id": "788351e3",
   "metadata": {
    "ExecuteTime": {
     "end_time": "2023-12-26T12:53:45.833077Z",
     "start_time": "2023-12-26T12:53:45.828191Z"
    }
   },
   "outputs": [
    {
     "data": {
      "text/plain": [
       "2136.907653061224"
      ]
     },
     "execution_count": 30,
     "metadata": {},
     "output_type": "execute_result"
    }
   ],
   "source": [
    "H1"
   ]
  },
  {
   "cell_type": "markdown",
   "id": "8011b130",
   "metadata": {},
   "source": [
    "## 储备浮力"
   ]
  },
  {
   "cell_type": "markdown",
   "id": "ccdf095a",
   "metadata": {},
   "source": [
    "测投影面积应不小于  \n",
    "$$\n",
    "\\frac{L}{1000}\\{0.15[f_0(\\frac{C_B+0.68}{1.36}-1)+f_3]\\}+4(\\frac{L}{3}+10)\n",
    "$$"
   ]
  },
  {
   "cell_type": "code",
   "execution_count": 42,
   "id": "24b40360",
   "metadata": {
    "ExecuteTime": {
     "end_time": "2023-12-26T03:44:36.745166Z",
     "start_time": "2023-12-26T03:44:36.741258Z"
    }
   },
   "outputs": [
    {
     "data": {
      "text/plain": [
       "(3058, 382, 1234)"
      ]
     },
     "execution_count": 42,
     "metadata": {},
     "output_type": "execute_result"
    }
   ],
   "source": [
    "f0,f2,f3"
   ]
  },
  {
   "cell_type": "code",
   "execution_count": 43,
   "id": "2b685aaa",
   "metadata": {
    "ExecuteTime": {
     "end_time": "2023-12-26T03:46:30.548501Z",
     "start_time": "2023-12-26T03:46:30.543619Z"
    }
   },
   "outputs": [
    {
     "data": {
      "text/plain": [
       "379.74"
      ]
     },
     "execution_count": 43,
     "metadata": {},
     "output_type": "execute_result"
    }
   ],
   "source": [
    "Amin = Lpp/1000*0.15*(f0*((Cb+0.68)/1.36-1)+f3)+4*(Lpp/3+10)\n",
    "Amin = round(Amin,2)\n",
    "Amin"
   ]
  },
  {
   "cell_type": "code",
   "execution_count": 44,
   "id": "dc43f8f2",
   "metadata": {
    "ExecuteTime": {
     "end_time": "2023-12-26T03:46:34.489276Z",
     "start_time": "2023-12-26T03:46:34.483417Z"
    }
   },
   "outputs": [
    {
     "data": {
      "text/plain": [
       "(1304.2329019333333, True)"
      ]
     },
     "execution_count": 44,
     "metadata": {},
     "output_type": "execute_result"
    }
   ],
   "source": [
    "A1 = 0.15*Lpp*Fmin/1000\n",
    "H2_list = [712,769,828,890,957,1030,1110,1198,1297,1406,1525,1656,1790,1954,2100,2200]\n",
    "dx = 2180\n",
    "A2 = simpson(H2_list,dx=dx)/1e6\n",
    "H3_list = [2170,2169,2166,2163,2160,2156,2199,2213,2213,2214,2252,2238,2245,2231,2276,2269]\n",
    "dx = 818\n",
    "A3 = simpson(H3_list,dx=dx)/1e6\n",
    "A = A1+A2+A3\n",
    "A,A>Amin"
   ]
  },
  {
   "cell_type": "code",
   "execution_count": null,
   "id": "ffe7c1e8",
   "metadata": {},
   "outputs": [],
   "source": []
  }
 ],
 "metadata": {
  "kernelspec": {
   "display_name": "Python 3 (ipykernel)",
   "language": "python",
   "name": "python3"
  },
  "language_info": {
   "codemirror_mode": {
    "name": "ipython",
    "version": 3
   },
   "file_extension": ".py",
   "mimetype": "text/x-python",
   "name": "python",
   "nbconvert_exporter": "python",
   "pygments_lexer": "ipython3",
   "version": "3.9.12"
  },
  "toc": {
   "base_numbering": 1,
   "nav_menu": {},
   "number_sections": true,
   "sideBar": true,
   "skip_h1_title": false,
   "title_cell": "Table of Contents",
   "title_sidebar": "Contents",
   "toc_cell": false,
   "toc_position": {},
   "toc_section_display": true,
   "toc_window_display": false
  }
 },
 "nbformat": 4,
 "nbformat_minor": 5
}
