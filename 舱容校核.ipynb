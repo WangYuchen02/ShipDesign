{
 "cells": [
  {
   "cell_type": "markdown",
   "id": "ea0c9b83",
   "metadata": {},
   "source": [
    "# 舱容估算"
   ]
  },
  {
   "cell_type": "markdown",
   "id": "265c8482",
   "metadata": {},
   "source": [
    "## 母型船资料"
   ]
  },
  {
   "cell_type": "code",
   "execution_count": 1,
   "id": "99996604",
   "metadata": {
    "ExecuteTime": {
     "end_time": "2023-12-26T11:31:55.428603Z",
     "start_time": "2023-12-26T11:31:55.423719Z"
    }
   },
   "outputs": [],
   "source": [
    "d = 14.24\n",
    "Lpp = 215.6\n",
    "B = 31.78\n",
    "D = 19.31\n",
    "CB = 0.85 # 母型船数据\n",
    "CW = 0.929 # 母型船数据\n",
    "CM = 0.997\n",
    "delta = 85160.04 # 考虑了排水量裕度\n",
    "LW = 12399.71 # 空船重量\n",
    "DW = 72100 # 载重量\n",
    "resWeight = 72100 - 68419.53 # 除货物重量外的载重量"
   ]
  },
  {
   "cell_type": "markdown",
   "id": "1d3243a5",
   "metadata": {},
   "source": [
    "## 货舱容积"
   ]
  },
  {
   "cell_type": "markdown",
   "id": "328a4890",
   "metadata": {},
   "source": [
    "根据设计指导书p33，货舱容积计算公式为  \n",
    "$V_C=W_C\\cdot \\mu_C/K_C$"
   ]
  },
  {
   "cell_type": "code",
   "execution_count": 2,
   "id": "4e1d475e",
   "metadata": {
    "ExecuteTime": {
     "end_time": "2023-12-26T11:32:01.093698Z",
     "start_time": "2023-12-26T11:32:01.087835Z"
    }
   },
   "outputs": [
    {
     "name": "stdout",
     "output_type": "stream",
     "text": [
      "需要货舱容积86641.8168844221 m3\n"
     ]
    }
   ],
   "source": [
    "# 载货量 根据重量计算.ipynb\n",
    "Wc = 68419.53 # 单位:t\n",
    "uc = 1.26 # 积载因数，参考指导书p33，单位m^3/t\n",
    "Kc = 0.995 # 容积折扣系数\n",
    "Vc = Wc*uc/Kc\n",
    "print(\"需要货舱容积%s m3\"%Vc)"
   ]
  },
  {
   "cell_type": "markdown",
   "id": "3a9579ad",
   "metadata": {},
   "source": [
    "## 压载水舱容"
   ]
  },
  {
   "cell_type": "markdown",
   "id": "f861674d",
   "metadata": {},
   "source": [
    "# 参考课本p81:  \n",
    "艉吃水要求0.04L-0.045L，此处取0.04L  \n",
    "艏吃水要求0.025L-0.03L，此处取0.03L  \n",
    "设计指导书p33要求尾倾不超过0.015Lpp,此处不超过"
   ]
  },
  {
   "cell_type": "code",
   "execution_count": 3,
   "id": "f0094542",
   "metadata": {
    "ExecuteTime": {
     "end_time": "2023-12-26T11:32:01.650300Z",
     "start_time": "2023-12-26T11:32:01.644444Z"
    },
    "scrolled": true
   },
   "outputs": [
    {
     "name": "stdout",
     "output_type": "stream",
     "text": [
      "\n",
      "压载情况下的平均吃水为7.55m\n",
      "此时的压载水重量为42565.88t\n",
      "扣除空船重量及其他非货物载重量后，压载水舱容积为26485.7m3\n",
      "\n"
     ]
    }
   ],
   "source": [
    "da = 0.04*Lpp\n",
    "df = 0.03*Lpp\n",
    "# 平均吃水\n",
    "dB = round((da+df)/2,2)\n",
    "# 参考课本p82\n",
    "deltaB = round((dB/d)**(CW/CB)*delta,2)\n",
    "# 扣除口船及油水人员等重量\n",
    "VB = WB = round(deltaB - LW - resWeight,2)\n",
    "print(f'''\n",
    "压载情况下的平均吃水为{dB}m\n",
    "此时的压载水重量为{deltaB}t\n",
    "扣除空船重量及其他非货物载重量后，压载水舱容积为{VB}m3\n",
    "''')"
   ]
  },
  {
   "cell_type": "markdown",
   "id": "90f75cb1",
   "metadata": {},
   "source": [
    "参考母型船，采用$V_B=W_B=k_B\\cdot DW$公式"
   ]
  },
  {
   "cell_type": "code",
   "execution_count": 4,
   "id": "ccc30155",
   "metadata": {
    "ExecuteTime": {
     "end_time": "2023-12-26T11:32:02.008677Z",
     "start_time": "2023-12-26T11:32:02.003795Z"
    }
   },
   "outputs": [
    {
     "name": "stdout",
     "output_type": "stream",
     "text": [
      "第二种方法的压载水舱容积为:18060.86m3\n"
     ]
    }
   ],
   "source": [
    "VB_parent = 18787.3 # 母型船压载水仓容积\n",
    "DW_parent = 75000\n",
    "kb_parent = VB_parent/DW_parent\n",
    "VB = round(kb_parent*DW,2)\n",
    "print(f\"第二种方法的压载水舱容积为:{VB}m3\")"
   ]
  },
  {
   "cell_type": "code",
   "execution_count": 5,
   "id": "779a8caf",
   "metadata": {
    "ExecuteTime": {
     "end_time": "2023-12-26T11:32:02.230342Z",
     "start_time": "2023-12-26T11:32:02.220577Z"
    }
   },
   "outputs": [
    {
     "data": {
      "text/plain": [
       "0.25049733333333335"
      ]
     },
     "execution_count": 5,
     "metadata": {},
     "output_type": "execute_result"
    }
   ],
   "source": [
    "kb_parent"
   ]
  },
  {
   "cell_type": "markdown",
   "id": "4568a57b",
   "metadata": {},
   "source": [
    "## 机舱容积"
   ]
  },
  {
   "cell_type": "markdown",
   "id": "c8b27dbf",
   "metadata": {
    "ExecuteTime": {
     "end_time": "2023-12-14T08:38:27.164465Z",
     "start_time": "2023-12-14T08:38:27.160561Z"
    }
   },
   "source": [
    "课本p82\n",
    "$$\n",
    "V_M = K_ML_MB(D-h_{DM})\n",
    "$$"
   ]
  },
  {
   "cell_type": "code",
   "execution_count": 6,
   "id": "5603bf16",
   "metadata": {
    "ExecuteTime": {
     "end_time": "2023-12-26T11:32:02.795736Z",
     "start_time": "2023-12-26T11:32:02.791829Z"
    }
   },
   "outputs": [],
   "source": [
    "# 暂不校核"
   ]
  },
  {
   "cell_type": "markdown",
   "id": "431f01fc",
   "metadata": {},
   "source": [
    "## 油水舱舱容"
   ]
  },
  {
   "cell_type": "markdown",
   "id": "1c446ada",
   "metadata": {},
   "source": [
    "### 淡水舱"
   ]
  },
  {
   "cell_type": "code",
   "execution_count": 7,
   "id": "f3ce2f73",
   "metadata": {
    "ExecuteTime": {
     "end_time": "2023-12-26T11:32:03.364059Z",
     "start_time": "2023-12-26T11:32:03.359176Z"
    }
   },
   "outputs": [
    {
     "name": "stdout",
     "output_type": "stream",
     "text": [
      "淡水舱容积为400.22 m3\n"
     ]
    }
   ],
   "source": [
    "W_water = 386.21 # t\n",
    "rho_water = 1 # t/m3\n",
    "kc_water = 0.965 # 淡水舱位于尾尖舱 0.96-0.97\n",
    "V_water = round(W_water/rho_water/kc_water,2)\n",
    "print('淡水舱容积为%s m3'%V_water)"
   ]
  },
  {
   "cell_type": "markdown",
   "id": "060e89cb",
   "metadata": {},
   "source": [
    "### 燃油类"
   ]
  },
  {
   "cell_type": "code",
   "execution_count": 8,
   "id": "feb6f32b",
   "metadata": {
    "ExecuteTime": {
     "end_time": "2023-12-26T11:32:03.727187Z",
     "start_time": "2023-12-26T11:32:03.720350Z"
    }
   },
   "outputs": [
    {
     "name": "stdout",
     "output_type": "stream",
     "text": [
      "\n",
      "重油舱容为3617.72 m3\n",
      "轻油舱容为123.38 m3\n",
      "\n"
     ]
    }
   ],
   "source": [
    "# 重油舱容母型船为2894.22，轻油（柴油）舱容为101.76\n",
    "# 燃油总量为3068.67t\n",
    "oil_weight = 3068.67\n",
    "# 重油密度去0.89,轻油去0.85\n",
    "# 换算得二者的重量比为\n",
    "ph = 2894.22*0.89/(2894.22*0.89+101.76*0.85)\n",
    "pl = 101.76*0.85/(2894.22*0.89+101.76*0.85)\n",
    "# 重油\n",
    "W_heavy_oil = ph*oil_weight\n",
    "rho_heavy_oil = 0.89\n",
    "kc_heavy_oil = 0.975*0.975*0.97 # 双层底折扣系数取0.975,膨胀系数取0.975，管系占据3%容积\n",
    "V_heavy_oil = round(W_heavy_oil/rho_heavy_oil/kc_heavy_oil,2)\n",
    "# 轻油\n",
    "W_light_oil = pl*oil_weight\n",
    "rho_light_oil = 0.85\n",
    "kc_light_oil = 0.975*0.975 # 双层底折扣系数取0.975,膨胀系数取0.975\n",
    "V_light_oil = round(W_light_oil/rho_light_oil/kc_light_oil,2)\n",
    "print(f'''\n",
    "重油舱容为{V_heavy_oil} m3\n",
    "轻油舱容为{V_light_oil} m3\n",
    "''')"
   ]
  },
  {
   "cell_type": "code",
   "execution_count": 9,
   "id": "2cdbdc2c",
   "metadata": {
    "ExecuteTime": {
     "end_time": "2023-12-26T11:32:03.934201Z",
     "start_time": "2023-12-26T11:32:03.929320Z"
    }
   },
   "outputs": [
    {
     "data": {
      "text/plain": [
       "(2968.9733031472397, 99.69669685276004)"
      ]
     },
     "execution_count": 9,
     "metadata": {},
     "output_type": "execute_result"
    }
   ],
   "source": [
    "W_heavy_oil,W_light_oil"
   ]
  },
  {
   "cell_type": "markdown",
   "id": "6388cbe7",
   "metadata": {},
   "source": [
    "### 滑油类"
   ]
  },
  {
   "cell_type": "code",
   "execution_count": 10,
   "id": "70082aa9",
   "metadata": {
    "ExecuteTime": {
     "end_time": "2023-12-26T11:32:04.447426Z",
     "start_time": "2023-12-26T11:32:04.442538Z"
    }
   },
   "outputs": [
    {
     "name": "stdout",
     "output_type": "stream",
     "text": [
      "\n",
      "    滑油舱容为144.96 m3\n",
      "\n"
     ]
    }
   ],
   "source": [
    "# 润滑油重量122.75t\n",
    "# 长城润滑油0.9t/m3\n",
    "W_lube = 122.75 # t\n",
    "rho_lube = 0.9\n",
    "kc_lube = 0.97 # 布置在双层底\n",
    "kc2_lube = 0.97 # 膨胀系数\n",
    "V_lube = W_lube/rho_lube/kc_lube/kc2_lube\n",
    "V_lube = round(V_lube,2)\n",
    "print(f'''\n",
    "    滑油舱容为{V_lube} m3\n",
    "''')"
   ]
  },
  {
   "cell_type": "code",
   "execution_count": 61,
   "id": "76067c58",
   "metadata": {
    "ExecuteTime": {
     "end_time": "2023-12-26T12:13:16.994391Z",
     "start_time": "2023-12-26T12:13:16.990483Z"
    }
   },
   "outputs": [
    {
     "data": {
      "text/plain": [
       "3886.06"
      ]
     },
     "execution_count": 61,
     "metadata": {},
     "output_type": "execute_result"
    }
   ],
   "source": [
    "VOW = V_heavy_oil+V_light_oil+V_lube\n",
    "VOW"
   ]
  },
  {
   "cell_type": "markdown",
   "id": "97da42cf",
   "metadata": {},
   "source": [
    "### 其他油水类"
   ]
  },
  {
   "cell_type": "code",
   "execution_count": 12,
   "id": "9ec39081",
   "metadata": {
    "ExecuteTime": {
     "end_time": "2023-12-26T11:32:05.219391Z",
     "start_time": "2023-12-26T11:32:05.215486Z"
    }
   },
   "outputs": [],
   "source": [
    "# 暂不校核"
   ]
  },
  {
   "cell_type": "markdown",
   "id": "25e99d84",
   "metadata": {},
   "source": [
    "### 货舱段所需总容积"
   ]
  },
  {
   "cell_type": "code",
   "execution_count": 13,
   "id": "90947604",
   "metadata": {
    "ExecuteTime": {
     "end_time": "2023-12-26T11:32:05.784783Z",
     "start_time": "2023-12-26T11:32:05.779901Z"
    }
   },
   "outputs": [
    {
     "name": "stdout",
     "output_type": "stream",
     "text": [
      "\n",
      "货舱段所需总容积为108588.74 m3\n",
      "\n"
     ]
    }
   ],
   "source": [
    "V_sum = Vc+VB+V_heavy_oil+V_light_oil+V_lube\n",
    "V_need_sum = round(V_sum,2)\n",
    "print(f'''\n",
    "货舱段所需总容积为{V_need_sum} m3\n",
    "''')"
   ]
  },
  {
   "cell_type": "markdown",
   "id": "e4349211",
   "metadata": {},
   "source": [
    "# 全船舱容校核"
   ]
  },
  {
   "cell_type": "markdown",
   "id": "0827dda5",
   "metadata": {},
   "source": [
    "## 主船体总容积估算"
   ]
  },
  {
   "cell_type": "markdown",
   "id": "7d14101d",
   "metadata": {},
   "source": [
    "$$\n",
    "V_H = C_{BD}L_{PP}BD_1\\\\\n",
    "C_{BD}=C_B+(1-C_B)(D-d)/(C_1d)\\\\\n",
    "D_1=D+S_M+0.7C\n",
    "$$\n",
    "其中，$C_1$为3，$S_M$为相当舷弧高，可近似取为首尾舷弧之和的1/6,C为梁拱值，可取C=(0.01-0.02)B"
   ]
  },
  {
   "cell_type": "code",
   "execution_count": 65,
   "id": "65017411",
   "metadata": {
    "ExecuteTime": {
     "end_time": "2023-12-26T12:18:16.352189Z",
     "start_time": "2023-12-26T12:18:16.346324Z"
    }
   },
   "outputs": [
    {
     "data": {
      "text/plain": [
       "19.99146"
      ]
     },
     "execution_count": 65,
     "metadata": {},
     "output_type": "execute_result"
    }
   ],
   "source": [
    "D1"
   ]
  },
  {
   "cell_type": "code",
   "execution_count": 41,
   "id": "acd861bb",
   "metadata": {
    "ExecuteTime": {
     "end_time": "2023-12-26T11:43:10.639506Z",
     "start_time": "2023-12-26T11:43:10.634625Z"
    }
   },
   "outputs": [],
   "source": [
    "# 母船首尾舷弧\n",
    "hu_f = 2300\n",
    "hu_a = 454\n",
    "C1 = 3\n",
    "SM = (hu_f+hu_a)/6/1000\n",
    "C = 0.01*B # 取0.01B\n",
    "D1 = D + SM + 0.7*C\n",
    "CBD = CB+(1-CB)*(D-d)/C1/d"
   ]
  },
  {
   "cell_type": "code",
   "execution_count": 49,
   "id": "fd62b7c0",
   "metadata": {
    "ExecuteTime": {
     "end_time": "2023-12-26T11:50:31.085671Z",
     "start_time": "2023-12-26T11:50:31.081764Z"
    }
   },
   "outputs": [
    {
     "data": {
      "text/plain": [
       "118868.77620962553"
      ]
     },
     "execution_count": 49,
     "metadata": {},
     "output_type": "execute_result"
    }
   ],
   "source": [
    "VH = CBD*Lpp*B*D1\n",
    "VH"
   ]
  },
  {
   "cell_type": "markdown",
   "id": "f7e76b3c",
   "metadata": {},
   "source": [
    "## 货舱容积估算\n",
    "$$\n",
    "V_{TC}=CL_{PP}BD\n",
    "$$"
   ]
  },
  {
   "cell_type": "code",
   "execution_count": 50,
   "id": "f717f8fe",
   "metadata": {
    "ExecuteTime": {
     "end_time": "2023-12-26T11:53:28.132585Z",
     "start_time": "2023-12-26T11:53:28.127706Z"
    }
   },
   "outputs": [
    {
     "data": {
      "text/plain": [
       "86634.9681102254"
      ]
     },
     "execution_count": 50,
     "metadata": {},
     "output_type": "execute_result"
    }
   ],
   "source": [
    "VTC_parent =  90257.9\n",
    "Lpp_parent = 218\n",
    "B_parent = 32.26\n",
    "D_parent = 19.6\n",
    "C = VTC_parent/Lpp_parent/B_parent/D_parent\n",
    "# 设计船的货仓舱容\n",
    "VTC = C*Lpp*B*D\n",
    "VTC"
   ]
  },
  {
   "cell_type": "markdown",
   "id": "62c76863",
   "metadata": {},
   "source": [
    "## 双层底舱容估算"
   ]
  },
  {
   "cell_type": "markdown",
   "id": "d5d8b1af",
   "metadata": {},
   "source": [
    "$$\n",
    "V_D=L_{PP}Bh_D[C_B-0.4(\\frac{d-h_D}{d})^2\\sqrt{1-C_B}]\n",
    "$$"
   ]
  },
  {
   "cell_type": "code",
   "execution_count": 54,
   "id": "0b41a088",
   "metadata": {
    "ExecuteTime": {
     "end_time": "2023-12-26T12:00:05.710884Z",
     "start_time": "2023-12-26T12:00:05.706002Z"
    }
   },
   "outputs": [
    {
     "data": {
      "text/plain": [
       "8714.091297735617"
      ]
     },
     "execution_count": 54,
     "metadata": {},
     "output_type": "execute_result"
    }
   ],
   "source": [
    "hD = (2265*19.2+1684*209*0.85)/(19.2+0.85*209)/1000 # 货舱与机舱下双层底加权取平均计算平均双层底高度\n",
    "VD = Lpp*B*hD*(CB-0.4*(1-hD/d)**2*(1-CB)**0.5)\n",
    "VD"
   ]
  },
  {
   "cell_type": "markdown",
   "id": "1f215a94",
   "metadata": {},
   "source": [
    "## 上甲板以上装货容积估算"
   ]
  },
  {
   "cell_type": "code",
   "execution_count": 55,
   "id": "ac97b830",
   "metadata": {
    "ExecuteTime": {
     "end_time": "2023-12-26T12:05:51.500805Z",
     "start_time": "2023-12-26T12:05:51.495924Z"
    }
   },
   "outputs": [
    {
     "data": {
      "text/plain": [
       "(3485.07, 16.348018348623853, 15.564910105393679, 13.200619962802234, 2)"
      ]
     },
     "execution_count": 55,
     "metadata": {},
     "output_type": "execute_result"
    }
   ],
   "source": [
    "# 参考母型船数据，进行缩放,舱口的长宽高数据为\n",
    "l = 16.53*Lpp/Lpp_parent\n",
    "b1 = 15.8*B/B_parent\n",
    "b2 = 13.4*B/B_parent\n",
    "h = 2\n",
    "VU = 6*l*b1*h+l*b2*h\n",
    "VU = round(VU,2)\n",
    "VU,l,b1,b2,h"
   ]
  },
  {
   "cell_type": "markdown",
   "id": "6bd1af87",
   "metadata": {},
   "source": [
    "## 边舱容积估算"
   ]
  },
  {
   "cell_type": "code",
   "execution_count": 57,
   "id": "9afae035",
   "metadata": {
    "ExecuteTime": {
     "end_time": "2023-12-26T12:09:49.402207Z",
     "start_time": "2023-12-26T12:09:49.396350Z"
    }
   },
   "outputs": [
    {
     "data": {
      "text/plain": [
       "17269.71"
      ]
     },
     "execution_count": 57,
     "metadata": {},
     "output_type": "execute_result"
    }
   ],
   "source": [
    "# 母船边舱面积\n",
    "S1 = 40.63 # 顶边舱，船两侧总面积\n",
    "S2 = 31.42 # 底边舱\n",
    "S3 = 28.34 # 双层底边舱\n",
    "S = S1+S2+S3\n",
    "VO_parent = S*179.22\n",
    "VO = VO_parent*B*D*Lpp/B_parent/D_parent/Lpp_parent\n",
    "VO = round(VO,2)\n",
    "VO"
   ]
  },
  {
   "cell_type": "markdown",
   "id": "44c66a26",
   "metadata": {},
   "source": [
    "## 全船容积校核"
   ]
  },
  {
   "cell_type": "code",
   "execution_count": 59,
   "id": "26c1fd23",
   "metadata": {
    "ExecuteTime": {
     "end_time": "2023-12-26T12:12:50.917935Z",
     "start_time": "2023-12-26T12:12:50.914029Z"
    }
   },
   "outputs": [
    {
     "data": {
      "text/plain": [
       "18060.86"
      ]
     },
     "execution_count": 59,
     "metadata": {},
     "output_type": "execute_result"
    }
   ],
   "source": [
    "VOW = "
   ]
  },
  {
   "cell_type": "code",
   "execution_count": 62,
   "id": "54203430",
   "metadata": {
    "ExecuteTime": {
     "end_time": "2023-12-26T12:14:14.115734Z",
     "start_time": "2023-12-26T12:14:14.110852Z"
    }
   },
   "outputs": [
    {
     "data": {
      "text/plain": [
       "(105103.6668844221, True)"
      ]
     },
     "execution_count": 62,
     "metadata": {},
     "output_type": "execute_result"
    }
   ],
   "source": [
    "V_need = Vc + VB + VOW - VU\n",
    "V_need,V_need < VH"
   ]
  },
  {
   "cell_type": "markdown",
   "id": "3128f997",
   "metadata": {},
   "source": [
    "# 局部舱容校核"
   ]
  },
  {
   "cell_type": "markdown",
   "id": "7ce72752",
   "metadata": {},
   "source": [
    "## 货舱舱容校核"
   ]
  },
  {
   "cell_type": "code",
   "execution_count": 14,
   "id": "8e17f249",
   "metadata": {
    "ExecuteTime": {
     "end_time": "2023-12-26T11:32:11.052455Z",
     "start_time": "2023-12-26T11:32:11.048548Z"
    }
   },
   "outputs": [],
   "source": [
    "# 下方梯形\n",
    "S1 = (11745+14830)*(4800-1710)/2/1e6\n",
    "S2 = 14830*10900/1e6\n",
    "S3 = (14830+8400)*(3900-760+645)/2/1e6\n",
    "S4 = 760*8440/1e6\n",
    "S5 = (7940+8440)*2000/2/1e6"
   ]
  },
  {
   "cell_type": "code",
   "execution_count": 15,
   "id": "cdbad7c4",
   "metadata": {
    "ExecuteTime": {
     "end_time": "2023-12-26T11:32:11.211720Z",
     "start_time": "2023-12-26T11:32:11.206837Z"
    },
    "scrolled": true
   },
   "outputs": [
    {
     "name": "stdout",
     "output_type": "stream",
     "text": [
      "\n",
      "    船中剖面货仓面积为269.46 m2\n",
      "\n"
     ]
    }
   ],
   "source": [
    "S = S1+S2+S3+S4+S5\n",
    "S = round(S,2)\n",
    "print(f'''\n",
    "    船中剖面货仓面积为{S} m2\n",
    "''')"
   ]
  },
  {
   "cell_type": "code",
   "execution_count": 16,
   "id": "c4d53cb3",
   "metadata": {
    "ExecuteTime": {
     "end_time": "2023-12-26T11:32:11.366985Z",
     "start_time": "2023-12-26T11:32:11.363076Z"
    }
   },
   "outputs": [],
   "source": [
    "Ac_parent = S"
   ]
  },
  {
   "cell_type": "markdown",
   "id": "afc24d04",
   "metadata": {},
   "source": [
    "$$\n",
    "    V_{TC} = (L_{PP}-L_A-L_F-L_M)A_CK_C\n",
    "$$"
   ]
  },
  {
   "cell_type": "code",
   "execution_count": null,
   "id": "9a013cc8",
   "metadata": {
    "ExecuteTime": {
     "end_time": "2023-12-26T11:32:12.074948Z",
     "start_time": "2023-12-26T11:32:12.074948Z"
    }
   },
   "outputs": [],
   "source": [
    "Lpp_parent = 218\n",
    "LA_parent = 8.25\n",
    "LF_parent = 10.53\n",
    "LM_parent = 20\n",
    "VTC_parent = 90257.9"
   ]
  },
  {
   "cell_type": "code",
   "execution_count": null,
   "id": "34035f4c",
   "metadata": {
    "ExecuteTime": {
     "end_time": "2023-12-26T11:32:12.075922Z",
     "start_time": "2023-12-26T11:32:12.075922Z"
    }
   },
   "outputs": [],
   "source": [
    "Kc = VTC_parent/(Lpp_parent-LA_parent-LF_parent-LM_parent)/Ac_parent\n",
    "Kc"
   ]
  },
  {
   "cell_type": "code",
   "execution_count": 18,
   "id": "a5c4654e",
   "metadata": {
    "ExecuteTime": {
     "end_time": "2023-12-26T11:32:12.326970Z",
     "start_time": "2023-12-26T11:32:12.321110Z"
    },
    "scrolled": true
   },
   "outputs": [
    {
     "name": "stdout",
     "output_type": "stream",
     "text": [
      "\n",
      "设计船货舱实际容积为46227.28 m3\n",
      "\n"
     ]
    }
   ],
   "source": [
    "B_parent = 32.26\n",
    "D_parent = 19.6\n",
    "Lpp = 215.6\n",
    "LF = 10.5\n",
    "LA = 8.25\n",
    "LM = 19.2\n",
    "Ac = Ac_parent*B*D/B_parent/D_parent\n",
    "VTC = (Lpp-LF-LA-LM)*Ac*Kc\n",
    "VTC = round(VTC,2)\n",
    "print(f'''\n",
    "设计船货舱实际容积为{VTC} m3\n",
    "''')"
   ]
  },
  {
   "cell_type": "code",
   "execution_count": 19,
   "id": "e6b749be",
   "metadata": {
    "ExecuteTime": {
     "end_time": "2023-12-26T11:32:12.494925Z",
     "start_time": "2023-12-26T11:32:12.491023Z"
    }
   },
   "outputs": [
    {
     "data": {
      "text/plain": [
       "False"
      ]
     },
     "execution_count": 19,
     "metadata": {},
     "output_type": "execute_result"
    }
   ],
   "source": [
    "VTC > Vc"
   ]
  },
  {
   "cell_type": "markdown",
   "id": "f2cb3564",
   "metadata": {},
   "source": [
    "**货仓容积不足，船长加长一个肋位**"
   ]
  },
  {
   "cell_type": "markdown",
   "id": "91eec034",
   "metadata": {},
   "source": [
    "船长变为215.6，结构吃水变为14.24m，校核成功"
   ]
  },
  {
   "cell_type": "markdown",
   "id": "ff204ac9",
   "metadata": {},
   "source": [
    "### 燃油舱"
   ]
  },
  {
   "cell_type": "markdown",
   "id": "1c62035e",
   "metadata": {
    "ExecuteTime": {
     "end_time": "2023-12-20T08:14:10.776767Z",
     "start_time": "2023-12-20T08:14:10.740633Z"
    }
   },
   "source": [
    "使用顶边舱与机舱部分区域作为燃油舱，滑油舱位于双层底"
   ]
  },
  {
   "cell_type": "markdown",
   "id": "cf4a40c3",
   "metadata": {},
   "source": [
    "#### 顶边舱"
   ]
  },
  {
   "cell_type": "code",
   "execution_count": 20,
   "id": "c4967f2f",
   "metadata": {
    "ExecuteTime": {
     "end_time": "2023-12-26T11:32:13.496891Z",
     "start_time": "2023-12-26T11:32:13.491032Z"
    }
   },
   "outputs": [
    {
     "data": {
      "text/plain": [
       "6292.132146000001"
      ]
     },
     "execution_count": 20,
     "metadata": {},
     "output_type": "execute_result"
    }
   ],
   "source": [
    "# 母船\n",
    "S1 = (1300+14830+1300-8440)*3689/1e6/2\n",
    "S2 = (760+3900-3689)*(14830+1300-8440)/1e6/2\n",
    "L = 154860/1e3 # 货仓2前缘到机舱前缘\n",
    "V = (S1+S2)*L*2\n",
    "V"
   ]
  },
  {
   "cell_type": "code",
   "execution_count": 21,
   "id": "2e96718f",
   "metadata": {
    "ExecuteTime": {
     "end_time": "2023-12-26T11:32:13.885538Z",
     "start_time": "2023-12-26T11:32:13.880654Z"
    }
   },
   "outputs": [
    {
     "data": {
      "text/plain": [
       "40.6311"
      ]
     },
     "execution_count": 21,
     "metadata": {},
     "output_type": "execute_result"
    }
   ],
   "source": [
    "(S1+S2)*2"
   ]
  },
  {
   "cell_type": "code",
   "execution_count": 22,
   "id": "d389a219",
   "metadata": {
    "ExecuteTime": {
     "end_time": "2023-12-26T11:32:14.283063Z",
     "start_time": "2023-12-26T11:32:14.278179Z"
    }
   },
   "outputs": [
    {
     "name": "stdout",
     "output_type": "stream",
     "text": [
      "\n",
      "设计船的顶边舱容积为5999.93 m3\n",
      "\n"
     ]
    }
   ],
   "source": [
    "# 设计船\n",
    "B = 31.78\n",
    "D = 19.31\n",
    "tmpL =(29*6+5)*0.85 # 设计船2-7货仓跨度\n",
    "V = V*tmpL*B*D/L/B_parent/D_parent\n",
    "Vt = round(V,2)\n",
    "print(f'''\n",
    "设计船的顶边舱容积为{Vt} m3\n",
    "''')"
   ]
  },
  {
   "cell_type": "code",
   "execution_count": 23,
   "id": "9622ec97",
   "metadata": {
    "ExecuteTime": {
     "end_time": "2023-12-26T11:32:14.475432Z",
     "start_time": "2023-12-26T11:32:14.470550Z"
    }
   },
   "outputs": [
    {
     "data": {
      "text/plain": [
       "True"
      ]
     },
     "execution_count": 23,
     "metadata": {},
     "output_type": "execute_result"
    }
   ],
   "source": [
    "Vt > V_heavy_oil+V_light_oil+V_lube"
   ]
  },
  {
   "cell_type": "markdown",
   "id": "b5ebe68f",
   "metadata": {},
   "source": [
    "### 压载舱"
   ]
  },
  {
   "cell_type": "markdown",
   "id": "7ab92c9a",
   "metadata": {
    "ExecuteTime": {
     "end_time": "2023-12-20T03:23:26.455007Z",
     "start_time": "2023-12-20T03:23:26.450128Z"
    }
   },
   "source": [
    "使用双层底、底边舱、边舱、首尾尖舱作为压载水舱"
   ]
  },
  {
   "cell_type": "markdown",
   "id": "67f060be",
   "metadata": {
    "ExecuteTime": {
     "end_time": "2023-12-20T03:25:12.797810Z",
     "start_time": "2023-12-20T03:25:12.793904Z"
    }
   },
   "source": [
    "#### 双层底"
   ]
  },
  {
   "cell_type": "code",
   "execution_count": 24,
   "id": "75f45ea2",
   "metadata": {
    "ExecuteTime": {
     "end_time": "2023-12-26T11:32:15.154181Z",
     "start_time": "2023-12-26T11:32:15.148325Z"
    }
   },
   "outputs": [
    {
     "data": {
      "text/plain": [
       "(2265, 1684)"
      ]
     },
     "execution_count": 24,
     "metadata": {},
     "output_type": "execute_result"
    }
   ],
   "source": [
    "# 机舱 2265 mm\n",
    "# 货仓 1710 mm\n",
    "hm = 2265\n",
    "hg = 1710*D/D_parent\n",
    "hg = int(hg)\n",
    "hm,hg"
   ]
  },
  {
   "cell_type": "code",
   "execution_count": 25,
   "id": "ac26193a",
   "metadata": {
    "ExecuteTime": {
     "end_time": "2023-12-26T11:32:15.516462Z",
     "start_time": "2023-12-26T11:32:15.511579Z"
    }
   },
   "outputs": [],
   "source": [
    "# 机舱\n",
    "L1 = 12616 # 梯形区域下底 mm\n",
    "L2 = 3282 # 梯形区域上底 mm\n",
    "H = 19000 # mm\n",
    "S1 = (L1+L2)*H/2/1e6\n",
    "# 滑油循环舱\n",
    "L1 = 3600\n",
    "L2 = 10395\n",
    "S2 = L1*L2/1e6"
   ]
  },
  {
   "cell_type": "code",
   "execution_count": 26,
   "id": "34a69265",
   "metadata": {
    "ExecuteTime": {
     "end_time": "2023-12-26T11:32:15.682467Z",
     "start_time": "2023-12-26T11:32:15.677585Z"
    }
   },
   "outputs": [
    {
     "data": {
      "text/plain": [
       "257.32"
      ]
     },
     "execution_count": 26,
     "metadata": {},
     "output_type": "execute_result"
    }
   ],
   "source": [
    "Vm = (S1-S2)*hm/1000\n",
    "Vm = round(Vm,2)\n",
    "Vm"
   ]
  },
  {
   "cell_type": "code",
   "execution_count": 30,
   "id": "a2d74b68",
   "metadata": {
    "ExecuteTime": {
     "end_time": "2023-12-26T11:32:32.036783Z",
     "start_time": "2023-12-26T11:32:32.032877Z"
    }
   },
   "outputs": [],
   "source": [
    "Lpp_parent = 218"
   ]
  },
  {
   "cell_type": "code",
   "execution_count": 31,
   "id": "eb5510e0",
   "metadata": {
    "ExecuteTime": {
     "end_time": "2023-12-26T11:32:32.327865Z",
     "start_time": "2023-12-26T11:32:32.322009Z"
    }
   },
   "outputs": [
    {
     "name": "stdout",
     "output_type": "stream",
     "text": [
      "\n",
      "双层底压载水仓容积为7485.07 m3\n",
      "\n"
     ]
    }
   ],
   "source": [
    "# 货舱段\n",
    "# 中间区域的尺寸\n",
    "L1 = 2800\n",
    "L2 = 154860\n",
    "S1 = L1*L2/1e6\n",
    "# 双层底总面积\n",
    "L1 = B_parent*1000\n",
    "L2 = 154860\n",
    "S2 = L1*L2/1e6\n",
    "# 双层底压载舱面积为\n",
    "S =S2 - S1\n",
    "# 设计船的压载舱面积,平方模数法\n",
    "S = S*B*Lpp/B_parent/Lpp_parent\n",
    "V = S*hg/1000\n",
    "Vg = round(V,2)\n",
    "print(f'''\n",
    "双层底压载水仓容积为{Vg} m3\n",
    "''')"
   ]
  },
  {
   "cell_type": "markdown",
   "id": "0674ecc8",
   "metadata": {},
   "source": [
    "#### 底边舱与边舱"
   ]
  },
  {
   "cell_type": "code",
   "execution_count": 32,
   "id": "d69697c9",
   "metadata": {
    "ExecuteTime": {
     "end_time": "2023-12-26T11:32:32.826856Z",
     "start_time": "2023-12-26T11:32:32.821973Z"
    }
   },
   "outputs": [
    {
     "name": "stdout",
     "output_type": "stream",
     "text": [
      "22.953325\n",
      "22.27723766833097\n",
      "\n",
      "底边舱与边舱的容积和为6778.96 m3\n",
      "\n"
     ]
    }
   ],
   "source": [
    "# 母船\n",
    "S1 = (1300+14830-11745+1300)*(4800-1710)/2/1e6\n",
    "S2 = 10900*1300/1e6\n",
    "S = S1+S2\n",
    "print(S)\n",
    "# 设计船，平方模数法\n",
    "S = S*B*D/B_parent/D_parent\n",
    "print(S)\n",
    "L = (29*6+5)*0.85 # 设计船的货舱段长度\n",
    "V = S*L\n",
    "Vbs = round(V,2)*2\n",
    "print(f'''\n",
    "底边舱与边舱的容积和为{Vbs} m3\n",
    "''')"
   ]
  },
  {
   "cell_type": "markdown",
   "id": "7eb1acf3",
   "metadata": {},
   "source": [
    "#### 防撞舱壁与首垂线之间"
   ]
  },
  {
   "cell_type": "code",
   "execution_count": 33,
   "id": "6fbe9f16",
   "metadata": {
    "ExecuteTime": {
     "end_time": "2023-12-26T11:32:33.191642Z",
     "start_time": "2023-12-26T11:32:33.186762Z"
    }
   },
   "outputs": [
    {
     "name": "stdout",
     "output_type": "stream",
     "text": [
      "2666.37\n",
      "\n",
      "设计船第一压载舱大小为2559.34 m3\n",
      "\n"
     ]
    }
   ],
   "source": [
    "# 母船第一压载\n",
    "V = 620.87+624.88+710.27+710.35\n",
    "print(V)\n",
    "# 设计船第一压载\n",
    "V = V*Lpp*B*D/Lpp_parent/B_parent/D_parent\n",
    "V1 = round(V,2)\n",
    "print(f'''\n",
    "设计船第一压载舱大小为{V1} m3\n",
    "''')"
   ]
  },
  {
   "cell_type": "markdown",
   "id": "57d30d95",
   "metadata": {},
   "source": [
    "#### 首尾尖舱"
   ]
  },
  {
   "cell_type": "code",
   "execution_count": 34,
   "id": "1cb22cd8",
   "metadata": {
    "ExecuteTime": {
     "end_time": "2023-12-26T11:32:33.806837Z",
     "start_time": "2023-12-26T11:32:33.802932Z"
    }
   },
   "outputs": [
    {
     "name": "stdout",
     "output_type": "stream",
     "text": [
      "\n",
      "首尾尖舱大小为1476.93 m3\n",
      "\n"
     ]
    }
   ],
   "source": [
    "# 母船\n",
    "V = 460.83 + 1077.86 # 尾尖舱+艏尖舱\n",
    "# 设计船\n",
    "V = V*Lpp*B*D/Lpp_parent/B_parent/D_parent\n",
    "Vaf = round(V,2)\n",
    "print(f'''\n",
    "首尾尖舱大小为{Vaf} m3\n",
    "''')"
   ]
  },
  {
   "cell_type": "code",
   "execution_count": 35,
   "id": "be5e7325",
   "metadata": {
    "ExecuteTime": {
     "end_time": "2023-12-26T11:32:34.053893Z",
     "start_time": "2023-12-26T11:32:34.049013Z"
    }
   },
   "outputs": [
    {
     "data": {
      "text/plain": [
       "18557.62"
      ]
     },
     "execution_count": 35,
     "metadata": {},
     "output_type": "execute_result"
    }
   ],
   "source": [
    "# 压载水舱总容积\n",
    "V_water_supply = Vm+Vg+Vbs+V1+Vaf\n",
    "V_water_supply"
   ]
  },
  {
   "cell_type": "code",
   "execution_count": 36,
   "id": "e030898e",
   "metadata": {
    "ExecuteTime": {
     "end_time": "2023-12-26T11:32:34.348798Z",
     "start_time": "2023-12-26T11:32:34.343913Z"
    }
   },
   "outputs": [
    {
     "data": {
      "text/plain": [
       "True"
      ]
     },
     "execution_count": 36,
     "metadata": {},
     "output_type": "execute_result"
    }
   ],
   "source": [
    "V_water_supply > V_water"
   ]
  }
 ],
 "metadata": {
  "kernelspec": {
   "display_name": "Python 3 (ipykernel)",
   "language": "python",
   "name": "python3"
  },
  "language_info": {
   "codemirror_mode": {
    "name": "ipython",
    "version": 3
   },
   "file_extension": ".py",
   "mimetype": "text/x-python",
   "name": "python",
   "nbconvert_exporter": "python",
   "pygments_lexer": "ipython3",
   "version": "3.9.12"
  },
  "toc": {
   "base_numbering": 1,
   "nav_menu": {},
   "number_sections": true,
   "sideBar": true,
   "skip_h1_title": false,
   "title_cell": "Table of Contents",
   "title_sidebar": "Contents",
   "toc_cell": false,
   "toc_position": {},
   "toc_section_display": true,
   "toc_window_display": false
  }
 },
 "nbformat": 4,
 "nbformat_minor": 5
}
