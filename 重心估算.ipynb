{
 "cells": [
  {
   "cell_type": "markdown",
   "id": "23008de9",
   "metadata": {},
   "source": [
    "# 母船与设计船尺度数据"
   ]
  },
  {
   "cell_type": "code",
   "execution_count": 2,
   "id": "0227a38b",
   "metadata": {
    "ExecuteTime": {
     "end_time": "2024-02-22T01:46:26.762282Z",
     "start_time": "2024-02-22T01:46:26.757402Z"
    }
   },
   "outputs": [],
   "source": [
    "d_parent = 14.3    # 结构吃水:m\n",
    "Lpp_parent = 218   # 垂线间长:m\n",
    "B_parent = 32.26   # 型宽:m\n",
    "D_parent = 19.60   # 型深:m\n",
    "CB_parent = 0.85   # 方形系数\n",
    "CW_parent = 0.929  # 结构吃水处的水线面系数\n",
    "CM_parent = 0.997  # 中横剖面系数\n",
    "VB_parent = 18787.3# 母型船压载水仓容积:m^3\n",
    "DW_parent = 75000  # 母型船载重量\n",
    "\n",
    "d = 14.15   # 结构吃水:m\n",
    "Lpp = 215.17 # 垂线间长:m\n",
    "B = 31.84   # 型宽:m\n",
    "D = 19.34   # 型深:m\n",
    "CB = 0.85   # 方形系数\n",
    "DW = 72100 # 载重量:t\n",
    "LW = 12498.28 # 考虑了排水量裕度的空船重量:t\n",
    "delta = 84610.58 # 排水量:t\n",
    "Wc = 68338.26 # 货物重量:t\n",
    "resWeight = DW - Wc # 除货物重量外的载重量"
   ]
  },
  {
   "cell_type": "markdown",
   "id": "b6fd100c",
   "metadata": {
    "ExecuteTime": {
     "end_time": "2024-02-22T01:36:33.259872Z",
     "start_time": "2024-02-22T01:36:33.256944Z"
    }
   },
   "source": [
    "# 重心估算"
   ]
  },
  {
   "cell_type": "markdown",
   "id": "9d6ed872",
   "metadata": {},
   "source": [
    "## 淡水舱"
   ]
  },
  {
   "cell_type": "markdown",
   "id": "4e4279ad",
   "metadata": {},
   "source": [
    "淡水舱俯视图\n",
    "![淡水舱俯视图](img/淡水舱俯视图.png)\n",
    "淡水舱侧视图\n",
    "![淡水舱侧视图](img/淡水舱侧视图.png)\n",
    "任务书母船淡水舱容积\n",
    "![2](img/母船任务书淡水舱容积.png)"
   ]
  },
  {
   "cell_type": "code",
   "execution_count": 4,
   "id": "89ae6dbc",
   "metadata": {
    "ExecuteTime": {
     "end_time": "2024-02-22T01:53:34.678047Z",
     "start_time": "2024-02-22T01:53:34.672191Z"
    }
   },
   "outputs": [
    {
     "name": "stdout",
     "output_type": "stream",
     "text": [
      "\n",
      "设计船淡水舱容积为:\n",
      "FRESH WAT.TK(P)       209.61m3\n",
      "FRESH WAT.TK(S)       209.61m3\n",
      "DIS.WAT.TK.           22.61m3\n",
      "\n"
     ]
    }
   ],
   "source": [
    "# 淡水舱 F.W.T(P&S),根据母船缩放\n",
    "scale1 = D * Lpp * B / D_parent / Lpp_parent / B_parent\n",
    "FWT_P = round(218.06 * scale1,2)\n",
    "FWT_S = round(218.06 * scale1,2)\n",
    "DIS_WAT = round(23.52 * scale1,2) # 蒸馏水仓\n",
    "print(f\"\"\"\n",
    "设计船淡水舱容积为:\n",
    "FRESH WAT.TK(P)       {FWT_P}m3\n",
    "FRESH WAT.TK(S)       {FWT_S}m3\n",
    "DIS.WAT.TK.           {DIS_WAT}m3\n",
    "\"\"\")"
   ]
  },
  {
   "cell_type": "markdown",
   "id": "fba0cb2d",
   "metadata": {},
   "source": [
    "## 燃油舱"
   ]
  },
  {
   "cell_type": "code",
   "execution_count": null,
   "id": "30635bb3",
   "metadata": {},
   "outputs": [],
   "source": []
  }
 ],
 "metadata": {
  "kernelspec": {
   "display_name": "Python 3 (ipykernel)",
   "language": "python",
   "name": "python3"
  },
  "language_info": {
   "codemirror_mode": {
    "name": "ipython",
    "version": 3
   },
   "file_extension": ".py",
   "mimetype": "text/x-python",
   "name": "python",
   "nbconvert_exporter": "python",
   "pygments_lexer": "ipython3",
   "version": "3.9.12"
  },
  "toc": {
   "base_numbering": 1,
   "nav_menu": {},
   "number_sections": true,
   "sideBar": true,
   "skip_h1_title": false,
   "title_cell": "Table of Contents",
   "title_sidebar": "Contents",
   "toc_cell": false,
   "toc_position": {},
   "toc_section_display": true,
   "toc_window_display": false
  }
 },
 "nbformat": 4,
 "nbformat_minor": 5
}
