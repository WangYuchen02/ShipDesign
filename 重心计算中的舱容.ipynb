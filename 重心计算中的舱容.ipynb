{
 "cells": [
  {
   "cell_type": "code",
   "execution_count": 1,
   "id": "c49d3d16",
   "metadata": {
    "ExecuteTime": {
     "end_time": "2024-03-12T13:05:02.975814Z",
     "start_time": "2024-03-12T13:04:55.593442Z"
    }
   },
   "outputs": [],
   "source": [
    "from scipy.interpolate import interp1d\n",
    "from scipy.integrate import simpson\n",
    "import numpy as np"
   ]
  },
  {
   "cell_type": "markdown",
   "id": "e0888b0c",
   "metadata": {},
   "source": [
    "# 设计船与母船尺度数据"
   ]
  },
  {
   "cell_type": "code",
   "execution_count": 2,
   "id": "858e09be",
   "metadata": {
    "ExecuteTime": {
     "end_time": "2024-03-12T13:05:02.982646Z",
     "start_time": "2024-03-12T13:05:02.976790Z"
    }
   },
   "outputs": [],
   "source": [
    "L_total_parent = 225 # 母船总长度\n",
    "Lpp_parent = 218 # 母船垂线间长\n",
    "B_parent = 32.26 # 母船型宽\n",
    "D_parent = 19.6 # 母船型深\n",
    "d_design_parent = 12.5 # 母船设计吃水\n",
    "d_structure_parent = 14.3 # 母船结构吃水\\\n",
    "DW_parent = 75088 # 母船载重量 :t\n",
    "Lw_parent = Lpp_parent+5*0.75 # 水线间长:m ,首垂线与尾垂线距离+ 尾垂线后5个肋位，每个肋位距离为0.75m，参考母船总布置图\n",
    "L_ball_parent = 4*0.75 # 首垂线至球首前端距，#256 - # 260，肋距为0.75m，参考母船总布置图\n",
    "nabla_parent = 85488.56 # 母船结构吃水14.3m处的排水体积，参考静水力计算书\n",
    "delta_parent = 87809.16 # 母船结构吃水处的排水量,参考静水力计算书吃水14.3m时的displt"
   ]
  },
  {
   "cell_type": "code",
   "execution_count": 3,
   "id": "59233712",
   "metadata": {
    "ExecuteTime": {
     "end_time": "2024-03-12T13:05:02.991430Z",
     "start_time": "2024-03-12T13:05:02.984600Z"
    }
   },
   "outputs": [],
   "source": [
    "# 设计船信息\n",
    "DW = 72100 # 设计船载重量,t\n",
    "Cb = 0.85\n",
    "Lpp = 215.17    # m\n",
    "B = 31.84       # m \n",
    "D = 19.34       # m\n",
    "d = 14.11       # m\n",
    "delta = 84292   # t"
   ]
  },
  {
   "cell_type": "markdown",
   "id": "9570bef5",
   "metadata": {},
   "source": [
    "# 截面面积"
   ]
  },
  {
   "cell_type": "code",
   "execution_count": 4,
   "id": "d30823ad",
   "metadata": {
    "ExecuteTime": {
     "end_time": "2024-03-12T13:05:03.008022Z",
     "start_time": "2024-03-12T13:05:02.997287Z"
    }
   },
   "outputs": [],
   "source": [
    "# No.1货舱范围17-19站\n",
    "A_17_stand = 306.61 * 2 # 17站截面的面积\n",
    "A_1705_stand = 294.93 * 2 # 17.5站截面的面积\n",
    "A_18_stand = 276.11 * 2 # 18站\n",
    "A_1805_stand = 242.77 * 2 # 18.5站\n",
    "A_19_stand = 196.86 * 2 # 19站\n",
    "# No.2货舱范围\n",
    "A_16_stand = 314.38 * 2 # 16站\n",
    "A_15_stand = 311.30 * 2 # 15站\n",
    "A_14_stand = 309.27 * 2 # 14站\n",
    "A_13_stand = 309.27 * 2 # 13站\n",
    "A_12_stand = 309.27 * 2\n",
    "A_11_stand = 309.27 * 2\n",
    "A_10_stand = 309.27 * 2\n",
    "A_9_stand = 309.27 * 2\n",
    "A_8_stand = 309.27 * 2 #平行中体的位置\n",
    "\n",
    "A_7_stand = 308.64 * 2 # 7站\n",
    "A_605_stand = 308.62 * 2 # 6.5站\n",
    "A_6_stand = 311.89 * 2 # 6站\n",
    "A_505_stand = 311.41 * 2 # 5.5站\n",
    "A_5_stand = 308.59 * 2 # 5站\n",
    "A_405_stand = 303.41 * 2 # 4.5站\n",
    "A_4_stand = 294.87 * 2 # 4站\n",
    "A_305_stand = 282.17 * 2 # 3.5站\n",
    "A_3_stand = 246.49 * 2 # 3站\n",
    "A_205_stand = 246.50 * 2 # 2.5站\n",
    "A_2_stand = 225.26 * 2 # 2站\n",
    "A_105_stand = 191.21 * 2 # 1.5站\n",
    "A_1_stand = 152.21 * 2 # 1站\n",
    "A_075_stand = 129.23 * 2 # 0.75站\n",
    "A_05_stand = 103.59 * 2 # 0.5站\n",
    "A_0_stand = (72.45 + 0.82) * 2 # 0站,0.82是螺旋桨\n",
    "\n",
    "A_tail = 52.82 * 2 # 艉封板\n",
    "A_side = 13.80 * 2 # 侧边舱\n",
    "A_double_deck = 39.12 # 双层底\n",
    "A_top = 19.88 * 2 # 顶边舱\n",
    "A_bottom = 15.24 # 底边舱"
   ]
  },
  {
   "cell_type": "markdown",
   "id": "2544d4b6",
   "metadata": {},
   "source": [
    "# 货舱"
   ]
  },
  {
   "cell_type": "markdown",
   "id": "3386a2b7",
   "metadata": {},
   "source": [
    "## 母船货舱数据"
   ]
  },
  {
   "cell_type": "code",
   "execution_count": 5,
   "id": "99269264",
   "metadata": {
    "ExecuteTime": {
     "end_time": "2024-03-12T13:05:03.020243Z",
     "start_time": "2024-03-12T13:05:03.010950Z"
    }
   },
   "outputs": [],
   "source": [
    "# 容积\n",
    "V_cargo1_parent = 10428.53 # m3\n",
    "V_cargo2_parent = 13612.98\n",
    "V_cargo3_parent = 13477.53\n",
    "V_cargo4_parent = 13482.34\n",
    "V_cargo5_parent = 13571.75\n",
    "V_cargo6_parent = 13566.95\n",
    "V_cargo7_parent = 12117.57\n",
    "# 重心在货舱中的齐次坐标: (重心坐标 - 货舱起始坐标)/货舱长度 (重心坐标 - 货舱起始高度)/货舱高度 横向坐标统一为0\n",
    "LCG_ratio_cargo1_parent = (194.613 - 183.98)/23.49\n",
    "LCG_ratio_cargo2_parent = (170.559 - 157.88)/25.23\n",
    "LCG_ratio_cargo3_parent = (144.513 - 131.78)/25.23\n",
    "LCG_ratio_cargo4_parent = (118.418 - 105.68)/25.23\n",
    "LCG_ratio_cargo5_parent = (92.236 - 79.58)/25.23\n",
    "LCG_ratio_cargo6_parent = (66.130 - 53.48)/25.23\n",
    "LCG_ratio_cargo7_parent = (40.993 - 28.25)/25.36\n",
    "\n",
    "VCG_ratio_cargo1_parent = (11.481 - 1.71)/17.89\n",
    "VCG_ratio_cargo2_parent = (11.084 - 1.71)/17.89\n",
    "VCG_ratio_cargo3_parent = (11.046 - 1.71)/17.89\n",
    "VCG_ratio_cargo4_parent = (11.047 - 1.71)/17.89\n",
    "VCG_ratio_cargo5_parent = (11.052 - 1.71)/17.89\n",
    "VCG_ratio_cargo6_parent = (11.051 - 1.71)/17.89\n",
    "VCG_ratio_cargo7_parent = (11.489 - 1.71)/17.89"
   ]
  },
  {
   "cell_type": "markdown",
   "id": "178a7ce5",
   "metadata": {},
   "source": [
    "## 舱容估算"
   ]
  },
  {
   "cell_type": "code",
   "execution_count": 6,
   "id": "d176b596",
   "metadata": {
    "ExecuteTime": {
     "end_time": "2024-03-12T13:05:06.999293Z",
     "start_time": "2024-03-12T13:05:06.990509Z"
    }
   },
   "outputs": [
    {
     "name": "stdout",
     "output_type": "stream",
     "text": [
      "\n",
      "第一货舱的容积为  10024.38 m3\n",
      "第二货舱的容积为  13085.42 m3\n",
      "第三货舱的容积为  12955.22 m3\n",
      "第四货舱的容积为  12959.84 m3\n",
      "第五货舱的容积为  13045.78 m3\n",
      "第六货舱的容积为  13041.17 m3\n",
      "第七货舱的容积为  11647.96 m3\n",
      "\n"
     ]
    }
   ],
   "source": [
    "# 母船缩放\n",
    "k = D * B * Lpp / (D_parent*B_parent*Lpp_parent)\n",
    "V_cargo1 = V_cargo1_parent * k\n",
    "V_cargo2 = V_cargo2_parent * k\n",
    "V_cargo3 = V_cargo3_parent * k\n",
    "V_cargo4 = V_cargo4_parent * k\n",
    "V_cargo5 = V_cargo5_parent * k\n",
    "V_cargo6 = V_cargo6_parent * k\n",
    "V_cargo7 = V_cargo7_parent * k\n",
    "print(\"\"\"\n",
    "第一货舱的容积为  %.2f m3\n",
    "第二货舱的容积为  %.2f m3\n",
    "第三货舱的容积为  %.2f m3\n",
    "第四货舱的容积为  %.2f m3\n",
    "第五货舱的容积为  %.2f m3\n",
    "第六货舱的容积为  %.2f m3\n",
    "第七货舱的容积为  %.2f m3\n",
    "\"\"\"%(V_cargo1, V_cargo2, V_cargo3, V_cargo4, V_cargo5, V_cargo6, V_cargo7))"
   ]
  },
  {
   "cell_type": "markdown",
   "id": "57c275c4",
   "metadata": {},
   "source": [
    "## 重心估算"
   ]
  },
  {
   "cell_type": "code",
   "execution_count": 7,
   "id": "4706edb9",
   "metadata": {
    "ExecuteTime": {
     "end_time": "2024-03-12T13:05:09.027634Z",
     "start_time": "2024-03-12T13:05:09.019826Z"
    }
   },
   "outputs": [
    {
     "name": "stdout",
     "output_type": "stream",
     "text": [
      "\n",
      "第一货舱的重心纵向垂向坐标为  (190.76, 11.33) m3\n",
      "第二货舱的重心纵向垂向坐标为  (166.49, 10.94) m3\n",
      "第三货舱的重心纵向垂向坐标为  (141.04, 10.90) m3\n",
      "第四货舱的重心纵向垂向坐标为  (115.55, 10.90) m3\n",
      "第五货舱的重心纵向垂向坐标为  (89.97, 10.90) m3\n",
      "第六货舱的重心纵向垂向坐标为  (64.46, 10.90) m3\n",
      "第七货舱的重心纵向垂向坐标为  (39.41, 11.34) m3\n",
      "\n"
     ]
    }
   ],
   "source": [
    "L_cargo1 = L_cargo2 = L_cargo3 = L_cargo4 = L_cargo5 = L_cargo6 = 24.65\n",
    "L_cargo7 = 23.8\n",
    "start_cargo1 = 179.6\n",
    "start_cargo2 = 154.1\n",
    "start_cargo3 = 128.6\n",
    "start_cargo4 = 103.1\n",
    "start_cargo5 = 77.6\n",
    "start_cargo6 = 52.1\n",
    "start_cargo7 = 27.45\n",
    "start_v_cargo = 1.684 # 双层底高度\n",
    "Height_cargo = 17.657\n",
    "LCG_cargo1 = start_cargo1 + L_cargo1 * LCG_ratio_cargo1_parent\n",
    "LCG_cargo2 = start_cargo2 + L_cargo2 * LCG_ratio_cargo2_parent\n",
    "LCG_cargo3 = start_cargo3 + L_cargo3 * LCG_ratio_cargo3_parent\n",
    "LCG_cargo4 = start_cargo4 + L_cargo4 * LCG_ratio_cargo4_parent\n",
    "LCG_cargo5 = start_cargo5 + L_cargo5 * LCG_ratio_cargo5_parent\n",
    "LCG_cargo6 = start_cargo6 + L_cargo6 * LCG_ratio_cargo6_parent\n",
    "LCG_cargo7 = start_cargo7 + L_cargo7 * LCG_ratio_cargo7_parent\n",
    "\n",
    "VCG_cargo1 = start_v_cargo + Height_cargo * VCG_ratio_cargo1_parent\n",
    "VCG_cargo2 = start_v_cargo + Height_cargo * VCG_ratio_cargo2_parent\n",
    "VCG_cargo3 = start_v_cargo + Height_cargo * VCG_ratio_cargo3_parent\n",
    "VCG_cargo4 = start_v_cargo + Height_cargo * VCG_ratio_cargo4_parent\n",
    "VCG_cargo5 = start_v_cargo + Height_cargo * VCG_ratio_cargo5_parent\n",
    "VCG_cargo6 = start_v_cargo + Height_cargo * VCG_ratio_cargo6_parent\n",
    "VCG_cargo7 = start_v_cargo + Height_cargo * VCG_ratio_cargo7_parent\n",
    "print(\"\"\"\n",
    "第一货舱的重心纵向垂向坐标为  (%.2f, %.2f) m3\n",
    "第二货舱的重心纵向垂向坐标为  (%.2f, %.2f) m3\n",
    "第三货舱的重心纵向垂向坐标为  (%.2f, %.2f) m3\n",
    "第四货舱的重心纵向垂向坐标为  (%.2f, %.2f) m3\n",
    "第五货舱的重心纵向垂向坐标为  (%.2f, %.2f) m3\n",
    "第六货舱的重心纵向垂向坐标为  (%.2f, %.2f) m3\n",
    "第七货舱的重心纵向垂向坐标为  (%.2f, %.2f) m3\n",
    "\"\"\"%(LCG_cargo1,VCG_cargo1,LCG_cargo2,VCG_cargo2,\n",
    "    LCG_cargo3,VCG_cargo3,LCG_cargo4,VCG_cargo4,\n",
    "    LCG_cargo5,VCG_cargo5,LCG_cargo6,VCG_cargo6,\n",
    "    LCG_cargo7,VCG_cargo7))"
   ]
  },
  {
   "cell_type": "markdown",
   "id": "d689f3da",
   "metadata": {},
   "source": [
    "## 重量计算"
   ]
  },
  {
   "cell_type": "code",
   "execution_count": 9,
   "id": "fed3072e",
   "metadata": {
    "ExecuteTime": {
     "end_time": "2024-03-12T13:08:25.447841Z",
     "start_time": "2024-03-12T13:08:25.443938Z"
    }
   },
   "outputs": [
    {
     "name": "stdout",
     "output_type": "stream",
     "text": [
      "货物密度为0.794 t/m^3\n"
     ]
    }
   ],
   "source": [
    "# 货物重量\n",
    "rho = 1/1.26 # 参考书p33也货物的积载系数，V=W * u，u是积载因数，因此rho=W/V=1/u\n",
    "print(\"货物密度为%.3f t/m^3\"%rho)"
   ]
  },
  {
   "cell_type": "markdown",
   "id": "7b0aa7dd",
   "metadata": {},
   "source": [
    "# 压载水舱"
   ]
  },
  {
   "cell_type": "markdown",
   "id": "c62b6845",
   "metadata": {},
   "source": [
    "## 侧压载舱"
   ]
  },
  {
   "cell_type": "code",
   "execution_count": 8,
   "id": "70109369",
   "metadata": {
    "ExecuteTime": {
     "end_time": "2024-03-11T09:53:25.851583Z",
     "start_time": "2024-03-11T09:53:25.846703Z"
    }
   },
   "outputs": [
    {
     "name": "stdout",
     "output_type": "stream",
     "text": [
      "\n",
      "第一侧压载舱S的容积为  330.03 m3\n",
      "第一侧压载舱P的容积为  330.03 m3\n",
      "第二侧压载舱S的容积为  351.96 m3\n",
      "第二侧压载舱P的容积为  351.96 m3\n",
      "第三侧压载舱S的容积为  351.96 m3\n",
      "第三侧压载舱P的容积为  351.96 m3\n",
      "第四侧压载舱S的容积为  351.96 m3\n",
      "第四侧压载舱P的容积为  351.96 m3\n",
      "第五侧压载舱S的容积为  351.96 m3\n",
      "第五侧压载舱P的容积为  351.96 m3\n",
      "第六侧压载舱S的容积为  351.96 m3\n",
      "第六侧压载舱P的容积为  351.96 m3\n",
      "第七侧压载舱S的容积为  347.48 m3\n",
      "第七侧压载舱P的容积为  347.48 m3\n",
      "\n"
     ]
    }
   ],
   "source": [
    "W,H,L = 1.283,10.758,25.5 # 平行中体部分侧压载舱S的尺寸\n",
    "A1 = 30.678 # 第一压载舱S俯视图面积\n",
    "H1 = 10.758 # 第一压载舱S高度\n",
    "A2 = 29.826 # 第七压载舱S俯视图面积\n",
    "H2 = 9.613 # 第七压载舱S的上半部分高度\n",
    "ratio = 48.386 / 228.31 # 第七压载舱S下半与上半侧面积之比，这里认为下半与上半压载舱体积之比等于其侧面积之比\n",
    "# 体积计算\n",
    "V_SBWT2 = V_SBWT3 = V_SBWT4 = V_SBWT5 = V_SBWT6 = W * H * L # 单侧压载舱的体积\n",
    "V_SBWT1 = A1 * H1 # 单侧\n",
    "V_SBWT7 = A2 * H2 * (1 + ratio)\n",
    "print(\"\"\"\n",
    "第一侧压载舱S的容积为  %.2f m3\n",
    "第一侧压载舱P的容积为  %.2f m3\n",
    "第二侧压载舱S的容积为  %.2f m3\n",
    "第二侧压载舱P的容积为  %.2f m3\n",
    "第三侧压载舱S的容积为  %.2f m3\n",
    "第三侧压载舱P的容积为  %.2f m3\n",
    "第四侧压载舱S的容积为  %.2f m3\n",
    "第四侧压载舱P的容积为  %.2f m3\n",
    "第五侧压载舱S的容积为  %.2f m3\n",
    "第五侧压载舱P的容积为  %.2f m3\n",
    "第六侧压载舱S的容积为  %.2f m3\n",
    "第六侧压载舱P的容积为  %.2f m3\n",
    "第七侧压载舱S的容积为  %.2f m3\n",
    "第七侧压载舱P的容积为  %.2f m3\n",
    "\"\"\"%(V_SBWT1,V_SBWT1,V_SBWT2,V_SBWT2,\n",
    "    V_SBWT3,V_SBWT3,V_SBWT4,V_SBWT4,\n",
    "    V_SBWT5,V_SBWT5,V_SBWT6,V_SBWT6,\n",
    "    V_SBWT7,V_SBWT7))"
   ]
  },
  {
   "cell_type": "code",
   "execution_count": 9,
   "id": "a77eba9b",
   "metadata": {
    "ExecuteTime": {
     "end_time": "2024-03-11T09:53:26.023359Z",
     "start_time": "2024-03-11T09:53:26.015551Z"
    }
   },
   "outputs": [
    {
     "name": "stdout",
     "output_type": "stream",
     "text": [
      "\n",
      "第一侧压载舱S的纵向、横向、垂向坐标为  (192.89, -12.88, 9.73) m3\n",
      "第二侧压载舱S的纵向、横向、垂向坐标为  (166.42, -15.28, 9.73) m3\n",
      "第三侧压载舱S的纵向、横向、垂向坐标为  (140.92, -15.28, 9.73) m3\n",
      "第四侧压载舱S的纵向、横向、垂向坐标为  (115.42, -15.28, 9.73) m3\n",
      "第五侧压载舱S的纵向、横向、垂向坐标为  (89.92, -15.28, 9.73) m3\n",
      "第六侧压载舱S的纵向、横向、垂向坐标为  (64.42, -15.28, 9.73) m3\n",
      "第七侧压载舱S的纵向、横向、垂向坐标为  (40.22, -14.86, 13.42) m3\n",
      "\n"
     ]
    }
   ],
   "source": [
    "# 平行中体部分侧压载舱重心为\n",
    "VCG_SBWT1 = VCG_SBWT2 = VCG_SBWT3 = VCG_SBWT4 = VCG_SBWT5 = VCG_SBWT6 = 9.732\n",
    "VCG_SBWT7 = 13.417\n",
    "\n",
    "LCG_SBWT2 = start_cargo2 + L_cargo2 /2\n",
    "LCG_SBWT3 = start_cargo3 + L_cargo3 /2\n",
    "LCG_SBWT4 = start_cargo4 + L_cargo4 / 2\n",
    "LCG_SBWT5 = start_cargo5 + L_cargo5 /2\n",
    "LCG_SBWT6 = start_cargo6 + L_cargo6 / 2\n",
    "LCG_SBWT1 = start_cargo1 + 13.289 # 认为长度方向每个位置的宽度一致，则质心纵向坐标就等效为侧面积形心的x坐标\n",
    "LCG_SBWT7 = start_cargo7 + 12.77 # 认为长度方向每个位置的宽度一致，则质心纵向坐标就等效为侧面积形心的x坐标\n",
    "\n",
    "TCG_SBWT2 = TCG_SBWT3 = TCG_SBWT4 = TCG_SBWT5 = TCG_SBWT6 = -15.279\n",
    "TCG_SBWT1 = -12.883\n",
    "TCG_SBWT7 = -14.856\n",
    "print(\"\"\"\n",
    "第一侧压载舱S的纵向、横向、垂向坐标为  (%.2f, %.2f, %.2f) m3\n",
    "第二侧压载舱S的纵向、横向、垂向坐标为  (%.2f, %.2f, %.2f) m3\n",
    "第三侧压载舱S的纵向、横向、垂向坐标为  (%.2f, %.2f, %.2f) m3\n",
    "第四侧压载舱S的纵向、横向、垂向坐标为  (%.2f, %.2f, %.2f) m3\n",
    "第五侧压载舱S的纵向、横向、垂向坐标为  (%.2f, %.2f, %.2f) m3\n",
    "第六侧压载舱S的纵向、横向、垂向坐标为  (%.2f, %.2f, %.2f) m3\n",
    "第七侧压载舱S的纵向、横向、垂向坐标为  (%.2f, %.2f, %.2f) m3\n",
    "\"\"\"%(LCG_SBWT1,TCG_SBWT1,VCG_SBWT1,\n",
    "    LCG_SBWT2,TCG_SBWT2,VCG_SBWT2,\n",
    "    LCG_SBWT3,TCG_SBWT3,VCG_SBWT3,\n",
    "    LCG_SBWT4,TCG_SBWT4,VCG_SBWT4,\n",
    "    LCG_SBWT5,TCG_SBWT5,VCG_SBWT5,\n",
    "    LCG_SBWT6,TCG_SBWT6,VCG_SBWT6,\n",
    "    LCG_SBWT7,TCG_SBWT7,VCG_SBWT7))"
   ]
  },
  {
   "cell_type": "markdown",
   "id": "4dee66a8",
   "metadata": {},
   "source": [
    "## 顶压载舱"
   ]
  },
  {
   "cell_type": "code",
   "execution_count": 10,
   "id": "2463865a",
   "metadata": {
    "ExecuteTime": {
     "end_time": "2024-03-11T09:53:26.570895Z",
     "start_time": "2024-03-11T09:53:26.566991Z"
    }
   },
   "outputs": [],
   "source": [
    "# 母船顶压载舱容积\n",
    "V_TBWTP_parent = 710.27\n",
    "V_TBWTS_parent = 710.35\n",
    "\n",
    "LCG_TBWTP_ratio_parent = (195.025 - 183.98)/23.49 #m\n",
    "LCG_TBWTS_ratio_parent = (195.024 - 183.98)/23.49 #m\n",
    "VCG_TBWTP_ratio_parent = (18.808 - 1.71)/17.89\n",
    "VCG_TBWTS_ratio_parent = (18.807 - 1.71)/17.89"
   ]
  },
  {
   "cell_type": "code",
   "execution_count": 11,
   "id": "d44bbd12",
   "metadata": {
    "ExecuteTime": {
     "end_time": "2024-03-11T09:53:26.780735Z",
     "start_time": "2024-03-11T09:53:26.775855Z"
    }
   },
   "outputs": [
    {
     "name": "stdout",
     "output_type": "stream",
     "text": [
      "\n",
      "第一顶压载舱P的舱容为                 682.74        m3\n",
      "第一顶压载舱S的容积为                 682.82        m3\n",
      "第一顶压载舱P的重心纵向、横向坐标为  (191.19, 18.56) m3\n",
      "第一顶压载舱S的重心纵向、横向坐标为  (191.19, 18.56) m3\n",
      "\n"
     ]
    }
   ],
   "source": [
    "V_TBWTP = k * V_TBWTP_parent\n",
    "V_TBWTS = k * V_TBWTS_parent\n",
    "LCG_TBWTP = start_cargo1 + LCG_TBWTP_ratio_parent * L_cargo1\n",
    "LCG_TBWTS = start_cargo1 + LCG_TBWTS_ratio_parent * L_cargo1\n",
    "VCG_TBWTP = start_v_cargo + VCG_TBWTP_ratio_parent * Height_cargo\n",
    "VCG_TBWTS = start_v_cargo + VCG_TBWTS_ratio_parent * Height_cargo\n",
    "print(\"\"\"\n",
    "第一顶压载舱P的舱容为                 %.2f        m3\n",
    "第一顶压载舱S的容积为                 %.2f        m3\n",
    "第一顶压载舱P的重心纵向、横向坐标为  (%.2f, %.2f) m3\n",
    "第一顶压载舱S的重心纵向、横向坐标为  (%.2f, %.2f) m3\n",
    "\"\"\"%(V_TBWTP,V_TBWTS,LCG_TBWTP,VCG_TBWTP,LCG_TBWTS,VCG_TBWTS))"
   ]
  },
  {
   "cell_type": "markdown",
   "id": "2c217f1b",
   "metadata": {},
   "source": [
    "## 双层底压载舱"
   ]
  },
  {
   "cell_type": "code",
   "execution_count": 26,
   "id": "ec8232f0",
   "metadata": {
    "ExecuteTime": {
     "end_time": "2024-03-11T10:04:17.439985Z",
     "start_time": "2024-03-11T10:04:17.433153Z"
    }
   },
   "outputs": [
    {
     "name": "stdout",
     "output_type": "stream",
     "text": [
      "\n",
      "第一压载水舱（左、右）的容积为                290.72 m3\n",
      "第一压载水舱（左、右）形心的纵向、垂坐标为   (173.59, 190.28) m3\n",
      "\n"
     ]
    }
   ],
   "source": [
    "from scipy.interpolate import interp1d\n",
    "from scipy.integrate import simpson\n",
    "import numpy as np\n",
    "# 第一双层底压载舱\n",
    "x = [0,0.5,1,2]\n",
    "A = [107.142,164.021,188.534,222.39]\n",
    "xg = [42.29,41.53,41.31,41.03]\n",
    "\n",
    "A_inter = interp1d(x,A)\n",
    "xg_inter = interp1d(x,xg)\n",
    "x_list = np.linspace(0,1.688,100)\n",
    "# 体积计算\n",
    "A_list = A_inter(x_list)\n",
    "V_DBWT_1 = simpson(A_list,dx=1.688/100)\n",
    "# 形心计算\n",
    "xg_list = xg_inter(x_list)\n",
    "zg_list = x_list\n",
    "LCG_DBWT_1 = np.sum(A_list * xg_list) / xg_list.sum()\n",
    "VCG_DBWT_1 = np.sum(A_list * zg_list) / zg_list.sum()\n",
    "print(\"\"\"\n",
    "第一压载水舱（左、右）的容积为                %.2f m3\n",
    "第一压载水舱（左、右）形心的纵向、垂坐标为   (%.2f, %.2f) m3\n",
    "\"\"\"%(V_DBWT_1,LCG_DBWT_1,VCG_DBWT_1))"
   ]
  },
  {
   "cell_type": "markdown",
   "id": "36efb240",
   "metadata": {},
   "source": [
    "# 淡水舱"
   ]
  },
  {
   "cell_type": "code",
   "execution_count": 13,
   "id": "e0463729",
   "metadata": {
    "ExecuteTime": {
     "end_time": "2024-03-11T09:53:27.952911Z",
     "start_time": "2024-03-11T09:53:27.948031Z"
    }
   },
   "outputs": [],
   "source": [
    "# 母船\n",
    "V_FWTP_parent = V_FWTS_parent =218.06\n",
    "V_DWT_parent = 23.52 # 蒸馏水舱\n",
    "\n",
    "LCG_FWTP_ratio_parent = LCG_FWTS_ratio_parent = 4.256 / 6.75\n",
    "VCG_FWTP_ratio_parent = VCG_FWTS_ratio_parent = (17.165 - 13.7) / 6.296\n",
    "LCG_DWT_ratio_parent = (7.5 - 6.75) / 1.5\n",
    "VCG_DWT_ratio_parent = (14.7 - 13.7) / 2"
   ]
  },
  {
   "cell_type": "code",
   "execution_count": 14,
   "id": "d8b30264",
   "metadata": {
    "ExecuteTime": {
     "end_time": "2024-03-11T09:53:28.405775Z",
     "start_time": "2024-03-11T09:53:28.400895Z"
    }
   },
   "outputs": [
    {
     "name": "stdout",
     "output_type": "stream",
     "text": [
      "\n",
      "淡水舱（左）的容积为    209.61 m3\n",
      "淡水舱（右）的容积为    209.61 m3\n",
      "蒸馏水舱的容积为        22.61 m3\n",
      "淡水舱（左）重心的纵向、垂向坐标为    (4.27, 16.86) m3\n",
      "淡水舱（右）中心的纵向、垂向坐标为    (4.27, 16.86) m3\n",
      "蒸馏水舱中心的纵向、垂向坐标为        (7.51, 14.51) m3\n",
      "\n"
     ]
    }
   ],
   "source": [
    "# 母船缩放\n",
    "V_FWTP = k * V_FWTP_parent\n",
    "V_FWTS = k * V_FWTS_parent\n",
    "V_DWT = k * V_DWT_parent\n",
    "\n",
    "LCG_FWTP = LCG_FWTS = LCG_FWTP_ratio_parent * 6.77\n",
    "VCG_FWTP = VCG_FWTS = 13.522 + VCG_FWTP_ratio_parent * 6.074\n",
    "LCG_DWT = 6.77 + LCG_DWT_ratio_parent * 1.481\n",
    "VCG_DWT = 13.522 + VCG_DWT_ratio_parent * 1.974\n",
    "print(\"\"\"\n",
    "淡水舱（左）的容积为    %.2f m3\n",
    "淡水舱（右）的容积为    %.2f m3\n",
    "蒸馏水舱的容积为        %.2f m3\n",
    "淡水舱（左）重心的纵向、垂向坐标为    (%.2f, %.2f) m3\n",
    "淡水舱（右）中心的纵向、垂向坐标为    (%.2f, %.2f) m3\n",
    "蒸馏水舱中心的纵向、垂向坐标为        (%.2f, %.2f) m3\n",
    "\"\"\"%(V_FWTP,V_FWTS,V_DWT,\n",
    "     LCG_FWTP,VCG_FWTP,\n",
    "     LCG_FWTS,VCG_FWTS,\n",
    "     LCG_DWT,VCG_DWT))"
   ]
  },
  {
   "cell_type": "markdown",
   "id": "b3d6b84a",
   "metadata": {},
   "source": [
    "# 燃油舱"
   ]
  },
  {
   "cell_type": "markdown",
   "id": "599c05cd",
   "metadata": {},
   "source": [
    "## 柴油舱"
   ]
  },
  {
   "cell_type": "code",
   "execution_count": 15,
   "id": "5e8eac77",
   "metadata": {
    "ExecuteTime": {
     "end_time": "2024-03-11T09:53:29.517439Z",
     "start_time": "2024-03-11T09:53:29.512559Z"
    }
   },
   "outputs": [
    {
     "name": "stdout",
     "output_type": "stream",
     "text": [
      "\n",
      "柴油舱的容积为             130 m3\n",
      "质心的纵向、垂向坐标为     (25.37,3.86) m3\n",
      "\n"
     ]
    }
   ],
   "source": [
    "# 柴油舱设计容量取130m3，大于计算所需的123.39m3\n",
    "V_doil = 130\n",
    "# 总布置图中柴油舱分为左右两舱，每舱容积65m3\n",
    "# 有CAD测量或测质心数据为\n",
    "x_doil = 25.37\n",
    "z_doil = 3.86\n",
    "print(f\"\"\"\n",
    "柴油舱的容积为             {V_doil} m3\n",
    "质心的纵向、垂向坐标为     ({x_doil},{z_doil}) m3\n",
    "\"\"\")"
   ]
  },
  {
   "cell_type": "markdown",
   "id": "70e557c6",
   "metadata": {},
   "source": [
    "## 燃油沉积舱"
   ]
  },
  {
   "cell_type": "code",
   "execution_count": 16,
   "id": "83ad91f2",
   "metadata": {
    "ExecuteTime": {
     "end_time": "2024-03-11T09:53:29.879535Z",
     "start_time": "2024-03-11T09:53:29.874655Z"
    }
   },
   "outputs": [
    {
     "name": "stdout",
     "output_type": "stream",
     "text": [
      "\n",
      "燃油沉积的容积为                    60.00 m3\n",
      "第一燃油沉积舱的纵向、垂向位置为    (20.74,16.96) m3\n",
      "第二燃油沉积舱的纵向、垂向位置为    (24.69,16.96) m3\n",
      "\n"
     ]
    }
   ],
   "source": [
    "V_depo_oil1 = V_depo_oil2 = 30 # 设计燃油沉降容积为30m3\n",
    "# 横向布置方面从总布置测量获得\n",
    "x_depo_oli1 = 20.74 # 第一燃油沉积舱\n",
    "x_depo_oli2 = 24.69 # 第二燃油沉积舱\n",
    "z_depo_oli1 = z_depo_oli2 = 16.96\n",
    "print(\"\"\"\n",
    "燃油沉积的容积为                    %.2f m3\n",
    "第一燃油沉积舱的纵向、垂向位置为    (%.2f,%.2f) m3\n",
    "第二燃油沉积舱的纵向、垂向位置为    (%.2f,%.2f) m3\n",
    "\"\"\"%(V_depo_oil1+V_depo_oil2,\n",
    "    x_depo_oli1,z_depo_oli1,\n",
    "    x_depo_oli2,z_depo_oli2))"
   ]
  },
  {
   "cell_type": "markdown",
   "id": "25a1d581",
   "metadata": {},
   "source": [
    "## 燃油舱"
   ]
  },
  {
   "cell_type": "code",
   "execution_count": 17,
   "id": "b9609589",
   "metadata": {
    "ExecuteTime": {
     "end_time": "2024-03-11T09:53:30.223087Z",
     "start_time": "2024-03-11T09:53:30.218207Z"
    }
   },
   "outputs": [
    {
     "name": "stdout",
     "output_type": "stream",
     "text": [
      "\n",
      "第一燃油舱（左）的容积为                         1017.45 m3\n",
      "第一燃油舱（左）的形心纵向、垂向位置为          (154.00, 18.02) m3\n",
      "第一燃油舱（右）的容积为                         1017.45 m3\n",
      "第一燃油舱（右）的形心纵向、垂向位置为          (154.00, 18.02) m3\n",
      "\n"
     ]
    }
   ],
   "source": [
    "# 第一燃油舱，位于平行中体范围内，线型基本无收缩\n",
    "A = 19.95 # 横截面面积: m2\n",
    "L_oil1 = 51 # m\n",
    "V_oil1_right = V_oil1_left = A * L_oil1 # m3\n",
    "x_oil1_left = x_oil1_right = 154 # CAD量取\n",
    "z_oil_left = z_oil_right = 18.02 # CAD量取\n",
    "print(\"\"\"\n",
    "第一燃油舱（左）的容积为                         %.2f m3\n",
    "第一燃油舱（左）的形心纵向、垂向位置为          (%.2f, %.2f) m3\n",
    "第一燃油舱（右）的容积为                         %.2f m3\n",
    "第一燃油舱（右）的形心纵向、垂向位置为          (%.2f, %.2f) m3\n",
    "\"\"\"%(V_oil1_left,x_oil1_left,z_oil_left,\n",
    "    V_oil1_right,x_oil1_right,z_oil_right))"
   ]
  },
  {
   "cell_type": "code",
   "execution_count": 18,
   "id": "b96a0442",
   "metadata": {
    "ExecuteTime": {
     "end_time": "2024-03-11T09:53:30.398767Z",
     "start_time": "2024-03-11T09:53:30.393887Z"
    }
   },
   "outputs": [
    {
     "name": "stdout",
     "output_type": "stream",
     "text": [
      "\n",
      "第二燃油舱（左）的容积为                 1017.45 m3\n",
      "第二燃油舱（左）的形心纵向、垂向位置为   (102.25, 18.02) m3\n",
      "第二燃油舱（右）的容积为                 1017.45 m3\n",
      "第二燃油舱（右）的形心纵向、垂向位置为   (102.25, 18.02) m3\n",
      "\n"
     ]
    }
   ],
   "source": [
    "# 第二燃油舱，位于平行中体范围内，线型基本无收缩\n",
    "A = 19.95\n",
    "L_oil2 = 51\n",
    "V_oil2_left = V_oil2_right = A * L_oil2\n",
    "x_oil2_left = x_oil2_right = 102.247\n",
    "z_oil2_left = z_oil2_right = 18.02\n",
    "print(\"\"\"\n",
    "第二燃油舱（左）的容积为                 %.2f m3\n",
    "第二燃油舱（左）的形心纵向、垂向位置为   (%.2f, %.2f) m3\n",
    "第二燃油舱（右）的容积为                 %.2f m3\n",
    "第二燃油舱（右）的形心纵向、垂向位置为   (%.2f, %.2f) m3\n",
    "\"\"\"%(V_oil2_left,x_oil2_left,z_oil2_left,\n",
    "    V_oil2_right,x_oil2_right,z_oil2_right))"
   ]
  },
  {
   "cell_type": "code",
   "execution_count": 19,
   "id": "a34369e3",
   "metadata": {
    "ExecuteTime": {
     "end_time": "2024-03-11T09:53:30.563710Z",
     "start_time": "2024-03-11T09:53:30.555902Z"
    }
   },
   "outputs": [
    {
     "name": "stdout",
     "output_type": "stream",
     "text": [
      "\n",
      "第三燃油舱（左、右）的容积为               976.75 m3\n",
      "第三燃油舱（左、右）的纵向、垂向坐标为     (52.03, 18.01)m3\n",
      "\n"
     ]
    }
   ],
   "source": [
    "# 第三燃油舱 位于 2 - 8站之间\n",
    "x = [21.517,26.896,32.2755,43.034,53.7925,64.551,75.3095,86.068]\n",
    "A = [19.81,21.04,20.04,19.95,19.95,19.95,19.95,19.95]\n",
    "zg = [18,17.95,18.01,18.02,18.02,18.02,18.02,18.02]\n",
    "\n",
    "A_inter = interp1d(x,A)\n",
    "zg_inter = interp1d(x,zg)\n",
    "x_list = np.linspace(27.45,76.75,100)\n",
    "# 体积计算\n",
    "A_list = A_inter(x_list)\n",
    "V_oil3 = simpson(A_list,dx=(76.75-27.45)/100)\n",
    "# 重心计算\n",
    "xg_list = x_list\n",
    "zg_list = zg_inter(x_list)\n",
    "LCG_oil3 = np.sum(A_list * xg_list) / A_list.sum()\n",
    "VCG_oil3 = np.sum(A_list * zg_list) / A_list.sum()\n",
    "print(\"\"\"\n",
    "第三燃油舱（左、右）的容积为               %.2f m3\n",
    "第三燃油舱（左、右）的纵向、垂向坐标为     (%.2f, %.2f)m3\n",
    "\"\"\"%(V_oil3,LCG_oil3,VCG_oil3))"
   ]
  },
  {
   "cell_type": "code",
   "execution_count": 20,
   "id": "5211d3ef",
   "metadata": {
    "ExecuteTime": {
     "end_time": "2024-03-11T09:53:30.738419Z",
     "start_time": "2024-03-11T09:53:30.731582Z"
    }
   },
   "outputs": [
    {
     "name": "stdout",
     "output_type": "stream",
     "text": [
      "\n",
      "第四燃油舱（左、右）的容积为                   332.56 m3\n",
      "第四燃油舱（左、右）的纵向、垂向坐标为         (22.66, 14.47) m3\n",
      "\n"
     ]
    }
   ],
   "source": [
    "# 第四燃油舱，高度9.732-18.358范围内\n",
    "x = list(range(9,20))\n",
    "A = [18.69,25.14,30.28,34.48,37.95,40.83,42.99,44.66,45.78,46.45,46.72]\n",
    "xg = [23.164,22.927,22.871,22.739,22.685,22.65,22.61,22.57,22.55,22.53,22.53]\n",
    "\n",
    "A_inter = interp1d(x,A)\n",
    "xg_inter = interp1d(x,xg)\n",
    "x_list = np.linspace(9.732,18.358,100)\n",
    "# 体积计算\n",
    "A_list = A_inter(x_list)\n",
    "V_oil4 = simpson(A_list,dx=(18.358-9.732)/100)\n",
    "# 重心计算\n",
    "xg_list = xg_inter(x_list)\n",
    "zg_list = x_list\n",
    "LCG_oil4 = np.sum(A_list * xg_list) / A_list.sum()\n",
    "VCG_oil4 = np.sum(A_list * zg_list) / A_list.sum()\n",
    "print(\"\"\"\n",
    "第四燃油舱（左、右）的容积为                   %.2f m3\n",
    "第四燃油舱（左、右）的纵向、垂向坐标为         (%.2f, %.2f) m3\n",
    "\"\"\"%(V_oil4,LCG_oil4,VCG_oil4))"
   ]
  },
  {
   "cell_type": "markdown",
   "id": "ce274cb5",
   "metadata": {},
   "source": [
    "# 污油舱"
   ]
  },
  {
   "cell_type": "code",
   "execution_count": 21,
   "id": "e7511d59",
   "metadata": {
    "ExecuteTime": {
     "end_time": "2024-03-11T09:53:31.048783Z",
     "start_time": "2024-03-11T09:53:31.041951Z"
    }
   },
   "outputs": [
    {
     "name": "stdout",
     "output_type": "stream",
     "text": [
      "\n",
      "滑油循环舱的容积为   16.92 m3\n",
      "滑油循环舱的纵向、垂向坐标为  (20.27, 1.12) m3\n",
      "滑油污油舱的容积为   15.79 m3\n",
      "滑油污油舱的纵向、垂向坐标为  (24.83, 1.15) m3\n",
      "\n"
     ]
    }
   ],
   "source": [
    "# 滑油循环舱\n",
    "L,W,H = 8.686,1.974,0.987\n",
    "V_HC = L * W * H\n",
    "LCG_HC = 20.275\n",
    "VCG_HC = 1.125\n",
    "# 滑油污油舱\n",
    "x = [0,0.5,1,2] # 水线高度\n",
    "xg = [25.394,24.908,24.839,24.77] # 重心x坐标\n",
    "A = [5.56,12.678,15.66,20.338] # 面积\n",
    "xg_inter = interp1d(x,xg)\n",
    "A_inter = interp1d(x,A)\n",
    "zg_list = np.linspace(0.632,1.619,num=100)\n",
    "# 体积计算\n",
    "A_list = A_inter(zg_list)\n",
    "V_HW = simpson(A_list,dx=(1.619-0.632)/100)\n",
    "# 重心计算\n",
    "xg_list = xg_inter(zg_list)\n",
    "LCG_HW = np.sum(A_list * xg_list) / A_list.sum()\n",
    "VCG_HW = np.sum(A_list * zg_list) / A_list.sum()\n",
    "print(\"\"\"\n",
    "滑油循环舱的容积为   %.2f m3\n",
    "滑油循环舱的纵向、垂向坐标为  (%.2f, %.2f) m3\n",
    "滑油污油舱的容积为   %.2f m3\n",
    "滑油污油舱的纵向、垂向坐标为  (%.2f, %.2f) m3\n",
    "\"\"\"%(V_HC,LCG_HC,VCG_HC,\n",
    "     V_HW,LCG_HW,VCG_HW))"
   ]
  },
  {
   "cell_type": "markdown",
   "id": "e0438618",
   "metadata": {},
   "source": [
    "# 污水和其他"
   ]
  },
  {
   "cell_type": "markdown",
   "id": "fdb3a569",
   "metadata": {},
   "source": [
    "## 舱底水分离舱"
   ]
  },
  {
   "cell_type": "code",
   "execution_count": 22,
   "id": "5aad945e",
   "metadata": {
    "ExecuteTime": {
     "end_time": "2024-03-11T09:53:31.571919Z",
     "start_time": "2024-03-11T09:53:31.566063Z"
    }
   },
   "outputs": [
    {
     "name": "stdout",
     "output_type": "stream",
     "text": [
      "\n",
      "舱底水分离舱的容积为     26.90 m3\n",
      "舱底水分离舱重心的横向坐标为  (18.90, 0.91) m3\n",
      "\n"
     ]
    }
   ],
   "source": [
    "z_range = [0,1.619]\n",
    "zg_list = np.linspace(*z_range,num=100)\n",
    "\n",
    "x = [0,0.5,1,2]\n",
    "xg = [18.99,18.906,18.891,18.885]\n",
    "A = [8.088,15.664,18.935,23.461]\n",
    "xg_inter = interp1d(x,xg)\n",
    "A_inter = interp1d(x,A)\n",
    "# 体积计算\n",
    "A_list = A_inter(zg_list)\n",
    "V_BWF = simpson(A_list,dx=(z_range[1] - z_range[0])/100)\n",
    "# 重心计算\n",
    "xg_list = xg_inter(zg_list)\n",
    "LCG_BWF = np.sum(A_list * xg_list) / A_list.sum()\n",
    "VCG_BWF = np.sum(A_list * zg_list) / A_list.sum()\n",
    "print(\"\"\"\n",
    "舱底水分离舱的容积为     %.2f m3\n",
    "舱底水分离舱重心的横向坐标为  (%.2f, %.2f) m3\n",
    "\"\"\"%(V_BWF,LCG_BWF,VCG_BWF))"
   ]
  },
  {
   "cell_type": "markdown",
   "id": "449ea1c8",
   "metadata": {},
   "source": [
    "## 燃油污油舱"
   ]
  },
  {
   "cell_type": "code",
   "execution_count": 23,
   "id": "3fccd0f4",
   "metadata": {
    "ExecuteTime": {
     "end_time": "2024-03-11T09:53:31.925231Z",
     "start_time": "2024-03-11T09:53:31.921327Z"
    }
   },
   "outputs": [
    {
     "name": "stdout",
     "output_type": "stream",
     "text": [
      "\n",
      "燃油污油舱的容积为   15.79 m3\n",
      "燃油污油舱的纵向、垂向坐标为  (24.83, 1.15) m3\n",
      "\n"
     ]
    }
   ],
   "source": [
    "print(\"\"\"\n",
    "燃油污油舱的容积为   %.2f m3\n",
    "燃油污油舱的纵向、垂向坐标为  (%.2f, %.2f) m3\n",
    "\"\"\"%(V_HW,LCG_HW,VCG_HW))"
   ]
  },
  {
   "cell_type": "markdown",
   "id": "7aa296cc",
   "metadata": {},
   "source": [
    "# 生活用品"
   ]
  },
  {
   "cell_type": "code",
   "execution_count": 24,
   "id": "44f407f3",
   "metadata": {
    "ExecuteTime": {
     "end_time": "2024-03-11T09:53:32.269759Z",
     "start_time": "2024-03-11T09:53:32.265854Z"
    }
   },
   "outputs": [],
   "source": [
    "# 获取重量，估计坐标\n",
    "food_weight = 6.76\n",
    "spares_weight = 93.27\n",
    "luggage_weight = 1.26\n",
    "LCG_food, VCG_food = 13.05,23.14\n",
    "LCG_spares, VCG_spares = 18.194,23.14\n",
    "LCG_luggage, VCG_luggate = 16.25,26.2"
   ]
  },
  {
   "cell_type": "markdown",
   "id": "0a23c315",
   "metadata": {},
   "source": [
    "# 空船重量与重心"
   ]
  },
  {
   "cell_type": "code",
   "execution_count": 10,
   "id": "d379a53b",
   "metadata": {
    "ExecuteTime": {
     "end_time": "2024-03-12T13:57:30.782810Z",
     "start_time": "2024-03-12T13:57:30.777930Z"
    }
   },
   "outputs": [
    {
     "name": "stdout",
     "output_type": "stream",
     "text": [
      "\n",
      "空船重量为               12498.28 t\n",
      "空船的纵向、横向坐标为  (99.79, 11.51) m\n",
      "\n"
     ]
    }
   ],
   "source": [
    "# 空船重量为\n",
    "W_empty_ship = 12498.28\n",
    "# 重心数据利用母船进行缩放\n",
    "LCG_empty_ship = 101.10 * Lpp / Lpp_parent # 指导书p94\n",
    "VCG_empty_ship = 11.66 * D / D_parent\n",
    "print(\"\"\"\n",
    "空船重量为               %.2f t\n",
    "空船的纵向、横向坐标为  (%.2f, %.2f) m\n",
    "\"\"\"%(W_empty_ship, LCG_empty_ship, VCG_empty_ship))"
   ]
  }
 ],
 "metadata": {
  "kernelspec": {
   "display_name": "Python [conda env:root] *",
   "language": "python",
   "name": "conda-root-py"
  },
  "language_info": {
   "codemirror_mode": {
    "name": "ipython",
    "version": 3
   },
   "file_extension": ".py",
   "mimetype": "text/x-python",
   "name": "python",
   "nbconvert_exporter": "python",
   "pygments_lexer": "ipython3",
   "version": "3.9.12"
  },
  "toc": {
   "base_numbering": 1,
   "nav_menu": {},
   "number_sections": true,
   "sideBar": true,
   "skip_h1_title": false,
   "title_cell": "Table of Contents",
   "title_sidebar": "Contents",
   "toc_cell": false,
   "toc_position": {},
   "toc_section_display": true,
   "toc_window_display": false
  }
 },
 "nbformat": 4,
 "nbformat_minor": 5
}
